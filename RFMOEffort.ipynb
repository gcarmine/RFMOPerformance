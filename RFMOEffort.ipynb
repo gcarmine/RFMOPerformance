{
 "cells": [
  {
   "cell_type": "markdown",
   "id": "b5a10b0f-0e00-46a9-afb3-e035f38248a1",
   "metadata": {},
   "source": [
    "# This notebook produces fishing effort total per RFMO convention area and fishing effort by square unit area"
   ]
  },
  {
   "cell_type": "markdown",
   "id": "b312f5f7-8e64-4724-987b-2925b2b7a007",
   "metadata": {},
   "source": [
    "### merge the files to create one RFMO shapefile classified by separate RFMO"
   ]
  },
  {
   "cell_type": "code",
   "execution_count": 2,
   "id": "b3451141-4527-4cc1-90d5-822cb52c52c2",
   "metadata": {},
   "outputs": [],
   "source": [
    "import pandas as pd\n",
    "import geopandas\n",
    "import os\n",
    "import shapely"
   ]
  },
  {
   "cell_type": "code",
   "execution_count": 3,
   "id": "f18e5c37-fe2d-48fe-93bf-fc59cfeafe2c",
   "metadata": {},
   "outputs": [],
   "source": [
    "CCAMLR = geopandas.read_file(\"RFB_CCAMLR.shp\")\n",
    "CCSBT = geopandas.read_file(\"RFB_CCSBT.shp\")\n",
    "GFCM = geopandas.read_file(\"RFB_GFCM.shp\")\n",
    "IATTC = geopandas.read_file(\"RFB_IATTC.shp\")\n",
    "ICCAT = geopandas.read_file(\"RFB_ICCAT.shp\")\n",
    "IOTC = geopandas.read_file(\"RFB_IOTC.shp\")\n",
    "IPHC = geopandas.read_file(\"RFB_IPHC.shp\")\n",
    "NAFO = geopandas.read_file(\"RFB_NAFO.shp\")\n",
    "NASCO = geopandas.read_file(\"RFB_NASCO.shp\")\n",
    "NEAFC = geopandas.read_file(\"RFB_NEAFC.shp\")\n",
    "NPAFC = geopandas.read_file(\"RFB_NPAFC.shp\")\n",
    "PSC = geopandas.read_file(\"RFB_PSC.shp\")\n",
    "SEAFO = geopandas.read_file(\"RFB_SEAFO.shp\")\n",
    "SIOFA = geopandas.read_file(\"RFB_SIOFA.shp\")\n",
    "SPRFMO = geopandas.read_file(\"RFB_SPRFMO.shp\")\n",
    "WCPFC = geopandas.read_file(\"RFB_WCPFC.shp\")"
   ]
  },
  {
   "cell_type": "code",
   "execution_count": 5,
   "id": "295fedc1-8d40-4f0a-852c-f77c247118bd",
   "metadata": {},
   "outputs": [],
   "source": [
    "WCPFC = WCPFC.to_crs('EPSG:4326')"
   ]
  },
  {
   "cell_type": "code",
   "execution_count": 6,
   "id": "2b31bd67-0da8-4d8f-b93f-7890efb99979",
   "metadata": {},
   "outputs": [
    {
     "data": {
      "text/plain": [
       "<AxesSubplot: >"
      ]
     },
     "execution_count": 6,
     "metadata": {},
     "output_type": "execute_result"
    },
    {
     "data": {
      "image/png": "[encoded data removed]",
      "text/plain": [
       "<Figure size 640x480 with 1 Axes>"
      ]
     },
     "metadata": {},
     "output_type": "display_data"
    }
   ],
   "source": [
    "WCPFC.plot()"
   ]
  },
  {
   "cell_type": "markdown",
   "id": "bf38f6f1-b6f0-444f-a05d-5f517507d4d0",
   "metadata": {},
   "source": [
    "### calculate fishing effort total in each RFB (sum and then group by)"
   ]
  },
  {
   "cell_type": "code",
   "execution_count": 3,
   "id": "8017f6d6-d8f8-451c-97ac-2e086bcae9df",
   "metadata": {},
   "outputs": [],
   "source": [
    "df = pd.read_csv('combined2019.csv')"
   ]
  },
  {
   "cell_type": "code",
   "execution_count": 4,
   "id": "e9427a0f-8818-4aab-9a7f-4b7427e0fa1f",
   "metadata": {},
   "outputs": [
    {
     "name": "stdout",
     "output_type": "stream",
     "text": [
      "         date  cell_ll_lat  cell_ll_lon       mmsi   hours  fishing_hours\n",
      "0  2019-01-01          0.0       -105.6  224900000  0.2036            0.0\n",
      "1  2019-01-01          0.0       -105.3  224900000  0.0205            0.0\n",
      "2  2019-01-01          0.0       -105.5  224900000  0.9008            0.0\n",
      "3  2019-01-01          0.0       -105.4  224900000  0.8638            0.0\n",
      "4  2019-01-01          0.0         -0.3  228071900  0.7969            0.0\n"
     ]
    }
   ],
   "source": [
    "print(df.head())"
   ]
  },
  {
   "cell_type": "code",
   "execution_count": 5,
   "id": "0d1e551c-0def-4615-a18b-1fa613c9aee5",
   "metadata": {},
   "outputs": [
    {
     "data": {
      "text/plain": [
       "53903269"
      ]
     },
     "execution_count": 5,
     "metadata": {},
     "output_type": "execute_result"
    }
   ],
   "source": [
    "len(df)"
   ]
  },
  {
   "cell_type": "code",
   "execution_count": 6,
   "id": "92c9cd70-3434-4262-a719-779ba6fa31d2",
   "metadata": {},
   "outputs": [],
   "source": [
    "GFW2019Points = geopandas.GeoDataFrame(\n",
    "    df, geometry=geopandas.points_from_xy(df.cell_ll_lon, df.cell_ll_lat), crs=\"EPSG:4326\"\n",
    ")"
   ]
  },
  {
   "cell_type": "code",
   "execution_count": 7,
   "id": "56e9945e-6ea4-40df-9737-506320b877c5",
   "metadata": {},
   "outputs": [
    {
     "name": "stdout",
     "output_type": "stream",
     "text": [
      "         date  cell_ll_lat  cell_ll_lon       mmsi   hours  fishing_hours  \\\n",
      "0  2019-01-01          0.0       -105.6  224900000  0.2036            0.0   \n",
      "1  2019-01-01          0.0       -105.3  224900000  0.0205            0.0   \n",
      "2  2019-01-01          0.0       -105.5  224900000  0.9008            0.0   \n",
      "3  2019-01-01          0.0       -105.4  224900000  0.8638            0.0   \n",
      "4  2019-01-01          0.0         -0.3  228071900  0.7969            0.0   \n",
      "\n",
      "                     geometry  \n",
      "0  POINT (-105.60000 0.00000)  \n",
      "1  POINT (-105.30000 0.00000)  \n",
      "2  POINT (-105.50000 0.00000)  \n",
      "3  POINT (-105.40000 0.00000)  \n",
      "4    POINT (-0.30000 0.00000)  \n"
     ]
    }
   ],
   "source": [
    "print(GFW2019Points.head())"
   ]
  },
  {
   "cell_type": "code",
   "execution_count": 8,
   "id": "901d0897-1bf4-48ca-86e9-ac9789e65280",
   "metadata": {},
   "outputs": [
    {
     "data": {
      "text/plain": [
       "53903269"
      ]
     },
     "execution_count": 8,
     "metadata": {},
     "output_type": "execute_result"
    }
   ],
   "source": [
    "len(GFW2019Points)"
   ]
  },
  {
   "cell_type": "code",
   "execution_count": 9,
   "id": "ab5e5876-8daf-4329-bf8d-b321b1ae79b5",
   "metadata": {},
   "outputs": [
    {
     "data": {
      "text/html": [
       "<div>\n",
       "<style scoped>\n",
       "    .dataframe tbody tr th:only-of-type {\n",
       "        vertical-align: middle;\n",
       "    }\n",
       "\n",
       "    .dataframe tbody tr th {\n",
       "        vertical-align: top;\n",
       "    }\n",
       "\n",
       "    .dataframe thead th {\n",
       "        text-align: right;\n",
       "    }\n",
       "</style>\n",
       "<table border=\"1\" class=\"dataframe\">\n",
       "  <thead>\n",
       "    <tr style=\"text-align: right;\">\n",
       "      <th></th>\n",
       "      <th>date</th>\n",
       "      <th>cell_ll_lat</th>\n",
       "      <th>cell_ll_lon</th>\n",
       "      <th>mmsi</th>\n",
       "      <th>hours</th>\n",
       "      <th>fishing_hours</th>\n",
       "      <th>geometry</th>\n",
       "    </tr>\n",
       "  </thead>\n",
       "  <tbody>\n",
       "    <tr>\n",
       "      <th>0</th>\n",
       "      <td>2019-01-01</td>\n",
       "      <td>0.0</td>\n",
       "      <td>-105.6</td>\n",
       "      <td>224900000</td>\n",
       "      <td>0.2036</td>\n",
       "      <td>0.0000</td>\n",
       "      <td>POINT (-105.60000 0.00000)</td>\n",
       "    </tr>\n",
       "    <tr>\n",
       "      <th>1</th>\n",
       "      <td>2019-01-01</td>\n",
       "      <td>0.0</td>\n",
       "      <td>-105.3</td>\n",
       "      <td>224900000</td>\n",
       "      <td>0.0205</td>\n",
       "      <td>0.0000</td>\n",
       "      <td>POINT (-105.30000 0.00000)</td>\n",
       "    </tr>\n",
       "    <tr>\n",
       "      <th>2</th>\n",
       "      <td>2019-01-01</td>\n",
       "      <td>0.0</td>\n",
       "      <td>-105.5</td>\n",
       "      <td>224900000</td>\n",
       "      <td>0.9008</td>\n",
       "      <td>0.0000</td>\n",
       "      <td>POINT (-105.50000 0.00000)</td>\n",
       "    </tr>\n",
       "    <tr>\n",
       "      <th>3</th>\n",
       "      <td>2019-01-01</td>\n",
       "      <td>0.0</td>\n",
       "      <td>-105.4</td>\n",
       "      <td>224900000</td>\n",
       "      <td>0.8638</td>\n",
       "      <td>0.0000</td>\n",
       "      <td>POINT (-105.40000 0.00000)</td>\n",
       "    </tr>\n",
       "    <tr>\n",
       "      <th>4</th>\n",
       "      <td>2019-01-01</td>\n",
       "      <td>0.0</td>\n",
       "      <td>-0.3</td>\n",
       "      <td>228071900</td>\n",
       "      <td>0.7969</td>\n",
       "      <td>0.0000</td>\n",
       "      <td>POINT (-0.30000 0.00000)</td>\n",
       "    </tr>\n",
       "    <tr>\n",
       "      <th>5</th>\n",
       "      <td>2019-01-01</td>\n",
       "      <td>0.0</td>\n",
       "      <td>-3.4</td>\n",
       "      <td>228280000</td>\n",
       "      <td>0.2202</td>\n",
       "      <td>0.0000</td>\n",
       "      <td>POINT (-3.40000 0.00000)</td>\n",
       "    </tr>\n",
       "    <tr>\n",
       "      <th>6</th>\n",
       "      <td>2019-01-01</td>\n",
       "      <td>0.0</td>\n",
       "      <td>-3.3</td>\n",
       "      <td>228280000</td>\n",
       "      <td>0.5377</td>\n",
       "      <td>0.0000</td>\n",
       "      <td>POINT (-3.30000 0.00000)</td>\n",
       "    </tr>\n",
       "    <tr>\n",
       "      <th>7</th>\n",
       "      <td>2019-01-01</td>\n",
       "      <td>0.0</td>\n",
       "      <td>-165.2</td>\n",
       "      <td>412205520</td>\n",
       "      <td>0.2119</td>\n",
       "      <td>0.2119</td>\n",
       "      <td>POINT (-165.20000 0.00000)</td>\n",
       "    </tr>\n",
       "    <tr>\n",
       "      <th>8</th>\n",
       "      <td>2019-01-01</td>\n",
       "      <td>0.0</td>\n",
       "      <td>-165.6</td>\n",
       "      <td>412205520</td>\n",
       "      <td>0.6711</td>\n",
       "      <td>0.6711</td>\n",
       "      <td>POINT (-165.60000 0.00000)</td>\n",
       "    </tr>\n",
       "    <tr>\n",
       "      <th>9</th>\n",
       "      <td>2019-01-01</td>\n",
       "      <td>0.0</td>\n",
       "      <td>-165.3</td>\n",
       "      <td>412205520</td>\n",
       "      <td>0.4850</td>\n",
       "      <td>0.4850</td>\n",
       "      <td>POINT (-165.30000 0.00000)</td>\n",
       "    </tr>\n",
       "  </tbody>\n",
       "</table>\n",
       "</div>"
      ],
      "text/plain": [
       "         date  cell_ll_lat  cell_ll_lon       mmsi   hours  fishing_hours  \\\n",
       "0  2019-01-01          0.0       -105.6  224900000  0.2036         0.0000   \n",
       "1  2019-01-01          0.0       -105.3  224900000  0.0205         0.0000   \n",
       "2  2019-01-01          0.0       -105.5  224900000  0.9008         0.0000   \n",
       "3  2019-01-01          0.0       -105.4  224900000  0.8638         0.0000   \n",
       "4  2019-01-01          0.0         -0.3  228071900  0.7969         0.0000   \n",
       "5  2019-01-01          0.0         -3.4  228280000  0.2202         0.0000   \n",
       "6  2019-01-01          0.0         -3.3  228280000  0.5377         0.0000   \n",
       "7  2019-01-01          0.0       -165.2  412205520  0.2119         0.2119   \n",
       "8  2019-01-01          0.0       -165.6  412205520  0.6711         0.6711   \n",
       "9  2019-01-01          0.0       -165.3  412205520  0.4850         0.4850   \n",
       "\n",
       "                     geometry  \n",
       "0  POINT (-105.60000 0.00000)  \n",
       "1  POINT (-105.30000 0.00000)  \n",
       "2  POINT (-105.50000 0.00000)  \n",
       "3  POINT (-105.40000 0.00000)  \n",
       "4    POINT (-0.30000 0.00000)  \n",
       "5    POINT (-3.40000 0.00000)  \n",
       "6    POINT (-3.30000 0.00000)  \n",
       "7  POINT (-165.20000 0.00000)  \n",
       "8  POINT (-165.60000 0.00000)  \n",
       "9  POINT (-165.30000 0.00000)  "
      ]
     },
     "execution_count": 9,
     "metadata": {},
     "output_type": "execute_result"
    }
   ],
   "source": [
    "GFW2019Points[:10]"
   ]
  },
  {
   "cell_type": "code",
   "execution_count": 10,
   "id": "21b1ece5-4f19-41f9-98cb-84dad0b8eef5",
   "metadata": {},
   "outputs": [],
   "source": [
    "GFW2019Points = GFW2019Points[[\"date\",\"mmsi\",\"hours\",\"fishing_hours\",\"geometry\"]]"
   ]
  },
  {
   "cell_type": "code",
   "execution_count": 11,
   "id": "a5c1364e-2c1c-4e9d-8770-e137ac743200",
   "metadata": {},
   "outputs": [],
   "source": [
    "del df"
   ]
  },
  {
   "cell_type": "markdown",
   "id": "f8d17b79-b677-470b-8e64-6ee7b0dbec58",
   "metadata": {},
   "source": [
    "### clip to RFMO convention areas and assign each point an RFMO convention area separately to deal with space issue"
   ]
  },
  {
   "cell_type": "markdown",
   "id": "8297fd6c-8567-477a-ba13-9801be78d3a0",
   "metadata": {
    "tags": []
   },
   "source": [
    "#### CCAMLR"
   ]
  },
  {
   "cell_type": "code",
   "execution_count": 12,
   "id": "0ba84dde-c92f-49b4-90e8-fc35b82ce605",
   "metadata": {
    "tags": []
   },
   "outputs": [],
   "source": [
    "CCAMLR = CCAMLR.to_crs('EPSG:4326')"
   ]
  },
  {
   "cell_type": "code",
   "execution_count": 13,
   "id": "b450f5e8-b8cd-47dd-b250-6849c7ecf5ee",
   "metadata": {},
   "outputs": [
    {
     "data": {
      "text/html": [
       "<div>\n",
       "<style scoped>\n",
       "    .dataframe tbody tr th:only-of-type {\n",
       "        vertical-align: middle;\n",
       "    }\n",
       "\n",
       "    .dataframe tbody tr th {\n",
       "        vertical-align: top;\n",
       "    }\n",
       "\n",
       "    .dataframe thead th {\n",
       "        text-align: right;\n",
       "    }\n",
       "</style>\n",
       "<table border=\"1\" class=\"dataframe\">\n",
       "  <thead>\n",
       "    <tr style=\"text-align: right;\">\n",
       "      <th></th>\n",
       "      <th>OBJECTID</th>\n",
       "      <th>AREATYPE</th>\n",
       "      <th>DEFRULE</th>\n",
       "      <th>DISPORDER</th>\n",
       "      <th>FILL</th>\n",
       "      <th>STROKE</th>\n",
       "      <th>RFB</th>\n",
       "      <th>SHAPE_LENG</th>\n",
       "      <th>SHAPE_AREA</th>\n",
       "      <th>ANCFEATURE</th>\n",
       "      <th>Perform</th>\n",
       "      <th>Collapse</th>\n",
       "      <th>Collapse2</th>\n",
       "      <th>geometry</th>\n",
       "    </tr>\n",
       "  </thead>\n",
       "  <tbody>\n",
       "    <tr>\n",
       "      <th>0</th>\n",
       "      <td>12.0</td>\n",
       "      <td>1.0</td>\n",
       "      <td>1.0</td>\n",
       "      <td>1.0</td>\n",
       "      <td>1.0</td>\n",
       "      <td>1.0</td>\n",
       "      <td>CCAMLR</td>\n",
       "      <td>1662.664134</td>\n",
       "      <td>6665.400395</td>\n",
       "      <td>None</td>\n",
       "      <td>60.0</td>\n",
       "      <td>82.35</td>\n",
       "      <td>64.7</td>\n",
       "      <td>POLYGON ((180.00000 -84.30220, 179.90840 -84.2...</td>\n",
       "    </tr>\n",
       "  </tbody>\n",
       "</table>\n",
       "</div>"
      ],
      "text/plain": [
       "   OBJECTID  AREATYPE  DEFRULE  DISPORDER  FILL  STROKE     RFB   SHAPE_LENG  \\\n",
       "0      12.0       1.0      1.0        1.0   1.0     1.0  CCAMLR  1662.664134   \n",
       "\n",
       "    SHAPE_AREA ANCFEATURE  Perform  Collapse  Collapse2  \\\n",
       "0  6665.400395       None     60.0     82.35       64.7   \n",
       "\n",
       "                                            geometry  \n",
       "0  POLYGON ((180.00000 -84.30220, 179.90840 -84.2...  "
      ]
     },
     "execution_count": 13,
     "metadata": {},
     "output_type": "execute_result"
    }
   ],
   "source": [
    "CCAMLR.head(10)"
   ]
  },
  {
   "cell_type": "code",
   "execution_count": 14,
   "id": "dcfa8421-a87b-4fc3-9438-23b8877a0273",
   "metadata": {},
   "outputs": [],
   "source": [
    "CCAMLREffort = GFW2019Points.clip(CCAMLR)"
   ]
  },
  {
   "cell_type": "code",
   "execution_count": 15,
   "id": "1f1b536d-ab18-4cca-af3f-5ca2f38ee18c",
   "metadata": {},
   "outputs": [
    {
     "data": {
      "text/plain": [
       "96215"
      ]
     },
     "execution_count": 15,
     "metadata": {},
     "output_type": "execute_result"
    }
   ],
   "source": [
    "len(CCAMLREffort)"
   ]
  },
  {
   "cell_type": "code",
   "execution_count": 16,
   "id": "fa454993-b11a-45da-aba0-7f39a0a67f73",
   "metadata": {},
   "outputs": [
    {
     "data": {
      "text/html": [
       "<div>\n",
       "<style scoped>\n",
       "    .dataframe tbody tr th:only-of-type {\n",
       "        vertical-align: middle;\n",
       "    }\n",
       "\n",
       "    .dataframe tbody tr th {\n",
       "        vertical-align: top;\n",
       "    }\n",
       "\n",
       "    .dataframe thead th {\n",
       "        text-align: right;\n",
       "    }\n",
       "</style>\n",
       "<table border=\"1\" class=\"dataframe\">\n",
       "  <thead>\n",
       "    <tr style=\"text-align: right;\">\n",
       "      <th></th>\n",
       "      <th>date</th>\n",
       "      <th>mmsi</th>\n",
       "      <th>hours</th>\n",
       "      <th>fishing_hours</th>\n",
       "      <th>geometry</th>\n",
       "    </tr>\n",
       "  </thead>\n",
       "  <tbody>\n",
       "    <tr>\n",
       "      <th>1086496</th>\n",
       "      <td>2019-01-09</td>\n",
       "      <td>512008000</td>\n",
       "      <td>0.8072</td>\n",
       "      <td>0.6013</td>\n",
       "      <td>POINT (170.90000 -77.40000)</td>\n",
       "    </tr>\n",
       "    <tr>\n",
       "      <th>952440</th>\n",
       "      <td>2019-01-08</td>\n",
       "      <td>512008000</td>\n",
       "      <td>0.2613</td>\n",
       "      <td>0.0000</td>\n",
       "      <td>POINT (170.90000 -77.40000)</td>\n",
       "    </tr>\n",
       "  </tbody>\n",
       "</table>\n",
       "</div>"
      ],
      "text/plain": [
       "               date       mmsi   hours  fishing_hours  \\\n",
       "1086496  2019-01-09  512008000  0.8072         0.6013   \n",
       "952440   2019-01-08  512008000  0.2613         0.0000   \n",
       "\n",
       "                            geometry  \n",
       "1086496  POINT (170.90000 -77.40000)  \n",
       "952440   POINT (170.90000 -77.40000)  "
      ]
     },
     "execution_count": 16,
     "metadata": {},
     "output_type": "execute_result"
    }
   ],
   "source": [
    "CCAMLREffort.head(2)"
   ]
  },
  {
   "cell_type": "code",
   "execution_count": 17,
   "id": "d7897995-116b-4061-9328-6039ab742d14",
   "metadata": {},
   "outputs": [],
   "source": [
    "flag_gear_df = pd.read_csv('fishing-vessels-flagonly.csv')"
   ]
  },
  {
   "cell_type": "code",
   "execution_count": 18,
   "id": "553bb25d-5c57-4611-bca7-e14c8db4b582",
   "metadata": {},
   "outputs": [],
   "source": [
    "CCAMLREffort = pd.merge(CCAMLREffort, flag_gear_df[['mmsi','flag_gfw','vessel_class_gfw']], on='mmsi', how='left')"
   ]
  },
  {
   "cell_type": "code",
   "execution_count": 19,
   "id": "7cf6ee77-a023-4ed8-8993-a0633e709141",
   "metadata": {},
   "outputs": [
    {
     "name": "stdout",
     "output_type": "stream",
     "text": [
      "59121.10720000001\n"
     ]
    }
   ],
   "source": [
    "CCAMLRFishSUM = CCAMLREffort['fishing_hours'].sum()\n",
    "print(CCAMLRFishSUM)"
   ]
  },
  {
   "cell_type": "markdown",
   "id": "82ced1fe-dd09-4fa1-97d4-23779d466aba",
   "metadata": {},
   "source": [
    "#### add the sum value to the RFMO polygon"
   ]
  },
  {
   "cell_type": "code",
   "execution_count": 20,
   "id": "7a5e54d0-6e2a-413e-a16c-20cded45e3f8",
   "metadata": {},
   "outputs": [],
   "source": [
    "effort = [59121.10720000001]\n",
    "  \n",
    "CCAMLR['FishingEffort_2019'] = effort"
   ]
  },
  {
   "cell_type": "code",
   "execution_count": 21,
   "id": "bc6bf654-b2b0-4570-9478-80175e6ec727",
   "metadata": {},
   "outputs": [
    {
     "data": {
      "text/html": [
       "<div>\n",
       "<style scoped>\n",
       "    .dataframe tbody tr th:only-of-type {\n",
       "        vertical-align: middle;\n",
       "    }\n",
       "\n",
       "    .dataframe tbody tr th {\n",
       "        vertical-align: top;\n",
       "    }\n",
       "\n",
       "    .dataframe thead th {\n",
       "        text-align: right;\n",
       "    }\n",
       "</style>\n",
       "<table border=\"1\" class=\"dataframe\">\n",
       "  <thead>\n",
       "    <tr style=\"text-align: right;\">\n",
       "      <th></th>\n",
       "      <th>OBJECTID</th>\n",
       "      <th>AREATYPE</th>\n",
       "      <th>DEFRULE</th>\n",
       "      <th>DISPORDER</th>\n",
       "      <th>FILL</th>\n",
       "      <th>STROKE</th>\n",
       "      <th>RFB</th>\n",
       "      <th>SHAPE_LENG</th>\n",
       "      <th>SHAPE_AREA</th>\n",
       "      <th>ANCFEATURE</th>\n",
       "      <th>Perform</th>\n",
       "      <th>Collapse</th>\n",
       "      <th>Collapse2</th>\n",
       "      <th>geometry</th>\n",
       "      <th>FishingEffort_2019</th>\n",
       "    </tr>\n",
       "  </thead>\n",
       "  <tbody>\n",
       "    <tr>\n",
       "      <th>0</th>\n",
       "      <td>12.0</td>\n",
       "      <td>1.0</td>\n",
       "      <td>1.0</td>\n",
       "      <td>1.0</td>\n",
       "      <td>1.0</td>\n",
       "      <td>1.0</td>\n",
       "      <td>CCAMLR</td>\n",
       "      <td>1662.664134</td>\n",
       "      <td>6665.400395</td>\n",
       "      <td>None</td>\n",
       "      <td>60.0</td>\n",
       "      <td>82.35</td>\n",
       "      <td>64.7</td>\n",
       "      <td>POLYGON ((180.00000 -84.30220, 179.90840 -84.2...</td>\n",
       "      <td>59121.1072</td>\n",
       "    </tr>\n",
       "  </tbody>\n",
       "</table>\n",
       "</div>"
      ],
      "text/plain": [
       "   OBJECTID  AREATYPE  DEFRULE  DISPORDER  FILL  STROKE     RFB   SHAPE_LENG  \\\n",
       "0      12.0       1.0      1.0        1.0   1.0     1.0  CCAMLR  1662.664134   \n",
       "\n",
       "    SHAPE_AREA ANCFEATURE  Perform  Collapse  Collapse2  \\\n",
       "0  6665.400395       None     60.0     82.35       64.7   \n",
       "\n",
       "                                            geometry  FishingEffort_2019  \n",
       "0  POLYGON ((180.00000 -84.30220, 179.90840 -84.2...          59121.1072  "
      ]
     },
     "execution_count": 21,
     "metadata": {},
     "output_type": "execute_result"
    }
   ],
   "source": [
    "CCAMLR.head(2)"
   ]
  },
  {
   "cell_type": "markdown",
   "id": "76efd6cc-0c4e-4719-b572-8afe4dac7368",
   "metadata": {},
   "source": [
    "#### group by flag state"
   ]
  },
  {
   "cell_type": "code",
   "execution_count": 22,
   "id": "75e40d5a-770a-41b0-8301-fc3a61d2259f",
   "metadata": {},
   "outputs": [],
   "source": [
    "CCAMLR_flagSUM = CCAMLREffort.groupby(['flag_gfw'])['fishing_hours'].sum().reset_index()"
   ]
  },
  {
   "cell_type": "code",
   "execution_count": 23,
   "id": "567b9589-15d8-490b-b2b5-e403787f2567",
   "metadata": {},
   "outputs": [
    {
     "data": {
      "text/html": [
       "<div>\n",
       "<style scoped>\n",
       "    .dataframe tbody tr th:only-of-type {\n",
       "        vertical-align: middle;\n",
       "    }\n",
       "\n",
       "    .dataframe tbody tr th {\n",
       "        vertical-align: top;\n",
       "    }\n",
       "\n",
       "    .dataframe thead th {\n",
       "        text-align: right;\n",
       "    }\n",
       "</style>\n",
       "<table border=\"1\" class=\"dataframe\">\n",
       "  <thead>\n",
       "    <tr style=\"text-align: right;\">\n",
       "      <th></th>\n",
       "      <th>flag_gfw</th>\n",
       "      <th>fishing_hours</th>\n",
       "    </tr>\n",
       "  </thead>\n",
       "  <tbody>\n",
       "    <tr>\n",
       "      <th>0</th>\n",
       "      <td>AUS</td>\n",
       "      <td>510.5506</td>\n",
       "    </tr>\n",
       "    <tr>\n",
       "      <th>1</th>\n",
       "      <td>CHL</td>\n",
       "      <td>5244.0545</td>\n",
       "    </tr>\n",
       "    <tr>\n",
       "      <th>2</th>\n",
       "      <td>CHN</td>\n",
       "      <td>6531.0032</td>\n",
       "    </tr>\n",
       "    <tr>\n",
       "      <th>3</th>\n",
       "      <td>FLK</td>\n",
       "      <td>134.3045</td>\n",
       "    </tr>\n",
       "    <tr>\n",
       "      <th>4</th>\n",
       "      <td>FRA</td>\n",
       "      <td>11255.6682</td>\n",
       "    </tr>\n",
       "    <tr>\n",
       "      <th>5</th>\n",
       "      <td>GBR</td>\n",
       "      <td>3631.4548</td>\n",
       "    </tr>\n",
       "    <tr>\n",
       "      <th>6</th>\n",
       "      <td>KOR</td>\n",
       "      <td>8306.4212</td>\n",
       "    </tr>\n",
       "    <tr>\n",
       "      <th>7</th>\n",
       "      <td>NOR</td>\n",
       "      <td>7425.0872</td>\n",
       "    </tr>\n",
       "    <tr>\n",
       "      <th>8</th>\n",
       "      <td>NZL</td>\n",
       "      <td>3618.5730</td>\n",
       "    </tr>\n",
       "    <tr>\n",
       "      <th>9</th>\n",
       "      <td>RUS</td>\n",
       "      <td>568.5739</td>\n",
       "    </tr>\n",
       "    <tr>\n",
       "      <th>10</th>\n",
       "      <td>SHN</td>\n",
       "      <td>2097.4198</td>\n",
       "    </tr>\n",
       "    <tr>\n",
       "      <th>11</th>\n",
       "      <td>UKR</td>\n",
       "      <td>6704.6693</td>\n",
       "    </tr>\n",
       "    <tr>\n",
       "      <th>12</th>\n",
       "      <td>URY</td>\n",
       "      <td>2265.5509</td>\n",
       "    </tr>\n",
       "    <tr>\n",
       "      <th>13</th>\n",
       "      <td>ZAF</td>\n",
       "      <td>827.7761</td>\n",
       "    </tr>\n",
       "  </tbody>\n",
       "</table>\n",
       "</div>"
      ],
      "text/plain": [
       "   flag_gfw  fishing_hours\n",
       "0       AUS       510.5506\n",
       "1       CHL      5244.0545\n",
       "2       CHN      6531.0032\n",
       "3       FLK       134.3045\n",
       "4       FRA     11255.6682\n",
       "5       GBR      3631.4548\n",
       "6       KOR      8306.4212\n",
       "7       NOR      7425.0872\n",
       "8       NZL      3618.5730\n",
       "9       RUS       568.5739\n",
       "10      SHN      2097.4198\n",
       "11      UKR      6704.6693\n",
       "12      URY      2265.5509\n",
       "13      ZAF       827.7761"
      ]
     },
     "execution_count": 23,
     "metadata": {},
     "output_type": "execute_result"
    }
   ],
   "source": [
    "CCAMLR_flagSUM.head(15)"
   ]
  },
  {
   "cell_type": "code",
   "execution_count": 24,
   "id": "3684cd87-d4b7-4705-8389-79df0364e688",
   "metadata": {},
   "outputs": [],
   "source": [
    "del CCAMLREffort"
   ]
  },
  {
   "cell_type": "markdown",
   "id": "dd4253b1-86d1-46ab-b4f1-54a787b82913",
   "metadata": {},
   "source": [
    "##### calculate area of CCAMLR change to appropriate polar equal area projection in km^2"
   ]
  },
  {
   "cell_type": "code",
   "execution_count": 25,
   "id": "db7f2ca8-d54e-4c39-b34e-3bf301409238",
   "metadata": {},
   "outputs": [
    {
     "data": {
      "text/plain": [
       "<Derived Projected CRS: EPSG:3974>\n",
       "Name: WGS 84 / NSIDC EASE-Grid South\n",
       "Axis Info [cartesian]:\n",
       "- X[north]: Easting (metre)\n",
       "- Y[north]: Northing (metre)\n",
       "Area of Use:\n",
       "- name: Southern hemisphere.\n",
       "- bounds: (-180.0, -90.0, 180.0, 0.0)\n",
       "Coordinate Operation:\n",
       "- name: US NSIDC Equal Area south projection\n",
       "- method: Lambert Azimuthal Equal Area (Spherical)\n",
       "Datum: World Geodetic System 1984 ensemble\n",
       "- Ellipsoid: WGS 84\n",
       "- Prime Meridian: Greenwich"
      ]
     },
     "execution_count": 25,
     "metadata": {},
     "output_type": "execute_result"
    }
   ],
   "source": [
    "CCAMLR = CCAMLR.to_crs(\"EPSG:3974\")\n",
    "CCAMLR.crs"
   ]
  },
  {
   "cell_type": "code",
   "execution_count": 26,
   "id": "c8130b5e-22f2-4d13-afad-ac8b06233a56",
   "metadata": {},
   "outputs": [
    {
     "data": {
      "text/html": [
       "<div>\n",
       "<style scoped>\n",
       "    .dataframe tbody tr th:only-of-type {\n",
       "        vertical-align: middle;\n",
       "    }\n",
       "\n",
       "    .dataframe tbody tr th {\n",
       "        vertical-align: top;\n",
       "    }\n",
       "\n",
       "    .dataframe thead th {\n",
       "        text-align: right;\n",
       "    }\n",
       "</style>\n",
       "<table border=\"1\" class=\"dataframe\">\n",
       "  <thead>\n",
       "    <tr style=\"text-align: right;\">\n",
       "      <th></th>\n",
       "      <th>OBJECTID</th>\n",
       "      <th>AREATYPE</th>\n",
       "      <th>DEFRULE</th>\n",
       "      <th>DISPORDER</th>\n",
       "      <th>FILL</th>\n",
       "      <th>STROKE</th>\n",
       "      <th>RFB</th>\n",
       "      <th>SHAPE_LENG</th>\n",
       "      <th>SHAPE_AREA</th>\n",
       "      <th>ANCFEATURE</th>\n",
       "      <th>Perform</th>\n",
       "      <th>Collapse</th>\n",
       "      <th>Collapse2</th>\n",
       "      <th>geometry</th>\n",
       "      <th>FishingEffort_2019</th>\n",
       "      <th>area</th>\n",
       "    </tr>\n",
       "  </thead>\n",
       "  <tbody>\n",
       "    <tr>\n",
       "      <th>0</th>\n",
       "      <td>12.0</td>\n",
       "      <td>1.0</td>\n",
       "      <td>1.0</td>\n",
       "      <td>1.0</td>\n",
       "      <td>1.0</td>\n",
       "      <td>1.0</td>\n",
       "      <td>CCAMLR</td>\n",
       "      <td>1662.664134</td>\n",
       "      <td>6665.400395</td>\n",
       "      <td>None</td>\n",
       "      <td>60.0</td>\n",
       "      <td>82.35</td>\n",
       "      <td>64.7</td>\n",
       "      <td>POLYGON ((0.000 -636126.606, 1017.720 -636583....</td>\n",
       "      <td>59121.1072</td>\n",
       "      <td>3.567803e+07</td>\n",
       "    </tr>\n",
       "  </tbody>\n",
       "</table>\n",
       "</div>"
      ],
      "text/plain": [
       "   OBJECTID  AREATYPE  DEFRULE  DISPORDER  FILL  STROKE     RFB   SHAPE_LENG  \\\n",
       "0      12.0       1.0      1.0        1.0   1.0     1.0  CCAMLR  1662.664134   \n",
       "\n",
       "    SHAPE_AREA ANCFEATURE  Perform  Collapse  Collapse2  \\\n",
       "0  6665.400395       None     60.0     82.35       64.7   \n",
       "\n",
       "                                            geometry  FishingEffort_2019  \\\n",
       "0  POLYGON ((0.000 -636126.606, 1017.720 -636583....          59121.1072   \n",
       "\n",
       "           area  \n",
       "0  3.567803e+07  "
      ]
     },
     "execution_count": 26,
     "metadata": {},
     "output_type": "execute_result"
    }
   ],
   "source": [
    "CCAMLR[\"area\"] = CCAMLR['geometry'].area/ 10**6\n",
    "CCAMLR.head(2)"
   ]
  },
  {
   "cell_type": "code",
   "execution_count": 27,
   "id": "020dc428-bd87-4c23-8f26-73fdf65a4ac8",
   "metadata": {},
   "outputs": [
    {
     "name": "stderr",
     "output_type": "stream",
     "text": [
      "/tmp/ipykernel_462/3471355295.py:1: UserWarning: Column names longer than 10 characters will be truncated when saved to ESRI Shapefile.\n",
      "  CCAMLR.to_file('RFB_CCAMLR_New.shp')\n"
     ]
    }
   ],
   "source": [
    "CCAMLR.to_file('RFB_CCAMLR_New.shp')"
   ]
  },
  {
   "cell_type": "code",
   "execution_count": 28,
   "id": "8d8b4da8-2a32-4064-960d-da6cbe43141a",
   "metadata": {
    "tags": []
   },
   "outputs": [],
   "source": [
    "del CCAMLR"
   ]
  },
  {
   "cell_type": "markdown",
   "id": "89b3b0c7-a45d-4b8d-8b11-58b4ff8d2bf2",
   "metadata": {
    "tags": []
   },
   "source": [
    "#### CCSBT"
   ]
  },
  {
   "cell_type": "code",
   "execution_count": 29,
   "id": "ba3fc380-ec60-4ff4-a186-65301029ed05",
   "metadata": {
    "tags": []
   },
   "outputs": [],
   "source": [
    "CCSBT = CCSBT.to_crs('EPSG:4326')"
   ]
  },
  {
   "cell_type": "code",
   "execution_count": 30,
   "id": "adc6ff9c-3819-4956-82b8-4d6a7d510f26",
   "metadata": {},
   "outputs": [
    {
     "data": {
      "text/html": [
       "<div>\n",
       "<style scoped>\n",
       "    .dataframe tbody tr th:only-of-type {\n",
       "        vertical-align: middle;\n",
       "    }\n",
       "\n",
       "    .dataframe tbody tr th {\n",
       "        vertical-align: top;\n",
       "    }\n",
       "\n",
       "    .dataframe thead th {\n",
       "        text-align: right;\n",
       "    }\n",
       "</style>\n",
       "<table border=\"1\" class=\"dataframe\">\n",
       "  <thead>\n",
       "    <tr style=\"text-align: right;\">\n",
       "      <th></th>\n",
       "      <th>OBJECTID</th>\n",
       "      <th>AREATYPE</th>\n",
       "      <th>DEFRULE</th>\n",
       "      <th>DISPORDER</th>\n",
       "      <th>FILL</th>\n",
       "      <th>STROKE</th>\n",
       "      <th>RFB</th>\n",
       "      <th>SHAPE_LENG</th>\n",
       "      <th>SHAPE_AREA</th>\n",
       "      <th>ANCFEATURE</th>\n",
       "      <th>Perform</th>\n",
       "      <th>Collapse</th>\n",
       "      <th>Collapse2</th>\n",
       "      <th>geometry</th>\n",
       "    </tr>\n",
       "  </thead>\n",
       "  <tbody>\n",
       "    <tr>\n",
       "      <th>0</th>\n",
       "      <td>79.0</td>\n",
       "      <td>1.0</td>\n",
       "      <td>5.0</td>\n",
       "      <td>1.0</td>\n",
       "      <td>3.0</td>\n",
       "      <td>3.0</td>\n",
       "      <td>CCSBT</td>\n",
       "      <td>703.702240</td>\n",
       "      <td>5243.076304</td>\n",
       "      <td>None</td>\n",
       "      <td>46.5</td>\n",
       "      <td>90.06</td>\n",
       "      <td>67.2</td>\n",
       "      <td>POLYGON ((120.09870 -10.38000, 120.12050 -10.3...</td>\n",
       "    </tr>\n",
       "    <tr>\n",
       "      <th>1</th>\n",
       "      <td>80.0</td>\n",
       "      <td>1.0</td>\n",
       "      <td>5.0</td>\n",
       "      <td>1.0</td>\n",
       "      <td>3.0</td>\n",
       "      <td>3.0</td>\n",
       "      <td>CCSBT</td>\n",
       "      <td>253.419862</td>\n",
       "      <td>1752.423860</td>\n",
       "      <td>None</td>\n",
       "      <td>46.5</td>\n",
       "      <td>90.06</td>\n",
       "      <td>67.2</td>\n",
       "      <td>POLYGON ((-174.60280 -31.04080, -169.75280 -31...</td>\n",
       "    </tr>\n",
       "  </tbody>\n",
       "</table>\n",
       "</div>"
      ],
      "text/plain": [
       "   OBJECTID  AREATYPE  DEFRULE  DISPORDER  FILL  STROKE    RFB  SHAPE_LENG  \\\n",
       "0      79.0       1.0      5.0        1.0   3.0     3.0  CCSBT  703.702240   \n",
       "1      80.0       1.0      5.0        1.0   3.0     3.0  CCSBT  253.419862   \n",
       "\n",
       "    SHAPE_AREA ANCFEATURE  Perform  Collapse  Collapse2  \\\n",
       "0  5243.076304       None     46.5     90.06       67.2   \n",
       "1  1752.423860       None     46.5     90.06       67.2   \n",
       "\n",
       "                                            geometry  \n",
       "0  POLYGON ((120.09870 -10.38000, 120.12050 -10.3...  \n",
       "1  POLYGON ((-174.60280 -31.04080, -169.75280 -31...  "
      ]
     },
     "execution_count": 30,
     "metadata": {},
     "output_type": "execute_result"
    }
   ],
   "source": [
    "CCSBT.head(10)"
   ]
  },
  {
   "cell_type": "code",
   "execution_count": 31,
   "id": "c0da4a91-bb33-4804-bfac-9cd7fca4c7c9",
   "metadata": {},
   "outputs": [],
   "source": [
    "CCSBTEffort = GFW2019Points.clip(CCSBT)"
   ]
  },
  {
   "cell_type": "code",
   "execution_count": 32,
   "id": "847ddc2c-0faf-4e86-9113-d5dbfb0e9ead",
   "metadata": {},
   "outputs": [
    {
     "data": {
      "text/plain": [
       "2141828"
      ]
     },
     "execution_count": 32,
     "metadata": {},
     "output_type": "execute_result"
    }
   ],
   "source": [
    "len(CCSBTEffort)"
   ]
  },
  {
   "cell_type": "code",
   "execution_count": 33,
   "id": "183efe9a-138c-48b0-b007-09337a619153",
   "metadata": {},
   "outputs": [
    {
     "data": {
      "text/html": [
       "<div>\n",
       "<style scoped>\n",
       "    .dataframe tbody tr th:only-of-type {\n",
       "        vertical-align: middle;\n",
       "    }\n",
       "\n",
       "    .dataframe tbody tr th {\n",
       "        vertical-align: top;\n",
       "    }\n",
       "\n",
       "    .dataframe thead th {\n",
       "        text-align: right;\n",
       "    }\n",
       "</style>\n",
       "<table border=\"1\" class=\"dataframe\">\n",
       "  <thead>\n",
       "    <tr style=\"text-align: right;\">\n",
       "      <th></th>\n",
       "      <th>date</th>\n",
       "      <th>mmsi</th>\n",
       "      <th>hours</th>\n",
       "      <th>fishing_hours</th>\n",
       "      <th>geometry</th>\n",
       "    </tr>\n",
       "  </thead>\n",
       "  <tbody>\n",
       "    <tr>\n",
       "      <th>32335559</th>\n",
       "      <td>2019-08-25</td>\n",
       "      <td>512411000</td>\n",
       "      <td>0.2619</td>\n",
       "      <td>0.0</td>\n",
       "      <td>POINT (170.60000 -52.90000)</td>\n",
       "    </tr>\n",
       "    <tr>\n",
       "      <th>32426164</th>\n",
       "      <td>2019-08-25</td>\n",
       "      <td>512411000</td>\n",
       "      <td>0.1386</td>\n",
       "      <td>0.0</td>\n",
       "      <td>POINT (170.40000 -53.10000)</td>\n",
       "    </tr>\n",
       "  </tbody>\n",
       "</table>\n",
       "</div>"
      ],
      "text/plain": [
       "                date       mmsi   hours  fishing_hours  \\\n",
       "32335559  2019-08-25  512411000  0.2619            0.0   \n",
       "32426164  2019-08-25  512411000  0.1386            0.0   \n",
       "\n",
       "                             geometry  \n",
       "32335559  POINT (170.60000 -52.90000)  \n",
       "32426164  POINT (170.40000 -53.10000)  "
      ]
     },
     "execution_count": 33,
     "metadata": {},
     "output_type": "execute_result"
    }
   ],
   "source": [
    "CCSBTEffort.head(2)"
   ]
  },
  {
   "cell_type": "code",
   "execution_count": 34,
   "id": "0d674f9e-e480-4eb8-bc39-b53af73f46f1",
   "metadata": {},
   "outputs": [],
   "source": [
    "CCSBTEffort = pd.merge(CCSBTEffort, flag_gear_df[['mmsi','flag_gfw','vessel_class_gfw']], on='mmsi', how='left')"
   ]
  },
  {
   "cell_type": "code",
   "execution_count": 35,
   "id": "a6164122-ff19-4b50-821d-adcaa32edb91",
   "metadata": {},
   "outputs": [
    {
     "name": "stdout",
     "output_type": "stream",
     "text": [
      "1681760.178999999\n"
     ]
    }
   ],
   "source": [
    "CCSBTFishSUM = CCSBTEffort['fishing_hours'].sum()\n",
    "print(CCSBTFishSUM)"
   ]
  },
  {
   "cell_type": "markdown",
   "id": "5986dcb1-b575-4409-b029-9d7819cd54c0",
   "metadata": {},
   "source": [
    "#### add the sum value to the RFMO polygon"
   ]
  },
  {
   "cell_type": "code",
   "execution_count": 36,
   "id": "1900617d-5a3b-48ef-9c67-b4dbee6a5fbc",
   "metadata": {},
   "outputs": [],
   "source": [
    "CCSBT['FishingEffort_2019'] = CCSBTFishSUM"
   ]
  },
  {
   "cell_type": "code",
   "execution_count": 37,
   "id": "f11c51e4-3fcc-46c3-abbc-ceb5075d1f2f",
   "metadata": {},
   "outputs": [
    {
     "data": {
      "text/html": [
       "<div>\n",
       "<style scoped>\n",
       "    .dataframe tbody tr th:only-of-type {\n",
       "        vertical-align: middle;\n",
       "    }\n",
       "\n",
       "    .dataframe tbody tr th {\n",
       "        vertical-align: top;\n",
       "    }\n",
       "\n",
       "    .dataframe thead th {\n",
       "        text-align: right;\n",
       "    }\n",
       "</style>\n",
       "<table border=\"1\" class=\"dataframe\">\n",
       "  <thead>\n",
       "    <tr style=\"text-align: right;\">\n",
       "      <th></th>\n",
       "      <th>OBJECTID</th>\n",
       "      <th>AREATYPE</th>\n",
       "      <th>DEFRULE</th>\n",
       "      <th>DISPORDER</th>\n",
       "      <th>FILL</th>\n",
       "      <th>STROKE</th>\n",
       "      <th>RFB</th>\n",
       "      <th>SHAPE_LENG</th>\n",
       "      <th>SHAPE_AREA</th>\n",
       "      <th>ANCFEATURE</th>\n",
       "      <th>Perform</th>\n",
       "      <th>Collapse</th>\n",
       "      <th>Collapse2</th>\n",
       "      <th>geometry</th>\n",
       "      <th>FishingEffort_2019</th>\n",
       "    </tr>\n",
       "  </thead>\n",
       "  <tbody>\n",
       "    <tr>\n",
       "      <th>0</th>\n",
       "      <td>79.0</td>\n",
       "      <td>1.0</td>\n",
       "      <td>5.0</td>\n",
       "      <td>1.0</td>\n",
       "      <td>3.0</td>\n",
       "      <td>3.0</td>\n",
       "      <td>CCSBT</td>\n",
       "      <td>703.702240</td>\n",
       "      <td>5243.076304</td>\n",
       "      <td>None</td>\n",
       "      <td>46.5</td>\n",
       "      <td>90.06</td>\n",
       "      <td>67.2</td>\n",
       "      <td>POLYGON ((120.09870 -10.38000, 120.12050 -10.3...</td>\n",
       "      <td>1681760.179</td>\n",
       "    </tr>\n",
       "    <tr>\n",
       "      <th>1</th>\n",
       "      <td>80.0</td>\n",
       "      <td>1.0</td>\n",
       "      <td>5.0</td>\n",
       "      <td>1.0</td>\n",
       "      <td>3.0</td>\n",
       "      <td>3.0</td>\n",
       "      <td>CCSBT</td>\n",
       "      <td>253.419862</td>\n",
       "      <td>1752.423860</td>\n",
       "      <td>None</td>\n",
       "      <td>46.5</td>\n",
       "      <td>90.06</td>\n",
       "      <td>67.2</td>\n",
       "      <td>POLYGON ((-174.60280 -31.04080, -169.75280 -31...</td>\n",
       "      <td>1681760.179</td>\n",
       "    </tr>\n",
       "  </tbody>\n",
       "</table>\n",
       "</div>"
      ],
      "text/plain": [
       "   OBJECTID  AREATYPE  DEFRULE  DISPORDER  FILL  STROKE    RFB  SHAPE_LENG  \\\n",
       "0      79.0       1.0      5.0        1.0   3.0     3.0  CCSBT  703.702240   \n",
       "1      80.0       1.0      5.0        1.0   3.0     3.0  CCSBT  253.419862   \n",
       "\n",
       "    SHAPE_AREA ANCFEATURE  Perform  Collapse  Collapse2  \\\n",
       "0  5243.076304       None     46.5     90.06       67.2   \n",
       "1  1752.423860       None     46.5     90.06       67.2   \n",
       "\n",
       "                                            geometry  FishingEffort_2019  \n",
       "0  POLYGON ((120.09870 -10.38000, 120.12050 -10.3...         1681760.179  \n",
       "1  POLYGON ((-174.60280 -31.04080, -169.75280 -31...         1681760.179  "
      ]
     },
     "execution_count": 37,
     "metadata": {},
     "output_type": "execute_result"
    }
   ],
   "source": [
    "CCSBT.head(2)"
   ]
  },
  {
   "cell_type": "markdown",
   "id": "966f7716-cf58-47f0-aadf-ea7c98b407a1",
   "metadata": {},
   "source": [
    "#### group by flag state"
   ]
  },
  {
   "cell_type": "code",
   "execution_count": 38,
   "id": "284f2fb2-1a5d-48fa-9469-59acde0919cf",
   "metadata": {},
   "outputs": [],
   "source": [
    "CCSBT_flagSUM = CCSBTEffort.groupby(['flag_gfw'])['fishing_hours'].sum().reset_index()"
   ]
  },
  {
   "cell_type": "code",
   "execution_count": 39,
   "id": "f58b9d47-f469-45ae-86da-e38f53a4dc4a",
   "metadata": {},
   "outputs": [
    {
     "data": {
      "text/html": [
       "<div>\n",
       "<style scoped>\n",
       "    .dataframe tbody tr th:only-of-type {\n",
       "        vertical-align: middle;\n",
       "    }\n",
       "\n",
       "    .dataframe tbody tr th {\n",
       "        vertical-align: top;\n",
       "    }\n",
       "\n",
       "    .dataframe thead th {\n",
       "        text-align: right;\n",
       "    }\n",
       "</style>\n",
       "<table border=\"1\" class=\"dataframe\">\n",
       "  <thead>\n",
       "    <tr style=\"text-align: right;\">\n",
       "      <th></th>\n",
       "      <th>flag_gfw</th>\n",
       "      <th>fishing_hours</th>\n",
       "    </tr>\n",
       "  </thead>\n",
       "  <tbody>\n",
       "    <tr>\n",
       "      <th>0</th>\n",
       "      <td>ARE</td>\n",
       "      <td>56.0988</td>\n",
       "    </tr>\n",
       "    <tr>\n",
       "      <th>1</th>\n",
       "      <td>ARG</td>\n",
       "      <td>21327.9500</td>\n",
       "    </tr>\n",
       "    <tr>\n",
       "      <th>2</th>\n",
       "      <td>AUS</td>\n",
       "      <td>33200.2973</td>\n",
       "    </tr>\n",
       "    <tr>\n",
       "      <th>3</th>\n",
       "      <td>BLZ</td>\n",
       "      <td>1500.1628</td>\n",
       "    </tr>\n",
       "    <tr>\n",
       "      <th>4</th>\n",
       "      <td>BRA</td>\n",
       "      <td>19871.2578</td>\n",
       "    </tr>\n",
       "    <tr>\n",
       "      <th>5</th>\n",
       "      <td>CHL</td>\n",
       "      <td>42549.1529</td>\n",
       "    </tr>\n",
       "    <tr>\n",
       "      <th>6</th>\n",
       "      <td>CHN</td>\n",
       "      <td>89236.7682</td>\n",
       "    </tr>\n",
       "    <tr>\n",
       "      <th>7</th>\n",
       "      <td>CIV</td>\n",
       "      <td>31.1454</td>\n",
       "    </tr>\n",
       "    <tr>\n",
       "      <th>8</th>\n",
       "      <td>COK</td>\n",
       "      <td>2634.5420</td>\n",
       "    </tr>\n",
       "    <tr>\n",
       "      <th>9</th>\n",
       "      <td>ECU</td>\n",
       "      <td>784.8959</td>\n",
       "    </tr>\n",
       "    <tr>\n",
       "      <th>10</th>\n",
       "      <td>ESP</td>\n",
       "      <td>66625.1100</td>\n",
       "    </tr>\n",
       "    <tr>\n",
       "      <th>11</th>\n",
       "      <td>FLK</td>\n",
       "      <td>1869.0263</td>\n",
       "    </tr>\n",
       "    <tr>\n",
       "      <th>12</th>\n",
       "      <td>FRA</td>\n",
       "      <td>12069.8099</td>\n",
       "    </tr>\n",
       "    <tr>\n",
       "      <th>13</th>\n",
       "      <td>FRO</td>\n",
       "      <td>0.0000</td>\n",
       "    </tr>\n",
       "    <tr>\n",
       "      <th>14</th>\n",
       "      <td>GBR</td>\n",
       "      <td>7571.5483</td>\n",
       "    </tr>\n",
       "  </tbody>\n",
       "</table>\n",
       "</div>"
      ],
      "text/plain": [
       "   flag_gfw  fishing_hours\n",
       "0       ARE        56.0988\n",
       "1       ARG     21327.9500\n",
       "2       AUS     33200.2973\n",
       "3       BLZ      1500.1628\n",
       "4       BRA     19871.2578\n",
       "5       CHL     42549.1529\n",
       "6       CHN     89236.7682\n",
       "7       CIV        31.1454\n",
       "8       COK      2634.5420\n",
       "9       ECU       784.8959\n",
       "10      ESP     66625.1100\n",
       "11      FLK      1869.0263\n",
       "12      FRA     12069.8099\n",
       "13      FRO         0.0000\n",
       "14      GBR      7571.5483"
      ]
     },
     "execution_count": 39,
     "metadata": {},
     "output_type": "execute_result"
    }
   ],
   "source": [
    "CCSBT_flagSUM.head(15)"
   ]
  },
  {
   "cell_type": "code",
   "execution_count": 40,
   "id": "696cd5c6-22ab-41fb-9eb2-4b8c915ecb00",
   "metadata": {},
   "outputs": [],
   "source": [
    "del CCSBTEffort"
   ]
  },
  {
   "cell_type": "markdown",
   "id": "099680a4-cf9d-44c7-afc8-0b1ac0286b37",
   "metadata": {},
   "source": [
    "##### calculate area of CCSBT change to appropriate polar equal area projection"
   ]
  },
  {
   "cell_type": "code",
   "execution_count": 41,
   "id": "fce4d78c-6812-4dc0-93a3-77bd25410536",
   "metadata": {},
   "outputs": [
    {
     "data": {
      "text/plain": [
       "<Derived Projected CRS: ESRI:54012>\n",
       "Name: World_Eckert_IV\n",
       "Axis Info [cartesian]:\n",
       "- E[east]: Easting (metre)\n",
       "- N[north]: Northing (metre)\n",
       "Area of Use:\n",
       "- name: World.\n",
       "- bounds: (-180.0, -90.0, 180.0, 90.0)\n",
       "Coordinate Operation:\n",
       "- name: World_Eckert_IV\n",
       "- method: Eckert IV\n",
       "Datum: World Geodetic System 1984\n",
       "- Ellipsoid: WGS 84\n",
       "- Prime Meridian: Greenwich"
      ]
     },
     "execution_count": 41,
     "metadata": {},
     "output_type": "execute_result"
    }
   ],
   "source": [
    "CCSBT = CCSBT.to_crs(\"ESRI:54012\")\n",
    "CCSBT.crs"
   ]
  },
  {
   "cell_type": "code",
   "execution_count": 42,
   "id": "e26cb2e7-0661-4540-9e7b-cb394cd617d0",
   "metadata": {},
   "outputs": [
    {
     "data": {
      "text/html": [
       "<div>\n",
       "<style scoped>\n",
       "    .dataframe tbody tr th:only-of-type {\n",
       "        vertical-align: middle;\n",
       "    }\n",
       "\n",
       "    .dataframe tbody tr th {\n",
       "        vertical-align: top;\n",
       "    }\n",
       "\n",
       "    .dataframe thead th {\n",
       "        text-align: right;\n",
       "    }\n",
       "</style>\n",
       "<table border=\"1\" class=\"dataframe\">\n",
       "  <thead>\n",
       "    <tr style=\"text-align: right;\">\n",
       "      <th></th>\n",
       "      <th>OBJECTID</th>\n",
       "      <th>AREATYPE</th>\n",
       "      <th>DEFRULE</th>\n",
       "      <th>DISPORDER</th>\n",
       "      <th>FILL</th>\n",
       "      <th>STROKE</th>\n",
       "      <th>RFB</th>\n",
       "      <th>SHAPE_LENG</th>\n",
       "      <th>SHAPE_AREA</th>\n",
       "      <th>ANCFEATURE</th>\n",
       "      <th>Perform</th>\n",
       "      <th>Collapse</th>\n",
       "      <th>Collapse2</th>\n",
       "      <th>geometry</th>\n",
       "      <th>FishingEffort_2019</th>\n",
       "      <th>area</th>\n",
       "    </tr>\n",
       "  </thead>\n",
       "  <tbody>\n",
       "    <tr>\n",
       "      <th>0</th>\n",
       "      <td>79.0</td>\n",
       "      <td>1.0</td>\n",
       "      <td>5.0</td>\n",
       "      <td>1.0</td>\n",
       "      <td>3.0</td>\n",
       "      <td>3.0</td>\n",
       "      <td>CCSBT</td>\n",
       "      <td>703.702240</td>\n",
       "      <td>5243.076304</td>\n",
       "      <td>None</td>\n",
       "      <td>46.5</td>\n",
       "      <td>90.06</td>\n",
       "      <td>67.2</td>\n",
       "      <td>POLYGON ((11216259.511 -1363791.202, 11218217....</td>\n",
       "      <td>1681760.179</td>\n",
       "      <td>5.006586e+07</td>\n",
       "    </tr>\n",
       "    <tr>\n",
       "      <th>1</th>\n",
       "      <td>80.0</td>\n",
       "      <td>1.0</td>\n",
       "      <td>5.0</td>\n",
       "      <td>1.0</td>\n",
       "      <td>3.0</td>\n",
       "      <td>3.0</td>\n",
       "      <td>CCSBT</td>\n",
       "      <td>253.419862</td>\n",
       "      <td>1752.423860</td>\n",
       "      <td>None</td>\n",
       "      <td>46.5</td>\n",
       "      <td>90.06</td>\n",
       "      <td>67.2</td>\n",
       "      <td>POLYGON ((-15454209.007 -3970037.182, -1496785...</td>\n",
       "      <td>1681760.179</td>\n",
       "      <td>1.628845e+07</td>\n",
       "    </tr>\n",
       "  </tbody>\n",
       "</table>\n",
       "</div>"
      ],
      "text/plain": [
       "   OBJECTID  AREATYPE  DEFRULE  DISPORDER  FILL  STROKE    RFB  SHAPE_LENG  \\\n",
       "0      79.0       1.0      5.0        1.0   3.0     3.0  CCSBT  703.702240   \n",
       "1      80.0       1.0      5.0        1.0   3.0     3.0  CCSBT  253.419862   \n",
       "\n",
       "    SHAPE_AREA ANCFEATURE  Perform  Collapse  Collapse2  \\\n",
       "0  5243.076304       None     46.5     90.06       67.2   \n",
       "1  1752.423860       None     46.5     90.06       67.2   \n",
       "\n",
       "                                            geometry  FishingEffort_2019  \\\n",
       "0  POLYGON ((11216259.511 -1363791.202, 11218217....         1681760.179   \n",
       "1  POLYGON ((-15454209.007 -3970037.182, -1496785...         1681760.179   \n",
       "\n",
       "           area  \n",
       "0  5.006586e+07  \n",
       "1  1.628845e+07  "
      ]
     },
     "execution_count": 42,
     "metadata": {},
     "output_type": "execute_result"
    }
   ],
   "source": [
    "CCSBT[\"area\"] = CCSBT['geometry'].area/ 10**6\n",
    "CCSBT.head(2)"
   ]
  },
  {
   "cell_type": "code",
   "execution_count": 43,
   "id": "60f7dbda-8b63-462a-9cab-94f1257907ef",
   "metadata": {},
   "outputs": [],
   "source": [
    "#CCSBT['effort_density'] = CCAMLR.FishingEffort_2019 / CCAMLR.area * 10**6\n",
    "\n",
    "#CCAMLR.head(2)"
   ]
  },
  {
   "cell_type": "code",
   "execution_count": 44,
   "id": "d6642c4a-aade-4bf2-82e9-1f3449c0a6c0",
   "metadata": {},
   "outputs": [
    {
     "name": "stderr",
     "output_type": "stream",
     "text": [
      "/tmp/ipykernel_462/2766152735.py:1: UserWarning: Column names longer than 10 characters will be truncated when saved to ESRI Shapefile.\n",
      "  CCSBT.to_file('RFB_CCSBT_New.shp')\n"
     ]
    }
   ],
   "source": [
    "CCSBT.to_file('RFB_CCSBT_New.shp')"
   ]
  },
  {
   "cell_type": "markdown",
   "id": "35186c6f-6d0c-4d59-89ac-368c27a64f01",
   "metadata": {
    "tags": []
   },
   "source": [
    "### GFCM"
   ]
  },
  {
   "cell_type": "code",
   "execution_count": 45,
   "id": "0de77a56-b91b-467c-bd59-eaad0b1b08bc",
   "metadata": {
    "tags": []
   },
   "outputs": [],
   "source": [
    "GFCM = GFCM.to_crs('EPSG:4326')"
   ]
  },
  {
   "cell_type": "code",
   "execution_count": 46,
   "id": "b5a056c0-a7f1-4722-ae79-31b89248a32e",
   "metadata": {},
   "outputs": [
    {
     "data": {
      "text/html": [
       "<div>\n",
       "<style scoped>\n",
       "    .dataframe tbody tr th:only-of-type {\n",
       "        vertical-align: middle;\n",
       "    }\n",
       "\n",
       "    .dataframe tbody tr th {\n",
       "        vertical-align: top;\n",
       "    }\n",
       "\n",
       "    .dataframe thead th {\n",
       "        text-align: right;\n",
       "    }\n",
       "</style>\n",
       "<table border=\"1\" class=\"dataframe\">\n",
       "  <thead>\n",
       "    <tr style=\"text-align: right;\">\n",
       "      <th></th>\n",
       "      <th>OBJECTID</th>\n",
       "      <th>AREATYPE</th>\n",
       "      <th>DEFRULE</th>\n",
       "      <th>DISPORDER</th>\n",
       "      <th>FILL</th>\n",
       "      <th>STROKE</th>\n",
       "      <th>RFB</th>\n",
       "      <th>SHAPE_LENG</th>\n",
       "      <th>SHAPE_AREA</th>\n",
       "      <th>ANCFEATURE</th>\n",
       "      <th>Perform</th>\n",
       "      <th>Collapse</th>\n",
       "      <th>Collapse2</th>\n",
       "      <th>geometry</th>\n",
       "    </tr>\n",
       "  </thead>\n",
       "  <tbody>\n",
       "    <tr>\n",
       "      <th>0</th>\n",
       "      <td>15.0</td>\n",
       "      <td>1.0</td>\n",
       "      <td>5.0</td>\n",
       "      <td>1.0</td>\n",
       "      <td>1.0</td>\n",
       "      <td>3.0</td>\n",
       "      <td>GFCM</td>\n",
       "      <td>362.45486</td>\n",
       "      <td>308.539628</td>\n",
       "      <td>None</td>\n",
       "      <td>40.5</td>\n",
       "      <td>81.49</td>\n",
       "      <td>50.65</td>\n",
       "      <td>POLYGON ((39.27760 47.23120, 39.30000 47.07690...</td>\n",
       "    </tr>\n",
       "  </tbody>\n",
       "</table>\n",
       "</div>"
      ],
      "text/plain": [
       "   OBJECTID  AREATYPE  DEFRULE  DISPORDER  FILL  STROKE   RFB  SHAPE_LENG  \\\n",
       "0      15.0       1.0      5.0        1.0   1.0     3.0  GFCM   362.45486   \n",
       "\n",
       "   SHAPE_AREA ANCFEATURE  Perform  Collapse  Collapse2  \\\n",
       "0  308.539628       None     40.5     81.49      50.65   \n",
       "\n",
       "                                            geometry  \n",
       "0  POLYGON ((39.27760 47.23120, 39.30000 47.07690...  "
      ]
     },
     "execution_count": 46,
     "metadata": {},
     "output_type": "execute_result"
    }
   ],
   "source": [
    "GFCM.head(10)"
   ]
  },
  {
   "cell_type": "code",
   "execution_count": 47,
   "id": "ee23c995-0171-4444-a168-0e49b201941e",
   "metadata": {},
   "outputs": [],
   "source": [
    "GFCMEffort = GFW2019Points.clip(GFCM)"
   ]
  },
  {
   "cell_type": "code",
   "execution_count": 48,
   "id": "223b2120-1ef6-44e0-8f2a-acb312faa9ad",
   "metadata": {},
   "outputs": [
    {
     "data": {
      "text/plain": [
       "2679664"
      ]
     },
     "execution_count": 48,
     "metadata": {},
     "output_type": "execute_result"
    }
   ],
   "source": [
    "len(GFCMEffort)"
   ]
  },
  {
   "cell_type": "code",
   "execution_count": 49,
   "id": "69d26c01-70a6-42c9-938d-cbc9e91653e9",
   "metadata": {},
   "outputs": [
    {
     "data": {
      "text/html": [
       "<div>\n",
       "<style scoped>\n",
       "    .dataframe tbody tr th:only-of-type {\n",
       "        vertical-align: middle;\n",
       "    }\n",
       "\n",
       "    .dataframe tbody tr th {\n",
       "        vertical-align: top;\n",
       "    }\n",
       "\n",
       "    .dataframe thead th {\n",
       "        text-align: right;\n",
       "    }\n",
       "</style>\n",
       "<table border=\"1\" class=\"dataframe\">\n",
       "  <thead>\n",
       "    <tr style=\"text-align: right;\">\n",
       "      <th></th>\n",
       "      <th>date</th>\n",
       "      <th>mmsi</th>\n",
       "      <th>hours</th>\n",
       "      <th>fishing_hours</th>\n",
       "      <th>geometry</th>\n",
       "    </tr>\n",
       "  </thead>\n",
       "  <tbody>\n",
       "    <tr>\n",
       "      <th>47911270</th>\n",
       "      <td>2019-11-19</td>\n",
       "      <td>412331136</td>\n",
       "      <td>0.5611</td>\n",
       "      <td>0.0</td>\n",
       "      <td>POINT (-4.90000 36.00000)</td>\n",
       "    </tr>\n",
       "    <tr>\n",
       "      <th>27252132</th>\n",
       "      <td>2019-07-21</td>\n",
       "      <td>273854000</td>\n",
       "      <td>0.3436</td>\n",
       "      <td>0.0</td>\n",
       "      <td>POINT (-4.90000 36.00000)</td>\n",
       "    </tr>\n",
       "  </tbody>\n",
       "</table>\n",
       "</div>"
      ],
      "text/plain": [
       "                date       mmsi   hours  fishing_hours  \\\n",
       "47911270  2019-11-19  412331136  0.5611            0.0   \n",
       "27252132  2019-07-21  273854000  0.3436            0.0   \n",
       "\n",
       "                           geometry  \n",
       "47911270  POINT (-4.90000 36.00000)  \n",
       "27252132  POINT (-4.90000 36.00000)  "
      ]
     },
     "execution_count": 49,
     "metadata": {},
     "output_type": "execute_result"
    }
   ],
   "source": [
    "GFCMEffort.head(2)"
   ]
  },
  {
   "cell_type": "code",
   "execution_count": 50,
   "id": "98c20923-a99d-4be9-911c-cf8ac05ab57c",
   "metadata": {},
   "outputs": [],
   "source": [
    "GFCMEffort = pd.merge(GFCMEffort, flag_gear_df[['mmsi','flag_gfw','vessel_class_gfw']], on='mmsi', how='left')"
   ]
  },
  {
   "cell_type": "code",
   "execution_count": 51,
   "id": "1f568714-365f-4baa-84fb-1f7c8e5a1f72",
   "metadata": {},
   "outputs": [
    {
     "name": "stdout",
     "output_type": "stream",
     "text": [
      "3819808.7826999994\n"
     ]
    }
   ],
   "source": [
    "GFCMFishSUM = GFCMEffort['fishing_hours'].sum()\n",
    "print(GFCMFishSUM)"
   ]
  },
  {
   "cell_type": "markdown",
   "id": "42c40429-5f24-43e3-aa74-77878a2d7041",
   "metadata": {},
   "source": [
    "#### add the sum value to the RFMO polygon"
   ]
  },
  {
   "cell_type": "code",
   "execution_count": 52,
   "id": "ce87ad5b-7c41-4073-b475-504a0fc71441",
   "metadata": {},
   "outputs": [],
   "source": [
    "GFCM['FishingEffort_2019'] = GFCMFishSUM"
   ]
  },
  {
   "cell_type": "code",
   "execution_count": 53,
   "id": "3b283306-6cd1-438b-aa0a-29d7361028a6",
   "metadata": {},
   "outputs": [
    {
     "data": {
      "text/html": [
       "<div>\n",
       "<style scoped>\n",
       "    .dataframe tbody tr th:only-of-type {\n",
       "        vertical-align: middle;\n",
       "    }\n",
       "\n",
       "    .dataframe tbody tr th {\n",
       "        vertical-align: top;\n",
       "    }\n",
       "\n",
       "    .dataframe thead th {\n",
       "        text-align: right;\n",
       "    }\n",
       "</style>\n",
       "<table border=\"1\" class=\"dataframe\">\n",
       "  <thead>\n",
       "    <tr style=\"text-align: right;\">\n",
       "      <th></th>\n",
       "      <th>OBJECTID</th>\n",
       "      <th>AREATYPE</th>\n",
       "      <th>DEFRULE</th>\n",
       "      <th>DISPORDER</th>\n",
       "      <th>FILL</th>\n",
       "      <th>STROKE</th>\n",
       "      <th>RFB</th>\n",
       "      <th>SHAPE_LENG</th>\n",
       "      <th>SHAPE_AREA</th>\n",
       "      <th>ANCFEATURE</th>\n",
       "      <th>Perform</th>\n",
       "      <th>Collapse</th>\n",
       "      <th>Collapse2</th>\n",
       "      <th>geometry</th>\n",
       "      <th>FishingEffort_2019</th>\n",
       "    </tr>\n",
       "  </thead>\n",
       "  <tbody>\n",
       "    <tr>\n",
       "      <th>0</th>\n",
       "      <td>15.0</td>\n",
       "      <td>1.0</td>\n",
       "      <td>5.0</td>\n",
       "      <td>1.0</td>\n",
       "      <td>1.0</td>\n",
       "      <td>3.0</td>\n",
       "      <td>GFCM</td>\n",
       "      <td>362.45486</td>\n",
       "      <td>308.539628</td>\n",
       "      <td>None</td>\n",
       "      <td>40.5</td>\n",
       "      <td>81.49</td>\n",
       "      <td>50.65</td>\n",
       "      <td>POLYGON ((39.27760 47.23120, 39.30000 47.07690...</td>\n",
       "      <td>3.819809e+06</td>\n",
       "    </tr>\n",
       "  </tbody>\n",
       "</table>\n",
       "</div>"
      ],
      "text/plain": [
       "   OBJECTID  AREATYPE  DEFRULE  DISPORDER  FILL  STROKE   RFB  SHAPE_LENG  \\\n",
       "0      15.0       1.0      5.0        1.0   1.0     3.0  GFCM   362.45486   \n",
       "\n",
       "   SHAPE_AREA ANCFEATURE  Perform  Collapse  Collapse2  \\\n",
       "0  308.539628       None     40.5     81.49      50.65   \n",
       "\n",
       "                                            geometry  FishingEffort_2019  \n",
       "0  POLYGON ((39.27760 47.23120, 39.30000 47.07690...        3.819809e+06  "
      ]
     },
     "execution_count": 53,
     "metadata": {},
     "output_type": "execute_result"
    }
   ],
   "source": [
    "GFCM.head(2)"
   ]
  },
  {
   "cell_type": "markdown",
   "id": "90d45cff-add0-4b92-80e6-c5df02fd2d8d",
   "metadata": {},
   "source": [
    "#### group by flag state"
   ]
  },
  {
   "cell_type": "code",
   "execution_count": 54,
   "id": "2776c63b-d3e3-43ac-a787-952d5575774d",
   "metadata": {},
   "outputs": [],
   "source": [
    "GFCM_flagSUM = GFCMEffort.groupby(['flag_gfw'])['fishing_hours'].sum().reset_index()"
   ]
  },
  {
   "cell_type": "code",
   "execution_count": 55,
   "id": "fb5a0f1f-d779-407e-860b-f8f6a0d141d9",
   "metadata": {},
   "outputs": [
    {
     "data": {
      "text/html": [
       "<div>\n",
       "<style scoped>\n",
       "    .dataframe tbody tr th:only-of-type {\n",
       "        vertical-align: middle;\n",
       "    }\n",
       "\n",
       "    .dataframe tbody tr th {\n",
       "        vertical-align: top;\n",
       "    }\n",
       "\n",
       "    .dataframe thead th {\n",
       "        text-align: right;\n",
       "    }\n",
       "</style>\n",
       "<table border=\"1\" class=\"dataframe\">\n",
       "  <thead>\n",
       "    <tr style=\"text-align: right;\">\n",
       "      <th></th>\n",
       "      <th>flag_gfw</th>\n",
       "      <th>fishing_hours</th>\n",
       "    </tr>\n",
       "  </thead>\n",
       "  <tbody>\n",
       "    <tr>\n",
       "      <th>0</th>\n",
       "      <td>ALB</td>\n",
       "      <td>29576.1554</td>\n",
       "    </tr>\n",
       "    <tr>\n",
       "      <th>1</th>\n",
       "      <td>BGR</td>\n",
       "      <td>52554.8907</td>\n",
       "    </tr>\n",
       "    <tr>\n",
       "      <th>2</th>\n",
       "      <td>BLZ</td>\n",
       "      <td>0.0000</td>\n",
       "    </tr>\n",
       "    <tr>\n",
       "      <th>3</th>\n",
       "      <td>CHN</td>\n",
       "      <td>0.0000</td>\n",
       "    </tr>\n",
       "    <tr>\n",
       "      <th>4</th>\n",
       "      <td>CPV</td>\n",
       "      <td>73.8043</td>\n",
       "    </tr>\n",
       "    <tr>\n",
       "      <th>5</th>\n",
       "      <td>CYP</td>\n",
       "      <td>26054.9708</td>\n",
       "    </tr>\n",
       "    <tr>\n",
       "      <th>6</th>\n",
       "      <td>DEU</td>\n",
       "      <td>82.9749</td>\n",
       "    </tr>\n",
       "    <tr>\n",
       "      <th>7</th>\n",
       "      <td>DZA</td>\n",
       "      <td>1018.8907</td>\n",
       "    </tr>\n",
       "    <tr>\n",
       "      <th>8</th>\n",
       "      <td>EGY</td>\n",
       "      <td>497.1255</td>\n",
       "    </tr>\n",
       "    <tr>\n",
       "      <th>9</th>\n",
       "      <td>ESP</td>\n",
       "      <td>695570.5854</td>\n",
       "    </tr>\n",
       "    <tr>\n",
       "      <th>10</th>\n",
       "      <td>FRA</td>\n",
       "      <td>90735.0996</td>\n",
       "    </tr>\n",
       "    <tr>\n",
       "      <th>11</th>\n",
       "      <td>GEO</td>\n",
       "      <td>8989.2529</td>\n",
       "    </tr>\n",
       "    <tr>\n",
       "      <th>12</th>\n",
       "      <td>GRC</td>\n",
       "      <td>270793.0476</td>\n",
       "    </tr>\n",
       "    <tr>\n",
       "      <th>13</th>\n",
       "      <td>HRV</td>\n",
       "      <td>225925.1995</td>\n",
       "    </tr>\n",
       "    <tr>\n",
       "      <th>14</th>\n",
       "      <td>ISR</td>\n",
       "      <td>20062.1573</td>\n",
       "    </tr>\n",
       "  </tbody>\n",
       "</table>\n",
       "</div>"
      ],
      "text/plain": [
       "   flag_gfw  fishing_hours\n",
       "0       ALB     29576.1554\n",
       "1       BGR     52554.8907\n",
       "2       BLZ         0.0000\n",
       "3       CHN         0.0000\n",
       "4       CPV        73.8043\n",
       "5       CYP     26054.9708\n",
       "6       DEU        82.9749\n",
       "7       DZA      1018.8907\n",
       "8       EGY       497.1255\n",
       "9       ESP    695570.5854\n",
       "10      FRA     90735.0996\n",
       "11      GEO      8989.2529\n",
       "12      GRC    270793.0476\n",
       "13      HRV    225925.1995\n",
       "14      ISR     20062.1573"
      ]
     },
     "execution_count": 55,
     "metadata": {},
     "output_type": "execute_result"
    }
   ],
   "source": [
    "GFCM_flagSUM.head(15)"
   ]
  },
  {
   "cell_type": "code",
   "execution_count": 56,
   "id": "922b9265-a0ac-43ba-9739-a133464ace80",
   "metadata": {},
   "outputs": [],
   "source": [
    "del GFCMEffort"
   ]
  },
  {
   "cell_type": "markdown",
   "id": "ec42ae86-aa9a-4c3f-8685-1fcfbb84fee2",
   "metadata": {},
   "source": [
    "##### calculate area of GFCM change to appropriate polar equal area projection"
   ]
  },
  {
   "cell_type": "code",
   "execution_count": 57,
   "id": "d97c5686-3f1f-4862-8fb4-d2a674064564",
   "metadata": {},
   "outputs": [
    {
     "data": {
      "text/plain": [
       "<Derived Projected CRS: ESRI:54012>\n",
       "Name: World_Eckert_IV\n",
       "Axis Info [cartesian]:\n",
       "- E[east]: Easting (metre)\n",
       "- N[north]: Northing (metre)\n",
       "Area of Use:\n",
       "- name: World.\n",
       "- bounds: (-180.0, -90.0, 180.0, 90.0)\n",
       "Coordinate Operation:\n",
       "- name: World_Eckert_IV\n",
       "- method: Eckert IV\n",
       "Datum: World Geodetic System 1984\n",
       "- Ellipsoid: WGS 84\n",
       "- Prime Meridian: Greenwich"
      ]
     },
     "execution_count": 57,
     "metadata": {},
     "output_type": "execute_result"
    }
   ],
   "source": [
    "GFCM = GFCM.to_crs(\"ESRI:54012\")\n",
    "GFCM.crs"
   ]
  },
  {
   "cell_type": "code",
   "execution_count": 58,
   "id": "9ca9c472-28dd-4f33-9fd9-dbcd24ef099e",
   "metadata": {},
   "outputs": [
    {
     "data": {
      "text/html": [
       "<div>\n",
       "<style scoped>\n",
       "    .dataframe tbody tr th:only-of-type {\n",
       "        vertical-align: middle;\n",
       "    }\n",
       "\n",
       "    .dataframe tbody tr th {\n",
       "        vertical-align: top;\n",
       "    }\n",
       "\n",
       "    .dataframe thead th {\n",
       "        text-align: right;\n",
       "    }\n",
       "</style>\n",
       "<table border=\"1\" class=\"dataframe\">\n",
       "  <thead>\n",
       "    <tr style=\"text-align: right;\">\n",
       "      <th></th>\n",
       "      <th>OBJECTID</th>\n",
       "      <th>AREATYPE</th>\n",
       "      <th>DEFRULE</th>\n",
       "      <th>DISPORDER</th>\n",
       "      <th>FILL</th>\n",
       "      <th>STROKE</th>\n",
       "      <th>RFB</th>\n",
       "      <th>SHAPE_LENG</th>\n",
       "      <th>SHAPE_AREA</th>\n",
       "      <th>ANCFEATURE</th>\n",
       "      <th>Perform</th>\n",
       "      <th>Collapse</th>\n",
       "      <th>Collapse2</th>\n",
       "      <th>geometry</th>\n",
       "      <th>FishingEffort_2019</th>\n",
       "      <th>area</th>\n",
       "    </tr>\n",
       "  </thead>\n",
       "  <tbody>\n",
       "    <tr>\n",
       "      <th>0</th>\n",
       "      <td>15.0</td>\n",
       "      <td>1.0</td>\n",
       "      <td>5.0</td>\n",
       "      <td>1.0</td>\n",
       "      <td>1.0</td>\n",
       "      <td>3.0</td>\n",
       "      <td>GFCM</td>\n",
       "      <td>362.45486</td>\n",
       "      <td>308.539628</td>\n",
       "      <td>None</td>\n",
       "      <td>40.5</td>\n",
       "      <td>81.49</td>\n",
       "      <td>50.65</td>\n",
       "      <td>POLYGON ((3192370.095 5789798.450, 3197458.595...</td>\n",
       "      <td>3.819809e+06</td>\n",
       "      <td>3.000341e+06</td>\n",
       "    </tr>\n",
       "  </tbody>\n",
       "</table>\n",
       "</div>"
      ],
      "text/plain": [
       "   OBJECTID  AREATYPE  DEFRULE  DISPORDER  FILL  STROKE   RFB  SHAPE_LENG  \\\n",
       "0      15.0       1.0      5.0        1.0   1.0     3.0  GFCM   362.45486   \n",
       "\n",
       "   SHAPE_AREA ANCFEATURE  Perform  Collapse  Collapse2  \\\n",
       "0  308.539628       None     40.5     81.49      50.65   \n",
       "\n",
       "                                            geometry  FishingEffort_2019  \\\n",
       "0  POLYGON ((3192370.095 5789798.450, 3197458.595...        3.819809e+06   \n",
       "\n",
       "           area  \n",
       "0  3.000341e+06  "
      ]
     },
     "execution_count": 58,
     "metadata": {},
     "output_type": "execute_result"
    }
   ],
   "source": [
    "GFCM[\"area\"] = GFCM['geometry'].area/ 10**6\n",
    "GFCM.head(2)"
   ]
  },
  {
   "cell_type": "code",
   "execution_count": 59,
   "id": "9c65e7ed-5c49-4868-b064-8a4855d228e6",
   "metadata": {},
   "outputs": [
    {
     "name": "stderr",
     "output_type": "stream",
     "text": [
      "/tmp/ipykernel_462/1328183924.py:1: UserWarning: Column names longer than 10 characters will be truncated when saved to ESRI Shapefile.\n",
      "  GFCM.to_file('RFB_GFCM_New.shp')\n"
     ]
    }
   ],
   "source": [
    "GFCM.to_file('RFB_GFCM_New.shp')"
   ]
  },
  {
   "cell_type": "markdown",
   "id": "78f205e8-324d-4c48-92b1-00d83794173e",
   "metadata": {
    "tags": []
   },
   "source": [
    "### IATTC"
   ]
  },
  {
   "cell_type": "code",
   "execution_count": 60,
   "id": "3d7dac50-f09a-44c3-9c0b-f479e50978bc",
   "metadata": {
    "tags": []
   },
   "outputs": [],
   "source": [
    "IATTC = IATTC.to_crs('EPSG:4326')"
   ]
  },
  {
   "cell_type": "code",
   "execution_count": 61,
   "id": "c97c516f-c3cd-402f-9d09-e98c5bd8fbdf",
   "metadata": {},
   "outputs": [
    {
     "data": {
      "text/html": [
       "<div>\n",
       "<style scoped>\n",
       "    .dataframe tbody tr th:only-of-type {\n",
       "        vertical-align: middle;\n",
       "    }\n",
       "\n",
       "    .dataframe tbody tr th {\n",
       "        vertical-align: top;\n",
       "    }\n",
       "\n",
       "    .dataframe thead th {\n",
       "        text-align: right;\n",
       "    }\n",
       "</style>\n",
       "<table border=\"1\" class=\"dataframe\">\n",
       "  <thead>\n",
       "    <tr style=\"text-align: right;\">\n",
       "      <th></th>\n",
       "      <th>OBJECTID</th>\n",
       "      <th>AREATYPE</th>\n",
       "      <th>DEFRULE</th>\n",
       "      <th>DISPORDER</th>\n",
       "      <th>FILL</th>\n",
       "      <th>STROKE</th>\n",
       "      <th>RFB</th>\n",
       "      <th>SHAPE_LENG</th>\n",
       "      <th>SHAPE_AREA</th>\n",
       "      <th>ANCFEATURE</th>\n",
       "      <th>Perform</th>\n",
       "      <th>Collapse</th>\n",
       "      <th>Collapse2</th>\n",
       "      <th>geometry</th>\n",
       "    </tr>\n",
       "  </thead>\n",
       "  <tbody>\n",
       "    <tr>\n",
       "      <th>0</th>\n",
       "      <td>16.0</td>\n",
       "      <td>1.0</td>\n",
       "      <td>1.0</td>\n",
       "      <td>1.0</td>\n",
       "      <td>1.0</td>\n",
       "      <td>1.0</td>\n",
       "      <td>IATTC</td>\n",
       "      <td>570.165981</td>\n",
       "      <td>6014.624087</td>\n",
       "      <td>None</td>\n",
       "      <td>52.0</td>\n",
       "      <td>79.31</td>\n",
       "      <td>57.76</td>\n",
       "      <td>MULTIPOLYGON (((-123.90050 49.81290, -123.9200...</td>\n",
       "    </tr>\n",
       "  </tbody>\n",
       "</table>\n",
       "</div>"
      ],
      "text/plain": [
       "   OBJECTID  AREATYPE  DEFRULE  DISPORDER  FILL  STROKE    RFB  SHAPE_LENG  \\\n",
       "0      16.0       1.0      1.0        1.0   1.0     1.0  IATTC  570.165981   \n",
       "\n",
       "    SHAPE_AREA ANCFEATURE  Perform  Collapse  Collapse2  \\\n",
       "0  6014.624087       None     52.0     79.31      57.76   \n",
       "\n",
       "                                            geometry  \n",
       "0  MULTIPOLYGON (((-123.90050 49.81290, -123.9200...  "
      ]
     },
     "execution_count": 61,
     "metadata": {},
     "output_type": "execute_result"
    }
   ],
   "source": [
    "IATTC.head(10)"
   ]
  },
  {
   "cell_type": "code",
   "execution_count": 62,
   "id": "350551c2-b2bb-4f3b-97a9-3efc09e285bf",
   "metadata": {},
   "outputs": [],
   "source": [
    "IATTCEffort = GFW2019Points.clip(IATTC)"
   ]
  },
  {
   "cell_type": "code",
   "execution_count": 63,
   "id": "553132e9-a8ff-49a6-aeec-91edb31aa63b",
   "metadata": {},
   "outputs": [
    {
     "data": {
      "text/plain": [
       "3696876"
      ]
     },
     "execution_count": 63,
     "metadata": {},
     "output_type": "execute_result"
    }
   ],
   "source": [
    "len(IATTCEffort)"
   ]
  },
  {
   "cell_type": "code",
   "execution_count": 64,
   "id": "ae7ef98c-d9db-48d2-afcc-5f83025e8027",
   "metadata": {},
   "outputs": [
    {
     "data": {
      "text/html": [
       "<div>\n",
       "<style scoped>\n",
       "    .dataframe tbody tr th:only-of-type {\n",
       "        vertical-align: middle;\n",
       "    }\n",
       "\n",
       "    .dataframe tbody tr th {\n",
       "        vertical-align: top;\n",
       "    }\n",
       "\n",
       "    .dataframe thead th {\n",
       "        text-align: right;\n",
       "    }\n",
       "</style>\n",
       "<table border=\"1\" class=\"dataframe\">\n",
       "  <thead>\n",
       "    <tr style=\"text-align: right;\">\n",
       "      <th></th>\n",
       "      <th>date</th>\n",
       "      <th>mmsi</th>\n",
       "      <th>hours</th>\n",
       "      <th>fishing_hours</th>\n",
       "      <th>geometry</th>\n",
       "    </tr>\n",
       "  </thead>\n",
       "  <tbody>\n",
       "    <tr>\n",
       "      <th>11472567</th>\n",
       "      <td>2019-03-27</td>\n",
       "      <td>261084090</td>\n",
       "      <td>0.1497</td>\n",
       "      <td>0.0</td>\n",
       "      <td>POINT (-79.80000 -50.00000)</td>\n",
       "    </tr>\n",
       "    <tr>\n",
       "      <th>11506055</th>\n",
       "      <td>2019-03-27</td>\n",
       "      <td>261084090</td>\n",
       "      <td>0.4308</td>\n",
       "      <td>0.0</td>\n",
       "      <td>POINT (-79.90000 -49.90000)</td>\n",
       "    </tr>\n",
       "  </tbody>\n",
       "</table>\n",
       "</div>"
      ],
      "text/plain": [
       "                date       mmsi   hours  fishing_hours  \\\n",
       "11472567  2019-03-27  261084090  0.1497            0.0   \n",
       "11506055  2019-03-27  261084090  0.4308            0.0   \n",
       "\n",
       "                             geometry  \n",
       "11472567  POINT (-79.80000 -50.00000)  \n",
       "11506055  POINT (-79.90000 -49.90000)  "
      ]
     },
     "execution_count": 64,
     "metadata": {},
     "output_type": "execute_result"
    }
   ],
   "source": [
    "IATTCEffort.head(2)"
   ]
  },
  {
   "cell_type": "code",
   "execution_count": 65,
   "id": "03c6a4a2-3935-4422-b83a-5e27a4fe0b7c",
   "metadata": {},
   "outputs": [],
   "source": [
    "IATTCEffort = pd.merge(IATTCEffort, flag_gear_df[['mmsi','flag_gfw','vessel_class_gfw']], on='mmsi', how='left')"
   ]
  },
  {
   "cell_type": "code",
   "execution_count": 66,
   "id": "22393769-5260-4126-a25c-bcbcaaa04864",
   "metadata": {},
   "outputs": [
    {
     "name": "stdout",
     "output_type": "stream",
     "text": [
      "2432813.844299998\n"
     ]
    }
   ],
   "source": [
    "IATTCFishSUM = IATTCEffort['fishing_hours'].sum()\n",
    "print(IATTCFishSUM)"
   ]
  },
  {
   "cell_type": "markdown",
   "id": "cebdc8e5-eb98-4040-a03d-be25f67d6078",
   "metadata": {},
   "source": [
    "#### add the sum value to the RFMO polygon"
   ]
  },
  {
   "cell_type": "code",
   "execution_count": 67,
   "id": "da7890d0-daef-4ce1-b8be-6f95e8d147cf",
   "metadata": {},
   "outputs": [],
   "source": [
    "IATTC['FishingEffort_2019'] = IATTCFishSUM"
   ]
  },
  {
   "cell_type": "code",
   "execution_count": 68,
   "id": "6045899e-3012-47ac-8a66-6b0f9a562362",
   "metadata": {},
   "outputs": [
    {
     "data": {
      "text/html": [
       "<div>\n",
       "<style scoped>\n",
       "    .dataframe tbody tr th:only-of-type {\n",
       "        vertical-align: middle;\n",
       "    }\n",
       "\n",
       "    .dataframe tbody tr th {\n",
       "        vertical-align: top;\n",
       "    }\n",
       "\n",
       "    .dataframe thead th {\n",
       "        text-align: right;\n",
       "    }\n",
       "</style>\n",
       "<table border=\"1\" class=\"dataframe\">\n",
       "  <thead>\n",
       "    <tr style=\"text-align: right;\">\n",
       "      <th></th>\n",
       "      <th>OBJECTID</th>\n",
       "      <th>AREATYPE</th>\n",
       "      <th>DEFRULE</th>\n",
       "      <th>DISPORDER</th>\n",
       "      <th>FILL</th>\n",
       "      <th>STROKE</th>\n",
       "      <th>RFB</th>\n",
       "      <th>SHAPE_LENG</th>\n",
       "      <th>SHAPE_AREA</th>\n",
       "      <th>ANCFEATURE</th>\n",
       "      <th>Perform</th>\n",
       "      <th>Collapse</th>\n",
       "      <th>Collapse2</th>\n",
       "      <th>geometry</th>\n",
       "      <th>FishingEffort_2019</th>\n",
       "    </tr>\n",
       "  </thead>\n",
       "  <tbody>\n",
       "    <tr>\n",
       "      <th>0</th>\n",
       "      <td>16.0</td>\n",
       "      <td>1.0</td>\n",
       "      <td>1.0</td>\n",
       "      <td>1.0</td>\n",
       "      <td>1.0</td>\n",
       "      <td>1.0</td>\n",
       "      <td>IATTC</td>\n",
       "      <td>570.165981</td>\n",
       "      <td>6014.624087</td>\n",
       "      <td>None</td>\n",
       "      <td>52.0</td>\n",
       "      <td>79.31</td>\n",
       "      <td>57.76</td>\n",
       "      <td>MULTIPOLYGON (((-123.90050 49.81290, -123.9200...</td>\n",
       "      <td>2.432814e+06</td>\n",
       "    </tr>\n",
       "  </tbody>\n",
       "</table>\n",
       "</div>"
      ],
      "text/plain": [
       "   OBJECTID  AREATYPE  DEFRULE  DISPORDER  FILL  STROKE    RFB  SHAPE_LENG  \\\n",
       "0      16.0       1.0      1.0        1.0   1.0     1.0  IATTC  570.165981   \n",
       "\n",
       "    SHAPE_AREA ANCFEATURE  Perform  Collapse  Collapse2  \\\n",
       "0  6014.624087       None     52.0     79.31      57.76   \n",
       "\n",
       "                                            geometry  FishingEffort_2019  \n",
       "0  MULTIPOLYGON (((-123.90050 49.81290, -123.9200...        2.432814e+06  "
      ]
     },
     "execution_count": 68,
     "metadata": {},
     "output_type": "execute_result"
    }
   ],
   "source": [
    "IATTC.head(2)"
   ]
  },
  {
   "cell_type": "markdown",
   "id": "809e8623-934f-4bfb-9a7e-a43c0d82e2bc",
   "metadata": {},
   "source": [
    "#### group by flag state"
   ]
  },
  {
   "cell_type": "code",
   "execution_count": 69,
   "id": "e77dcf8e-2e43-4451-aa89-8517fa3c30e1",
   "metadata": {},
   "outputs": [],
   "source": [
    "IATTC_flagSUM = IATTCEffort.groupby(['flag_gfw'])['fishing_hours'].sum().reset_index()"
   ]
  },
  {
   "cell_type": "code",
   "execution_count": 70,
   "id": "645ca9f1-4e25-4f7a-8a2d-10bb49eb560b",
   "metadata": {},
   "outputs": [
    {
     "data": {
      "text/html": [
       "<div>\n",
       "<style scoped>\n",
       "    .dataframe tbody tr th:only-of-type {\n",
       "        vertical-align: middle;\n",
       "    }\n",
       "\n",
       "    .dataframe tbody tr th {\n",
       "        vertical-align: top;\n",
       "    }\n",
       "\n",
       "    .dataframe thead th {\n",
       "        text-align: right;\n",
       "    }\n",
       "</style>\n",
       "<table border=\"1\" class=\"dataframe\">\n",
       "  <thead>\n",
       "    <tr style=\"text-align: right;\">\n",
       "      <th></th>\n",
       "      <th>flag_gfw</th>\n",
       "      <th>fishing_hours</th>\n",
       "    </tr>\n",
       "  </thead>\n",
       "  <tbody>\n",
       "    <tr>\n",
       "      <th>0</th>\n",
       "      <td>ALB</td>\n",
       "      <td>6.946602e+02</td>\n",
       "    </tr>\n",
       "    <tr>\n",
       "      <th>1</th>\n",
       "      <td>ARG</td>\n",
       "      <td>0.000000e+00</td>\n",
       "    </tr>\n",
       "    <tr>\n",
       "      <th>2</th>\n",
       "      <td>ATF</td>\n",
       "      <td>2.220676e+02</td>\n",
       "    </tr>\n",
       "    <tr>\n",
       "      <th>3</th>\n",
       "      <td>BMU</td>\n",
       "      <td>1.477763e+03</td>\n",
       "    </tr>\n",
       "    <tr>\n",
       "      <th>4</th>\n",
       "      <td>CAN</td>\n",
       "      <td>3.233334e+04</td>\n",
       "    </tr>\n",
       "    <tr>\n",
       "      <th>5</th>\n",
       "      <td>CHL</td>\n",
       "      <td>6.154967e+04</td>\n",
       "    </tr>\n",
       "    <tr>\n",
       "      <th>6</th>\n",
       "      <td>CHN</td>\n",
       "      <td>1.157960e+06</td>\n",
       "    </tr>\n",
       "    <tr>\n",
       "      <th>7</th>\n",
       "      <td>COK</td>\n",
       "      <td>1.767939e+03</td>\n",
       "    </tr>\n",
       "    <tr>\n",
       "      <th>8</th>\n",
       "      <td>COL</td>\n",
       "      <td>1.933406e+04</td>\n",
       "    </tr>\n",
       "    <tr>\n",
       "      <th>9</th>\n",
       "      <td>ECU</td>\n",
       "      <td>2.822103e+04</td>\n",
       "    </tr>\n",
       "    <tr>\n",
       "      <th>10</th>\n",
       "      <td>ESP</td>\n",
       "      <td>7.215068e+04</td>\n",
       "    </tr>\n",
       "    <tr>\n",
       "      <th>11</th>\n",
       "      <td>FJI</td>\n",
       "      <td>1.568651e+04</td>\n",
       "    </tr>\n",
       "    <tr>\n",
       "      <th>12</th>\n",
       "      <td>GUY</td>\n",
       "      <td>3.144110e+01</td>\n",
       "    </tr>\n",
       "    <tr>\n",
       "      <th>13</th>\n",
       "      <td>HND</td>\n",
       "      <td>2.901956e+02</td>\n",
       "    </tr>\n",
       "    <tr>\n",
       "      <th>14</th>\n",
       "      <td>IRQ</td>\n",
       "      <td>1.012990e+03</td>\n",
       "    </tr>\n",
       "  </tbody>\n",
       "</table>\n",
       "</div>"
      ],
      "text/plain": [
       "   flag_gfw  fishing_hours\n",
       "0       ALB   6.946602e+02\n",
       "1       ARG   0.000000e+00\n",
       "2       ATF   2.220676e+02\n",
       "3       BMU   1.477763e+03\n",
       "4       CAN   3.233334e+04\n",
       "5       CHL   6.154967e+04\n",
       "6       CHN   1.157960e+06\n",
       "7       COK   1.767939e+03\n",
       "8       COL   1.933406e+04\n",
       "9       ECU   2.822103e+04\n",
       "10      ESP   7.215068e+04\n",
       "11      FJI   1.568651e+04\n",
       "12      GUY   3.144110e+01\n",
       "13      HND   2.901956e+02\n",
       "14      IRQ   1.012990e+03"
      ]
     },
     "execution_count": 70,
     "metadata": {},
     "output_type": "execute_result"
    }
   ],
   "source": [
    "IATTC_flagSUM.head(15)"
   ]
  },
  {
   "cell_type": "code",
   "execution_count": 71,
   "id": "8b951b42-7592-4b3f-9a62-ec12fb7e2384",
   "metadata": {},
   "outputs": [],
   "source": [
    "del IATTCEffort"
   ]
  },
  {
   "cell_type": "markdown",
   "id": "c80a0bce-1907-4429-ae20-1f45ec5542a8",
   "metadata": {},
   "source": [
    "##### calculate area of IATTC change to appropriate polar equal area projection"
   ]
  },
  {
   "cell_type": "code",
   "execution_count": 72,
   "id": "cdee6527-b5d9-41c2-a820-7a572fa19401",
   "metadata": {},
   "outputs": [
    {
     "data": {
      "text/plain": [
       "<Derived Projected CRS: ESRI:54012>\n",
       "Name: World_Eckert_IV\n",
       "Axis Info [cartesian]:\n",
       "- E[east]: Easting (metre)\n",
       "- N[north]: Northing (metre)\n",
       "Area of Use:\n",
       "- name: World.\n",
       "- bounds: (-180.0, -90.0, 180.0, 90.0)\n",
       "Coordinate Operation:\n",
       "- name: World_Eckert_IV\n",
       "- method: Eckert IV\n",
       "Datum: World Geodetic System 1984\n",
       "- Ellipsoid: WGS 84\n",
       "- Prime Meridian: Greenwich"
      ]
     },
     "execution_count": 72,
     "metadata": {},
     "output_type": "execute_result"
    }
   ],
   "source": [
    "IATTC = IATTC.to_crs(\"ESRI:54012\")\n",
    "IATTC.crs"
   ]
  },
  {
   "cell_type": "code",
   "execution_count": 73,
   "id": "182f36b2-651b-45a8-944e-a08daeb8bd91",
   "metadata": {},
   "outputs": [
    {
     "data": {
      "text/html": [
       "<div>\n",
       "<style scoped>\n",
       "    .dataframe tbody tr th:only-of-type {\n",
       "        vertical-align: middle;\n",
       "    }\n",
       "\n",
       "    .dataframe tbody tr th {\n",
       "        vertical-align: top;\n",
       "    }\n",
       "\n",
       "    .dataframe thead th {\n",
       "        text-align: right;\n",
       "    }\n",
       "</style>\n",
       "<table border=\"1\" class=\"dataframe\">\n",
       "  <thead>\n",
       "    <tr style=\"text-align: right;\">\n",
       "      <th></th>\n",
       "      <th>OBJECTID</th>\n",
       "      <th>AREATYPE</th>\n",
       "      <th>DEFRULE</th>\n",
       "      <th>DISPORDER</th>\n",
       "      <th>FILL</th>\n",
       "      <th>STROKE</th>\n",
       "      <th>RFB</th>\n",
       "      <th>SHAPE_LENG</th>\n",
       "      <th>SHAPE_AREA</th>\n",
       "      <th>ANCFEATURE</th>\n",
       "      <th>Perform</th>\n",
       "      <th>Collapse</th>\n",
       "      <th>Collapse2</th>\n",
       "      <th>geometry</th>\n",
       "      <th>FishingEffort_2019</th>\n",
       "      <th>area</th>\n",
       "    </tr>\n",
       "  </thead>\n",
       "  <tbody>\n",
       "    <tr>\n",
       "      <th>0</th>\n",
       "      <td>16.0</td>\n",
       "      <td>1.0</td>\n",
       "      <td>1.0</td>\n",
       "      <td>1.0</td>\n",
       "      <td>1.0</td>\n",
       "      <td>1.0</td>\n",
       "      <td>IATTC</td>\n",
       "      <td>570.165981</td>\n",
       "      <td>6014.624087</td>\n",
       "      <td>None</td>\n",
       "      <td>52.0</td>\n",
       "      <td>79.31</td>\n",
       "      <td>57.76</td>\n",
       "      <td>MULTIPOLYGON (((-9892833.000 6052768.270, -989...</td>\n",
       "      <td>2.432814e+06</td>\n",
       "      <td>6.635639e+07</td>\n",
       "    </tr>\n",
       "  </tbody>\n",
       "</table>\n",
       "</div>"
      ],
      "text/plain": [
       "   OBJECTID  AREATYPE  DEFRULE  DISPORDER  FILL  STROKE    RFB  SHAPE_LENG  \\\n",
       "0      16.0       1.0      1.0        1.0   1.0     1.0  IATTC  570.165981   \n",
       "\n",
       "    SHAPE_AREA ANCFEATURE  Perform  Collapse  Collapse2  \\\n",
       "0  6014.624087       None     52.0     79.31      57.76   \n",
       "\n",
       "                                            geometry  FishingEffort_2019  \\\n",
       "0  MULTIPOLYGON (((-9892833.000 6052768.270, -989...        2.432814e+06   \n",
       "\n",
       "           area  \n",
       "0  6.635639e+07  "
      ]
     },
     "execution_count": 73,
     "metadata": {},
     "output_type": "execute_result"
    }
   ],
   "source": [
    "IATTC[\"area\"] = IATTC['geometry'].area/ 10**6\n",
    "IATTC.head(2)"
   ]
  },
  {
   "cell_type": "code",
   "execution_count": 74,
   "id": "06df5502-f5a2-4516-a461-eec0ac276b9e",
   "metadata": {},
   "outputs": [
    {
     "name": "stderr",
     "output_type": "stream",
     "text": [
      "/tmp/ipykernel_462/1562276663.py:1: UserWarning: Column names longer than 10 characters will be truncated when saved to ESRI Shapefile.\n",
      "  IATTC.to_file('RFB_IATTC_New.shp')\n"
     ]
    }
   ],
   "source": [
    "IATTC.to_file('RFB_IATTC_New.shp')"
   ]
  },
  {
   "cell_type": "markdown",
   "id": "c7ee7f32-b313-4721-b10f-d3befcce1b86",
   "metadata": {
    "tags": []
   },
   "source": [
    "### ICCAT"
   ]
  },
  {
   "cell_type": "code",
   "execution_count": 75,
   "id": "9090c660-87e5-436d-9044-b01b6b7e1087",
   "metadata": {
    "tags": []
   },
   "outputs": [],
   "source": [
    "ICCAT = ICCAT.to_crs('EPSG:4326')"
   ]
  },
  {
   "cell_type": "code",
   "execution_count": 76,
   "id": "ecaa8259-56d4-42f7-bf48-fb825f02a6ed",
   "metadata": {},
   "outputs": [
    {
     "data": {
      "text/html": [
       "<div>\n",
       "<style scoped>\n",
       "    .dataframe tbody tr th:only-of-type {\n",
       "        vertical-align: middle;\n",
       "    }\n",
       "\n",
       "    .dataframe tbody tr th {\n",
       "        vertical-align: top;\n",
       "    }\n",
       "\n",
       "    .dataframe thead th {\n",
       "        text-align: right;\n",
       "    }\n",
       "</style>\n",
       "<table border=\"1\" class=\"dataframe\">\n",
       "  <thead>\n",
       "    <tr style=\"text-align: right;\">\n",
       "      <th></th>\n",
       "      <th>OBJECTID</th>\n",
       "      <th>AREATYPE</th>\n",
       "      <th>DEFRULE</th>\n",
       "      <th>DISPORDER</th>\n",
       "      <th>FILL</th>\n",
       "      <th>STROKE</th>\n",
       "      <th>RFB</th>\n",
       "      <th>SHAPE_LENG</th>\n",
       "      <th>SHAPE_AREA</th>\n",
       "      <th>ANCFEATURE</th>\n",
       "      <th>Perform</th>\n",
       "      <th>Collapse</th>\n",
       "      <th>Collapse2</th>\n",
       "      <th>geometry</th>\n",
       "    </tr>\n",
       "  </thead>\n",
       "  <tbody>\n",
       "    <tr>\n",
       "      <th>0</th>\n",
       "      <td>3.0</td>\n",
       "      <td>1.0</td>\n",
       "      <td>5.0</td>\n",
       "      <td>1.0</td>\n",
       "      <td>1.0</td>\n",
       "      <td>3.0</td>\n",
       "      <td>ICCAT</td>\n",
       "      <td>3076.047265</td>\n",
       "      <td>9258.257489</td>\n",
       "      <td>None</td>\n",
       "      <td>52.0</td>\n",
       "      <td>82.05</td>\n",
       "      <td>49.05</td>\n",
       "      <td>MULTIPOLYGON (((10.97940 54.38060, 10.94650 54...</td>\n",
       "    </tr>\n",
       "  </tbody>\n",
       "</table>\n",
       "</div>"
      ],
      "text/plain": [
       "   OBJECTID  AREATYPE  DEFRULE  DISPORDER  FILL  STROKE    RFB   SHAPE_LENG  \\\n",
       "0       3.0       1.0      5.0        1.0   1.0     3.0  ICCAT  3076.047265   \n",
       "\n",
       "    SHAPE_AREA ANCFEATURE  Perform  Collapse  Collapse2  \\\n",
       "0  9258.257489       None     52.0     82.05      49.05   \n",
       "\n",
       "                                            geometry  \n",
       "0  MULTIPOLYGON (((10.97940 54.38060, 10.94650 54...  "
      ]
     },
     "execution_count": 76,
     "metadata": {},
     "output_type": "execute_result"
    }
   ],
   "source": [
    "ICCAT.head(10)"
   ]
  },
  {
   "cell_type": "code",
   "execution_count": 77,
   "id": "fc3613ba-0eb2-4762-a910-0e00d7a5856b",
   "metadata": {},
   "outputs": [],
   "source": [
    "ICCATEffort = GFW2019Points.clip(ICCAT)"
   ]
  },
  {
   "cell_type": "code",
   "execution_count": 78,
   "id": "75ea914f-3447-4c94-a4aa-e051bf89c6ed",
   "metadata": {},
   "outputs": [
    {
     "data": {
      "text/plain": [
       "17466971"
      ]
     },
     "execution_count": 78,
     "metadata": {},
     "output_type": "execute_result"
    }
   ],
   "source": [
    "len(ICCATEffort)"
   ]
  },
  {
   "cell_type": "code",
   "execution_count": 79,
   "id": "0b1e3883-31d4-411d-9197-e64e526272fa",
   "metadata": {},
   "outputs": [
    {
     "data": {
      "text/html": [
       "<div>\n",
       "<style scoped>\n",
       "    .dataframe tbody tr th:only-of-type {\n",
       "        vertical-align: middle;\n",
       "    }\n",
       "\n",
       "    .dataframe tbody tr th {\n",
       "        vertical-align: top;\n",
       "    }\n",
       "\n",
       "    .dataframe thead th {\n",
       "        text-align: right;\n",
       "    }\n",
       "</style>\n",
       "<table border=\"1\" class=\"dataframe\">\n",
       "  <thead>\n",
       "    <tr style=\"text-align: right;\">\n",
       "      <th></th>\n",
       "      <th>date</th>\n",
       "      <th>mmsi</th>\n",
       "      <th>hours</th>\n",
       "      <th>fishing_hours</th>\n",
       "      <th>geometry</th>\n",
       "    </tr>\n",
       "  </thead>\n",
       "  <tbody>\n",
       "    <tr>\n",
       "      <th>2230639</th>\n",
       "      <td>2019-01-18</td>\n",
       "      <td>440755000</td>\n",
       "      <td>0.2830</td>\n",
       "      <td>0.0</td>\n",
       "      <td>POINT (-67.70000 -60.00000)</td>\n",
       "    </tr>\n",
       "    <tr>\n",
       "      <th>2230635</th>\n",
       "      <td>2019-01-18</td>\n",
       "      <td>440755000</td>\n",
       "      <td>0.2844</td>\n",
       "      <td>0.0</td>\n",
       "      <td>POINT (-67.50000 -60.00000)</td>\n",
       "    </tr>\n",
       "  </tbody>\n",
       "</table>\n",
       "</div>"
      ],
      "text/plain": [
       "               date       mmsi   hours  fishing_hours  \\\n",
       "2230639  2019-01-18  440755000  0.2830            0.0   \n",
       "2230635  2019-01-18  440755000  0.2844            0.0   \n",
       "\n",
       "                            geometry  \n",
       "2230639  POINT (-67.70000 -60.00000)  \n",
       "2230635  POINT (-67.50000 -60.00000)  "
      ]
     },
     "execution_count": 79,
     "metadata": {},
     "output_type": "execute_result"
    }
   ],
   "source": [
    "ICCATEffort.head(2)"
   ]
  },
  {
   "cell_type": "code",
   "execution_count": 80,
   "id": "1ae5f88c-b65c-4c78-94c6-c3a80f29f835",
   "metadata": {},
   "outputs": [],
   "source": [
    "ICCATEffort = pd.merge(ICCATEffort, flag_gear_df[['mmsi','flag_gfw','vessel_class_gfw']], on='mmsi', how='left')"
   ]
  },
  {
   "cell_type": "code",
   "execution_count": 81,
   "id": "0bdba4ae-87ff-45a3-9b7d-1bd182bc7c0e",
   "metadata": {},
   "outputs": [
    {
     "name": "stdout",
     "output_type": "stream",
     "text": [
      "18012376.464699995\n"
     ]
    }
   ],
   "source": [
    "ICCATFishSUM = ICCATEffort['fishing_hours'].sum()\n",
    "print(ICCATFishSUM)"
   ]
  },
  {
   "cell_type": "markdown",
   "id": "140ee106-901f-44bd-b990-0966a7ae9cc5",
   "metadata": {},
   "source": [
    "#### add the sum value to the RFMO polygon"
   ]
  },
  {
   "cell_type": "code",
   "execution_count": 82,
   "id": "f00b340d-563b-40c2-b58c-3f8c07d0e22d",
   "metadata": {},
   "outputs": [],
   "source": [
    "ICCAT['FishingEffort_2019'] = ICCATFishSUM"
   ]
  },
  {
   "cell_type": "code",
   "execution_count": 83,
   "id": "4ecb5d8b-9cd4-486d-a5b0-76258e7d38d7",
   "metadata": {},
   "outputs": [
    {
     "data": {
      "text/html": [
       "<div>\n",
       "<style scoped>\n",
       "    .dataframe tbody tr th:only-of-type {\n",
       "        vertical-align: middle;\n",
       "    }\n",
       "\n",
       "    .dataframe tbody tr th {\n",
       "        vertical-align: top;\n",
       "    }\n",
       "\n",
       "    .dataframe thead th {\n",
       "        text-align: right;\n",
       "    }\n",
       "</style>\n",
       "<table border=\"1\" class=\"dataframe\">\n",
       "  <thead>\n",
       "    <tr style=\"text-align: right;\">\n",
       "      <th></th>\n",
       "      <th>OBJECTID</th>\n",
       "      <th>AREATYPE</th>\n",
       "      <th>DEFRULE</th>\n",
       "      <th>DISPORDER</th>\n",
       "      <th>FILL</th>\n",
       "      <th>STROKE</th>\n",
       "      <th>RFB</th>\n",
       "      <th>SHAPE_LENG</th>\n",
       "      <th>SHAPE_AREA</th>\n",
       "      <th>ANCFEATURE</th>\n",
       "      <th>Perform</th>\n",
       "      <th>Collapse</th>\n",
       "      <th>Collapse2</th>\n",
       "      <th>geometry</th>\n",
       "      <th>FishingEffort_2019</th>\n",
       "    </tr>\n",
       "  </thead>\n",
       "  <tbody>\n",
       "    <tr>\n",
       "      <th>0</th>\n",
       "      <td>3.0</td>\n",
       "      <td>1.0</td>\n",
       "      <td>5.0</td>\n",
       "      <td>1.0</td>\n",
       "      <td>1.0</td>\n",
       "      <td>3.0</td>\n",
       "      <td>ICCAT</td>\n",
       "      <td>3076.047265</td>\n",
       "      <td>9258.257489</td>\n",
       "      <td>None</td>\n",
       "      <td>52.0</td>\n",
       "      <td>82.05</td>\n",
       "      <td>49.05</td>\n",
       "      <td>MULTIPOLYGON (((10.97940 54.38060, 10.94650 54...</td>\n",
       "      <td>1.801238e+07</td>\n",
       "    </tr>\n",
       "  </tbody>\n",
       "</table>\n",
       "</div>"
      ],
      "text/plain": [
       "   OBJECTID  AREATYPE  DEFRULE  DISPORDER  FILL  STROKE    RFB   SHAPE_LENG  \\\n",
       "0       3.0       1.0      5.0        1.0   1.0     3.0  ICCAT  3076.047265   \n",
       "\n",
       "    SHAPE_AREA ANCFEATURE  Perform  Collapse  Collapse2  \\\n",
       "0  9258.257489       None     52.0     82.05      49.05   \n",
       "\n",
       "                                            geometry  FishingEffort_2019  \n",
       "0  MULTIPOLYGON (((10.97940 54.38060, 10.94650 54...        1.801238e+07  "
      ]
     },
     "execution_count": 83,
     "metadata": {},
     "output_type": "execute_result"
    }
   ],
   "source": [
    "ICCAT.head(2)"
   ]
  },
  {
   "cell_type": "markdown",
   "id": "dfa1ed4a-cef2-43de-887c-d28a29974a46",
   "metadata": {},
   "source": [
    "#### group by flag state"
   ]
  },
  {
   "cell_type": "code",
   "execution_count": 84,
   "id": "a0ac9cb8-60ae-4f0b-b76a-b453749a0285",
   "metadata": {},
   "outputs": [],
   "source": [
    "ICCAT_flagSUM = ICCATEffort.groupby(['flag_gfw'])['fishing_hours'].sum().reset_index()"
   ]
  },
  {
   "cell_type": "code",
   "execution_count": 85,
   "id": "b396d8de-1651-47e4-85b4-9a2497639bce",
   "metadata": {},
   "outputs": [
    {
     "data": {
      "text/html": [
       "<div>\n",
       "<style scoped>\n",
       "    .dataframe tbody tr th:only-of-type {\n",
       "        vertical-align: middle;\n",
       "    }\n",
       "\n",
       "    .dataframe tbody tr th {\n",
       "        vertical-align: top;\n",
       "    }\n",
       "\n",
       "    .dataframe thead th {\n",
       "        text-align: right;\n",
       "    }\n",
       "</style>\n",
       "<table border=\"1\" class=\"dataframe\">\n",
       "  <thead>\n",
       "    <tr style=\"text-align: right;\">\n",
       "      <th></th>\n",
       "      <th>flag_gfw</th>\n",
       "      <th>fishing_hours</th>\n",
       "    </tr>\n",
       "  </thead>\n",
       "  <tbody>\n",
       "    <tr>\n",
       "      <th>0</th>\n",
       "      <td>AFG</td>\n",
       "      <td>307.1618</td>\n",
       "    </tr>\n",
       "    <tr>\n",
       "      <th>1</th>\n",
       "      <td>AGO</td>\n",
       "      <td>63906.7011</td>\n",
       "    </tr>\n",
       "    <tr>\n",
       "      <th>2</th>\n",
       "      <td>ALB</td>\n",
       "      <td>29576.1554</td>\n",
       "    </tr>\n",
       "    <tr>\n",
       "      <th>3</th>\n",
       "      <td>ARE</td>\n",
       "      <td>97.1486</td>\n",
       "    </tr>\n",
       "    <tr>\n",
       "      <th>4</th>\n",
       "      <td>ARG</td>\n",
       "      <td>583733.6568</td>\n",
       "    </tr>\n",
       "    <tr>\n",
       "      <th>5</th>\n",
       "      <td>BEL</td>\n",
       "      <td>129448.5476</td>\n",
       "    </tr>\n",
       "    <tr>\n",
       "      <th>6</th>\n",
       "      <td>BGR</td>\n",
       "      <td>52554.8907</td>\n",
       "    </tr>\n",
       "    <tr>\n",
       "      <th>7</th>\n",
       "      <td>BLZ</td>\n",
       "      <td>17434.4315</td>\n",
       "    </tr>\n",
       "    <tr>\n",
       "      <th>8</th>\n",
       "      <td>BMU</td>\n",
       "      <td>486.3601</td>\n",
       "    </tr>\n",
       "    <tr>\n",
       "      <th>9</th>\n",
       "      <td>BRA</td>\n",
       "      <td>354690.7637</td>\n",
       "    </tr>\n",
       "    <tr>\n",
       "      <th>10</th>\n",
       "      <td>CAN</td>\n",
       "      <td>414781.0289</td>\n",
       "    </tr>\n",
       "    <tr>\n",
       "      <th>11</th>\n",
       "      <td>CHE</td>\n",
       "      <td>103.2238</td>\n",
       "    </tr>\n",
       "    <tr>\n",
       "      <th>12</th>\n",
       "      <td>CHL</td>\n",
       "      <td>2870.8163</td>\n",
       "    </tr>\n",
       "    <tr>\n",
       "      <th>13</th>\n",
       "      <td>CHN</td>\n",
       "      <td>472271.9776</td>\n",
       "    </tr>\n",
       "    <tr>\n",
       "      <th>14</th>\n",
       "      <td>CIV</td>\n",
       "      <td>11444.8919</td>\n",
       "    </tr>\n",
       "  </tbody>\n",
       "</table>\n",
       "</div>"
      ],
      "text/plain": [
       "   flag_gfw  fishing_hours\n",
       "0       AFG       307.1618\n",
       "1       AGO     63906.7011\n",
       "2       ALB     29576.1554\n",
       "3       ARE        97.1486\n",
       "4       ARG    583733.6568\n",
       "5       BEL    129448.5476\n",
       "6       BGR     52554.8907\n",
       "7       BLZ     17434.4315\n",
       "8       BMU       486.3601\n",
       "9       BRA    354690.7637\n",
       "10      CAN    414781.0289\n",
       "11      CHE       103.2238\n",
       "12      CHL      2870.8163\n",
       "13      CHN    472271.9776\n",
       "14      CIV     11444.8919"
      ]
     },
     "execution_count": 85,
     "metadata": {},
     "output_type": "execute_result"
    }
   ],
   "source": [
    "ICCAT_flagSUM.head(15)"
   ]
  },
  {
   "cell_type": "code",
   "execution_count": 86,
   "id": "c3c81244-6bfe-4bbc-b5b3-5308968f5736",
   "metadata": {},
   "outputs": [],
   "source": [
    "del ICCATEffort"
   ]
  },
  {
   "cell_type": "markdown",
   "id": "aead70a4-b3c9-4b8e-bd46-6b18b36147d8",
   "metadata": {},
   "source": [
    "##### calculate area of ICCAT change to appropriate polar equal area projection"
   ]
  },
  {
   "cell_type": "code",
   "execution_count": 87,
   "id": "4095b659-f04c-4142-a355-5251d82e13e3",
   "metadata": {},
   "outputs": [
    {
     "data": {
      "text/plain": [
       "<Derived Projected CRS: ESRI:54012>\n",
       "Name: World_Eckert_IV\n",
       "Axis Info [cartesian]:\n",
       "- E[east]: Easting (metre)\n",
       "- N[north]: Northing (metre)\n",
       "Area of Use:\n",
       "- name: World.\n",
       "- bounds: (-180.0, -90.0, 180.0, 90.0)\n",
       "Coordinate Operation:\n",
       "- name: World_Eckert_IV\n",
       "- method: Eckert IV\n",
       "Datum: World Geodetic System 1984\n",
       "- Ellipsoid: WGS 84\n",
       "- Prime Meridian: Greenwich"
      ]
     },
     "execution_count": 87,
     "metadata": {},
     "output_type": "execute_result"
    }
   ],
   "source": [
    "ICCAT = ICCAT.to_crs(\"ESRI:54012\")\n",
    "ICCAT.crs"
   ]
  },
  {
   "cell_type": "code",
   "execution_count": 88,
   "id": "9690103c-6def-424b-917d-196134fd131e",
   "metadata": {},
   "outputs": [
    {
     "data": {
      "text/html": [
       "<div>\n",
       "<style scoped>\n",
       "    .dataframe tbody tr th:only-of-type {\n",
       "        vertical-align: middle;\n",
       "    }\n",
       "\n",
       "    .dataframe tbody tr th {\n",
       "        vertical-align: top;\n",
       "    }\n",
       "\n",
       "    .dataframe thead th {\n",
       "        text-align: right;\n",
       "    }\n",
       "</style>\n",
       "<table border=\"1\" class=\"dataframe\">\n",
       "  <thead>\n",
       "    <tr style=\"text-align: right;\">\n",
       "      <th></th>\n",
       "      <th>OBJECTID</th>\n",
       "      <th>AREATYPE</th>\n",
       "      <th>DEFRULE</th>\n",
       "      <th>DISPORDER</th>\n",
       "      <th>FILL</th>\n",
       "      <th>STROKE</th>\n",
       "      <th>RFB</th>\n",
       "      <th>SHAPE_LENG</th>\n",
       "      <th>SHAPE_AREA</th>\n",
       "      <th>ANCFEATURE</th>\n",
       "      <th>Perform</th>\n",
       "      <th>Collapse</th>\n",
       "      <th>Collapse2</th>\n",
       "      <th>geometry</th>\n",
       "      <th>FishingEffort_2019</th>\n",
       "      <th>area</th>\n",
       "    </tr>\n",
       "  </thead>\n",
       "  <tbody>\n",
       "    <tr>\n",
       "      <th>0</th>\n",
       "      <td>3.0</td>\n",
       "      <td>1.0</td>\n",
       "      <td>5.0</td>\n",
       "      <td>1.0</td>\n",
       "      <td>1.0</td>\n",
       "      <td>3.0</td>\n",
       "      <td>ICCAT</td>\n",
       "      <td>3076.047265</td>\n",
       "      <td>9258.257489</td>\n",
       "      <td>None</td>\n",
       "      <td>52.0</td>\n",
       "      <td>82.05</td>\n",
       "      <td>49.05</td>\n",
       "      <td>MULTIPOLYGON (((846747.489 6495512.240, 844183...</td>\n",
       "      <td>1.801238e+07</td>\n",
       "      <td>8.895806e+07</td>\n",
       "    </tr>\n",
       "  </tbody>\n",
       "</table>\n",
       "</div>"
      ],
      "text/plain": [
       "   OBJECTID  AREATYPE  DEFRULE  DISPORDER  FILL  STROKE    RFB   SHAPE_LENG  \\\n",
       "0       3.0       1.0      5.0        1.0   1.0     3.0  ICCAT  3076.047265   \n",
       "\n",
       "    SHAPE_AREA ANCFEATURE  Perform  Collapse  Collapse2  \\\n",
       "0  9258.257489       None     52.0     82.05      49.05   \n",
       "\n",
       "                                            geometry  FishingEffort_2019  \\\n",
       "0  MULTIPOLYGON (((846747.489 6495512.240, 844183...        1.801238e+07   \n",
       "\n",
       "           area  \n",
       "0  8.895806e+07  "
      ]
     },
     "execution_count": 88,
     "metadata": {},
     "output_type": "execute_result"
    }
   ],
   "source": [
    "ICCAT[\"area\"] = ICCAT['geometry'].area/ 10**6\n",
    "ICCAT.head(2)"
   ]
  },
  {
   "cell_type": "code",
   "execution_count": 89,
   "id": "e93be600-95dc-471c-915d-1e034987de1d",
   "metadata": {},
   "outputs": [
    {
     "name": "stderr",
     "output_type": "stream",
     "text": [
      "/tmp/ipykernel_462/2536163750.py:1: UserWarning: Column names longer than 10 characters will be truncated when saved to ESRI Shapefile.\n",
      "  ICCAT.to_file('RFB_ICCAT_New.shp')\n"
     ]
    }
   ],
   "source": [
    "ICCAT.to_file('RFB_ICCAT_New.shp')"
   ]
  },
  {
   "cell_type": "markdown",
   "id": "d25c24a3-5834-40eb-abad-e4a505d2ae9c",
   "metadata": {
    "tags": []
   },
   "source": [
    "### IOTC"
   ]
  },
  {
   "cell_type": "code",
   "execution_count": 90,
   "id": "5780ff9b-8984-43b3-a5aa-a30b770a12b3",
   "metadata": {
    "tags": []
   },
   "outputs": [],
   "source": [
    "IOTC = IOTC.to_crs('EPSG:4326')"
   ]
  },
  {
   "cell_type": "code",
   "execution_count": 91,
   "id": "ef9a8cd6-b672-4d21-8c67-fdd76b756227",
   "metadata": {},
   "outputs": [
    {
     "data": {
      "text/html": [
       "<div>\n",
       "<style scoped>\n",
       "    .dataframe tbody tr th:only-of-type {\n",
       "        vertical-align: middle;\n",
       "    }\n",
       "\n",
       "    .dataframe tbody tr th {\n",
       "        vertical-align: top;\n",
       "    }\n",
       "\n",
       "    .dataframe thead th {\n",
       "        text-align: right;\n",
       "    }\n",
       "</style>\n",
       "<table border=\"1\" class=\"dataframe\">\n",
       "  <thead>\n",
       "    <tr style=\"text-align: right;\">\n",
       "      <th></th>\n",
       "      <th>OBJECTID</th>\n",
       "      <th>AREATYPE</th>\n",
       "      <th>DEFRULE</th>\n",
       "      <th>DISPORDER</th>\n",
       "      <th>FILL</th>\n",
       "      <th>STROKE</th>\n",
       "      <th>RFB</th>\n",
       "      <th>SHAPE_LENG</th>\n",
       "      <th>SHAPE_AREA</th>\n",
       "      <th>ANCFEATURE</th>\n",
       "      <th>Perform</th>\n",
       "      <th>Collapse</th>\n",
       "      <th>Collapse2</th>\n",
       "      <th>geometry</th>\n",
       "    </tr>\n",
       "  </thead>\n",
       "  <tbody>\n",
       "    <tr>\n",
       "      <th>0</th>\n",
       "      <td>81.0</td>\n",
       "      <td>1.0</td>\n",
       "      <td>2.0</td>\n",
       "      <td>1.0</td>\n",
       "      <td>1.0</td>\n",
       "      <td>1.0</td>\n",
       "      <td>IOTC</td>\n",
       "      <td>933.887727</td>\n",
       "      <td>6092.753554</td>\n",
       "      <td>None</td>\n",
       "      <td>47.0</td>\n",
       "      <td>84.62</td>\n",
       "      <td>40.91</td>\n",
       "      <td>POLYGON ((49.26350 30.42910, 49.22250 30.37330...</td>\n",
       "    </tr>\n",
       "  </tbody>\n",
       "</table>\n",
       "</div>"
      ],
      "text/plain": [
       "   OBJECTID  AREATYPE  DEFRULE  DISPORDER  FILL  STROKE   RFB  SHAPE_LENG  \\\n",
       "0      81.0       1.0      2.0        1.0   1.0     1.0  IOTC  933.887727   \n",
       "\n",
       "    SHAPE_AREA ANCFEATURE  Perform  Collapse  Collapse2  \\\n",
       "0  6092.753554       None     47.0     84.62      40.91   \n",
       "\n",
       "                                            geometry  \n",
       "0  POLYGON ((49.26350 30.42910, 49.22250 30.37330...  "
      ]
     },
     "execution_count": 91,
     "metadata": {},
     "output_type": "execute_result"
    }
   ],
   "source": [
    "IOTC.head(10)"
   ]
  },
  {
   "cell_type": "code",
   "execution_count": 92,
   "id": "856793f2-94cb-4708-b65d-d2464a0f4232",
   "metadata": {},
   "outputs": [],
   "source": [
    "IOTCEffort = GFW2019Points.clip(IOTC)"
   ]
  },
  {
   "cell_type": "code",
   "execution_count": 93,
   "id": "bdef8efc-b892-49c8-893e-c46a5799e434",
   "metadata": {},
   "outputs": [
    {
     "data": {
      "text/plain": [
       "2666530"
      ]
     },
     "execution_count": 93,
     "metadata": {},
     "output_type": "execute_result"
    }
   ],
   "source": [
    "len(IOTCEffort)"
   ]
  },
  {
   "cell_type": "code",
   "execution_count": 94,
   "id": "6776dc49-49fa-4c49-8c75-d5e2c7e13ecb",
   "metadata": {},
   "outputs": [
    {
     "data": {
      "text/html": [
       "<div>\n",
       "<style scoped>\n",
       "    .dataframe tbody tr th:only-of-type {\n",
       "        vertical-align: middle;\n",
       "    }\n",
       "\n",
       "    .dataframe tbody tr th {\n",
       "        vertical-align: top;\n",
       "    }\n",
       "\n",
       "    .dataframe thead th {\n",
       "        text-align: right;\n",
       "    }\n",
       "</style>\n",
       "<table border=\"1\" class=\"dataframe\">\n",
       "  <thead>\n",
       "    <tr style=\"text-align: right;\">\n",
       "      <th></th>\n",
       "      <th>date</th>\n",
       "      <th>mmsi</th>\n",
       "      <th>hours</th>\n",
       "      <th>fishing_hours</th>\n",
       "      <th>geometry</th>\n",
       "    </tr>\n",
       "  </thead>\n",
       "  <tbody>\n",
       "    <tr>\n",
       "      <th>32176021</th>\n",
       "      <td>2019-08-24</td>\n",
       "      <td>503748900</td>\n",
       "      <td>0.1580</td>\n",
       "      <td>0.0</td>\n",
       "      <td>POINT (149.70000 -37.80000)</td>\n",
       "    </tr>\n",
       "    <tr>\n",
       "      <th>18146936</th>\n",
       "      <td>2019-05-09</td>\n",
       "      <td>503316000</td>\n",
       "      <td>0.8502</td>\n",
       "      <td>0.0</td>\n",
       "      <td>POINT (149.70000 -37.80000)</td>\n",
       "    </tr>\n",
       "  </tbody>\n",
       "</table>\n",
       "</div>"
      ],
      "text/plain": [
       "                date       mmsi   hours  fishing_hours  \\\n",
       "32176021  2019-08-24  503748900  0.1580            0.0   \n",
       "18146936  2019-05-09  503316000  0.8502            0.0   \n",
       "\n",
       "                             geometry  \n",
       "32176021  POINT (149.70000 -37.80000)  \n",
       "18146936  POINT (149.70000 -37.80000)  "
      ]
     },
     "execution_count": 94,
     "metadata": {},
     "output_type": "execute_result"
    }
   ],
   "source": [
    "IOTCEffort.head(2)"
   ]
  },
  {
   "cell_type": "code",
   "execution_count": 95,
   "id": "e964e3be-f057-4f44-a980-1548be599181",
   "metadata": {},
   "outputs": [],
   "source": [
    "IOTCEffort = pd.merge(IOTCEffort, flag_gear_df[['mmsi','flag_gfw','vessel_class_gfw']], on='mmsi', how='left')"
   ]
  },
  {
   "cell_type": "code",
   "execution_count": 96,
   "id": "e3272dea-5d1b-4732-b2c3-81d7bc4e76b5",
   "metadata": {},
   "outputs": [
    {
     "name": "stdout",
     "output_type": "stream",
     "text": [
      "3137980.7563999994\n"
     ]
    }
   ],
   "source": [
    "IOTCFishSUM = IOTCEffort['fishing_hours'].sum()\n",
    "print(IOTCFishSUM)"
   ]
  },
  {
   "cell_type": "markdown",
   "id": "89da95e8-57ed-4e42-8e2f-88b4a552a530",
   "metadata": {},
   "source": [
    "#### add the sum value to the RFMO polygon"
   ]
  },
  {
   "cell_type": "code",
   "execution_count": 97,
   "id": "a4be6308-6df6-47a4-a27a-f7fac39694b0",
   "metadata": {},
   "outputs": [],
   "source": [
    "IOTC['FishingEffort_2019'] = IOTCFishSUM"
   ]
  },
  {
   "cell_type": "code",
   "execution_count": 98,
   "id": "21cb9375-650e-49a5-86bf-e45cb0d3a06c",
   "metadata": {},
   "outputs": [
    {
     "data": {
      "text/html": [
       "<div>\n",
       "<style scoped>\n",
       "    .dataframe tbody tr th:only-of-type {\n",
       "        vertical-align: middle;\n",
       "    }\n",
       "\n",
       "    .dataframe tbody tr th {\n",
       "        vertical-align: top;\n",
       "    }\n",
       "\n",
       "    .dataframe thead th {\n",
       "        text-align: right;\n",
       "    }\n",
       "</style>\n",
       "<table border=\"1\" class=\"dataframe\">\n",
       "  <thead>\n",
       "    <tr style=\"text-align: right;\">\n",
       "      <th></th>\n",
       "      <th>OBJECTID</th>\n",
       "      <th>AREATYPE</th>\n",
       "      <th>DEFRULE</th>\n",
       "      <th>DISPORDER</th>\n",
       "      <th>FILL</th>\n",
       "      <th>STROKE</th>\n",
       "      <th>RFB</th>\n",
       "      <th>SHAPE_LENG</th>\n",
       "      <th>SHAPE_AREA</th>\n",
       "      <th>ANCFEATURE</th>\n",
       "      <th>Perform</th>\n",
       "      <th>Collapse</th>\n",
       "      <th>Collapse2</th>\n",
       "      <th>geometry</th>\n",
       "      <th>FishingEffort_2019</th>\n",
       "    </tr>\n",
       "  </thead>\n",
       "  <tbody>\n",
       "    <tr>\n",
       "      <th>0</th>\n",
       "      <td>81.0</td>\n",
       "      <td>1.0</td>\n",
       "      <td>2.0</td>\n",
       "      <td>1.0</td>\n",
       "      <td>1.0</td>\n",
       "      <td>1.0</td>\n",
       "      <td>IOTC</td>\n",
       "      <td>933.887727</td>\n",
       "      <td>6092.753554</td>\n",
       "      <td>None</td>\n",
       "      <td>47.0</td>\n",
       "      <td>84.62</td>\n",
       "      <td>40.91</td>\n",
       "      <td>POLYGON ((49.26350 30.42910, 49.22250 30.37330...</td>\n",
       "      <td>3.137981e+06</td>\n",
       "    </tr>\n",
       "  </tbody>\n",
       "</table>\n",
       "</div>"
      ],
      "text/plain": [
       "   OBJECTID  AREATYPE  DEFRULE  DISPORDER  FILL  STROKE   RFB  SHAPE_LENG  \\\n",
       "0      81.0       1.0      2.0        1.0   1.0     1.0  IOTC  933.887727   \n",
       "\n",
       "    SHAPE_AREA ANCFEATURE  Perform  Collapse  Collapse2  \\\n",
       "0  6092.753554       None     47.0     84.62      40.91   \n",
       "\n",
       "                                            geometry  FishingEffort_2019  \n",
       "0  POLYGON ((49.26350 30.42910, 49.22250 30.37330...        3.137981e+06  "
      ]
     },
     "execution_count": 98,
     "metadata": {},
     "output_type": "execute_result"
    }
   ],
   "source": [
    "IOTC.head(2)"
   ]
  },
  {
   "cell_type": "markdown",
   "id": "5f226144-39fb-4a31-92bb-5cbbc2b11e5f",
   "metadata": {},
   "source": [
    "#### group by flag state"
   ]
  },
  {
   "cell_type": "code",
   "execution_count": 99,
   "id": "45ed4c7c-e291-49b8-b189-271c86e23364",
   "metadata": {},
   "outputs": [],
   "source": [
    "IOTC_flagSUM = IOTCEffort.groupby(['flag_gfw'])['fishing_hours'].sum().reset_index()"
   ]
  },
  {
   "cell_type": "code",
   "execution_count": 100,
   "id": "5d31ff84-06b0-453d-b982-1b9ec81c077d",
   "metadata": {},
   "outputs": [
    {
     "data": {
      "text/html": [
       "<div>\n",
       "<style scoped>\n",
       "    .dataframe tbody tr th:only-of-type {\n",
       "        vertical-align: middle;\n",
       "    }\n",
       "\n",
       "    .dataframe tbody tr th {\n",
       "        vertical-align: top;\n",
       "    }\n",
       "\n",
       "    .dataframe thead th {\n",
       "        text-align: right;\n",
       "    }\n",
       "</style>\n",
       "<table border=\"1\" class=\"dataframe\">\n",
       "  <thead>\n",
       "    <tr style=\"text-align: right;\">\n",
       "      <th></th>\n",
       "      <th>flag_gfw</th>\n",
       "      <th>fishing_hours</th>\n",
       "    </tr>\n",
       "  </thead>\n",
       "  <tbody>\n",
       "    <tr>\n",
       "      <th>0</th>\n",
       "      <td>ARG</td>\n",
       "      <td>12.6424</td>\n",
       "    </tr>\n",
       "    <tr>\n",
       "      <th>1</th>\n",
       "      <td>AUS</td>\n",
       "      <td>86226.9238</td>\n",
       "    </tr>\n",
       "    <tr>\n",
       "      <th>2</th>\n",
       "      <td>AZE</td>\n",
       "      <td>70.8080</td>\n",
       "    </tr>\n",
       "    <tr>\n",
       "      <th>3</th>\n",
       "      <td>BHR</td>\n",
       "      <td>25171.6117</td>\n",
       "    </tr>\n",
       "    <tr>\n",
       "      <th>4</th>\n",
       "      <td>BLZ</td>\n",
       "      <td>209.5523</td>\n",
       "    </tr>\n",
       "    <tr>\n",
       "      <th>5</th>\n",
       "      <td>CHN</td>\n",
       "      <td>310160.3254</td>\n",
       "    </tr>\n",
       "    <tr>\n",
       "      <th>6</th>\n",
       "      <td>CIV</td>\n",
       "      <td>61.0439</td>\n",
       "    </tr>\n",
       "    <tr>\n",
       "      <th>7</th>\n",
       "      <td>COK</td>\n",
       "      <td>1082.5996</td>\n",
       "    </tr>\n",
       "    <tr>\n",
       "      <th>8</th>\n",
       "      <td>ESP</td>\n",
       "      <td>41615.3091</td>\n",
       "    </tr>\n",
       "    <tr>\n",
       "      <th>9</th>\n",
       "      <td>FRA</td>\n",
       "      <td>54969.4864</td>\n",
       "    </tr>\n",
       "    <tr>\n",
       "      <th>10</th>\n",
       "      <td>GBR</td>\n",
       "      <td>7343.0109</td>\n",
       "    </tr>\n",
       "    <tr>\n",
       "      <th>11</th>\n",
       "      <td>GRC</td>\n",
       "      <td>993.7200</td>\n",
       "    </tr>\n",
       "    <tr>\n",
       "      <th>12</th>\n",
       "      <td>IDN</td>\n",
       "      <td>430.6848</td>\n",
       "    </tr>\n",
       "    <tr>\n",
       "      <th>13</th>\n",
       "      <td>IND</td>\n",
       "      <td>190422.7164</td>\n",
       "    </tr>\n",
       "    <tr>\n",
       "      <th>14</th>\n",
       "      <td>IRN</td>\n",
       "      <td>26507.7592</td>\n",
       "    </tr>\n",
       "  </tbody>\n",
       "</table>\n",
       "</div>"
      ],
      "text/plain": [
       "   flag_gfw  fishing_hours\n",
       "0       ARG        12.6424\n",
       "1       AUS     86226.9238\n",
       "2       AZE        70.8080\n",
       "3       BHR     25171.6117\n",
       "4       BLZ       209.5523\n",
       "5       CHN    310160.3254\n",
       "6       CIV        61.0439\n",
       "7       COK      1082.5996\n",
       "8       ESP     41615.3091\n",
       "9       FRA     54969.4864\n",
       "10      GBR      7343.0109\n",
       "11      GRC       993.7200\n",
       "12      IDN       430.6848\n",
       "13      IND    190422.7164\n",
       "14      IRN     26507.7592"
      ]
     },
     "execution_count": 100,
     "metadata": {},
     "output_type": "execute_result"
    }
   ],
   "source": [
    "IOTC_flagSUM.head(15)"
   ]
  },
  {
   "cell_type": "code",
   "execution_count": 101,
   "id": "04a70c49-15a0-4428-850d-c478e523c937",
   "metadata": {},
   "outputs": [],
   "source": [
    "del IOTCEffort"
   ]
  },
  {
   "cell_type": "markdown",
   "id": "e246ae6f-15bb-4257-8ed2-9a6115406faf",
   "metadata": {},
   "source": [
    "##### calculate area of IOTC change to appropriate polar equal area projection"
   ]
  },
  {
   "cell_type": "code",
   "execution_count": 102,
   "id": "4b2dcf7b-82f8-48f8-9366-f399e6977b32",
   "metadata": {},
   "outputs": [
    {
     "data": {
      "text/plain": [
       "<Derived Projected CRS: ESRI:54012>\n",
       "Name: World_Eckert_IV\n",
       "Axis Info [cartesian]:\n",
       "- E[east]: Easting (metre)\n",
       "- N[north]: Northing (metre)\n",
       "Area of Use:\n",
       "- name: World.\n",
       "- bounds: (-180.0, -90.0, 180.0, 90.0)\n",
       "Coordinate Operation:\n",
       "- name: World_Eckert_IV\n",
       "- method: Eckert IV\n",
       "Datum: World Geodetic System 1984\n",
       "- Ellipsoid: WGS 84\n",
       "- Prime Meridian: Greenwich"
      ]
     },
     "execution_count": 102,
     "metadata": {},
     "output_type": "execute_result"
    }
   ],
   "source": [
    "IOTC = IOTC.to_crs(\"ESRI:54012\")\n",
    "IOTC.crs"
   ]
  },
  {
   "cell_type": "code",
   "execution_count": 103,
   "id": "0d5bbfaf-eaba-4141-84c8-d7e692196dc6",
   "metadata": {},
   "outputs": [
    {
     "data": {
      "text/html": [
       "<div>\n",
       "<style scoped>\n",
       "    .dataframe tbody tr th:only-of-type {\n",
       "        vertical-align: middle;\n",
       "    }\n",
       "\n",
       "    .dataframe tbody tr th {\n",
       "        vertical-align: top;\n",
       "    }\n",
       "\n",
       "    .dataframe thead th {\n",
       "        text-align: right;\n",
       "    }\n",
       "</style>\n",
       "<table border=\"1\" class=\"dataframe\">\n",
       "  <thead>\n",
       "    <tr style=\"text-align: right;\">\n",
       "      <th></th>\n",
       "      <th>OBJECTID</th>\n",
       "      <th>AREATYPE</th>\n",
       "      <th>DEFRULE</th>\n",
       "      <th>DISPORDER</th>\n",
       "      <th>FILL</th>\n",
       "      <th>STROKE</th>\n",
       "      <th>RFB</th>\n",
       "      <th>SHAPE_LENG</th>\n",
       "      <th>SHAPE_AREA</th>\n",
       "      <th>ANCFEATURE</th>\n",
       "      <th>Perform</th>\n",
       "      <th>Collapse</th>\n",
       "      <th>Collapse2</th>\n",
       "      <th>geometry</th>\n",
       "      <th>FishingEffort_2019</th>\n",
       "      <th>area</th>\n",
       "    </tr>\n",
       "  </thead>\n",
       "  <tbody>\n",
       "    <tr>\n",
       "      <th>0</th>\n",
       "      <td>81.0</td>\n",
       "      <td>1.0</td>\n",
       "      <td>2.0</td>\n",
       "      <td>1.0</td>\n",
       "      <td>1.0</td>\n",
       "      <td>1.0</td>\n",
       "      <td>IOTC</td>\n",
       "      <td>933.887727</td>\n",
       "      <td>6092.753554</td>\n",
       "      <td>None</td>\n",
       "      <td>47.0</td>\n",
       "      <td>84.62</td>\n",
       "      <td>40.91</td>\n",
       "      <td>POLYGON ((4370910.894 3896514.433, 4368225.740...</td>\n",
       "      <td>3.137981e+06</td>\n",
       "      <td>6.468506e+07</td>\n",
       "    </tr>\n",
       "  </tbody>\n",
       "</table>\n",
       "</div>"
      ],
      "text/plain": [
       "   OBJECTID  AREATYPE  DEFRULE  DISPORDER  FILL  STROKE   RFB  SHAPE_LENG  \\\n",
       "0      81.0       1.0      2.0        1.0   1.0     1.0  IOTC  933.887727   \n",
       "\n",
       "    SHAPE_AREA ANCFEATURE  Perform  Collapse  Collapse2  \\\n",
       "0  6092.753554       None     47.0     84.62      40.91   \n",
       "\n",
       "                                            geometry  FishingEffort_2019  \\\n",
       "0  POLYGON ((4370910.894 3896514.433, 4368225.740...        3.137981e+06   \n",
       "\n",
       "           area  \n",
       "0  6.468506e+07  "
      ]
     },
     "execution_count": 103,
     "metadata": {},
     "output_type": "execute_result"
    }
   ],
   "source": [
    "IOTC[\"area\"] = IOTC['geometry'].area/ 10**6\n",
    "IOTC.head(2)"
   ]
  },
  {
   "cell_type": "code",
   "execution_count": 104,
   "id": "d28bed5b-3f2a-437f-9c6e-c1a507af813c",
   "metadata": {},
   "outputs": [
    {
     "name": "stderr",
     "output_type": "stream",
     "text": [
      "/tmp/ipykernel_462/3881208817.py:1: UserWarning: Column names longer than 10 characters will be truncated when saved to ESRI Shapefile.\n",
      "  IOTC.to_file('RFB_IOTC_New.shp')\n"
     ]
    }
   ],
   "source": [
    "IOTC.to_file('RFB_IOTC_New.shp')"
   ]
  },
  {
   "cell_type": "markdown",
   "id": "311c3acf-8d32-45a4-a9bd-c03b91af6800",
   "metadata": {
    "tags": []
   },
   "source": [
    "### IPHC"
   ]
  },
  {
   "cell_type": "code",
   "execution_count": 105,
   "id": "a14dd72a-942e-46ad-afc1-4202c01de057",
   "metadata": {
    "tags": []
   },
   "outputs": [],
   "source": [
    "IPHC = IPHC.to_crs('EPSG:4326')"
   ]
  },
  {
   "cell_type": "code",
   "execution_count": 106,
   "id": "5d5a83d2-cf3f-4b51-b2ca-8bf0f5f51ea5",
   "metadata": {},
   "outputs": [
    {
     "data": {
      "text/html": [
       "<div>\n",
       "<style scoped>\n",
       "    .dataframe tbody tr th:only-of-type {\n",
       "        vertical-align: middle;\n",
       "    }\n",
       "\n",
       "    .dataframe tbody tr th {\n",
       "        vertical-align: top;\n",
       "    }\n",
       "\n",
       "    .dataframe thead th {\n",
       "        text-align: right;\n",
       "    }\n",
       "</style>\n",
       "<table border=\"1\" class=\"dataframe\">\n",
       "  <thead>\n",
       "    <tr style=\"text-align: right;\">\n",
       "      <th></th>\n",
       "      <th>OBJECTID</th>\n",
       "      <th>AREATYPE</th>\n",
       "      <th>DEFRULE</th>\n",
       "      <th>DISPORDER</th>\n",
       "      <th>FILL</th>\n",
       "      <th>STROKE</th>\n",
       "      <th>RFB</th>\n",
       "      <th>SHAPE_LENG</th>\n",
       "      <th>SHAPE_AREA</th>\n",
       "      <th>ANCFEATURE</th>\n",
       "      <th>Perform</th>\n",
       "      <th>Collapse</th>\n",
       "      <th>Collapse2</th>\n",
       "      <th>geometry</th>\n",
       "    </tr>\n",
       "  </thead>\n",
       "  <tbody>\n",
       "    <tr>\n",
       "      <th>0</th>\n",
       "      <td>83.0</td>\n",
       "      <td>1.0</td>\n",
       "      <td>4.0</td>\n",
       "      <td>1.0</td>\n",
       "      <td>3.0</td>\n",
       "      <td>3.0</td>\n",
       "      <td>IPHC</td>\n",
       "      <td>616.999916</td>\n",
       "      <td>551.340764</td>\n",
       "      <td>&lt;Null&gt;</td>\n",
       "      <td>38.5</td>\n",
       "      <td>82.23</td>\n",
       "      <td>65.19</td>\n",
       "      <td>MULTIPOLYGON (((179.06630 55.35010, 179.11520 ...</td>\n",
       "    </tr>\n",
       "  </tbody>\n",
       "</table>\n",
       "</div>"
      ],
      "text/plain": [
       "   OBJECTID  AREATYPE  DEFRULE  DISPORDER  FILL  STROKE   RFB  SHAPE_LENG  \\\n",
       "0      83.0       1.0      4.0        1.0   3.0     3.0  IPHC  616.999916   \n",
       "\n",
       "   SHAPE_AREA ANCFEATURE  Perform  Collapse  Collapse2  \\\n",
       "0  551.340764     <Null>     38.5     82.23      65.19   \n",
       "\n",
       "                                            geometry  \n",
       "0  MULTIPOLYGON (((179.06630 55.35010, 179.11520 ...  "
      ]
     },
     "execution_count": 106,
     "metadata": {},
     "output_type": "execute_result"
    }
   ],
   "source": [
    "IPHC.head(10)"
   ]
  },
  {
   "cell_type": "code",
   "execution_count": 107,
   "id": "8b28e0c9-7a0d-43bd-bf0a-044c255c552c",
   "metadata": {},
   "outputs": [],
   "source": [
    "IPHCEffort = GFW2019Points.clip(IPHC)"
   ]
  },
  {
   "cell_type": "code",
   "execution_count": 108,
   "id": "a0bd6d08-76ac-465d-86e6-383eae639cf4",
   "metadata": {},
   "outputs": [
    {
     "data": {
      "text/plain": [
       "1379265"
      ]
     },
     "execution_count": 108,
     "metadata": {},
     "output_type": "execute_result"
    }
   ],
   "source": [
    "len(IPHCEffort)"
   ]
  },
  {
   "cell_type": "code",
   "execution_count": 109,
   "id": "00110bbc-0d3b-46bd-9d12-91c4695732a9",
   "metadata": {},
   "outputs": [
    {
     "data": {
      "text/html": [
       "<div>\n",
       "<style scoped>\n",
       "    .dataframe tbody tr th:only-of-type {\n",
       "        vertical-align: middle;\n",
       "    }\n",
       "\n",
       "    .dataframe tbody tr th {\n",
       "        vertical-align: top;\n",
       "    }\n",
       "\n",
       "    .dataframe thead th {\n",
       "        text-align: right;\n",
       "    }\n",
       "</style>\n",
       "<table border=\"1\" class=\"dataframe\">\n",
       "  <thead>\n",
       "    <tr style=\"text-align: right;\">\n",
       "      <th></th>\n",
       "      <th>date</th>\n",
       "      <th>mmsi</th>\n",
       "      <th>hours</th>\n",
       "      <th>fishing_hours</th>\n",
       "      <th>geometry</th>\n",
       "    </tr>\n",
       "  </thead>\n",
       "  <tbody>\n",
       "    <tr>\n",
       "      <th>49375164</th>\n",
       "      <td>2019-11-28</td>\n",
       "      <td>367347000</td>\n",
       "      <td>1.2083</td>\n",
       "      <td>0.0</td>\n",
       "      <td>POINT (-128.40000 40.50000)</td>\n",
       "    </tr>\n",
       "    <tr>\n",
       "      <th>49375163</th>\n",
       "      <td>2019-11-28</td>\n",
       "      <td>367324020</td>\n",
       "      <td>0.6174</td>\n",
       "      <td>0.0</td>\n",
       "      <td>POINT (-128.70000 40.50000)</td>\n",
       "    </tr>\n",
       "  </tbody>\n",
       "</table>\n",
       "</div>"
      ],
      "text/plain": [
       "                date       mmsi   hours  fishing_hours  \\\n",
       "49375164  2019-11-28  367347000  1.2083            0.0   \n",
       "49375163  2019-11-28  367324020  0.6174            0.0   \n",
       "\n",
       "                             geometry  \n",
       "49375164  POINT (-128.40000 40.50000)  \n",
       "49375163  POINT (-128.70000 40.50000)  "
      ]
     },
     "execution_count": 109,
     "metadata": {},
     "output_type": "execute_result"
    }
   ],
   "source": [
    "IPHCEffort.head(2)"
   ]
  },
  {
   "cell_type": "code",
   "execution_count": 110,
   "id": "f3fa91c0-bf0f-401d-9b5c-5b92083fcd42",
   "metadata": {},
   "outputs": [],
   "source": [
    "IPHCEffort = pd.merge(IPHCEffort, flag_gear_df[['mmsi','flag_gfw','vessel_class_gfw']], on='mmsi', how='left')"
   ]
  },
  {
   "cell_type": "code",
   "execution_count": 111,
   "id": "94e50db9-14ce-420a-8dec-66bb1cb462ea",
   "metadata": {},
   "outputs": [
    {
     "name": "stdout",
     "output_type": "stream",
     "text": [
      "645108.8083999999\n"
     ]
    }
   ],
   "source": [
    "IPHCFishSUM = IPHCEffort['fishing_hours'].sum()\n",
    "print(IPHCFishSUM)"
   ]
  },
  {
   "cell_type": "markdown",
   "id": "8bb95654-7778-47a8-8faf-7a0d7c503198",
   "metadata": {},
   "source": [
    "#### add the sum value to the RFMO polygon"
   ]
  },
  {
   "cell_type": "code",
   "execution_count": 112,
   "id": "9599ba8b-bfcf-435b-8b45-b9033870eb98",
   "metadata": {},
   "outputs": [],
   "source": [
    "IPHC['FishingEffort_2019'] = IPHCFishSUM"
   ]
  },
  {
   "cell_type": "code",
   "execution_count": 113,
   "id": "d45e65c8-eea9-438d-95c7-c2b4ed069dfc",
   "metadata": {},
   "outputs": [
    {
     "data": {
      "text/html": [
       "<div>\n",
       "<style scoped>\n",
       "    .dataframe tbody tr th:only-of-type {\n",
       "        vertical-align: middle;\n",
       "    }\n",
       "\n",
       "    .dataframe tbody tr th {\n",
       "        vertical-align: top;\n",
       "    }\n",
       "\n",
       "    .dataframe thead th {\n",
       "        text-align: right;\n",
       "    }\n",
       "</style>\n",
       "<table border=\"1\" class=\"dataframe\">\n",
       "  <thead>\n",
       "    <tr style=\"text-align: right;\">\n",
       "      <th></th>\n",
       "      <th>OBJECTID</th>\n",
       "      <th>AREATYPE</th>\n",
       "      <th>DEFRULE</th>\n",
       "      <th>DISPORDER</th>\n",
       "      <th>FILL</th>\n",
       "      <th>STROKE</th>\n",
       "      <th>RFB</th>\n",
       "      <th>SHAPE_LENG</th>\n",
       "      <th>SHAPE_AREA</th>\n",
       "      <th>ANCFEATURE</th>\n",
       "      <th>Perform</th>\n",
       "      <th>Collapse</th>\n",
       "      <th>Collapse2</th>\n",
       "      <th>geometry</th>\n",
       "      <th>FishingEffort_2019</th>\n",
       "    </tr>\n",
       "  </thead>\n",
       "  <tbody>\n",
       "    <tr>\n",
       "      <th>0</th>\n",
       "      <td>83.0</td>\n",
       "      <td>1.0</td>\n",
       "      <td>4.0</td>\n",
       "      <td>1.0</td>\n",
       "      <td>3.0</td>\n",
       "      <td>3.0</td>\n",
       "      <td>IPHC</td>\n",
       "      <td>616.999916</td>\n",
       "      <td>551.340764</td>\n",
       "      <td>&lt;Null&gt;</td>\n",
       "      <td>38.5</td>\n",
       "      <td>82.23</td>\n",
       "      <td>65.19</td>\n",
       "      <td>MULTIPOLYGON (((179.06630 55.35010, 179.11520 ...</td>\n",
       "      <td>645108.8084</td>\n",
       "    </tr>\n",
       "  </tbody>\n",
       "</table>\n",
       "</div>"
      ],
      "text/plain": [
       "   OBJECTID  AREATYPE  DEFRULE  DISPORDER  FILL  STROKE   RFB  SHAPE_LENG  \\\n",
       "0      83.0       1.0      4.0        1.0   3.0     3.0  IPHC  616.999916   \n",
       "\n",
       "   SHAPE_AREA ANCFEATURE  Perform  Collapse  Collapse2  \\\n",
       "0  551.340764     <Null>     38.5     82.23      65.19   \n",
       "\n",
       "                                            geometry  FishingEffort_2019  \n",
       "0  MULTIPOLYGON (((179.06630 55.35010, 179.11520 ...         645108.8084  "
      ]
     },
     "execution_count": 113,
     "metadata": {},
     "output_type": "execute_result"
    }
   ],
   "source": [
    "IPHC.head(2)"
   ]
  },
  {
   "cell_type": "markdown",
   "id": "48bb2861-540e-48c7-93b8-97d0673b1138",
   "metadata": {},
   "source": [
    "#### group by flag state"
   ]
  },
  {
   "cell_type": "code",
   "execution_count": 114,
   "id": "ee57386b-9a0b-45d0-96fa-039dadb9210e",
   "metadata": {},
   "outputs": [],
   "source": [
    "IPHC_flagSUM = IPHCEffort.groupby(['flag_gfw'])['fishing_hours'].sum().reset_index()"
   ]
  },
  {
   "cell_type": "code",
   "execution_count": 115,
   "id": "2d34eb26-9e6e-48ce-a749-caa1570740dc",
   "metadata": {},
   "outputs": [
    {
     "data": {
      "text/html": [
       "<div>\n",
       "<style scoped>\n",
       "    .dataframe tbody tr th:only-of-type {\n",
       "        vertical-align: middle;\n",
       "    }\n",
       "\n",
       "    .dataframe tbody tr th {\n",
       "        vertical-align: top;\n",
       "    }\n",
       "\n",
       "    .dataframe thead th {\n",
       "        text-align: right;\n",
       "    }\n",
       "</style>\n",
       "<table border=\"1\" class=\"dataframe\">\n",
       "  <thead>\n",
       "    <tr style=\"text-align: right;\">\n",
       "      <th></th>\n",
       "      <th>flag_gfw</th>\n",
       "      <th>fishing_hours</th>\n",
       "    </tr>\n",
       "  </thead>\n",
       "  <tbody>\n",
       "    <tr>\n",
       "      <th>0</th>\n",
       "      <td>CAN</td>\n",
       "      <td>94529.9942</td>\n",
       "    </tr>\n",
       "    <tr>\n",
       "      <th>1</th>\n",
       "      <td>CHN</td>\n",
       "      <td>644.7310</td>\n",
       "    </tr>\n",
       "    <tr>\n",
       "      <th>2</th>\n",
       "      <td>CYP</td>\n",
       "      <td>34.7744</td>\n",
       "    </tr>\n",
       "    <tr>\n",
       "      <th>3</th>\n",
       "      <td>KOR</td>\n",
       "      <td>312.4084</td>\n",
       "    </tr>\n",
       "    <tr>\n",
       "      <th>4</th>\n",
       "      <td>RUS</td>\n",
       "      <td>2364.8022</td>\n",
       "    </tr>\n",
       "    <tr>\n",
       "      <th>5</th>\n",
       "      <td>USA</td>\n",
       "      <td>547124.2276</td>\n",
       "    </tr>\n",
       "  </tbody>\n",
       "</table>\n",
       "</div>"
      ],
      "text/plain": [
       "  flag_gfw  fishing_hours\n",
       "0      CAN     94529.9942\n",
       "1      CHN       644.7310\n",
       "2      CYP        34.7744\n",
       "3      KOR       312.4084\n",
       "4      RUS      2364.8022\n",
       "5      USA    547124.2276"
      ]
     },
     "execution_count": 115,
     "metadata": {},
     "output_type": "execute_result"
    }
   ],
   "source": [
    "IPHC_flagSUM.head(15)"
   ]
  },
  {
   "cell_type": "code",
   "execution_count": 116,
   "id": "79e21b92-f02a-4a66-8217-ed44c97a960e",
   "metadata": {},
   "outputs": [],
   "source": [
    "del IPHCEffort"
   ]
  },
  {
   "cell_type": "markdown",
   "id": "7f10c1de-8ddd-4d39-bc40-28e90719c1e4",
   "metadata": {},
   "source": [
    "##### calculate area of IPHC change to appropriate polar equal area projection"
   ]
  },
  {
   "cell_type": "code",
   "execution_count": 117,
   "id": "3cfab965-546a-4880-9465-11f5d2bc8274",
   "metadata": {},
   "outputs": [
    {
     "data": {
      "text/plain": [
       "<Derived Projected CRS: ESRI:54012>\n",
       "Name: World_Eckert_IV\n",
       "Axis Info [cartesian]:\n",
       "- E[east]: Easting (metre)\n",
       "- N[north]: Northing (metre)\n",
       "Area of Use:\n",
       "- name: World.\n",
       "- bounds: (-180.0, -90.0, 180.0, 90.0)\n",
       "Coordinate Operation:\n",
       "- name: World_Eckert_IV\n",
       "- method: Eckert IV\n",
       "Datum: World Geodetic System 1984\n",
       "- Ellipsoid: WGS 84\n",
       "- Prime Meridian: Greenwich"
      ]
     },
     "execution_count": 117,
     "metadata": {},
     "output_type": "execute_result"
    }
   ],
   "source": [
    "IPHC = IPHC.to_crs(\"ESRI:54012\")\n",
    "IPHC.crs"
   ]
  },
  {
   "cell_type": "code",
   "execution_count": 118,
   "id": "45c837fa-1c17-4a9c-b32d-ec75fae5c7a8",
   "metadata": {},
   "outputs": [
    {
     "data": {
      "text/html": [
       "<div>\n",
       "<style scoped>\n",
       "    .dataframe tbody tr th:only-of-type {\n",
       "        vertical-align: middle;\n",
       "    }\n",
       "\n",
       "    .dataframe tbody tr th {\n",
       "        vertical-align: top;\n",
       "    }\n",
       "\n",
       "    .dataframe thead th {\n",
       "        text-align: right;\n",
       "    }\n",
       "</style>\n",
       "<table border=\"1\" class=\"dataframe\">\n",
       "  <thead>\n",
       "    <tr style=\"text-align: right;\">\n",
       "      <th></th>\n",
       "      <th>OBJECTID</th>\n",
       "      <th>AREATYPE</th>\n",
       "      <th>DEFRULE</th>\n",
       "      <th>DISPORDER</th>\n",
       "      <th>FILL</th>\n",
       "      <th>STROKE</th>\n",
       "      <th>RFB</th>\n",
       "      <th>SHAPE_LENG</th>\n",
       "      <th>SHAPE_AREA</th>\n",
       "      <th>ANCFEATURE</th>\n",
       "      <th>Perform</th>\n",
       "      <th>Collapse</th>\n",
       "      <th>Collapse2</th>\n",
       "      <th>geometry</th>\n",
       "      <th>FishingEffort_2019</th>\n",
       "      <th>area</th>\n",
       "    </tr>\n",
       "  </thead>\n",
       "  <tbody>\n",
       "    <tr>\n",
       "      <th>0</th>\n",
       "      <td>83.0</td>\n",
       "      <td>1.0</td>\n",
       "      <td>4.0</td>\n",
       "      <td>1.0</td>\n",
       "      <td>3.0</td>\n",
       "      <td>3.0</td>\n",
       "      <td>IPHC</td>\n",
       "      <td>616.999916</td>\n",
       "      <td>551.340764</td>\n",
       "      <td>&lt;Null&gt;</td>\n",
       "      <td>38.5</td>\n",
       "      <td>82.23</td>\n",
       "      <td>65.19</td>\n",
       "      <td>MULTIPOLYGON (((13700729.308 6585516.802, 1370...</td>\n",
       "      <td>645108.8084</td>\n",
       "      <td>3.942942e+06</td>\n",
       "    </tr>\n",
       "  </tbody>\n",
       "</table>\n",
       "</div>"
      ],
      "text/plain": [
       "   OBJECTID  AREATYPE  DEFRULE  DISPORDER  FILL  STROKE   RFB  SHAPE_LENG  \\\n",
       "0      83.0       1.0      4.0        1.0   3.0     3.0  IPHC  616.999916   \n",
       "\n",
       "   SHAPE_AREA ANCFEATURE  Perform  Collapse  Collapse2  \\\n",
       "0  551.340764     <Null>     38.5     82.23      65.19   \n",
       "\n",
       "                                            geometry  FishingEffort_2019  \\\n",
       "0  MULTIPOLYGON (((13700729.308 6585516.802, 1370...         645108.8084   \n",
       "\n",
       "           area  \n",
       "0  3.942942e+06  "
      ]
     },
     "execution_count": 118,
     "metadata": {},
     "output_type": "execute_result"
    }
   ],
   "source": [
    "IPHC[\"area\"] = IPHC['geometry'].area/ 10**6\n",
    "IPHC.head(2)"
   ]
  },
  {
   "cell_type": "code",
   "execution_count": 119,
   "id": "e282dde6-9187-42cc-a9a4-2e5d845517b0",
   "metadata": {},
   "outputs": [
    {
     "name": "stderr",
     "output_type": "stream",
     "text": [
      "/tmp/ipykernel_462/2589414214.py:1: UserWarning: Column names longer than 10 characters will be truncated when saved to ESRI Shapefile.\n",
      "  IPHC.to_file('RFB_IPHC_New.shp')\n"
     ]
    }
   ],
   "source": [
    "IPHC.to_file('RFB_IPHC_New.shp')"
   ]
  },
  {
   "cell_type": "markdown",
   "id": "a2f24e42-1e38-451b-9af4-c6727429f2cc",
   "metadata": {
    "tags": []
   },
   "source": [
    "### NAFO"
   ]
  },
  {
   "cell_type": "code",
   "execution_count": 120,
   "id": "9145991a-7255-4b41-8912-fda2293ef8b4",
   "metadata": {
    "tags": []
   },
   "outputs": [],
   "source": [
    "NAFO = NAFO.to_crs('EPSG:4326')"
   ]
  },
  {
   "cell_type": "code",
   "execution_count": 121,
   "id": "7d8f26e0-5a33-466d-b237-baac2a7cc138",
   "metadata": {},
   "outputs": [
    {
     "data": {
      "text/html": [
       "<div>\n",
       "<style scoped>\n",
       "    .dataframe tbody tr th:only-of-type {\n",
       "        vertical-align: middle;\n",
       "    }\n",
       "\n",
       "    .dataframe tbody tr th {\n",
       "        vertical-align: top;\n",
       "    }\n",
       "\n",
       "    .dataframe thead th {\n",
       "        text-align: right;\n",
       "    }\n",
       "</style>\n",
       "<table border=\"1\" class=\"dataframe\">\n",
       "  <thead>\n",
       "    <tr style=\"text-align: right;\">\n",
       "      <th></th>\n",
       "      <th>OBJECTID</th>\n",
       "      <th>AREATYPE</th>\n",
       "      <th>DEFRULE</th>\n",
       "      <th>DISPORDER</th>\n",
       "      <th>FILL</th>\n",
       "      <th>STROKE</th>\n",
       "      <th>RFB</th>\n",
       "      <th>SHAPE_LENG</th>\n",
       "      <th>SHAPE_AREA</th>\n",
       "      <th>ANCFEATURE</th>\n",
       "      <th>Perform</th>\n",
       "      <th>Collapse</th>\n",
       "      <th>Collapse2</th>\n",
       "      <th>geometry</th>\n",
       "    </tr>\n",
       "  </thead>\n",
       "  <tbody>\n",
       "    <tr>\n",
       "      <th>0</th>\n",
       "      <td>18.0</td>\n",
       "      <td>1.0</td>\n",
       "      <td>5.0</td>\n",
       "      <td>1.0</td>\n",
       "      <td>1.0</td>\n",
       "      <td>3.0</td>\n",
       "      <td>NAFO</td>\n",
       "      <td>947.281272</td>\n",
       "      <td>873.836352</td>\n",
       "      <td>None</td>\n",
       "      <td>44.5</td>\n",
       "      <td>82.71</td>\n",
       "      <td>67.03</td>\n",
       "      <td>MULTIPOLYGON (((-73.03940 78.15280, -73.01330 ...</td>\n",
       "    </tr>\n",
       "  </tbody>\n",
       "</table>\n",
       "</div>"
      ],
      "text/plain": [
       "   OBJECTID  AREATYPE  DEFRULE  DISPORDER  FILL  STROKE   RFB  SHAPE_LENG  \\\n",
       "0      18.0       1.0      5.0        1.0   1.0     3.0  NAFO  947.281272   \n",
       "\n",
       "   SHAPE_AREA ANCFEATURE  Perform  Collapse  Collapse2  \\\n",
       "0  873.836352       None     44.5     82.71      67.03   \n",
       "\n",
       "                                            geometry  \n",
       "0  MULTIPOLYGON (((-73.03940 78.15280, -73.01330 ...  "
      ]
     },
     "execution_count": 121,
     "metadata": {},
     "output_type": "execute_result"
    }
   ],
   "source": [
    "NAFO.head(10)"
   ]
  },
  {
   "cell_type": "code",
   "execution_count": 122,
   "id": "c08be39e-f339-4c66-9adf-44c7b5f42f82",
   "metadata": {},
   "outputs": [],
   "source": [
    "NAFOEffort = GFW2019Points.clip(NAFO)"
   ]
  },
  {
   "cell_type": "code",
   "execution_count": 123,
   "id": "c1a935a3-111e-43c8-a096-efbbc594c890",
   "metadata": {},
   "outputs": [
    {
     "data": {
      "text/plain": [
       "919931"
      ]
     },
     "execution_count": 123,
     "metadata": {},
     "output_type": "execute_result"
    }
   ],
   "source": [
    "len(NAFOEffort)"
   ]
  },
  {
   "cell_type": "code",
   "execution_count": 124,
   "id": "2d631949-79c6-4333-9ab4-9dfae2c01192",
   "metadata": {},
   "outputs": [
    {
     "data": {
      "text/html": [
       "<div>\n",
       "<style scoped>\n",
       "    .dataframe tbody tr th:only-of-type {\n",
       "        vertical-align: middle;\n",
       "    }\n",
       "\n",
       "    .dataframe tbody tr th {\n",
       "        vertical-align: top;\n",
       "    }\n",
       "\n",
       "    .dataframe thead th {\n",
       "        text-align: right;\n",
       "    }\n",
       "</style>\n",
       "<table border=\"1\" class=\"dataframe\">\n",
       "  <thead>\n",
       "    <tr style=\"text-align: right;\">\n",
       "      <th></th>\n",
       "      <th>date</th>\n",
       "      <th>mmsi</th>\n",
       "      <th>hours</th>\n",
       "      <th>fishing_hours</th>\n",
       "      <th>geometry</th>\n",
       "    </tr>\n",
       "  </thead>\n",
       "  <tbody>\n",
       "    <tr>\n",
       "      <th>49308914</th>\n",
       "      <td>2019-11-27</td>\n",
       "      <td>367719840</td>\n",
       "      <td>8.0502</td>\n",
       "      <td>8.0502</td>\n",
       "      <td>POINT (-74.20000 36.10000)</td>\n",
       "    </tr>\n",
       "    <tr>\n",
       "      <th>41810951</th>\n",
       "      <td>2019-10-14</td>\n",
       "      <td>367654150</td>\n",
       "      <td>16.9227</td>\n",
       "      <td>16.9227</td>\n",
       "      <td>POINT (-74.20000 36.20000)</td>\n",
       "    </tr>\n",
       "  </tbody>\n",
       "</table>\n",
       "</div>"
      ],
      "text/plain": [
       "                date       mmsi    hours  fishing_hours  \\\n",
       "49308914  2019-11-27  367719840   8.0502         8.0502   \n",
       "41810951  2019-10-14  367654150  16.9227        16.9227   \n",
       "\n",
       "                            geometry  \n",
       "49308914  POINT (-74.20000 36.10000)  \n",
       "41810951  POINT (-74.20000 36.20000)  "
      ]
     },
     "execution_count": 124,
     "metadata": {},
     "output_type": "execute_result"
    }
   ],
   "source": [
    "NAFOEffort.head(2)"
   ]
  },
  {
   "cell_type": "code",
   "execution_count": 125,
   "id": "7b31ec8c-8029-4510-a851-8d4dd1080864",
   "metadata": {},
   "outputs": [],
   "source": [
    "NAFOEffort = pd.merge(NAFOEffort, flag_gear_df[['mmsi','flag_gfw','vessel_class_gfw']], on='mmsi', how='left')"
   ]
  },
  {
   "cell_type": "code",
   "execution_count": 126,
   "id": "8de6482a-2d42-4675-b957-0717a2029393",
   "metadata": {},
   "outputs": [
    {
     "name": "stdout",
     "output_type": "stream",
     "text": [
      "1032462.2302000002\n"
     ]
    }
   ],
   "source": [
    "NAFOFishSUM = NAFOEffort['fishing_hours'].sum()\n",
    "print(NAFOFishSUM)"
   ]
  },
  {
   "cell_type": "markdown",
   "id": "20e9e76c-9704-4818-bda2-7d3f0e392809",
   "metadata": {},
   "source": [
    "#### add the sum value to the RFMO polygon"
   ]
  },
  {
   "cell_type": "code",
   "execution_count": 127,
   "id": "2b1f3d40-b460-4280-b185-81177c5d582b",
   "metadata": {},
   "outputs": [],
   "source": [
    "NAFO['FishingEffort_2019'] = NAFOFishSUM"
   ]
  },
  {
   "cell_type": "code",
   "execution_count": 128,
   "id": "a64eb340-84e2-4b83-adfd-bd7060707246",
   "metadata": {},
   "outputs": [
    {
     "data": {
      "text/html": [
       "<div>\n",
       "<style scoped>\n",
       "    .dataframe tbody tr th:only-of-type {\n",
       "        vertical-align: middle;\n",
       "    }\n",
       "\n",
       "    .dataframe tbody tr th {\n",
       "        vertical-align: top;\n",
       "    }\n",
       "\n",
       "    .dataframe thead th {\n",
       "        text-align: right;\n",
       "    }\n",
       "</style>\n",
       "<table border=\"1\" class=\"dataframe\">\n",
       "  <thead>\n",
       "    <tr style=\"text-align: right;\">\n",
       "      <th></th>\n",
       "      <th>OBJECTID</th>\n",
       "      <th>AREATYPE</th>\n",
       "      <th>DEFRULE</th>\n",
       "      <th>DISPORDER</th>\n",
       "      <th>FILL</th>\n",
       "      <th>STROKE</th>\n",
       "      <th>RFB</th>\n",
       "      <th>SHAPE_LENG</th>\n",
       "      <th>SHAPE_AREA</th>\n",
       "      <th>ANCFEATURE</th>\n",
       "      <th>Perform</th>\n",
       "      <th>Collapse</th>\n",
       "      <th>Collapse2</th>\n",
       "      <th>geometry</th>\n",
       "      <th>FishingEffort_2019</th>\n",
       "    </tr>\n",
       "  </thead>\n",
       "  <tbody>\n",
       "    <tr>\n",
       "      <th>0</th>\n",
       "      <td>18.0</td>\n",
       "      <td>1.0</td>\n",
       "      <td>5.0</td>\n",
       "      <td>1.0</td>\n",
       "      <td>1.0</td>\n",
       "      <td>3.0</td>\n",
       "      <td>NAFO</td>\n",
       "      <td>947.281272</td>\n",
       "      <td>873.836352</td>\n",
       "      <td>None</td>\n",
       "      <td>44.5</td>\n",
       "      <td>82.71</td>\n",
       "      <td>67.03</td>\n",
       "      <td>MULTIPOLYGON (((-73.03940 78.15280, -73.01330 ...</td>\n",
       "      <td>1.032462e+06</td>\n",
       "    </tr>\n",
       "  </tbody>\n",
       "</table>\n",
       "</div>"
      ],
      "text/plain": [
       "   OBJECTID  AREATYPE  DEFRULE  DISPORDER  FILL  STROKE   RFB  SHAPE_LENG  \\\n",
       "0      18.0       1.0      5.0        1.0   1.0     3.0  NAFO  947.281272   \n",
       "\n",
       "   SHAPE_AREA ANCFEATURE  Perform  Collapse  Collapse2  \\\n",
       "0  873.836352       None     44.5     82.71      67.03   \n",
       "\n",
       "                                            geometry  FishingEffort_2019  \n",
       "0  MULTIPOLYGON (((-73.03940 78.15280, -73.01330 ...        1.032462e+06  "
      ]
     },
     "execution_count": 128,
     "metadata": {},
     "output_type": "execute_result"
    }
   ],
   "source": [
    "NAFO.head(2)"
   ]
  },
  {
   "cell_type": "markdown",
   "id": "4f86f040-f8a5-412e-b614-6e18730ed590",
   "metadata": {},
   "source": [
    "#### group by flag state"
   ]
  },
  {
   "cell_type": "code",
   "execution_count": 129,
   "id": "1b7e4260-98f3-4a18-9fc7-280e293a61a5",
   "metadata": {},
   "outputs": [],
   "source": [
    "NAFO_flagSUM = NAFOEffort.groupby(['flag_gfw'])['fishing_hours'].sum().reset_index()"
   ]
  },
  {
   "cell_type": "code",
   "execution_count": 130,
   "id": "6eb454f2-8914-4d09-8c36-242e1729b9f7",
   "metadata": {},
   "outputs": [
    {
     "data": {
      "text/html": [
       "<div>\n",
       "<style scoped>\n",
       "    .dataframe tbody tr th:only-of-type {\n",
       "        vertical-align: middle;\n",
       "    }\n",
       "\n",
       "    .dataframe tbody tr th {\n",
       "        vertical-align: top;\n",
       "    }\n",
       "\n",
       "    .dataframe thead th {\n",
       "        text-align: right;\n",
       "    }\n",
       "</style>\n",
       "<table border=\"1\" class=\"dataframe\">\n",
       "  <thead>\n",
       "    <tr style=\"text-align: right;\">\n",
       "      <th></th>\n",
       "      <th>flag_gfw</th>\n",
       "      <th>fishing_hours</th>\n",
       "    </tr>\n",
       "  </thead>\n",
       "  <tbody>\n",
       "    <tr>\n",
       "      <th>0</th>\n",
       "      <td>BMU</td>\n",
       "      <td>42.4751</td>\n",
       "    </tr>\n",
       "    <tr>\n",
       "      <th>1</th>\n",
       "      <td>CAN</td>\n",
       "      <td>410196.1910</td>\n",
       "    </tr>\n",
       "    <tr>\n",
       "      <th>2</th>\n",
       "      <td>CHN</td>\n",
       "      <td>0.0000</td>\n",
       "    </tr>\n",
       "    <tr>\n",
       "      <th>3</th>\n",
       "      <td>DEU</td>\n",
       "      <td>2106.8726</td>\n",
       "    </tr>\n",
       "    <tr>\n",
       "      <th>4</th>\n",
       "      <td>DNK</td>\n",
       "      <td>29590.9592</td>\n",
       "    </tr>\n",
       "    <tr>\n",
       "      <th>5</th>\n",
       "      <td>ESP</td>\n",
       "      <td>53911.3537</td>\n",
       "    </tr>\n",
       "    <tr>\n",
       "      <th>6</th>\n",
       "      <td>EST</td>\n",
       "      <td>8603.5645</td>\n",
       "    </tr>\n",
       "    <tr>\n",
       "      <th>7</th>\n",
       "      <td>FRA</td>\n",
       "      <td>1057.9057</td>\n",
       "    </tr>\n",
       "    <tr>\n",
       "      <th>8</th>\n",
       "      <td>FRO</td>\n",
       "      <td>3034.3415</td>\n",
       "    </tr>\n",
       "    <tr>\n",
       "      <th>9</th>\n",
       "      <td>GRL</td>\n",
       "      <td>85012.0769</td>\n",
       "    </tr>\n",
       "    <tr>\n",
       "      <th>10</th>\n",
       "      <td>JPN</td>\n",
       "      <td>9111.0963</td>\n",
       "    </tr>\n",
       "    <tr>\n",
       "      <th>11</th>\n",
       "      <td>MLT</td>\n",
       "      <td>42.3984</td>\n",
       "    </tr>\n",
       "    <tr>\n",
       "      <th>12</th>\n",
       "      <td>NOR</td>\n",
       "      <td>2564.0284</td>\n",
       "    </tr>\n",
       "    <tr>\n",
       "      <th>13</th>\n",
       "      <td>POL</td>\n",
       "      <td>0.0000</td>\n",
       "    </tr>\n",
       "    <tr>\n",
       "      <th>14</th>\n",
       "      <td>PRT</td>\n",
       "      <td>35648.4080</td>\n",
       "    </tr>\n",
       "  </tbody>\n",
       "</table>\n",
       "</div>"
      ],
      "text/plain": [
       "   flag_gfw  fishing_hours\n",
       "0       BMU        42.4751\n",
       "1       CAN    410196.1910\n",
       "2       CHN         0.0000\n",
       "3       DEU      2106.8726\n",
       "4       DNK     29590.9592\n",
       "5       ESP     53911.3537\n",
       "6       EST      8603.5645\n",
       "7       FRA      1057.9057\n",
       "8       FRO      3034.3415\n",
       "9       GRL     85012.0769\n",
       "10      JPN      9111.0963\n",
       "11      MLT        42.3984\n",
       "12      NOR      2564.0284\n",
       "13      POL         0.0000\n",
       "14      PRT     35648.4080"
      ]
     },
     "execution_count": 130,
     "metadata": {},
     "output_type": "execute_result"
    }
   ],
   "source": [
    "NAFO_flagSUM.head(15)"
   ]
  },
  {
   "cell_type": "code",
   "execution_count": 131,
   "id": "1f70b6de-3549-456c-94d6-bd477573fb4f",
   "metadata": {},
   "outputs": [],
   "source": [
    "del NAFOEffort"
   ]
  },
  {
   "cell_type": "markdown",
   "id": "0122bb37-0220-4021-bfab-9a89d4575611",
   "metadata": {},
   "source": [
    "##### calculate area of NAFO change to appropriate polar equal area projection"
   ]
  },
  {
   "cell_type": "code",
   "execution_count": 132,
   "id": "c3251985-250a-4777-b64a-dc2ac0fd348d",
   "metadata": {},
   "outputs": [
    {
     "data": {
      "text/plain": [
       "<Derived Projected CRS: ESRI:54012>\n",
       "Name: World_Eckert_IV\n",
       "Axis Info [cartesian]:\n",
       "- E[east]: Easting (metre)\n",
       "- N[north]: Northing (metre)\n",
       "Area of Use:\n",
       "- name: World.\n",
       "- bounds: (-180.0, -90.0, 180.0, 90.0)\n",
       "Coordinate Operation:\n",
       "- name: World_Eckert_IV\n",
       "- method: Eckert IV\n",
       "Datum: World Geodetic System 1984\n",
       "- Ellipsoid: WGS 84\n",
       "- Prime Meridian: Greenwich"
      ]
     },
     "execution_count": 132,
     "metadata": {},
     "output_type": "execute_result"
    }
   ],
   "source": [
    "NAFO = NAFO.to_crs(\"ESRI:54012\")\n",
    "NAFO.crs"
   ]
  },
  {
   "cell_type": "code",
   "execution_count": 133,
   "id": "53f078d3-9f7d-46f0-9920-3573f1611cac",
   "metadata": {},
   "outputs": [
    {
     "data": {
      "text/html": [
       "<div>\n",
       "<style scoped>\n",
       "    .dataframe tbody tr th:only-of-type {\n",
       "        vertical-align: middle;\n",
       "    }\n",
       "\n",
       "    .dataframe tbody tr th {\n",
       "        vertical-align: top;\n",
       "    }\n",
       "\n",
       "    .dataframe thead th {\n",
       "        text-align: right;\n",
       "    }\n",
       "</style>\n",
       "<table border=\"1\" class=\"dataframe\">\n",
       "  <thead>\n",
       "    <tr style=\"text-align: right;\">\n",
       "      <th></th>\n",
       "      <th>OBJECTID</th>\n",
       "      <th>AREATYPE</th>\n",
       "      <th>DEFRULE</th>\n",
       "      <th>DISPORDER</th>\n",
       "      <th>FILL</th>\n",
       "      <th>STROKE</th>\n",
       "      <th>RFB</th>\n",
       "      <th>SHAPE_LENG</th>\n",
       "      <th>SHAPE_AREA</th>\n",
       "      <th>ANCFEATURE</th>\n",
       "      <th>Perform</th>\n",
       "      <th>Collapse</th>\n",
       "      <th>Collapse2</th>\n",
       "      <th>geometry</th>\n",
       "      <th>FishingEffort_2019</th>\n",
       "      <th>area</th>\n",
       "    </tr>\n",
       "  </thead>\n",
       "  <tbody>\n",
       "    <tr>\n",
       "      <th>0</th>\n",
       "      <td>18.0</td>\n",
       "      <td>1.0</td>\n",
       "      <td>5.0</td>\n",
       "      <td>1.0</td>\n",
       "      <td>1.0</td>\n",
       "      <td>3.0</td>\n",
       "      <td>NAFO</td>\n",
       "      <td>947.281272</td>\n",
       "      <td>873.836352</td>\n",
       "      <td>None</td>\n",
       "      <td>44.5</td>\n",
       "      <td>82.71</td>\n",
       "      <td>67.03</td>\n",
       "      <td>MULTIPOLYGON (((-4301588.543 8185398.530, -430...</td>\n",
       "      <td>1.032462e+06</td>\n",
       "      <td>6.295071e+06</td>\n",
       "    </tr>\n",
       "  </tbody>\n",
       "</table>\n",
       "</div>"
      ],
      "text/plain": [
       "   OBJECTID  AREATYPE  DEFRULE  DISPORDER  FILL  STROKE   RFB  SHAPE_LENG  \\\n",
       "0      18.0       1.0      5.0        1.0   1.0     3.0  NAFO  947.281272   \n",
       "\n",
       "   SHAPE_AREA ANCFEATURE  Perform  Collapse  Collapse2  \\\n",
       "0  873.836352       None     44.5     82.71      67.03   \n",
       "\n",
       "                                            geometry  FishingEffort_2019  \\\n",
       "0  MULTIPOLYGON (((-4301588.543 8185398.530, -430...        1.032462e+06   \n",
       "\n",
       "           area  \n",
       "0  6.295071e+06  "
      ]
     },
     "execution_count": 133,
     "metadata": {},
     "output_type": "execute_result"
    }
   ],
   "source": [
    "NAFO[\"area\"] = NAFO['geometry'].area/ 10**6\n",
    "NAFO.head(2)"
   ]
  },
  {
   "cell_type": "code",
   "execution_count": 134,
   "id": "cb59317a-f8f2-4ca7-8949-982523634564",
   "metadata": {},
   "outputs": [
    {
     "name": "stderr",
     "output_type": "stream",
     "text": [
      "/tmp/ipykernel_462/3375369213.py:1: UserWarning: Column names longer than 10 characters will be truncated when saved to ESRI Shapefile.\n",
      "  NAFO.to_file('RFB_NAFO_New.shp')\n"
     ]
    }
   ],
   "source": [
    "NAFO.to_file('RFB_NAFO_New.shp')"
   ]
  },
  {
   "cell_type": "markdown",
   "id": "2680c98d-5ef4-40bd-a5ab-6d58114b0370",
   "metadata": {
    "tags": []
   },
   "source": [
    "### NASCO"
   ]
  },
  {
   "cell_type": "code",
   "execution_count": 135,
   "id": "c9fa8083-6ba6-43b5-9ace-4231d86d135d",
   "metadata": {
    "tags": []
   },
   "outputs": [],
   "source": [
    "NASCO = NASCO.to_crs('EPSG:4326')"
   ]
  },
  {
   "cell_type": "code",
   "execution_count": 136,
   "id": "875c1da1-99d5-4947-8fb3-36e37518456d",
   "metadata": {},
   "outputs": [
    {
     "data": {
      "text/html": [
       "<div>\n",
       "<style scoped>\n",
       "    .dataframe tbody tr th:only-of-type {\n",
       "        vertical-align: middle;\n",
       "    }\n",
       "\n",
       "    .dataframe tbody tr th {\n",
       "        vertical-align: top;\n",
       "    }\n",
       "\n",
       "    .dataframe thead th {\n",
       "        text-align: right;\n",
       "    }\n",
       "</style>\n",
       "<table border=\"1\" class=\"dataframe\">\n",
       "  <thead>\n",
       "    <tr style=\"text-align: right;\">\n",
       "      <th></th>\n",
       "      <th>OBJECTID</th>\n",
       "      <th>AREATYPE</th>\n",
       "      <th>DEFRULE</th>\n",
       "      <th>DISPORDER</th>\n",
       "      <th>FILL</th>\n",
       "      <th>STROKE</th>\n",
       "      <th>RFB</th>\n",
       "      <th>SHAPE_LENG</th>\n",
       "      <th>SHAPE_AREA</th>\n",
       "      <th>ANCFEATURE</th>\n",
       "      <th>Perform</th>\n",
       "      <th>Collapse</th>\n",
       "      <th>Collapse2</th>\n",
       "      <th>geometry</th>\n",
       "    </tr>\n",
       "  </thead>\n",
       "  <tbody>\n",
       "    <tr>\n",
       "      <th>0</th>\n",
       "      <td>19.0</td>\n",
       "      <td>1.0</td>\n",
       "      <td>5.0</td>\n",
       "      <td>1.0</td>\n",
       "      <td>1.0</td>\n",
       "      <td>3.0</td>\n",
       "      <td>NASCO</td>\n",
       "      <td>2759.185492</td>\n",
       "      <td>4172.004303</td>\n",
       "      <td>None</td>\n",
       "      <td>30.0</td>\n",
       "      <td>76.89</td>\n",
       "      <td>55.88</td>\n",
       "      <td>MULTIPOLYGON (((10.97940 54.38060, 10.94650 54...</td>\n",
       "    </tr>\n",
       "  </tbody>\n",
       "</table>\n",
       "</div>"
      ],
      "text/plain": [
       "   OBJECTID  AREATYPE  DEFRULE  DISPORDER  FILL  STROKE    RFB   SHAPE_LENG  \\\n",
       "0      19.0       1.0      5.0        1.0   1.0     3.0  NASCO  2759.185492   \n",
       "\n",
       "    SHAPE_AREA ANCFEATURE  Perform  Collapse  Collapse2  \\\n",
       "0  4172.004303       None     30.0     76.89      55.88   \n",
       "\n",
       "                                            geometry  \n",
       "0  MULTIPOLYGON (((10.97940 54.38060, 10.94650 54...  "
      ]
     },
     "execution_count": 136,
     "metadata": {},
     "output_type": "execute_result"
    }
   ],
   "source": [
    "NASCO.head(10)"
   ]
  },
  {
   "cell_type": "code",
   "execution_count": 137,
   "id": "b1373202-78f1-4da7-b94b-62bc99b7fba5",
   "metadata": {},
   "outputs": [],
   "source": [
    "from shapely.geometry import Polygon"
   ]
  },
  {
   "cell_type": "code",
   "execution_count": 138,
   "id": "8dfec8a8-2f22-4b82-9057-518194208431",
   "metadata": {},
   "outputs": [],
   "source": [
    "poly1 = Polygon( [[-85,30], [-85,90], [70,90], [70,30]]) "
   ]
  },
  {
   "cell_type": "code",
   "execution_count": 139,
   "id": "ab4b33be-cc6a-4e11-b777-10b8ba8a6f5c",
   "metadata": {},
   "outputs": [
    {
     "name": "stderr",
     "output_type": "stream",
     "text": [
      "/srv/conda/envs/notebook/lib/python3.10/site-packages/geopandas/tools/clip.py:67: FutureWarning: In a future version, `df.iloc[:, i] = newvals` will attempt to set the values inplace instead of always setting a new array. To retain the old behavior, use either `df[df.columns[i]] = newvals` or, if columns are non-unique, `df.isetitem(i, newvals)`\n",
      "  clipped.loc[\n"
     ]
    }
   ],
   "source": [
    "NASCO = NASCO.clip(poly1)"
   ]
  },
  {
   "cell_type": "code",
   "execution_count": 140,
   "id": "e8de09fd-d8d3-4615-926f-5bdb1de92174",
   "metadata": {},
   "outputs": [
    {
     "data": {
      "text/html": [
       "<div>\n",
       "<style scoped>\n",
       "    .dataframe tbody tr th:only-of-type {\n",
       "        vertical-align: middle;\n",
       "    }\n",
       "\n",
       "    .dataframe tbody tr th {\n",
       "        vertical-align: top;\n",
       "    }\n",
       "\n",
       "    .dataframe thead th {\n",
       "        text-align: right;\n",
       "    }\n",
       "</style>\n",
       "<table border=\"1\" class=\"dataframe\">\n",
       "  <thead>\n",
       "    <tr style=\"text-align: right;\">\n",
       "      <th></th>\n",
       "      <th>minx</th>\n",
       "      <th>miny</th>\n",
       "      <th>maxx</th>\n",
       "      <th>maxy</th>\n",
       "    </tr>\n",
       "  </thead>\n",
       "  <tbody>\n",
       "    <tr>\n",
       "      <th>0</th>\n",
       "      <td>-82.1587</td>\n",
       "      <td>36.0027</td>\n",
       "      <td>68.4973</td>\n",
       "      <td>90.0</td>\n",
       "    </tr>\n",
       "  </tbody>\n",
       "</table>\n",
       "</div>"
      ],
      "text/plain": [
       "      minx     miny     maxx  maxy\n",
       "0 -82.1587  36.0027  68.4973  90.0"
      ]
     },
     "execution_count": 140,
     "metadata": {},
     "output_type": "execute_result"
    }
   ],
   "source": [
    "NASCO.bounds"
   ]
  },
  {
   "cell_type": "code",
   "execution_count": 141,
   "id": "2047c1b9-bb81-45f8-9675-194adfbd337a",
   "metadata": {},
   "outputs": [],
   "source": [
    "NASCOEffort = GFW2019Points.clip(NASCO)"
   ]
  },
  {
   "cell_type": "code",
   "execution_count": 142,
   "id": "23d53748-0353-4f4f-8095-2ef7bd061a14",
   "metadata": {},
   "outputs": [
    {
     "data": {
      "text/plain": [
       "11569480"
      ]
     },
     "execution_count": 142,
     "metadata": {},
     "output_type": "execute_result"
    }
   ],
   "source": [
    "len(NASCOEffort)"
   ]
  },
  {
   "cell_type": "code",
   "execution_count": 143,
   "id": "a0ccb4f5-82e5-4b14-8e6a-587eedffccad",
   "metadata": {},
   "outputs": [
    {
     "data": {
      "text/html": [
       "<div>\n",
       "<style scoped>\n",
       "    .dataframe tbody tr th:only-of-type {\n",
       "        vertical-align: middle;\n",
       "    }\n",
       "\n",
       "    .dataframe tbody tr th {\n",
       "        vertical-align: top;\n",
       "    }\n",
       "\n",
       "    .dataframe thead th {\n",
       "        text-align: right;\n",
       "    }\n",
       "</style>\n",
       "<table border=\"1\" class=\"dataframe\">\n",
       "  <thead>\n",
       "    <tr style=\"text-align: right;\">\n",
       "      <th></th>\n",
       "      <th>date</th>\n",
       "      <th>mmsi</th>\n",
       "      <th>hours</th>\n",
       "      <th>fishing_hours</th>\n",
       "      <th>geometry</th>\n",
       "    </tr>\n",
       "  </thead>\n",
       "  <tbody>\n",
       "    <tr>\n",
       "      <th>45055496</th>\n",
       "      <td>2019-11-01</td>\n",
       "      <td>224069970</td>\n",
       "      <td>2.5149</td>\n",
       "      <td>0.0000</td>\n",
       "      <td>POINT (-9.10000 36.10000)</td>\n",
       "    </tr>\n",
       "    <tr>\n",
       "      <th>42190259</th>\n",
       "      <td>2019-10-16</td>\n",
       "      <td>224134470</td>\n",
       "      <td>6.3727</td>\n",
       "      <td>6.3727</td>\n",
       "      <td>POINT (-9.10000 36.10000)</td>\n",
       "    </tr>\n",
       "  </tbody>\n",
       "</table>\n",
       "</div>"
      ],
      "text/plain": [
       "                date       mmsi   hours  fishing_hours  \\\n",
       "45055496  2019-11-01  224069970  2.5149         0.0000   \n",
       "42190259  2019-10-16  224134470  6.3727         6.3727   \n",
       "\n",
       "                           geometry  \n",
       "45055496  POINT (-9.10000 36.10000)  \n",
       "42190259  POINT (-9.10000 36.10000)  "
      ]
     },
     "execution_count": 143,
     "metadata": {},
     "output_type": "execute_result"
    }
   ],
   "source": [
    "NASCOEffort.head(2)"
   ]
  },
  {
   "cell_type": "code",
   "execution_count": 144,
   "id": "92b3e89b-97c9-497a-9027-f74f842f5490",
   "metadata": {},
   "outputs": [],
   "source": [
    "NASCOEffort = pd.merge(NASCOEffort, flag_gear_df[['mmsi','flag_gfw','vessel_class_gfw']], on='mmsi', how='left')"
   ]
  },
  {
   "cell_type": "code",
   "execution_count": 145,
   "id": "32d9d723-c29e-469c-8a93-80f0a8491904",
   "metadata": {},
   "outputs": [
    {
     "name": "stdout",
     "output_type": "stream",
     "text": [
      "10272870.645799994\n"
     ]
    }
   ],
   "source": [
    "NASCOFishSUM = NASCOEffort['fishing_hours'].sum()\n",
    "print(NASCOFishSUM)"
   ]
  },
  {
   "cell_type": "markdown",
   "id": "48ede4dd-e285-4901-bc16-6075c82ea0e1",
   "metadata": {},
   "source": [
    "#### add the sum value to the RFMO polygon"
   ]
  },
  {
   "cell_type": "code",
   "execution_count": 146,
   "id": "c1e5c129-7693-4387-87a1-e9c59dd6e1a2",
   "metadata": {},
   "outputs": [],
   "source": [
    "NASCO['FishingEffort_2019'] = NASCOFishSUM"
   ]
  },
  {
   "cell_type": "code",
   "execution_count": 147,
   "id": "42877b61-7be8-4630-af90-475d2f557857",
   "metadata": {},
   "outputs": [
    {
     "data": {
      "text/html": [
       "<div>\n",
       "<style scoped>\n",
       "    .dataframe tbody tr th:only-of-type {\n",
       "        vertical-align: middle;\n",
       "    }\n",
       "\n",
       "    .dataframe tbody tr th {\n",
       "        vertical-align: top;\n",
       "    }\n",
       "\n",
       "    .dataframe thead th {\n",
       "        text-align: right;\n",
       "    }\n",
       "</style>\n",
       "<table border=\"1\" class=\"dataframe\">\n",
       "  <thead>\n",
       "    <tr style=\"text-align: right;\">\n",
       "      <th></th>\n",
       "      <th>OBJECTID</th>\n",
       "      <th>AREATYPE</th>\n",
       "      <th>DEFRULE</th>\n",
       "      <th>DISPORDER</th>\n",
       "      <th>FILL</th>\n",
       "      <th>STROKE</th>\n",
       "      <th>RFB</th>\n",
       "      <th>SHAPE_LENG</th>\n",
       "      <th>SHAPE_AREA</th>\n",
       "      <th>ANCFEATURE</th>\n",
       "      <th>Perform</th>\n",
       "      <th>Collapse</th>\n",
       "      <th>Collapse2</th>\n",
       "      <th>geometry</th>\n",
       "      <th>FishingEffort_2019</th>\n",
       "    </tr>\n",
       "  </thead>\n",
       "  <tbody>\n",
       "    <tr>\n",
       "      <th>0</th>\n",
       "      <td>19.0</td>\n",
       "      <td>1.0</td>\n",
       "      <td>5.0</td>\n",
       "      <td>1.0</td>\n",
       "      <td>1.0</td>\n",
       "      <td>3.0</td>\n",
       "      <td>NASCO</td>\n",
       "      <td>2759.185492</td>\n",
       "      <td>4172.004303</td>\n",
       "      <td>None</td>\n",
       "      <td>30.0</td>\n",
       "      <td>76.89</td>\n",
       "      <td>55.88</td>\n",
       "      <td>MULTIPOLYGON (((10.94650 54.38450, 10.88530 54...</td>\n",
       "      <td>1.027287e+07</td>\n",
       "    </tr>\n",
       "  </tbody>\n",
       "</table>\n",
       "</div>"
      ],
      "text/plain": [
       "   OBJECTID  AREATYPE  DEFRULE  DISPORDER  FILL  STROKE    RFB   SHAPE_LENG  \\\n",
       "0      19.0       1.0      5.0        1.0   1.0     3.0  NASCO  2759.185492   \n",
       "\n",
       "    SHAPE_AREA ANCFEATURE  Perform  Collapse  Collapse2  \\\n",
       "0  4172.004303       None     30.0     76.89      55.88   \n",
       "\n",
       "                                            geometry  FishingEffort_2019  \n",
       "0  MULTIPOLYGON (((10.94650 54.38450, 10.88530 54...        1.027287e+07  "
      ]
     },
     "execution_count": 147,
     "metadata": {},
     "output_type": "execute_result"
    }
   ],
   "source": [
    "NASCO.head(2)"
   ]
  },
  {
   "cell_type": "markdown",
   "id": "d560075a-a78d-49e4-b89c-f70cb9861cbb",
   "metadata": {},
   "source": [
    "#### group by flag state"
   ]
  },
  {
   "cell_type": "code",
   "execution_count": 148,
   "id": "aed93e23-5959-48ec-861b-f097080e753f",
   "metadata": {},
   "outputs": [],
   "source": [
    "NASCO_flagSUM = NASCOEffort.groupby(['flag_gfw'])['fishing_hours'].sum().reset_index()"
   ]
  },
  {
   "cell_type": "code",
   "execution_count": 149,
   "id": "63be6980-00c7-4e6f-af90-bb4c8dedaf8c",
   "metadata": {},
   "outputs": [
    {
     "data": {
      "text/html": [
       "<div>\n",
       "<style scoped>\n",
       "    .dataframe tbody tr th:only-of-type {\n",
       "        vertical-align: middle;\n",
       "    }\n",
       "\n",
       "    .dataframe tbody tr th {\n",
       "        vertical-align: top;\n",
       "    }\n",
       "\n",
       "    .dataframe thead th {\n",
       "        text-align: right;\n",
       "    }\n",
       "</style>\n",
       "<table border=\"1\" class=\"dataframe\">\n",
       "  <thead>\n",
       "    <tr style=\"text-align: right;\">\n",
       "      <th></th>\n",
       "      <th>flag_gfw</th>\n",
       "      <th>fishing_hours</th>\n",
       "    </tr>\n",
       "  </thead>\n",
       "  <tbody>\n",
       "    <tr>\n",
       "      <th>0</th>\n",
       "      <td>AGO</td>\n",
       "      <td>9.255000e-01</td>\n",
       "    </tr>\n",
       "    <tr>\n",
       "      <th>1</th>\n",
       "      <td>ARG</td>\n",
       "      <td>5.305400e+00</td>\n",
       "    </tr>\n",
       "    <tr>\n",
       "      <th>2</th>\n",
       "      <td>BEL</td>\n",
       "      <td>1.294485e+05</td>\n",
       "    </tr>\n",
       "    <tr>\n",
       "      <th>3</th>\n",
       "      <td>BLZ</td>\n",
       "      <td>3.846718e+03</td>\n",
       "    </tr>\n",
       "    <tr>\n",
       "      <th>4</th>\n",
       "      <td>BMU</td>\n",
       "      <td>3.759040e+01</td>\n",
       "    </tr>\n",
       "    <tr>\n",
       "      <th>5</th>\n",
       "      <td>CAN</td>\n",
       "      <td>4.102031e+05</td>\n",
       "    </tr>\n",
       "    <tr>\n",
       "      <th>6</th>\n",
       "      <td>CHE</td>\n",
       "      <td>1.032238e+02</td>\n",
       "    </tr>\n",
       "    <tr>\n",
       "      <th>7</th>\n",
       "      <td>CHN</td>\n",
       "      <td>2.395510e+01</td>\n",
       "    </tr>\n",
       "    <tr>\n",
       "      <th>8</th>\n",
       "      <td>DEU</td>\n",
       "      <td>2.047129e+05</td>\n",
       "    </tr>\n",
       "    <tr>\n",
       "      <th>9</th>\n",
       "      <td>DNK</td>\n",
       "      <td>5.781282e+05</td>\n",
       "    </tr>\n",
       "    <tr>\n",
       "      <th>10</th>\n",
       "      <td>ECU</td>\n",
       "      <td>9.471000e-01</td>\n",
       "    </tr>\n",
       "    <tr>\n",
       "      <th>11</th>\n",
       "      <td>ESP</td>\n",
       "      <td>1.060253e+06</td>\n",
       "    </tr>\n",
       "    <tr>\n",
       "      <th>12</th>\n",
       "      <td>EST</td>\n",
       "      <td>4.648450e+04</td>\n",
       "    </tr>\n",
       "    <tr>\n",
       "      <th>13</th>\n",
       "      <td>FIN</td>\n",
       "      <td>4.865067e+04</td>\n",
       "    </tr>\n",
       "    <tr>\n",
       "      <th>14</th>\n",
       "      <td>FLK</td>\n",
       "      <td>2.994400e+01</td>\n",
       "    </tr>\n",
       "  </tbody>\n",
       "</table>\n",
       "</div>"
      ],
      "text/plain": [
       "   flag_gfw  fishing_hours\n",
       "0       AGO   9.255000e-01\n",
       "1       ARG   5.305400e+00\n",
       "2       BEL   1.294485e+05\n",
       "3       BLZ   3.846718e+03\n",
       "4       BMU   3.759040e+01\n",
       "5       CAN   4.102031e+05\n",
       "6       CHE   1.032238e+02\n",
       "7       CHN   2.395510e+01\n",
       "8       DEU   2.047129e+05\n",
       "9       DNK   5.781282e+05\n",
       "10      ECU   9.471000e-01\n",
       "11      ESP   1.060253e+06\n",
       "12      EST   4.648450e+04\n",
       "13      FIN   4.865067e+04\n",
       "14      FLK   2.994400e+01"
      ]
     },
     "execution_count": 149,
     "metadata": {},
     "output_type": "execute_result"
    }
   ],
   "source": [
    "NASCO_flagSUM.head(15)"
   ]
  },
  {
   "cell_type": "code",
   "execution_count": 150,
   "id": "740a8f21-5621-4437-9f94-da3f81d7ebe0",
   "metadata": {},
   "outputs": [],
   "source": [
    "del NASCOEffort"
   ]
  },
  {
   "cell_type": "markdown",
   "id": "1e5b4f30-7c46-4816-9626-46e675be8862",
   "metadata": {},
   "source": [
    "##### calculate area of NASCO"
   ]
  },
  {
   "cell_type": "code",
   "execution_count": 151,
   "id": "22cc31e2-3f51-474e-9962-4bfd1b47ffb2",
   "metadata": {},
   "outputs": [
    {
     "data": {
      "text/plain": [
       "<Derived Projected CRS: ESRI:54012>\n",
       "Name: World_Eckert_IV\n",
       "Axis Info [cartesian]:\n",
       "- E[east]: Easting (metre)\n",
       "- N[north]: Northing (metre)\n",
       "Area of Use:\n",
       "- name: World.\n",
       "- bounds: (-180.0, -90.0, 180.0, 90.0)\n",
       "Coordinate Operation:\n",
       "- name: World_Eckert_IV\n",
       "- method: Eckert IV\n",
       "Datum: World Geodetic System 1984\n",
       "- Ellipsoid: WGS 84\n",
       "- Prime Meridian: Greenwich"
      ]
     },
     "execution_count": 151,
     "metadata": {},
     "output_type": "execute_result"
    }
   ],
   "source": [
    "NASCO = NASCO.to_crs(\"ESRI:54012\")\n",
    "NASCO.crs"
   ]
  },
  {
   "cell_type": "code",
   "execution_count": 152,
   "id": "12c9089b-71f9-471f-8bf8-5b6d4dbd2f32",
   "metadata": {},
   "outputs": [
    {
     "data": {
      "text/html": [
       "<div>\n",
       "<style scoped>\n",
       "    .dataframe tbody tr th:only-of-type {\n",
       "        vertical-align: middle;\n",
       "    }\n",
       "\n",
       "    .dataframe tbody tr th {\n",
       "        vertical-align: top;\n",
       "    }\n",
       "\n",
       "    .dataframe thead th {\n",
       "        text-align: right;\n",
       "    }\n",
       "</style>\n",
       "<table border=\"1\" class=\"dataframe\">\n",
       "  <thead>\n",
       "    <tr style=\"text-align: right;\">\n",
       "      <th></th>\n",
       "      <th>OBJECTID</th>\n",
       "      <th>AREATYPE</th>\n",
       "      <th>DEFRULE</th>\n",
       "      <th>DISPORDER</th>\n",
       "      <th>FILL</th>\n",
       "      <th>STROKE</th>\n",
       "      <th>RFB</th>\n",
       "      <th>SHAPE_LENG</th>\n",
       "      <th>SHAPE_AREA</th>\n",
       "      <th>ANCFEATURE</th>\n",
       "      <th>Perform</th>\n",
       "      <th>Collapse</th>\n",
       "      <th>Collapse2</th>\n",
       "      <th>geometry</th>\n",
       "      <th>FishingEffort_2019</th>\n",
       "      <th>area</th>\n",
       "    </tr>\n",
       "  </thead>\n",
       "  <tbody>\n",
       "    <tr>\n",
       "      <th>0</th>\n",
       "      <td>19.0</td>\n",
       "      <td>1.0</td>\n",
       "      <td>5.0</td>\n",
       "      <td>1.0</td>\n",
       "      <td>1.0</td>\n",
       "      <td>3.0</td>\n",
       "      <td>NASCO</td>\n",
       "      <td>2759.185492</td>\n",
       "      <td>4172.004303</td>\n",
       "      <td>None</td>\n",
       "      <td>30.0</td>\n",
       "      <td>76.89</td>\n",
       "      <td>55.88</td>\n",
       "      <td>MULTIPOLYGON (((844183.599 6495877.193, 839617...</td>\n",
       "      <td>1.027287e+07</td>\n",
       "      <td>2.032979e+07</td>\n",
       "    </tr>\n",
       "  </tbody>\n",
       "</table>\n",
       "</div>"
      ],
      "text/plain": [
       "   OBJECTID  AREATYPE  DEFRULE  DISPORDER  FILL  STROKE    RFB   SHAPE_LENG  \\\n",
       "0      19.0       1.0      5.0        1.0   1.0     3.0  NASCO  2759.185492   \n",
       "\n",
       "    SHAPE_AREA ANCFEATURE  Perform  Collapse  Collapse2  \\\n",
       "0  4172.004303       None     30.0     76.89      55.88   \n",
       "\n",
       "                                            geometry  FishingEffort_2019  \\\n",
       "0  MULTIPOLYGON (((844183.599 6495877.193, 839617...        1.027287e+07   \n",
       "\n",
       "           area  \n",
       "0  2.032979e+07  "
      ]
     },
     "execution_count": 152,
     "metadata": {},
     "output_type": "execute_result"
    }
   ],
   "source": [
    "NASCO[\"area\"] = NASCO['geometry'].area/ 10**6\n",
    "NASCO.head(2)"
   ]
  },
  {
   "cell_type": "code",
   "execution_count": 153,
   "id": "9b12df37-4de7-49e2-a4e3-99617e4d676b",
   "metadata": {},
   "outputs": [
    {
     "data": {
      "text/html": [
       "<div>\n",
       "<style scoped>\n",
       "    .dataframe tbody tr th:only-of-type {\n",
       "        vertical-align: middle;\n",
       "    }\n",
       "\n",
       "    .dataframe tbody tr th {\n",
       "        vertical-align: top;\n",
       "    }\n",
       "\n",
       "    .dataframe thead th {\n",
       "        text-align: right;\n",
       "    }\n",
       "</style>\n",
       "<table border=\"1\" class=\"dataframe\">\n",
       "  <thead>\n",
       "    <tr style=\"text-align: right;\">\n",
       "      <th></th>\n",
       "      <th>OBJECTID</th>\n",
       "      <th>AREATYPE</th>\n",
       "      <th>DEFRULE</th>\n",
       "      <th>DISPORDER</th>\n",
       "      <th>FILL</th>\n",
       "      <th>STROKE</th>\n",
       "      <th>RFB</th>\n",
       "      <th>SHAPE_LENG</th>\n",
       "      <th>SHAPE_AREA</th>\n",
       "      <th>ANCFEATURE</th>\n",
       "      <th>Perform</th>\n",
       "      <th>Collapse</th>\n",
       "      <th>Collapse2</th>\n",
       "      <th>geometry</th>\n",
       "      <th>FishingEffort_2019</th>\n",
       "      <th>area</th>\n",
       "    </tr>\n",
       "  </thead>\n",
       "  <tbody>\n",
       "    <tr>\n",
       "      <th>0</th>\n",
       "      <td>19.0</td>\n",
       "      <td>1.0</td>\n",
       "      <td>5.0</td>\n",
       "      <td>1.0</td>\n",
       "      <td>1.0</td>\n",
       "      <td>3.0</td>\n",
       "      <td>NASCO</td>\n",
       "      <td>2759.185492</td>\n",
       "      <td>4172.004303</td>\n",
       "      <td>None</td>\n",
       "      <td>30.0</td>\n",
       "      <td>76.89</td>\n",
       "      <td>55.88</td>\n",
       "      <td>MULTIPOLYGON (((844183.599 6495877.193, 839617...</td>\n",
       "      <td>1.027287e+07</td>\n",
       "      <td>2.032979e+07</td>\n",
       "    </tr>\n",
       "  </tbody>\n",
       "</table>\n",
       "</div>"
      ],
      "text/plain": [
       "   OBJECTID  AREATYPE  DEFRULE  DISPORDER  FILL  STROKE    RFB   SHAPE_LENG  \\\n",
       "0      19.0       1.0      5.0        1.0   1.0     3.0  NASCO  2759.185492   \n",
       "\n",
       "    SHAPE_AREA ANCFEATURE  Perform  Collapse  Collapse2  \\\n",
       "0  4172.004303       None     30.0     76.89      55.88   \n",
       "\n",
       "                                            geometry  FishingEffort_2019  \\\n",
       "0  MULTIPOLYGON (((844183.599 6495877.193, 839617...        1.027287e+07   \n",
       "\n",
       "           area  \n",
       "0  2.032979e+07  "
      ]
     },
     "execution_count": 153,
     "metadata": {},
     "output_type": "execute_result"
    }
   ],
   "source": [
    "NASCO.head(2)"
   ]
  },
  {
   "cell_type": "code",
   "execution_count": 154,
   "id": "216e3fcc-4ba4-45dc-8c97-a81cf143820d",
   "metadata": {},
   "outputs": [
    {
     "name": "stderr",
     "output_type": "stream",
     "text": [
      "/tmp/ipykernel_462/819822497.py:1: UserWarning: Column names longer than 10 characters will be truncated when saved to ESRI Shapefile.\n",
      "  NASCO.to_file('RFB_NASCO_New.shp')\n"
     ]
    }
   ],
   "source": [
    "NASCO.to_file('RFB_NASCO_New.shp')"
   ]
  },
  {
   "cell_type": "markdown",
   "id": "025e79cc-42be-4f2c-8aaa-ca0afdbb1f93",
   "metadata": {
    "tags": []
   },
   "source": [
    "### NEAFC"
   ]
  },
  {
   "cell_type": "code",
   "execution_count": 155,
   "id": "0bb0247d-54ba-4e25-a15f-c9380f7c9e38",
   "metadata": {
    "tags": []
   },
   "outputs": [],
   "source": [
    "NEAFC = NEAFC.to_crs('EPSG:4326')"
   ]
  },
  {
   "cell_type": "code",
   "execution_count": 156,
   "id": "bf69ee26-9055-45dc-89c4-e8bc234a458f",
   "metadata": {},
   "outputs": [
    {
     "data": {
      "text/plain": [
       "<AxesSubplot: >"
      ]
     },
     "execution_count": 156,
     "metadata": {},
     "output_type": "execute_result"
    },
    {
     "data": {
      "image/png": "[encoded data removed]",
      "text/plain": [
       "<Figure size 640x480 with 1 Axes>"
      ]
     },
     "metadata": {},
     "output_type": "display_data"
    }
   ],
   "source": [
    "NEAFC.plot()"
   ]
  },
  {
   "cell_type": "code",
   "execution_count": 157,
   "id": "ff5d9fbb-5ae8-442a-becc-93f44ce682d8",
   "metadata": {},
   "outputs": [
    {
     "data": {
      "text/html": [
       "<div>\n",
       "<style scoped>\n",
       "    .dataframe tbody tr th:only-of-type {\n",
       "        vertical-align: middle;\n",
       "    }\n",
       "\n",
       "    .dataframe tbody tr th {\n",
       "        vertical-align: top;\n",
       "    }\n",
       "\n",
       "    .dataframe thead th {\n",
       "        text-align: right;\n",
       "    }\n",
       "</style>\n",
       "<table border=\"1\" class=\"dataframe\">\n",
       "  <thead>\n",
       "    <tr style=\"text-align: right;\">\n",
       "      <th></th>\n",
       "      <th>minx</th>\n",
       "      <th>miny</th>\n",
       "      <th>maxx</th>\n",
       "      <th>maxy</th>\n",
       "    </tr>\n",
       "  </thead>\n",
       "  <tbody>\n",
       "    <tr>\n",
       "      <th>0</th>\n",
       "      <td>-44.1996</td>\n",
       "      <td>36.0027</td>\n",
       "      <td>50.9973</td>\n",
       "      <td>90.0027</td>\n",
       "    </tr>\n",
       "  </tbody>\n",
       "</table>\n",
       "</div>"
      ],
      "text/plain": [
       "      minx     miny     maxx     maxy\n",
       "0 -44.1996  36.0027  50.9973  90.0027"
      ]
     },
     "execution_count": 157,
     "metadata": {},
     "output_type": "execute_result"
    }
   ],
   "source": [
    "NEAFC.bounds"
   ]
  },
  {
   "cell_type": "code",
   "execution_count": 158,
   "id": "fae9dc8b-11dd-4030-8040-e10577cb4deb",
   "metadata": {},
   "outputs": [],
   "source": [
    "poly2 = Polygon( [[-50,30], [-50,90], [55,90], [55,30]]) "
   ]
  },
  {
   "cell_type": "code",
   "execution_count": 159,
   "id": "7e71603e-79c9-4c9c-9636-393bfce387f4",
   "metadata": {},
   "outputs": [
    {
     "name": "stderr",
     "output_type": "stream",
     "text": [
      "/srv/conda/envs/notebook/lib/python3.10/site-packages/geopandas/tools/clip.py:67: FutureWarning: In a future version, `df.iloc[:, i] = newvals` will attempt to set the values inplace instead of always setting a new array. To retain the old behavior, use either `df[df.columns[i]] = newvals` or, if columns are non-unique, `df.isetitem(i, newvals)`\n",
      "  clipped.loc[\n"
     ]
    }
   ],
   "source": [
    "NEAFC = NEAFC.clip(poly2)"
   ]
  },
  {
   "cell_type": "code",
   "execution_count": 160,
   "id": "111d879f-6d60-4caf-b096-f7ccaebf0c74",
   "metadata": {},
   "outputs": [
    {
     "data": {
      "text/html": [
       "<div>\n",
       "<style scoped>\n",
       "    .dataframe tbody tr th:only-of-type {\n",
       "        vertical-align: middle;\n",
       "    }\n",
       "\n",
       "    .dataframe tbody tr th {\n",
       "        vertical-align: top;\n",
       "    }\n",
       "\n",
       "    .dataframe thead th {\n",
       "        text-align: right;\n",
       "    }\n",
       "</style>\n",
       "<table border=\"1\" class=\"dataframe\">\n",
       "  <thead>\n",
       "    <tr style=\"text-align: right;\">\n",
       "      <th></th>\n",
       "      <th>OBJECTID</th>\n",
       "      <th>AREATYPE</th>\n",
       "      <th>DEFRULE</th>\n",
       "      <th>DISPORDER</th>\n",
       "      <th>FILL</th>\n",
       "      <th>STROKE</th>\n",
       "      <th>RFB</th>\n",
       "      <th>SHAPE_LENG</th>\n",
       "      <th>SHAPE_AREA</th>\n",
       "      <th>ANCFEATURE</th>\n",
       "      <th>Perform</th>\n",
       "      <th>Collapse</th>\n",
       "      <th>Collapse2</th>\n",
       "      <th>geometry</th>\n",
       "    </tr>\n",
       "  </thead>\n",
       "  <tbody>\n",
       "    <tr>\n",
       "      <th>0</th>\n",
       "      <td>4.0</td>\n",
       "      <td>1.0</td>\n",
       "      <td>1.0</td>\n",
       "      <td>1.0</td>\n",
       "      <td>1.0</td>\n",
       "      <td>1.0</td>\n",
       "      <td>NEAFC</td>\n",
       "      <td>1495.463289</td>\n",
       "      <td>2998.96851</td>\n",
       "      <td>None</td>\n",
       "      <td>42.5</td>\n",
       "      <td>78.9</td>\n",
       "      <td>55.84</td>\n",
       "      <td>MULTIPOLYGON (((50.99730 80.79540, 50.99730 80...</td>\n",
       "    </tr>\n",
       "  </tbody>\n",
       "</table>\n",
       "</div>"
      ],
      "text/plain": [
       "   OBJECTID  AREATYPE  DEFRULE  DISPORDER  FILL  STROKE    RFB   SHAPE_LENG  \\\n",
       "0       4.0       1.0      1.0        1.0   1.0     1.0  NEAFC  1495.463289   \n",
       "\n",
       "   SHAPE_AREA ANCFEATURE  Perform  Collapse  Collapse2  \\\n",
       "0  2998.96851       None     42.5      78.9      55.84   \n",
       "\n",
       "                                            geometry  \n",
       "0  MULTIPOLYGON (((50.99730 80.79540, 50.99730 80...  "
      ]
     },
     "execution_count": 160,
     "metadata": {},
     "output_type": "execute_result"
    }
   ],
   "source": [
    "NEAFC.head(10)"
   ]
  },
  {
   "cell_type": "code",
   "execution_count": 161,
   "id": "155cca71-3a0e-4cb5-a4b9-065d6863db02",
   "metadata": {},
   "outputs": [],
   "source": [
    "NEAFCEffort = GFW2019Points.clip(NEAFC)"
   ]
  },
  {
   "cell_type": "code",
   "execution_count": 162,
   "id": "c7990217-ed3e-496a-8850-14e600924133",
   "metadata": {},
   "outputs": [
    {
     "data": {
      "text/plain": [
       "10187322"
      ]
     },
     "execution_count": 162,
     "metadata": {},
     "output_type": "execute_result"
    }
   ],
   "source": [
    "len(NEAFCEffort)"
   ]
  },
  {
   "cell_type": "code",
   "execution_count": 163,
   "id": "b0e900c0-9e64-43d5-ac0e-ea891debfa15",
   "metadata": {},
   "outputs": [
    {
     "data": {
      "text/html": [
       "<div>\n",
       "<style scoped>\n",
       "    .dataframe tbody tr th:only-of-type {\n",
       "        vertical-align: middle;\n",
       "    }\n",
       "\n",
       "    .dataframe tbody tr th {\n",
       "        vertical-align: top;\n",
       "    }\n",
       "\n",
       "    .dataframe thead th {\n",
       "        text-align: right;\n",
       "    }\n",
       "</style>\n",
       "<table border=\"1\" class=\"dataframe\">\n",
       "  <thead>\n",
       "    <tr style=\"text-align: right;\">\n",
       "      <th></th>\n",
       "      <th>date</th>\n",
       "      <th>mmsi</th>\n",
       "      <th>hours</th>\n",
       "      <th>fishing_hours</th>\n",
       "      <th>geometry</th>\n",
       "    </tr>\n",
       "  </thead>\n",
       "  <tbody>\n",
       "    <tr>\n",
       "      <th>45055496</th>\n",
       "      <td>2019-11-01</td>\n",
       "      <td>224069970</td>\n",
       "      <td>2.5149</td>\n",
       "      <td>0.0000</td>\n",
       "      <td>POINT (-9.10000 36.10000)</td>\n",
       "    </tr>\n",
       "    <tr>\n",
       "      <th>42190259</th>\n",
       "      <td>2019-10-16</td>\n",
       "      <td>224134470</td>\n",
       "      <td>6.3727</td>\n",
       "      <td>6.3727</td>\n",
       "      <td>POINT (-9.10000 36.10000)</td>\n",
       "    </tr>\n",
       "  </tbody>\n",
       "</table>\n",
       "</div>"
      ],
      "text/plain": [
       "                date       mmsi   hours  fishing_hours  \\\n",
       "45055496  2019-11-01  224069970  2.5149         0.0000   \n",
       "42190259  2019-10-16  224134470  6.3727         6.3727   \n",
       "\n",
       "                           geometry  \n",
       "45055496  POINT (-9.10000 36.10000)  \n",
       "42190259  POINT (-9.10000 36.10000)  "
      ]
     },
     "execution_count": 163,
     "metadata": {},
     "output_type": "execute_result"
    }
   ],
   "source": [
    "NEAFCEffort.head(2)"
   ]
  },
  {
   "cell_type": "code",
   "execution_count": 164,
   "id": "d9795c51-22b0-4415-9d7e-79c4c97c5c2a",
   "metadata": {},
   "outputs": [],
   "source": [
    "NEAFCEffort = pd.merge(NEAFCEffort, flag_gear_df[['mmsi','flag_gfw','vessel_class_gfw']], on='mmsi', how='left')"
   ]
  },
  {
   "cell_type": "code",
   "execution_count": 165,
   "id": "443cde95-b120-4554-824a-17a14c93ba84",
   "metadata": {},
   "outputs": [
    {
     "name": "stdout",
     "output_type": "stream",
     "text": [
      "8856218.361700004\n"
     ]
    }
   ],
   "source": [
    "NEAFCFishSUM = NEAFCEffort['fishing_hours'].sum()\n",
    "print(NEAFCFishSUM)"
   ]
  },
  {
   "cell_type": "markdown",
   "id": "150713cb-bbf2-4238-8acb-a7b0c77fe46b",
   "metadata": {},
   "source": [
    "#### add the sum value to the RFMO polygon"
   ]
  },
  {
   "cell_type": "code",
   "execution_count": 166,
   "id": "99a92bbe-85ca-4570-879f-65e31bcefc15",
   "metadata": {},
   "outputs": [],
   "source": [
    "NEAFC['FishingEffort_2019'] = NEAFCFishSUM"
   ]
  },
  {
   "cell_type": "code",
   "execution_count": 167,
   "id": "96323610-5149-45ae-8e7c-8f08a22c57eb",
   "metadata": {},
   "outputs": [
    {
     "data": {
      "text/html": [
       "<div>\n",
       "<style scoped>\n",
       "    .dataframe tbody tr th:only-of-type {\n",
       "        vertical-align: middle;\n",
       "    }\n",
       "\n",
       "    .dataframe tbody tr th {\n",
       "        vertical-align: top;\n",
       "    }\n",
       "\n",
       "    .dataframe thead th {\n",
       "        text-align: right;\n",
       "    }\n",
       "</style>\n",
       "<table border=\"1\" class=\"dataframe\">\n",
       "  <thead>\n",
       "    <tr style=\"text-align: right;\">\n",
       "      <th></th>\n",
       "      <th>OBJECTID</th>\n",
       "      <th>AREATYPE</th>\n",
       "      <th>DEFRULE</th>\n",
       "      <th>DISPORDER</th>\n",
       "      <th>FILL</th>\n",
       "      <th>STROKE</th>\n",
       "      <th>RFB</th>\n",
       "      <th>SHAPE_LENG</th>\n",
       "      <th>SHAPE_AREA</th>\n",
       "      <th>ANCFEATURE</th>\n",
       "      <th>Perform</th>\n",
       "      <th>Collapse</th>\n",
       "      <th>Collapse2</th>\n",
       "      <th>geometry</th>\n",
       "      <th>FishingEffort_2019</th>\n",
       "    </tr>\n",
       "  </thead>\n",
       "  <tbody>\n",
       "    <tr>\n",
       "      <th>0</th>\n",
       "      <td>4.0</td>\n",
       "      <td>1.0</td>\n",
       "      <td>1.0</td>\n",
       "      <td>1.0</td>\n",
       "      <td>1.0</td>\n",
       "      <td>1.0</td>\n",
       "      <td>NEAFC</td>\n",
       "      <td>1495.463289</td>\n",
       "      <td>2998.96851</td>\n",
       "      <td>None</td>\n",
       "      <td>42.5</td>\n",
       "      <td>78.9</td>\n",
       "      <td>55.84</td>\n",
       "      <td>MULTIPOLYGON (((50.99730 80.79540, 50.99730 80...</td>\n",
       "      <td>8.856218e+06</td>\n",
       "    </tr>\n",
       "  </tbody>\n",
       "</table>\n",
       "</div>"
      ],
      "text/plain": [
       "   OBJECTID  AREATYPE  DEFRULE  DISPORDER  FILL  STROKE    RFB   SHAPE_LENG  \\\n",
       "0       4.0       1.0      1.0        1.0   1.0     1.0  NEAFC  1495.463289   \n",
       "\n",
       "   SHAPE_AREA ANCFEATURE  Perform  Collapse  Collapse2  \\\n",
       "0  2998.96851       None     42.5      78.9      55.84   \n",
       "\n",
       "                                            geometry  FishingEffort_2019  \n",
       "0  MULTIPOLYGON (((50.99730 80.79540, 50.99730 80...        8.856218e+06  "
      ]
     },
     "execution_count": 167,
     "metadata": {},
     "output_type": "execute_result"
    }
   ],
   "source": [
    "NEAFC.head(2)"
   ]
  },
  {
   "cell_type": "markdown",
   "id": "d0cbbc0f-e6c8-4607-b043-9c5edb411769",
   "metadata": {},
   "source": [
    "#### group by flag state"
   ]
  },
  {
   "cell_type": "code",
   "execution_count": 168,
   "id": "989e39d2-a5c1-4b14-b026-87fe061c6521",
   "metadata": {},
   "outputs": [],
   "source": [
    "NEAFC_flagSUM = NEAFCEffort.groupby(['flag_gfw'])['fishing_hours'].sum().reset_index()"
   ]
  },
  {
   "cell_type": "code",
   "execution_count": 169,
   "id": "16d5912a-2c66-4a9b-91a3-cdc36e186e11",
   "metadata": {},
   "outputs": [
    {
     "data": {
      "text/html": [
       "<div>\n",
       "<style scoped>\n",
       "    .dataframe tbody tr th:only-of-type {\n",
       "        vertical-align: middle;\n",
       "    }\n",
       "\n",
       "    .dataframe tbody tr th {\n",
       "        vertical-align: top;\n",
       "    }\n",
       "\n",
       "    .dataframe thead th {\n",
       "        text-align: right;\n",
       "    }\n",
       "</style>\n",
       "<table border=\"1\" class=\"dataframe\">\n",
       "  <thead>\n",
       "    <tr style=\"text-align: right;\">\n",
       "      <th></th>\n",
       "      <th>flag_gfw</th>\n",
       "      <th>fishing_hours</th>\n",
       "    </tr>\n",
       "  </thead>\n",
       "  <tbody>\n",
       "    <tr>\n",
       "      <th>0</th>\n",
       "      <td>AGO</td>\n",
       "      <td>9.255000e-01</td>\n",
       "    </tr>\n",
       "    <tr>\n",
       "      <th>1</th>\n",
       "      <td>ARG</td>\n",
       "      <td>5.305400e+00</td>\n",
       "    </tr>\n",
       "    <tr>\n",
       "      <th>2</th>\n",
       "      <td>BEL</td>\n",
       "      <td>1.294485e+05</td>\n",
       "    </tr>\n",
       "    <tr>\n",
       "      <th>3</th>\n",
       "      <td>BLZ</td>\n",
       "      <td>3.846718e+03</td>\n",
       "    </tr>\n",
       "    <tr>\n",
       "      <th>4</th>\n",
       "      <td>CAN</td>\n",
       "      <td>8.493100e+00</td>\n",
       "    </tr>\n",
       "    <tr>\n",
       "      <th>5</th>\n",
       "      <td>CHE</td>\n",
       "      <td>6.828260e+01</td>\n",
       "    </tr>\n",
       "    <tr>\n",
       "      <th>6</th>\n",
       "      <td>CHN</td>\n",
       "      <td>2.395510e+01</td>\n",
       "    </tr>\n",
       "    <tr>\n",
       "      <th>7</th>\n",
       "      <td>DEU</td>\n",
       "      <td>1.864524e+05</td>\n",
       "    </tr>\n",
       "    <tr>\n",
       "      <th>8</th>\n",
       "      <td>DNK</td>\n",
       "      <td>5.079803e+05</td>\n",
       "    </tr>\n",
       "    <tr>\n",
       "      <th>9</th>\n",
       "      <td>ECU</td>\n",
       "      <td>9.471000e-01</td>\n",
       "    </tr>\n",
       "    <tr>\n",
       "      <th>10</th>\n",
       "      <td>ESP</td>\n",
       "      <td>1.009217e+06</td>\n",
       "    </tr>\n",
       "    <tr>\n",
       "      <th>11</th>\n",
       "      <td>EST</td>\n",
       "      <td>1.265444e+04</td>\n",
       "    </tr>\n",
       "    <tr>\n",
       "      <th>12</th>\n",
       "      <td>FIN</td>\n",
       "      <td>7.008100e+00</td>\n",
       "    </tr>\n",
       "    <tr>\n",
       "      <th>13</th>\n",
       "      <td>FLK</td>\n",
       "      <td>2.994400e+01</td>\n",
       "    </tr>\n",
       "    <tr>\n",
       "      <th>14</th>\n",
       "      <td>FRA</td>\n",
       "      <td>1.572977e+06</td>\n",
       "    </tr>\n",
       "  </tbody>\n",
       "</table>\n",
       "</div>"
      ],
      "text/plain": [
       "   flag_gfw  fishing_hours\n",
       "0       AGO   9.255000e-01\n",
       "1       ARG   5.305400e+00\n",
       "2       BEL   1.294485e+05\n",
       "3       BLZ   3.846718e+03\n",
       "4       CAN   8.493100e+00\n",
       "5       CHE   6.828260e+01\n",
       "6       CHN   2.395510e+01\n",
       "7       DEU   1.864524e+05\n",
       "8       DNK   5.079803e+05\n",
       "9       ECU   9.471000e-01\n",
       "10      ESP   1.009217e+06\n",
       "11      EST   1.265444e+04\n",
       "12      FIN   7.008100e+00\n",
       "13      FLK   2.994400e+01\n",
       "14      FRA   1.572977e+06"
      ]
     },
     "execution_count": 169,
     "metadata": {},
     "output_type": "execute_result"
    }
   ],
   "source": [
    "NEAFC_flagSUM.head(15)"
   ]
  },
  {
   "cell_type": "code",
   "execution_count": 170,
   "id": "f02f1760-fe3f-4b1e-af03-3d9c0474d8fc",
   "metadata": {},
   "outputs": [],
   "source": [
    "del NEAFCEffort"
   ]
  },
  {
   "cell_type": "markdown",
   "id": "572bbd3b-5f05-4185-b116-52605733c891",
   "metadata": {},
   "source": [
    "##### calculate area of NEAFC change to appropriate polar equal area projection"
   ]
  },
  {
   "cell_type": "code",
   "execution_count": 171,
   "id": "c5e6f067-14ec-4c25-8d99-50b00414826d",
   "metadata": {},
   "outputs": [
    {
     "data": {
      "text/plain": [
       "<Derived Projected CRS: ESRI:54012>\n",
       "Name: World_Eckert_IV\n",
       "Axis Info [cartesian]:\n",
       "- E[east]: Easting (metre)\n",
       "- N[north]: Northing (metre)\n",
       "Area of Use:\n",
       "- name: World.\n",
       "- bounds: (-180.0, -90.0, 180.0, 90.0)\n",
       "Coordinate Operation:\n",
       "- name: World_Eckert_IV\n",
       "- method: Eckert IV\n",
       "Datum: World Geodetic System 1984\n",
       "- Ellipsoid: WGS 84\n",
       "- Prime Meridian: Greenwich"
      ]
     },
     "execution_count": 171,
     "metadata": {},
     "output_type": "execute_result"
    }
   ],
   "source": [
    "NEAFC = NEAFC.to_crs(\"ESRI:54012\")\n",
    "NEAFC.crs"
   ]
  },
  {
   "cell_type": "code",
   "execution_count": 172,
   "id": "ad246518-f60b-49c8-9e0c-bef8d762437b",
   "metadata": {},
   "outputs": [
    {
     "data": {
      "text/html": [
       "<div>\n",
       "<style scoped>\n",
       "    .dataframe tbody tr th:only-of-type {\n",
       "        vertical-align: middle;\n",
       "    }\n",
       "\n",
       "    .dataframe tbody tr th {\n",
       "        vertical-align: top;\n",
       "    }\n",
       "\n",
       "    .dataframe thead th {\n",
       "        text-align: right;\n",
       "    }\n",
       "</style>\n",
       "<table border=\"1\" class=\"dataframe\">\n",
       "  <thead>\n",
       "    <tr style=\"text-align: right;\">\n",
       "      <th></th>\n",
       "      <th>OBJECTID</th>\n",
       "      <th>AREATYPE</th>\n",
       "      <th>DEFRULE</th>\n",
       "      <th>DISPORDER</th>\n",
       "      <th>FILL</th>\n",
       "      <th>STROKE</th>\n",
       "      <th>RFB</th>\n",
       "      <th>SHAPE_LENG</th>\n",
       "      <th>SHAPE_AREA</th>\n",
       "      <th>ANCFEATURE</th>\n",
       "      <th>Perform</th>\n",
       "      <th>Collapse</th>\n",
       "      <th>Collapse2</th>\n",
       "      <th>geometry</th>\n",
       "      <th>FishingEffort_2019</th>\n",
       "      <th>area</th>\n",
       "    </tr>\n",
       "  </thead>\n",
       "  <tbody>\n",
       "    <tr>\n",
       "      <th>0</th>\n",
       "      <td>4.0</td>\n",
       "      <td>1.0</td>\n",
       "      <td>1.0</td>\n",
       "      <td>1.0</td>\n",
       "      <td>1.0</td>\n",
       "      <td>1.0</td>\n",
       "      <td>NEAFC</td>\n",
       "      <td>1495.463289</td>\n",
       "      <td>2998.96851</td>\n",
       "      <td>None</td>\n",
       "      <td>42.5</td>\n",
       "      <td>78.9</td>\n",
       "      <td>55.84</td>\n",
       "      <td>MULTIPOLYGON (((2877296.206 8289053.960, 28783...</td>\n",
       "      <td>8.856218e+06</td>\n",
       "      <td>1.349665e+07</td>\n",
       "    </tr>\n",
       "  </tbody>\n",
       "</table>\n",
       "</div>"
      ],
      "text/plain": [
       "   OBJECTID  AREATYPE  DEFRULE  DISPORDER  FILL  STROKE    RFB   SHAPE_LENG  \\\n",
       "0       4.0       1.0      1.0        1.0   1.0     1.0  NEAFC  1495.463289   \n",
       "\n",
       "   SHAPE_AREA ANCFEATURE  Perform  Collapse  Collapse2  \\\n",
       "0  2998.96851       None     42.5      78.9      55.84   \n",
       "\n",
       "                                            geometry  FishingEffort_2019  \\\n",
       "0  MULTIPOLYGON (((2877296.206 8289053.960, 28783...        8.856218e+06   \n",
       "\n",
       "           area  \n",
       "0  1.349665e+07  "
      ]
     },
     "execution_count": 172,
     "metadata": {},
     "output_type": "execute_result"
    }
   ],
   "source": [
    "NEAFC[\"area\"] = NEAFC['geometry'].area/ 10**6\n",
    "NEAFC.head(2)"
   ]
  },
  {
   "cell_type": "code",
   "execution_count": 173,
   "id": "ca621d1f-6c3c-4e1e-b005-a5600acd778f",
   "metadata": {},
   "outputs": [
    {
     "name": "stderr",
     "output_type": "stream",
     "text": [
      "/tmp/ipykernel_462/274650972.py:1: UserWarning: Column names longer than 10 characters will be truncated when saved to ESRI Shapefile.\n",
      "  NEAFC.to_file('RFB_NEAFC_New.shp')\n"
     ]
    }
   ],
   "source": [
    "NEAFC.to_file('RFB_NEAFC_New.shp')"
   ]
  },
  {
   "cell_type": "markdown",
   "id": "3d0a433c-7d5b-49ea-81d1-252c236fe434",
   "metadata": {
    "tags": []
   },
   "source": [
    "### NPAFC"
   ]
  },
  {
   "cell_type": "code",
   "execution_count": 174,
   "id": "a147fbf8-e9e7-4ef3-860d-3a8392f67f5e",
   "metadata": {
    "tags": []
   },
   "outputs": [],
   "source": [
    "NPAFC = NPAFC.to_crs('EPSG:4326')"
   ]
  },
  {
   "cell_type": "code",
   "execution_count": 175,
   "id": "2781a0d4-502c-46e7-b0d8-8873da03d621",
   "metadata": {},
   "outputs": [
    {
     "data": {
      "text/html": [
       "<div>\n",
       "<style scoped>\n",
       "    .dataframe tbody tr th:only-of-type {\n",
       "        vertical-align: middle;\n",
       "    }\n",
       "\n",
       "    .dataframe tbody tr th {\n",
       "        vertical-align: top;\n",
       "    }\n",
       "\n",
       "    .dataframe thead th {\n",
       "        text-align: right;\n",
       "    }\n",
       "</style>\n",
       "<table border=\"1\" class=\"dataframe\">\n",
       "  <thead>\n",
       "    <tr style=\"text-align: right;\">\n",
       "      <th></th>\n",
       "      <th>OBJECTID</th>\n",
       "      <th>AREATYPE</th>\n",
       "      <th>DEFRULE</th>\n",
       "      <th>DISPORDER</th>\n",
       "      <th>FILL</th>\n",
       "      <th>STROKE</th>\n",
       "      <th>RFB</th>\n",
       "      <th>SHAPE_LENG</th>\n",
       "      <th>SHAPE_AREA</th>\n",
       "      <th>ANCFEATURE</th>\n",
       "      <th>Perform</th>\n",
       "      <th>Collapse</th>\n",
       "      <th>Collapse2</th>\n",
       "      <th>geometry</th>\n",
       "    </tr>\n",
       "  </thead>\n",
       "  <tbody>\n",
       "    <tr>\n",
       "      <th>0</th>\n",
       "      <td>20.0</td>\n",
       "      <td>1.0</td>\n",
       "      <td>4.0</td>\n",
       "      <td>1.0</td>\n",
       "      <td>1.0</td>\n",
       "      <td>3.0</td>\n",
       "      <td>NPAFC</td>\n",
       "      <td>96.843791</td>\n",
       "      <td>483.315450</td>\n",
       "      <td>None</td>\n",
       "      <td>30.5</td>\n",
       "      <td>78.06</td>\n",
       "      <td>43.91</td>\n",
       "      <td>POLYGON ((167.44680 51.18950, 167.44780 51.189...</td>\n",
       "    </tr>\n",
       "    <tr>\n",
       "      <th>1</th>\n",
       "      <td>21.0</td>\n",
       "      <td>1.0</td>\n",
       "      <td>4.0</td>\n",
       "      <td>1.0</td>\n",
       "      <td>1.0</td>\n",
       "      <td>3.0</td>\n",
       "      <td>NPAFC</td>\n",
       "      <td>11.585180</td>\n",
       "      <td>5.956092</td>\n",
       "      <td>None</td>\n",
       "      <td>30.5</td>\n",
       "      <td>78.06</td>\n",
       "      <td>43.91</td>\n",
       "      <td>POLYGON ((149.07450 50.72450, 149.07370 50.723...</td>\n",
       "    </tr>\n",
       "    <tr>\n",
       "      <th>2</th>\n",
       "      <td>22.0</td>\n",
       "      <td>1.0</td>\n",
       "      <td>4.0</td>\n",
       "      <td>1.0</td>\n",
       "      <td>1.0</td>\n",
       "      <td>3.0</td>\n",
       "      <td>NPAFC</td>\n",
       "      <td>142.642707</td>\n",
       "      <td>951.224876</td>\n",
       "      <td>None</td>\n",
       "      <td>30.5</td>\n",
       "      <td>78.06</td>\n",
       "      <td>43.91</td>\n",
       "      <td>POLYGON ((-141.69310 56.09770, -141.69270 56.0...</td>\n",
       "    </tr>\n",
       "    <tr>\n",
       "      <th>3</th>\n",
       "      <td>36.0</td>\n",
       "      <td>1.0</td>\n",
       "      <td>4.0</td>\n",
       "      <td>1.0</td>\n",
       "      <td>1.0</td>\n",
       "      <td>3.0</td>\n",
       "      <td>NPAFC</td>\n",
       "      <td>16.151204</td>\n",
       "      <td>12.153845</td>\n",
       "      <td>None</td>\n",
       "      <td>30.5</td>\n",
       "      <td>78.06</td>\n",
       "      <td>43.91</td>\n",
       "      <td>POLYGON ((180.00000 55.80000, 179.99090 55.800...</td>\n",
       "    </tr>\n",
       "    <tr>\n",
       "      <th>4</th>\n",
       "      <td>37.0</td>\n",
       "      <td>1.0</td>\n",
       "      <td>4.0</td>\n",
       "      <td>1.0</td>\n",
       "      <td>1.0</td>\n",
       "      <td>3.0</td>\n",
       "      <td>NPAFC</td>\n",
       "      <td>13.431284</td>\n",
       "      <td>7.374810</td>\n",
       "      <td>None</td>\n",
       "      <td>30.5</td>\n",
       "      <td>78.06</td>\n",
       "      <td>43.91</td>\n",
       "      <td>POLYGON ((-178.77480 55.67520, -178.77510 55.6...</td>\n",
       "    </tr>\n",
       "  </tbody>\n",
       "</table>\n",
       "</div>"
      ],
      "text/plain": [
       "   OBJECTID  AREATYPE  DEFRULE  DISPORDER  FILL  STROKE    RFB  SHAPE_LENG  \\\n",
       "0      20.0       1.0      4.0        1.0   1.0     3.0  NPAFC   96.843791   \n",
       "1      21.0       1.0      4.0        1.0   1.0     3.0  NPAFC   11.585180   \n",
       "2      22.0       1.0      4.0        1.0   1.0     3.0  NPAFC  142.642707   \n",
       "3      36.0       1.0      4.0        1.0   1.0     3.0  NPAFC   16.151204   \n",
       "4      37.0       1.0      4.0        1.0   1.0     3.0  NPAFC   13.431284   \n",
       "\n",
       "   SHAPE_AREA ANCFEATURE  Perform  Collapse  Collapse2  \\\n",
       "0  483.315450       None     30.5     78.06      43.91   \n",
       "1    5.956092       None     30.5     78.06      43.91   \n",
       "2  951.224876       None     30.5     78.06      43.91   \n",
       "3   12.153845       None     30.5     78.06      43.91   \n",
       "4    7.374810       None     30.5     78.06      43.91   \n",
       "\n",
       "                                            geometry  \n",
       "0  POLYGON ((167.44680 51.18950, 167.44780 51.189...  \n",
       "1  POLYGON ((149.07450 50.72450, 149.07370 50.723...  \n",
       "2  POLYGON ((-141.69310 56.09770, -141.69270 56.0...  \n",
       "3  POLYGON ((180.00000 55.80000, 179.99090 55.800...  \n",
       "4  POLYGON ((-178.77480 55.67520, -178.77510 55.6...  "
      ]
     },
     "execution_count": 175,
     "metadata": {},
     "output_type": "execute_result"
    }
   ],
   "source": [
    "NPAFC.head(10)"
   ]
  },
  {
   "cell_type": "code",
   "execution_count": 176,
   "id": "94e6e6a4-1c09-43e7-9871-8e25bf4f31fa",
   "metadata": {},
   "outputs": [],
   "source": [
    "NPAFCEffort = GFW2019Points.clip(NPAFC)"
   ]
  },
  {
   "cell_type": "code",
   "execution_count": 177,
   "id": "d98b40e1-d372-4051-aee0-5a0b436bb5d5",
   "metadata": {},
   "outputs": [
    {
     "data": {
      "text/plain": [
       "748537"
      ]
     },
     "execution_count": 177,
     "metadata": {},
     "output_type": "execute_result"
    }
   ],
   "source": [
    "len(NPAFCEffort)"
   ]
  },
  {
   "cell_type": "code",
   "execution_count": 178,
   "id": "154782d5-a448-4c15-bd8b-fe8d3012a996",
   "metadata": {},
   "outputs": [
    {
     "data": {
      "text/html": [
       "<div>\n",
       "<style scoped>\n",
       "    .dataframe tbody tr th:only-of-type {\n",
       "        vertical-align: middle;\n",
       "    }\n",
       "\n",
       "    .dataframe tbody tr th {\n",
       "        vertical-align: top;\n",
       "    }\n",
       "\n",
       "    .dataframe thead th {\n",
       "        text-align: right;\n",
       "    }\n",
       "</style>\n",
       "<table border=\"1\" class=\"dataframe\">\n",
       "  <thead>\n",
       "    <tr style=\"text-align: right;\">\n",
       "      <th></th>\n",
       "      <th>date</th>\n",
       "      <th>mmsi</th>\n",
       "      <th>hours</th>\n",
       "      <th>fishing_hours</th>\n",
       "      <th>geometry</th>\n",
       "    </tr>\n",
       "  </thead>\n",
       "  <tbody>\n",
       "    <tr>\n",
       "      <th>43347971</th>\n",
       "      <td>2019-10-23</td>\n",
       "      <td>416081500</td>\n",
       "      <td>0.4988</td>\n",
       "      <td>0.0</td>\n",
       "      <td>POINT (166.20000 33.00000)</td>\n",
       "    </tr>\n",
       "    <tr>\n",
       "      <th>43347966</th>\n",
       "      <td>2019-10-23</td>\n",
       "      <td>416081500</td>\n",
       "      <td>0.4600</td>\n",
       "      <td>0.0</td>\n",
       "      <td>POINT (166.30000 33.00000)</td>\n",
       "    </tr>\n",
       "  </tbody>\n",
       "</table>\n",
       "</div>"
      ],
      "text/plain": [
       "                date       mmsi   hours  fishing_hours  \\\n",
       "43347971  2019-10-23  416081500  0.4988            0.0   \n",
       "43347966  2019-10-23  416081500  0.4600            0.0   \n",
       "\n",
       "                            geometry  \n",
       "43347971  POINT (166.20000 33.00000)  \n",
       "43347966  POINT (166.30000 33.00000)  "
      ]
     },
     "execution_count": 178,
     "metadata": {},
     "output_type": "execute_result"
    }
   ],
   "source": [
    "NPAFCEffort.head(2)"
   ]
  },
  {
   "cell_type": "code",
   "execution_count": 179,
   "id": "78a9c5a7-f472-4d7a-827a-f8fd1d939ac4",
   "metadata": {},
   "outputs": [],
   "source": [
    "NPAFCEffort = pd.merge(NPAFCEffort, flag_gear_df[['mmsi','flag_gfw','vessel_class_gfw']], on='mmsi', how='left')"
   ]
  },
  {
   "cell_type": "code",
   "execution_count": 180,
   "id": "1087056b-096c-4457-a7e1-2d91a06aeb6e",
   "metadata": {},
   "outputs": [
    {
     "name": "stdout",
     "output_type": "stream",
     "text": [
      "632737.778\n"
     ]
    }
   ],
   "source": [
    "NPAFCFishSUM = NPAFCEffort['fishing_hours'].sum()\n",
    "print(NPAFCFishSUM)"
   ]
  },
  {
   "cell_type": "markdown",
   "id": "9886e537-dde4-44a6-93ab-98585a007cf3",
   "metadata": {},
   "source": [
    "#### add the sum value to the RFMO polygon"
   ]
  },
  {
   "cell_type": "code",
   "execution_count": 181,
   "id": "31c189a3-ac91-4185-9958-091dee0c69dd",
   "metadata": {},
   "outputs": [],
   "source": [
    "NPAFC['FishingEffort_2019'] = NPAFCFishSUM"
   ]
  },
  {
   "cell_type": "code",
   "execution_count": 182,
   "id": "da7d6a31-2fac-43b7-b838-95b550eaee2f",
   "metadata": {},
   "outputs": [
    {
     "data": {
      "text/html": [
       "<div>\n",
       "<style scoped>\n",
       "    .dataframe tbody tr th:only-of-type {\n",
       "        vertical-align: middle;\n",
       "    }\n",
       "\n",
       "    .dataframe tbody tr th {\n",
       "        vertical-align: top;\n",
       "    }\n",
       "\n",
       "    .dataframe thead th {\n",
       "        text-align: right;\n",
       "    }\n",
       "</style>\n",
       "<table border=\"1\" class=\"dataframe\">\n",
       "  <thead>\n",
       "    <tr style=\"text-align: right;\">\n",
       "      <th></th>\n",
       "      <th>OBJECTID</th>\n",
       "      <th>AREATYPE</th>\n",
       "      <th>DEFRULE</th>\n",
       "      <th>DISPORDER</th>\n",
       "      <th>FILL</th>\n",
       "      <th>STROKE</th>\n",
       "      <th>RFB</th>\n",
       "      <th>SHAPE_LENG</th>\n",
       "      <th>SHAPE_AREA</th>\n",
       "      <th>ANCFEATURE</th>\n",
       "      <th>Perform</th>\n",
       "      <th>Collapse</th>\n",
       "      <th>Collapse2</th>\n",
       "      <th>geometry</th>\n",
       "      <th>FishingEffort_2019</th>\n",
       "    </tr>\n",
       "  </thead>\n",
       "  <tbody>\n",
       "    <tr>\n",
       "      <th>0</th>\n",
       "      <td>20.0</td>\n",
       "      <td>1.0</td>\n",
       "      <td>4.0</td>\n",
       "      <td>1.0</td>\n",
       "      <td>1.0</td>\n",
       "      <td>3.0</td>\n",
       "      <td>NPAFC</td>\n",
       "      <td>96.843791</td>\n",
       "      <td>483.315450</td>\n",
       "      <td>None</td>\n",
       "      <td>30.5</td>\n",
       "      <td>78.06</td>\n",
       "      <td>43.91</td>\n",
       "      <td>POLYGON ((167.44680 51.18950, 167.44780 51.189...</td>\n",
       "      <td>632737.778</td>\n",
       "    </tr>\n",
       "    <tr>\n",
       "      <th>1</th>\n",
       "      <td>21.0</td>\n",
       "      <td>1.0</td>\n",
       "      <td>4.0</td>\n",
       "      <td>1.0</td>\n",
       "      <td>1.0</td>\n",
       "      <td>3.0</td>\n",
       "      <td>NPAFC</td>\n",
       "      <td>11.585180</td>\n",
       "      <td>5.956092</td>\n",
       "      <td>None</td>\n",
       "      <td>30.5</td>\n",
       "      <td>78.06</td>\n",
       "      <td>43.91</td>\n",
       "      <td>POLYGON ((149.07450 50.72450, 149.07370 50.723...</td>\n",
       "      <td>632737.778</td>\n",
       "    </tr>\n",
       "  </tbody>\n",
       "</table>\n",
       "</div>"
      ],
      "text/plain": [
       "   OBJECTID  AREATYPE  DEFRULE  DISPORDER  FILL  STROKE    RFB  SHAPE_LENG  \\\n",
       "0      20.0       1.0      4.0        1.0   1.0     3.0  NPAFC   96.843791   \n",
       "1      21.0       1.0      4.0        1.0   1.0     3.0  NPAFC   11.585180   \n",
       "\n",
       "   SHAPE_AREA ANCFEATURE  Perform  Collapse  Collapse2  \\\n",
       "0  483.315450       None     30.5     78.06      43.91   \n",
       "1    5.956092       None     30.5     78.06      43.91   \n",
       "\n",
       "                                            geometry  FishingEffort_2019  \n",
       "0  POLYGON ((167.44680 51.18950, 167.44780 51.189...          632737.778  \n",
       "1  POLYGON ((149.07450 50.72450, 149.07370 50.723...          632737.778  "
      ]
     },
     "execution_count": 182,
     "metadata": {},
     "output_type": "execute_result"
    }
   ],
   "source": [
    "NPAFC.head(2)"
   ]
  },
  {
   "cell_type": "markdown",
   "id": "720a0f65-7c7c-4151-84f6-9bcb07458436",
   "metadata": {},
   "source": [
    "#### group by flag state"
   ]
  },
  {
   "cell_type": "code",
   "execution_count": 183,
   "id": "80562fa6-487c-40d1-bff2-33030555cd23",
   "metadata": {},
   "outputs": [],
   "source": [
    "NPAFC_flagSUM = NPAFCEffort.groupby(['flag_gfw'])['fishing_hours'].sum().reset_index()"
   ]
  },
  {
   "cell_type": "code",
   "execution_count": 184,
   "id": "be0a60eb-9314-4267-93f2-8b7968c8fcd7",
   "metadata": {},
   "outputs": [
    {
     "data": {
      "text/html": [
       "<div>\n",
       "<style scoped>\n",
       "    .dataframe tbody tr th:only-of-type {\n",
       "        vertical-align: middle;\n",
       "    }\n",
       "\n",
       "    .dataframe tbody tr th {\n",
       "        vertical-align: top;\n",
       "    }\n",
       "\n",
       "    .dataframe thead th {\n",
       "        text-align: right;\n",
       "    }\n",
       "</style>\n",
       "<table border=\"1\" class=\"dataframe\">\n",
       "  <thead>\n",
       "    <tr style=\"text-align: right;\">\n",
       "      <th></th>\n",
       "      <th>flag_gfw</th>\n",
       "      <th>fishing_hours</th>\n",
       "    </tr>\n",
       "  </thead>\n",
       "  <tbody>\n",
       "    <tr>\n",
       "      <th>0</th>\n",
       "      <td>CAN</td>\n",
       "      <td>404.1653</td>\n",
       "    </tr>\n",
       "    <tr>\n",
       "      <th>1</th>\n",
       "      <td>CHN</td>\n",
       "      <td>147237.5809</td>\n",
       "    </tr>\n",
       "    <tr>\n",
       "      <th>2</th>\n",
       "      <td>CYP</td>\n",
       "      <td>0.0000</td>\n",
       "    </tr>\n",
       "    <tr>\n",
       "      <th>3</th>\n",
       "      <td>IRN</td>\n",
       "      <td>10.4144</td>\n",
       "    </tr>\n",
       "    <tr>\n",
       "      <th>4</th>\n",
       "      <td>JPN</td>\n",
       "      <td>249444.8172</td>\n",
       "    </tr>\n",
       "    <tr>\n",
       "      <th>5</th>\n",
       "      <td>KOR</td>\n",
       "      <td>5914.3101</td>\n",
       "    </tr>\n",
       "    <tr>\n",
       "      <th>6</th>\n",
       "      <td>RUS</td>\n",
       "      <td>5403.1944</td>\n",
       "    </tr>\n",
       "    <tr>\n",
       "      <th>7</th>\n",
       "      <td>TWN</td>\n",
       "      <td>191906.9956</td>\n",
       "    </tr>\n",
       "    <tr>\n",
       "      <th>8</th>\n",
       "      <td>UNK</td>\n",
       "      <td>732.7369</td>\n",
       "    </tr>\n",
       "    <tr>\n",
       "      <th>9</th>\n",
       "      <td>USA</td>\n",
       "      <td>10182.8454</td>\n",
       "    </tr>\n",
       "    <tr>\n",
       "      <th>10</th>\n",
       "      <td>VUT</td>\n",
       "      <td>15974.5782</td>\n",
       "    </tr>\n",
       "  </tbody>\n",
       "</table>\n",
       "</div>"
      ],
      "text/plain": [
       "   flag_gfw  fishing_hours\n",
       "0       CAN       404.1653\n",
       "1       CHN    147237.5809\n",
       "2       CYP         0.0000\n",
       "3       IRN        10.4144\n",
       "4       JPN    249444.8172\n",
       "5       KOR      5914.3101\n",
       "6       RUS      5403.1944\n",
       "7       TWN    191906.9956\n",
       "8       UNK       732.7369\n",
       "9       USA     10182.8454\n",
       "10      VUT     15974.5782"
      ]
     },
     "execution_count": 184,
     "metadata": {},
     "output_type": "execute_result"
    }
   ],
   "source": [
    "NPAFC_flagSUM.head(15)"
   ]
  },
  {
   "cell_type": "code",
   "execution_count": 185,
   "id": "91852da6-4e23-4d66-a128-682047036f0c",
   "metadata": {},
   "outputs": [],
   "source": [
    "del NPAFCEffort"
   ]
  },
  {
   "cell_type": "markdown",
   "id": "84721f48-67b3-4d87-b837-a14c1b2b3c27",
   "metadata": {},
   "source": [
    "##### calculate area of NPAFC change to appropriate polar equal area projection"
   ]
  },
  {
   "cell_type": "code",
   "execution_count": 186,
   "id": "fbea6f9c-f862-4b8d-abdc-1b160aef3fc3",
   "metadata": {},
   "outputs": [
    {
     "data": {
      "text/plain": [
       "<Derived Projected CRS: ESRI:54012>\n",
       "Name: World_Eckert_IV\n",
       "Axis Info [cartesian]:\n",
       "- E[east]: Easting (metre)\n",
       "- N[north]: Northing (metre)\n",
       "Area of Use:\n",
       "- name: World.\n",
       "- bounds: (-180.0, -90.0, 180.0, 90.0)\n",
       "Coordinate Operation:\n",
       "- name: World_Eckert_IV\n",
       "- method: Eckert IV\n",
       "Datum: World Geodetic System 1984\n",
       "- Ellipsoid: WGS 84\n",
       "- Prime Meridian: Greenwich"
      ]
     },
     "execution_count": 186,
     "metadata": {},
     "output_type": "execute_result"
    }
   ],
   "source": [
    "NPAFC = NPAFC.to_crs(\"ESRI:54012\")\n",
    "NPAFC.crs"
   ]
  },
  {
   "cell_type": "code",
   "execution_count": 187,
   "id": "5b235180-787b-4179-beed-d81274c8ccb6",
   "metadata": {},
   "outputs": [
    {
     "data": {
      "text/html": [
       "<div>\n",
       "<style scoped>\n",
       "    .dataframe tbody tr th:only-of-type {\n",
       "        vertical-align: middle;\n",
       "    }\n",
       "\n",
       "    .dataframe tbody tr th {\n",
       "        vertical-align: top;\n",
       "    }\n",
       "\n",
       "    .dataframe thead th {\n",
       "        text-align: right;\n",
       "    }\n",
       "</style>\n",
       "<table border=\"1\" class=\"dataframe\">\n",
       "  <thead>\n",
       "    <tr style=\"text-align: right;\">\n",
       "      <th></th>\n",
       "      <th>OBJECTID</th>\n",
       "      <th>AREATYPE</th>\n",
       "      <th>DEFRULE</th>\n",
       "      <th>DISPORDER</th>\n",
       "      <th>FILL</th>\n",
       "      <th>STROKE</th>\n",
       "      <th>RFB</th>\n",
       "      <th>SHAPE_LENG</th>\n",
       "      <th>SHAPE_AREA</th>\n",
       "      <th>ANCFEATURE</th>\n",
       "      <th>Perform</th>\n",
       "      <th>Collapse</th>\n",
       "      <th>Collapse2</th>\n",
       "      <th>geometry</th>\n",
       "      <th>FishingEffort_2019</th>\n",
       "      <th>area</th>\n",
       "    </tr>\n",
       "  </thead>\n",
       "  <tbody>\n",
       "    <tr>\n",
       "      <th>0</th>\n",
       "      <td>20.0</td>\n",
       "      <td>1.0</td>\n",
       "      <td>4.0</td>\n",
       "      <td>1.0</td>\n",
       "      <td>1.0</td>\n",
       "      <td>3.0</td>\n",
       "      <td>NPAFC</td>\n",
       "      <td>96.843791</td>\n",
       "      <td>483.315450</td>\n",
       "      <td>None</td>\n",
       "      <td>30.5</td>\n",
       "      <td>78.06</td>\n",
       "      <td>43.91</td>\n",
       "      <td>POLYGON ((13236628.904 6189334.322, 13236717.7...</td>\n",
       "      <td>632737.778</td>\n",
       "      <td>4.545164e+06</td>\n",
       "    </tr>\n",
       "    <tr>\n",
       "      <th>1</th>\n",
       "      <td>21.0</td>\n",
       "      <td>1.0</td>\n",
       "      <td>4.0</td>\n",
       "      <td>1.0</td>\n",
       "      <td>1.0</td>\n",
       "      <td>3.0</td>\n",
       "      <td>NPAFC</td>\n",
       "      <td>11.585180</td>\n",
       "      <td>5.956092</td>\n",
       "      <td>None</td>\n",
       "      <td>30.5</td>\n",
       "      <td>78.06</td>\n",
       "      <td>43.91</td>\n",
       "      <td>POLYGON ((11824714.119 6143496.744, 11824702.5...</td>\n",
       "      <td>632737.778</td>\n",
       "      <td>4.420253e+04</td>\n",
       "    </tr>\n",
       "  </tbody>\n",
       "</table>\n",
       "</div>"
      ],
      "text/plain": [
       "   OBJECTID  AREATYPE  DEFRULE  DISPORDER  FILL  STROKE    RFB  SHAPE_LENG  \\\n",
       "0      20.0       1.0      4.0        1.0   1.0     3.0  NPAFC   96.843791   \n",
       "1      21.0       1.0      4.0        1.0   1.0     3.0  NPAFC   11.585180   \n",
       "\n",
       "   SHAPE_AREA ANCFEATURE  Perform  Collapse  Collapse2  \\\n",
       "0  483.315450       None     30.5     78.06      43.91   \n",
       "1    5.956092       None     30.5     78.06      43.91   \n",
       "\n",
       "                                            geometry  FishingEffort_2019  \\\n",
       "0  POLYGON ((13236628.904 6189334.322, 13236717.7...          632737.778   \n",
       "1  POLYGON ((11824714.119 6143496.744, 11824702.5...          632737.778   \n",
       "\n",
       "           area  \n",
       "0  4.545164e+06  \n",
       "1  4.420253e+04  "
      ]
     },
     "execution_count": 187,
     "metadata": {},
     "output_type": "execute_result"
    }
   ],
   "source": [
    "NPAFC[\"area\"] = NPAFC['geometry'].area/ 10**6\n",
    "NPAFC.head(2)"
   ]
  },
  {
   "cell_type": "code",
   "execution_count": 188,
   "id": "652b3f0a-063e-472b-81dc-f06d0bfc769c",
   "metadata": {},
   "outputs": [
    {
     "name": "stderr",
     "output_type": "stream",
     "text": [
      "/tmp/ipykernel_462/81930203.py:1: UserWarning: Column names longer than 10 characters will be truncated when saved to ESRI Shapefile.\n",
      "  NPAFC.to_file('RFB_NPAFC_New.shp')\n"
     ]
    }
   ],
   "source": [
    "NPAFC.to_file('RFB_NPAFC_New.shp')"
   ]
  },
  {
   "cell_type": "markdown",
   "id": "e25b24b2-21ad-4b55-8bc5-f7812d52f4a7",
   "metadata": {
    "tags": []
   },
   "source": [
    "### PSC"
   ]
  },
  {
   "cell_type": "code",
   "execution_count": 189,
   "id": "37083d2d-692f-405a-b32f-dd7cb0ae8e3b",
   "metadata": {
    "tags": []
   },
   "outputs": [],
   "source": [
    "PSC = PSC.to_crs('EPSG:4326')"
   ]
  },
  {
   "cell_type": "code",
   "execution_count": 190,
   "id": "ceab84b6-8454-4aed-b602-54a599059638",
   "metadata": {},
   "outputs": [
    {
     "data": {
      "text/html": [
       "<div>\n",
       "<style scoped>\n",
       "    .dataframe tbody tr th:only-of-type {\n",
       "        vertical-align: middle;\n",
       "    }\n",
       "\n",
       "    .dataframe tbody tr th {\n",
       "        vertical-align: top;\n",
       "    }\n",
       "\n",
       "    .dataframe thead th {\n",
       "        text-align: right;\n",
       "    }\n",
       "</style>\n",
       "<table border=\"1\" class=\"dataframe\">\n",
       "  <thead>\n",
       "    <tr style=\"text-align: right;\">\n",
       "      <th></th>\n",
       "      <th>OBJECTID</th>\n",
       "      <th>AREATYPE</th>\n",
       "      <th>DEFRULE</th>\n",
       "      <th>DISPORDER</th>\n",
       "      <th>FILL</th>\n",
       "      <th>STROKE</th>\n",
       "      <th>RFB</th>\n",
       "      <th>SHAPE_LENG</th>\n",
       "      <th>SHAPE_AREA</th>\n",
       "      <th>ANCFEATURE</th>\n",
       "      <th>Perform</th>\n",
       "      <th>Collapse</th>\n",
       "      <th>Collapse2</th>\n",
       "      <th>geometry</th>\n",
       "    </tr>\n",
       "  </thead>\n",
       "  <tbody>\n",
       "    <tr>\n",
       "      <th>0</th>\n",
       "      <td>31.0</td>\n",
       "      <td>1.0</td>\n",
       "      <td>4.0</td>\n",
       "      <td>1.0</td>\n",
       "      <td>1.0</td>\n",
       "      <td>3.0</td>\n",
       "      <td>PSC</td>\n",
       "      <td>507.432030</td>\n",
       "      <td>112.762158</td>\n",
       "      <td>None</td>\n",
       "      <td>31.5</td>\n",
       "      <td>76.89</td>\n",
       "      <td>55.88</td>\n",
       "      <td>MULTIPOLYGON (((-141.39660 60.13760, -141.3949...</td>\n",
       "    </tr>\n",
       "    <tr>\n",
       "      <th>1</th>\n",
       "      <td>85.0</td>\n",
       "      <td>1.0</td>\n",
       "      <td>5.0</td>\n",
       "      <td>2.0</td>\n",
       "      <td>4.0</td>\n",
       "      <td>3.0</td>\n",
       "      <td>PSC</td>\n",
       "      <td>490.843924</td>\n",
       "      <td>100.156167</td>\n",
       "      <td>None</td>\n",
       "      <td>31.5</td>\n",
       "      <td>76.89</td>\n",
       "      <td>55.88</td>\n",
       "      <td>MULTIPOLYGON (((-144.04830 60.03080, -144.0333...</td>\n",
       "    </tr>\n",
       "  </tbody>\n",
       "</table>\n",
       "</div>"
      ],
      "text/plain": [
       "   OBJECTID  AREATYPE  DEFRULE  DISPORDER  FILL  STROKE  RFB  SHAPE_LENG  \\\n",
       "0      31.0       1.0      4.0        1.0   1.0     3.0  PSC  507.432030   \n",
       "1      85.0       1.0      5.0        2.0   4.0     3.0  PSC  490.843924   \n",
       "\n",
       "   SHAPE_AREA ANCFEATURE  Perform  Collapse  Collapse2  \\\n",
       "0  112.762158       None     31.5     76.89      55.88   \n",
       "1  100.156167       None     31.5     76.89      55.88   \n",
       "\n",
       "                                            geometry  \n",
       "0  MULTIPOLYGON (((-141.39660 60.13760, -141.3949...  \n",
       "1  MULTIPOLYGON (((-144.04830 60.03080, -144.0333...  "
      ]
     },
     "execution_count": 190,
     "metadata": {},
     "output_type": "execute_result"
    }
   ],
   "source": [
    "PSC.head(10)"
   ]
  },
  {
   "cell_type": "code",
   "execution_count": 191,
   "id": "ab5189f4-cdf9-41a7-9982-ff60f9e9cd89",
   "metadata": {},
   "outputs": [],
   "source": [
    "PSCEffort = GFW2019Points.clip(PSC)"
   ]
  },
  {
   "cell_type": "code",
   "execution_count": 192,
   "id": "18a4faaa-1b4b-4549-a14a-684fd824cc5a",
   "metadata": {},
   "outputs": [
    {
     "data": {
      "text/plain": [
       "541581"
      ]
     },
     "execution_count": 192,
     "metadata": {},
     "output_type": "execute_result"
    }
   ],
   "source": [
    "len(PSCEffort)"
   ]
  },
  {
   "cell_type": "code",
   "execution_count": 193,
   "id": "66118578-f48a-4337-8bf7-bea030a6d911",
   "metadata": {},
   "outputs": [
    {
     "data": {
      "text/html": [
       "<div>\n",
       "<style scoped>\n",
       "    .dataframe tbody tr th:only-of-type {\n",
       "        vertical-align: middle;\n",
       "    }\n",
       "\n",
       "    .dataframe tbody tr th {\n",
       "        vertical-align: top;\n",
       "    }\n",
       "\n",
       "    .dataframe thead th {\n",
       "        text-align: right;\n",
       "    }\n",
       "</style>\n",
       "<table border=\"1\" class=\"dataframe\">\n",
       "  <thead>\n",
       "    <tr style=\"text-align: right;\">\n",
       "      <th></th>\n",
       "      <th>date</th>\n",
       "      <th>mmsi</th>\n",
       "      <th>hours</th>\n",
       "      <th>fishing_hours</th>\n",
       "      <th>geometry</th>\n",
       "    </tr>\n",
       "  </thead>\n",
       "  <tbody>\n",
       "    <tr>\n",
       "      <th>14157075</th>\n",
       "      <td>2019-04-12</td>\n",
       "      <td>367618000</td>\n",
       "      <td>0.4380</td>\n",
       "      <td>0.0</td>\n",
       "      <td>POINT (-129.40000 46.60000)</td>\n",
       "    </tr>\n",
       "    <tr>\n",
       "      <th>14124678</th>\n",
       "      <td>2019-04-12</td>\n",
       "      <td>367618000</td>\n",
       "      <td>0.1641</td>\n",
       "      <td>0.0</td>\n",
       "      <td>POINT (-129.60000 46.70000)</td>\n",
       "    </tr>\n",
       "  </tbody>\n",
       "</table>\n",
       "</div>"
      ],
      "text/plain": [
       "                date       mmsi   hours  fishing_hours  \\\n",
       "14157075  2019-04-12  367618000  0.4380            0.0   \n",
       "14124678  2019-04-12  367618000  0.1641            0.0   \n",
       "\n",
       "                             geometry  \n",
       "14157075  POINT (-129.40000 46.60000)  \n",
       "14124678  POINT (-129.60000 46.70000)  "
      ]
     },
     "execution_count": 193,
     "metadata": {},
     "output_type": "execute_result"
    }
   ],
   "source": [
    "PSCEffort.head(2)"
   ]
  },
  {
   "cell_type": "code",
   "execution_count": 194,
   "id": "f40515f8-6363-4f59-810e-bdb74f51be2b",
   "metadata": {},
   "outputs": [],
   "source": [
    "PSCEffort = pd.merge(PSCEffort, flag_gear_df[['mmsi','flag_gfw','vessel_class_gfw']], on='mmsi', how='left')"
   ]
  },
  {
   "cell_type": "code",
   "execution_count": 195,
   "id": "da5ac5fc-d209-4086-a238-29d2964dadb3",
   "metadata": {},
   "outputs": [
    {
     "name": "stdout",
     "output_type": "stream",
     "text": [
      "247010.41730000006\n"
     ]
    }
   ],
   "source": [
    "PSCFishSUM = PSCEffort['fishing_hours'].sum()\n",
    "print(PSCFishSUM)"
   ]
  },
  {
   "cell_type": "markdown",
   "id": "88c0966e-3982-4eeb-b888-4690454b55d4",
   "metadata": {},
   "source": [
    "#### add the sum value to the RFMO polygon"
   ]
  },
  {
   "cell_type": "code",
   "execution_count": 196,
   "id": "99a69bba-8a7a-4519-8f81-a43eed3cf369",
   "metadata": {},
   "outputs": [],
   "source": [
    "PSC['FishingEffort_2019'] = PSCFishSUM"
   ]
  },
  {
   "cell_type": "code",
   "execution_count": 197,
   "id": "02de1806-a41b-4eb1-ba24-9ef258954a5b",
   "metadata": {},
   "outputs": [
    {
     "data": {
      "text/html": [
       "<div>\n",
       "<style scoped>\n",
       "    .dataframe tbody tr th:only-of-type {\n",
       "        vertical-align: middle;\n",
       "    }\n",
       "\n",
       "    .dataframe tbody tr th {\n",
       "        vertical-align: top;\n",
       "    }\n",
       "\n",
       "    .dataframe thead th {\n",
       "        text-align: right;\n",
       "    }\n",
       "</style>\n",
       "<table border=\"1\" class=\"dataframe\">\n",
       "  <thead>\n",
       "    <tr style=\"text-align: right;\">\n",
       "      <th></th>\n",
       "      <th>OBJECTID</th>\n",
       "      <th>AREATYPE</th>\n",
       "      <th>DEFRULE</th>\n",
       "      <th>DISPORDER</th>\n",
       "      <th>FILL</th>\n",
       "      <th>STROKE</th>\n",
       "      <th>RFB</th>\n",
       "      <th>SHAPE_LENG</th>\n",
       "      <th>SHAPE_AREA</th>\n",
       "      <th>ANCFEATURE</th>\n",
       "      <th>Perform</th>\n",
       "      <th>Collapse</th>\n",
       "      <th>Collapse2</th>\n",
       "      <th>geometry</th>\n",
       "      <th>FishingEffort_2019</th>\n",
       "    </tr>\n",
       "  </thead>\n",
       "  <tbody>\n",
       "    <tr>\n",
       "      <th>0</th>\n",
       "      <td>31.0</td>\n",
       "      <td>1.0</td>\n",
       "      <td>4.0</td>\n",
       "      <td>1.0</td>\n",
       "      <td>1.0</td>\n",
       "      <td>3.0</td>\n",
       "      <td>PSC</td>\n",
       "      <td>507.432030</td>\n",
       "      <td>112.762158</td>\n",
       "      <td>None</td>\n",
       "      <td>31.5</td>\n",
       "      <td>76.89</td>\n",
       "      <td>55.88</td>\n",
       "      <td>MULTIPOLYGON (((-141.39660 60.13760, -141.3949...</td>\n",
       "      <td>247010.4173</td>\n",
       "    </tr>\n",
       "    <tr>\n",
       "      <th>1</th>\n",
       "      <td>85.0</td>\n",
       "      <td>1.0</td>\n",
       "      <td>5.0</td>\n",
       "      <td>2.0</td>\n",
       "      <td>4.0</td>\n",
       "      <td>3.0</td>\n",
       "      <td>PSC</td>\n",
       "      <td>490.843924</td>\n",
       "      <td>100.156167</td>\n",
       "      <td>None</td>\n",
       "      <td>31.5</td>\n",
       "      <td>76.89</td>\n",
       "      <td>55.88</td>\n",
       "      <td>MULTIPOLYGON (((-144.04830 60.03080, -144.0333...</td>\n",
       "      <td>247010.4173</td>\n",
       "    </tr>\n",
       "  </tbody>\n",
       "</table>\n",
       "</div>"
      ],
      "text/plain": [
       "   OBJECTID  AREATYPE  DEFRULE  DISPORDER  FILL  STROKE  RFB  SHAPE_LENG  \\\n",
       "0      31.0       1.0      4.0        1.0   1.0     3.0  PSC  507.432030   \n",
       "1      85.0       1.0      5.0        2.0   4.0     3.0  PSC  490.843924   \n",
       "\n",
       "   SHAPE_AREA ANCFEATURE  Perform  Collapse  Collapse2  \\\n",
       "0  112.762158       None     31.5     76.89      55.88   \n",
       "1  100.156167       None     31.5     76.89      55.88   \n",
       "\n",
       "                                            geometry  FishingEffort_2019  \n",
       "0  MULTIPOLYGON (((-141.39660 60.13760, -141.3949...         247010.4173  \n",
       "1  MULTIPOLYGON (((-144.04830 60.03080, -144.0333...         247010.4173  "
      ]
     },
     "execution_count": 197,
     "metadata": {},
     "output_type": "execute_result"
    }
   ],
   "source": [
    "PSC.head(2)"
   ]
  },
  {
   "cell_type": "markdown",
   "id": "8758a444-b819-403d-8dfa-f5013d3e47e8",
   "metadata": {},
   "source": [
    "#### group by flag state"
   ]
  },
  {
   "cell_type": "code",
   "execution_count": 198,
   "id": "638f1aec-72e7-448e-9428-04b6513a5de2",
   "metadata": {},
   "outputs": [],
   "source": [
    "PSC_flagSUM = PSCEffort.groupby(['flag_gfw'])['fishing_hours'].sum().reset_index()"
   ]
  },
  {
   "cell_type": "code",
   "execution_count": 199,
   "id": "625c2e43-a658-4dd5-b93b-3e2843e49865",
   "metadata": {},
   "outputs": [
    {
     "data": {
      "text/html": [
       "<div>\n",
       "<style scoped>\n",
       "    .dataframe tbody tr th:only-of-type {\n",
       "        vertical-align: middle;\n",
       "    }\n",
       "\n",
       "    .dataframe tbody tr th {\n",
       "        vertical-align: top;\n",
       "    }\n",
       "\n",
       "    .dataframe thead th {\n",
       "        text-align: right;\n",
       "    }\n",
       "</style>\n",
       "<table border=\"1\" class=\"dataframe\">\n",
       "  <thead>\n",
       "    <tr style=\"text-align: right;\">\n",
       "      <th></th>\n",
       "      <th>flag_gfw</th>\n",
       "      <th>fishing_hours</th>\n",
       "    </tr>\n",
       "  </thead>\n",
       "  <tbody>\n",
       "    <tr>\n",
       "      <th>0</th>\n",
       "      <td>CAN</td>\n",
       "      <td>130337.6536</td>\n",
       "    </tr>\n",
       "    <tr>\n",
       "      <th>1</th>\n",
       "      <td>USA</td>\n",
       "      <td>116590.7656</td>\n",
       "    </tr>\n",
       "  </tbody>\n",
       "</table>\n",
       "</div>"
      ],
      "text/plain": [
       "  flag_gfw  fishing_hours\n",
       "0      CAN    130337.6536\n",
       "1      USA    116590.7656"
      ]
     },
     "execution_count": 199,
     "metadata": {},
     "output_type": "execute_result"
    }
   ],
   "source": [
    "PSC_flagSUM.head(15)"
   ]
  },
  {
   "cell_type": "code",
   "execution_count": 200,
   "id": "c2886487-847e-4c6c-a43d-eb50e856151b",
   "metadata": {},
   "outputs": [],
   "source": [
    "del PSCEffort"
   ]
  },
  {
   "cell_type": "markdown",
   "id": "3a09f822-848c-479a-ae4c-fefb4dcc157d",
   "metadata": {},
   "source": [
    "##### calculate area of PSC change to appropriate polar equal area projection"
   ]
  },
  {
   "cell_type": "code",
   "execution_count": 201,
   "id": "cb1c7d76-83db-4b43-8675-a3585a4221d2",
   "metadata": {},
   "outputs": [
    {
     "data": {
      "text/plain": [
       "<Derived Projected CRS: ESRI:54012>\n",
       "Name: World_Eckert_IV\n",
       "Axis Info [cartesian]:\n",
       "- E[east]: Easting (metre)\n",
       "- N[north]: Northing (metre)\n",
       "Area of Use:\n",
       "- name: World.\n",
       "- bounds: (-180.0, -90.0, 180.0, 90.0)\n",
       "Coordinate Operation:\n",
       "- name: World_Eckert_IV\n",
       "- method: Eckert IV\n",
       "Datum: World Geodetic System 1984\n",
       "- Ellipsoid: WGS 84\n",
       "- Prime Meridian: Greenwich"
      ]
     },
     "execution_count": 201,
     "metadata": {},
     "output_type": "execute_result"
    }
   ],
   "source": [
    "PSC = PSC.to_crs(\"ESRI:54012\")\n",
    "PSC.crs"
   ]
  },
  {
   "cell_type": "code",
   "execution_count": 202,
   "id": "d9a8f89b-be65-46c3-b049-e1852fb6cf3b",
   "metadata": {},
   "outputs": [
    {
     "data": {
      "text/html": [
       "<div>\n",
       "<style scoped>\n",
       "    .dataframe tbody tr th:only-of-type {\n",
       "        vertical-align: middle;\n",
       "    }\n",
       "\n",
       "    .dataframe tbody tr th {\n",
       "        vertical-align: top;\n",
       "    }\n",
       "\n",
       "    .dataframe thead th {\n",
       "        text-align: right;\n",
       "    }\n",
       "</style>\n",
       "<table border=\"1\" class=\"dataframe\">\n",
       "  <thead>\n",
       "    <tr style=\"text-align: right;\">\n",
       "      <th></th>\n",
       "      <th>OBJECTID</th>\n",
       "      <th>AREATYPE</th>\n",
       "      <th>DEFRULE</th>\n",
       "      <th>DISPORDER</th>\n",
       "      <th>FILL</th>\n",
       "      <th>STROKE</th>\n",
       "      <th>RFB</th>\n",
       "      <th>SHAPE_LENG</th>\n",
       "      <th>SHAPE_AREA</th>\n",
       "      <th>ANCFEATURE</th>\n",
       "      <th>Perform</th>\n",
       "      <th>Collapse</th>\n",
       "      <th>Collapse2</th>\n",
       "      <th>geometry</th>\n",
       "      <th>FishingEffort_2019</th>\n",
       "      <th>area</th>\n",
       "    </tr>\n",
       "  </thead>\n",
       "  <tbody>\n",
       "    <tr>\n",
       "      <th>0</th>\n",
       "      <td>31.0</td>\n",
       "      <td>1.0</td>\n",
       "      <td>4.0</td>\n",
       "      <td>1.0</td>\n",
       "      <td>1.0</td>\n",
       "      <td>3.0</td>\n",
       "      <td>PSC</td>\n",
       "      <td>507.432030</td>\n",
       "      <td>112.762158</td>\n",
       "      <td>None</td>\n",
       "      <td>31.5</td>\n",
       "      <td>76.89</td>\n",
       "      <td>55.88</td>\n",
       "      <td>MULTIPOLYGON (((-10370053.810 7007722.505, -10...</td>\n",
       "      <td>247010.4173</td>\n",
       "      <td>839914.717785</td>\n",
       "    </tr>\n",
       "    <tr>\n",
       "      <th>1</th>\n",
       "      <td>85.0</td>\n",
       "      <td>1.0</td>\n",
       "      <td>5.0</td>\n",
       "      <td>2.0</td>\n",
       "      <td>4.0</td>\n",
       "      <td>3.0</td>\n",
       "      <td>PSC</td>\n",
       "      <td>490.843924</td>\n",
       "      <td>100.156167</td>\n",
       "      <td>None</td>\n",
       "      <td>31.5</td>\n",
       "      <td>76.89</td>\n",
       "      <td>55.88</td>\n",
       "      <td>MULTIPOLYGON (((-10575149.540 6998727.200, -10...</td>\n",
       "      <td>247010.4173</td>\n",
       "      <td>722371.161757</td>\n",
       "    </tr>\n",
       "  </tbody>\n",
       "</table>\n",
       "</div>"
      ],
      "text/plain": [
       "   OBJECTID  AREATYPE  DEFRULE  DISPORDER  FILL  STROKE  RFB  SHAPE_LENG  \\\n",
       "0      31.0       1.0      4.0        1.0   1.0     3.0  PSC  507.432030   \n",
       "1      85.0       1.0      5.0        2.0   4.0     3.0  PSC  490.843924   \n",
       "\n",
       "   SHAPE_AREA ANCFEATURE  Perform  Collapse  Collapse2  \\\n",
       "0  112.762158       None     31.5     76.89      55.88   \n",
       "1  100.156167       None     31.5     76.89      55.88   \n",
       "\n",
       "                                            geometry  FishingEffort_2019  \\\n",
       "0  MULTIPOLYGON (((-10370053.810 7007722.505, -10...         247010.4173   \n",
       "1  MULTIPOLYGON (((-10575149.540 6998727.200, -10...         247010.4173   \n",
       "\n",
       "            area  \n",
       "0  839914.717785  \n",
       "1  722371.161757  "
      ]
     },
     "execution_count": 202,
     "metadata": {},
     "output_type": "execute_result"
    }
   ],
   "source": [
    "PSC[\"area\"] = PSC['geometry'].area/ 10**6\n",
    "PSC.head(2)"
   ]
  },
  {
   "cell_type": "code",
   "execution_count": 203,
   "id": "6c2f0ac8-d51f-4041-898b-ad6d2f5bf24e",
   "metadata": {},
   "outputs": [
    {
     "name": "stderr",
     "output_type": "stream",
     "text": [
      "/tmp/ipykernel_462/3709390586.py:1: UserWarning: Column names longer than 10 characters will be truncated when saved to ESRI Shapefile.\n",
      "  PSC.to_file('RFB_PSC_New.shp')\n"
     ]
    }
   ],
   "source": [
    "PSC.to_file('RFB_PSC_New.shp')"
   ]
  },
  {
   "cell_type": "markdown",
   "id": "5006cdfa-5f34-4d57-8416-c482bd270e5d",
   "metadata": {
    "tags": []
   },
   "source": [
    "### SEAFO"
   ]
  },
  {
   "cell_type": "code",
   "execution_count": 204,
   "id": "ae472bfa-e81e-4819-a006-05c43e673ed8",
   "metadata": {
    "tags": []
   },
   "outputs": [],
   "source": [
    "SEAFO = SEAFO.to_crs('EPSG:4326')"
   ]
  },
  {
   "cell_type": "code",
   "execution_count": 205,
   "id": "527e65eb-3625-401e-9859-f0e0d09ecb12",
   "metadata": {},
   "outputs": [
    {
     "data": {
      "text/html": [
       "<div>\n",
       "<style scoped>\n",
       "    .dataframe tbody tr th:only-of-type {\n",
       "        vertical-align: middle;\n",
       "    }\n",
       "\n",
       "    .dataframe tbody tr th {\n",
       "        vertical-align: top;\n",
       "    }\n",
       "\n",
       "    .dataframe thead th {\n",
       "        text-align: right;\n",
       "    }\n",
       "</style>\n",
       "<table border=\"1\" class=\"dataframe\">\n",
       "  <thead>\n",
       "    <tr style=\"text-align: right;\">\n",
       "      <th></th>\n",
       "      <th>OBJECTID</th>\n",
       "      <th>AREATYPE</th>\n",
       "      <th>DEFRULE</th>\n",
       "      <th>DISPORDER</th>\n",
       "      <th>FILL</th>\n",
       "      <th>STROKE</th>\n",
       "      <th>RFB</th>\n",
       "      <th>SHAPE_LENG</th>\n",
       "      <th>SHAPE_AREA</th>\n",
       "      <th>ANCFEATURE</th>\n",
       "      <th>Perform</th>\n",
       "      <th>Collapse</th>\n",
       "      <th>Collapse2</th>\n",
       "      <th>geometry</th>\n",
       "    </tr>\n",
       "  </thead>\n",
       "  <tbody>\n",
       "    <tr>\n",
       "      <th>0</th>\n",
       "      <td>26.0</td>\n",
       "      <td>1.0</td>\n",
       "      <td>4.0</td>\n",
       "      <td>1.0</td>\n",
       "      <td>1.0</td>\n",
       "      <td>1.0</td>\n",
       "      <td>SEAFO</td>\n",
       "      <td>274.151053</td>\n",
       "      <td>1505.45815</td>\n",
       "      <td>None</td>\n",
       "      <td>47.5</td>\n",
       "      <td>76.89</td>\n",
       "      <td>57.14</td>\n",
       "      <td>POLYGON ((-10.00000 -3.76690, -10.00000 -4.744...</td>\n",
       "    </tr>\n",
       "  </tbody>\n",
       "</table>\n",
       "</div>"
      ],
      "text/plain": [
       "   OBJECTID  AREATYPE  DEFRULE  DISPORDER  FILL  STROKE    RFB  SHAPE_LENG  \\\n",
       "0      26.0       1.0      4.0        1.0   1.0     1.0  SEAFO  274.151053   \n",
       "\n",
       "   SHAPE_AREA ANCFEATURE  Perform  Collapse  Collapse2  \\\n",
       "0  1505.45815       None     47.5     76.89      57.14   \n",
       "\n",
       "                                            geometry  \n",
       "0  POLYGON ((-10.00000 -3.76690, -10.00000 -4.744...  "
      ]
     },
     "execution_count": 205,
     "metadata": {},
     "output_type": "execute_result"
    }
   ],
   "source": [
    "SEAFO.head(10)"
   ]
  },
  {
   "cell_type": "code",
   "execution_count": 206,
   "id": "e150af9b-0d5d-4009-b241-02d0045b3931",
   "metadata": {},
   "outputs": [],
   "source": [
    "SEAFOEffort = GFW2019Points.clip(SEAFO)"
   ]
  },
  {
   "cell_type": "code",
   "execution_count": 207,
   "id": "9a1263fd-0ea6-4e01-8fe0-91ba3b11c4d4",
   "metadata": {},
   "outputs": [
    {
     "data": {
      "text/plain": [
       "584454"
      ]
     },
     "execution_count": 207,
     "metadata": {},
     "output_type": "execute_result"
    }
   ],
   "source": [
    "len(SEAFOEffort)"
   ]
  },
  {
   "cell_type": "code",
   "execution_count": 208,
   "id": "f2840fc4-2cb8-44a9-8d44-c64d2983a3d3",
   "metadata": {},
   "outputs": [
    {
     "data": {
      "text/html": [
       "<div>\n",
       "<style scoped>\n",
       "    .dataframe tbody tr th:only-of-type {\n",
       "        vertical-align: middle;\n",
       "    }\n",
       "\n",
       "    .dataframe tbody tr th {\n",
       "        vertical-align: top;\n",
       "    }\n",
       "\n",
       "    .dataframe thead th {\n",
       "        text-align: right;\n",
       "    }\n",
       "</style>\n",
       "<table border=\"1\" class=\"dataframe\">\n",
       "  <thead>\n",
       "    <tr style=\"text-align: right;\">\n",
       "      <th></th>\n",
       "      <th>date</th>\n",
       "      <th>mmsi</th>\n",
       "      <th>hours</th>\n",
       "      <th>fishing_hours</th>\n",
       "      <th>geometry</th>\n",
       "    </tr>\n",
       "  </thead>\n",
       "  <tbody>\n",
       "    <tr>\n",
       "      <th>38326879</th>\n",
       "      <td>2019-09-26</td>\n",
       "      <td>259539000</td>\n",
       "      <td>0.5166</td>\n",
       "      <td>0.0</td>\n",
       "      <td>POINT (-20.00000 -49.40000)</td>\n",
       "    </tr>\n",
       "    <tr>\n",
       "      <th>34713655</th>\n",
       "      <td>2019-09-07</td>\n",
       "      <td>412217999</td>\n",
       "      <td>0.5030</td>\n",
       "      <td>0.0</td>\n",
       "      <td>POINT (-20.00000 -48.90000)</td>\n",
       "    </tr>\n",
       "  </tbody>\n",
       "</table>\n",
       "</div>"
      ],
      "text/plain": [
       "                date       mmsi   hours  fishing_hours  \\\n",
       "38326879  2019-09-26  259539000  0.5166            0.0   \n",
       "34713655  2019-09-07  412217999  0.5030            0.0   \n",
       "\n",
       "                             geometry  \n",
       "38326879  POINT (-20.00000 -49.40000)  \n",
       "34713655  POINT (-20.00000 -48.90000)  "
      ]
     },
     "execution_count": 208,
     "metadata": {},
     "output_type": "execute_result"
    }
   ],
   "source": [
    "SEAFOEffort.head(2)"
   ]
  },
  {
   "cell_type": "code",
   "execution_count": 209,
   "id": "0d16936f-572b-4ed8-8c59-7fcbaf96ddf3",
   "metadata": {},
   "outputs": [],
   "source": [
    "SEAFOEffort = pd.merge(SEAFOEffort, flag_gear_df[['mmsi','flag_gfw','vessel_class_gfw']], on='mmsi', how='left')"
   ]
  },
  {
   "cell_type": "code",
   "execution_count": 210,
   "id": "416a586d-1067-4291-9765-e84ee0d3af7a",
   "metadata": {},
   "outputs": [
    {
     "name": "stdout",
     "output_type": "stream",
     "text": [
      "365893.185\n"
     ]
    }
   ],
   "source": [
    "SEAFOFishSUM = SEAFOEffort['fishing_hours'].sum()\n",
    "print(SEAFOFishSUM)"
   ]
  },
  {
   "cell_type": "markdown",
   "id": "6d2b6c72-5edb-4ddb-bf3b-a579bbca202e",
   "metadata": {},
   "source": [
    "#### add the sum value to the RFMO polygon"
   ]
  },
  {
   "cell_type": "code",
   "execution_count": 211,
   "id": "ff1b87a4-0625-4572-989c-ea3613bf21a5",
   "metadata": {},
   "outputs": [],
   "source": [
    "SEAFO['FishingEffort_2019'] = SEAFOFishSUM"
   ]
  },
  {
   "cell_type": "code",
   "execution_count": 212,
   "id": "3f799af5-4bd0-4b8f-98a4-95dce5bad68f",
   "metadata": {},
   "outputs": [
    {
     "data": {
      "text/html": [
       "<div>\n",
       "<style scoped>\n",
       "    .dataframe tbody tr th:only-of-type {\n",
       "        vertical-align: middle;\n",
       "    }\n",
       "\n",
       "    .dataframe tbody tr th {\n",
       "        vertical-align: top;\n",
       "    }\n",
       "\n",
       "    .dataframe thead th {\n",
       "        text-align: right;\n",
       "    }\n",
       "</style>\n",
       "<table border=\"1\" class=\"dataframe\">\n",
       "  <thead>\n",
       "    <tr style=\"text-align: right;\">\n",
       "      <th></th>\n",
       "      <th>OBJECTID</th>\n",
       "      <th>AREATYPE</th>\n",
       "      <th>DEFRULE</th>\n",
       "      <th>DISPORDER</th>\n",
       "      <th>FILL</th>\n",
       "      <th>STROKE</th>\n",
       "      <th>RFB</th>\n",
       "      <th>SHAPE_LENG</th>\n",
       "      <th>SHAPE_AREA</th>\n",
       "      <th>ANCFEATURE</th>\n",
       "      <th>Perform</th>\n",
       "      <th>Collapse</th>\n",
       "      <th>Collapse2</th>\n",
       "      <th>geometry</th>\n",
       "      <th>FishingEffort_2019</th>\n",
       "    </tr>\n",
       "  </thead>\n",
       "  <tbody>\n",
       "    <tr>\n",
       "      <th>0</th>\n",
       "      <td>26.0</td>\n",
       "      <td>1.0</td>\n",
       "      <td>4.0</td>\n",
       "      <td>1.0</td>\n",
       "      <td>1.0</td>\n",
       "      <td>1.0</td>\n",
       "      <td>SEAFO</td>\n",
       "      <td>274.151053</td>\n",
       "      <td>1505.45815</td>\n",
       "      <td>None</td>\n",
       "      <td>47.5</td>\n",
       "      <td>76.89</td>\n",
       "      <td>57.14</td>\n",
       "      <td>POLYGON ((-10.00000 -3.76690, -10.00000 -4.744...</td>\n",
       "      <td>365893.185</td>\n",
       "    </tr>\n",
       "  </tbody>\n",
       "</table>\n",
       "</div>"
      ],
      "text/plain": [
       "   OBJECTID  AREATYPE  DEFRULE  DISPORDER  FILL  STROKE    RFB  SHAPE_LENG  \\\n",
       "0      26.0       1.0      4.0        1.0   1.0     1.0  SEAFO  274.151053   \n",
       "\n",
       "   SHAPE_AREA ANCFEATURE  Perform  Collapse  Collapse2  \\\n",
       "0  1505.45815       None     47.5     76.89      57.14   \n",
       "\n",
       "                                            geometry  FishingEffort_2019  \n",
       "0  POLYGON ((-10.00000 -3.76690, -10.00000 -4.744...          365893.185  "
      ]
     },
     "execution_count": 212,
     "metadata": {},
     "output_type": "execute_result"
    }
   ],
   "source": [
    "SEAFO.head(2)"
   ]
  },
  {
   "cell_type": "markdown",
   "id": "5cfba3a4-6668-4cb9-811c-422c3e6aaa9b",
   "metadata": {},
   "source": [
    "#### group by flag state"
   ]
  },
  {
   "cell_type": "code",
   "execution_count": 213,
   "id": "dabf079a-3515-4cbc-a264-b8affaa2a9f9",
   "metadata": {},
   "outputs": [],
   "source": [
    "SEAFO_flagSUM = SEAFOEffort.groupby(['flag_gfw'])['fishing_hours'].sum().reset_index()"
   ]
  },
  {
   "cell_type": "code",
   "execution_count": 214,
   "id": "186e4498-1e9c-472f-93c4-ad53cc374eda",
   "metadata": {},
   "outputs": [
    {
     "data": {
      "text/html": [
       "<div>\n",
       "<style scoped>\n",
       "    .dataframe tbody tr th:only-of-type {\n",
       "        vertical-align: middle;\n",
       "    }\n",
       "\n",
       "    .dataframe tbody tr th {\n",
       "        vertical-align: top;\n",
       "    }\n",
       "\n",
       "    .dataframe thead th {\n",
       "        text-align: right;\n",
       "    }\n",
       "</style>\n",
       "<table border=\"1\" class=\"dataframe\">\n",
       "  <thead>\n",
       "    <tr style=\"text-align: right;\">\n",
       "      <th></th>\n",
       "      <th>flag_gfw</th>\n",
       "      <th>fishing_hours</th>\n",
       "    </tr>\n",
       "  </thead>\n",
       "  <tbody>\n",
       "    <tr>\n",
       "      <th>0</th>\n",
       "      <td>AGO</td>\n",
       "      <td>0.0000</td>\n",
       "    </tr>\n",
       "    <tr>\n",
       "      <th>1</th>\n",
       "      <td>BLZ</td>\n",
       "      <td>595.7267</td>\n",
       "    </tr>\n",
       "    <tr>\n",
       "      <th>2</th>\n",
       "      <td>CHN</td>\n",
       "      <td>18706.0858</td>\n",
       "    </tr>\n",
       "    <tr>\n",
       "      <th>3</th>\n",
       "      <td>CIV</td>\n",
       "      <td>0.0000</td>\n",
       "    </tr>\n",
       "    <tr>\n",
       "      <th>4</th>\n",
       "      <td>COK</td>\n",
       "      <td>67.6166</td>\n",
       "    </tr>\n",
       "    <tr>\n",
       "      <th>5</th>\n",
       "      <td>CPV</td>\n",
       "      <td>19.3709</td>\n",
       "    </tr>\n",
       "    <tr>\n",
       "      <th>6</th>\n",
       "      <td>CUW</td>\n",
       "      <td>51.6428</td>\n",
       "    </tr>\n",
       "    <tr>\n",
       "      <th>7</th>\n",
       "      <td>ESP</td>\n",
       "      <td>57003.8865</td>\n",
       "    </tr>\n",
       "    <tr>\n",
       "      <th>8</th>\n",
       "      <td>FLK</td>\n",
       "      <td>2.5047</td>\n",
       "    </tr>\n",
       "    <tr>\n",
       "      <th>9</th>\n",
       "      <td>FRA</td>\n",
       "      <td>410.8018</td>\n",
       "    </tr>\n",
       "    <tr>\n",
       "      <th>10</th>\n",
       "      <td>GBR</td>\n",
       "      <td>0.0000</td>\n",
       "    </tr>\n",
       "    <tr>\n",
       "      <th>11</th>\n",
       "      <td>GEO</td>\n",
       "      <td>1.6727</td>\n",
       "    </tr>\n",
       "    <tr>\n",
       "      <th>12</th>\n",
       "      <td>GHA</td>\n",
       "      <td>4720.8087</td>\n",
       "    </tr>\n",
       "    <tr>\n",
       "      <th>13</th>\n",
       "      <td>GTM</td>\n",
       "      <td>59.5778</td>\n",
       "    </tr>\n",
       "    <tr>\n",
       "      <th>14</th>\n",
       "      <td>JPN</td>\n",
       "      <td>81128.1608</td>\n",
       "    </tr>\n",
       "  </tbody>\n",
       "</table>\n",
       "</div>"
      ],
      "text/plain": [
       "   flag_gfw  fishing_hours\n",
       "0       AGO         0.0000\n",
       "1       BLZ       595.7267\n",
       "2       CHN     18706.0858\n",
       "3       CIV         0.0000\n",
       "4       COK        67.6166\n",
       "5       CPV        19.3709\n",
       "6       CUW        51.6428\n",
       "7       ESP     57003.8865\n",
       "8       FLK         2.5047\n",
       "9       FRA       410.8018\n",
       "10      GBR         0.0000\n",
       "11      GEO         1.6727\n",
       "12      GHA      4720.8087\n",
       "13      GTM        59.5778\n",
       "14      JPN     81128.1608"
      ]
     },
     "execution_count": 214,
     "metadata": {},
     "output_type": "execute_result"
    }
   ],
   "source": [
    "SEAFO_flagSUM.head(15)"
   ]
  },
  {
   "cell_type": "code",
   "execution_count": 215,
   "id": "23e3b395-44b5-43f7-bc2f-c1d42e19d1ba",
   "metadata": {},
   "outputs": [],
   "source": [
    "del SEAFOEffort"
   ]
  },
  {
   "cell_type": "markdown",
   "id": "b5b658ce-e628-4a90-8128-f397400c1ea5",
   "metadata": {},
   "source": [
    "##### calculate area of SEAFO change to appropriate polar equal area projection"
   ]
  },
  {
   "cell_type": "code",
   "execution_count": 216,
   "id": "cd01b499-6eec-410e-81ad-717ecdb98d64",
   "metadata": {},
   "outputs": [
    {
     "data": {
      "text/plain": [
       "<Derived Projected CRS: ESRI:54012>\n",
       "Name: World_Eckert_IV\n",
       "Axis Info [cartesian]:\n",
       "- E[east]: Easting (metre)\n",
       "- N[north]: Northing (metre)\n",
       "Area of Use:\n",
       "- name: World.\n",
       "- bounds: (-180.0, -90.0, 180.0, 90.0)\n",
       "Coordinate Operation:\n",
       "- name: World_Eckert_IV\n",
       "- method: Eckert IV\n",
       "Datum: World Geodetic System 1984\n",
       "- Ellipsoid: WGS 84\n",
       "- Prime Meridian: Greenwich"
      ]
     },
     "execution_count": 216,
     "metadata": {},
     "output_type": "execute_result"
    }
   ],
   "source": [
    "SEAFO = SEAFO.to_crs(\"ESRI:54012\")\n",
    "SEAFO.crs"
   ]
  },
  {
   "cell_type": "code",
   "execution_count": 217,
   "id": "145426c1-3e40-40d0-ae00-00d551ee2ed5",
   "metadata": {},
   "outputs": [
    {
     "data": {
      "text/html": [
       "<div>\n",
       "<style scoped>\n",
       "    .dataframe tbody tr th:only-of-type {\n",
       "        vertical-align: middle;\n",
       "    }\n",
       "\n",
       "    .dataframe tbody tr th {\n",
       "        vertical-align: top;\n",
       "    }\n",
       "\n",
       "    .dataframe thead th {\n",
       "        text-align: right;\n",
       "    }\n",
       "</style>\n",
       "<table border=\"1\" class=\"dataframe\">\n",
       "  <thead>\n",
       "    <tr style=\"text-align: right;\">\n",
       "      <th></th>\n",
       "      <th>OBJECTID</th>\n",
       "      <th>AREATYPE</th>\n",
       "      <th>DEFRULE</th>\n",
       "      <th>DISPORDER</th>\n",
       "      <th>FILL</th>\n",
       "      <th>STROKE</th>\n",
       "      <th>RFB</th>\n",
       "      <th>SHAPE_LENG</th>\n",
       "      <th>SHAPE_AREA</th>\n",
       "      <th>ANCFEATURE</th>\n",
       "      <th>Perform</th>\n",
       "      <th>Collapse</th>\n",
       "      <th>Collapse2</th>\n",
       "      <th>geometry</th>\n",
       "      <th>FishingEffort_2019</th>\n",
       "      <th>area</th>\n",
       "    </tr>\n",
       "  </thead>\n",
       "  <tbody>\n",
       "    <tr>\n",
       "      <th>0</th>\n",
       "      <td>26.0</td>\n",
       "      <td>1.0</td>\n",
       "      <td>4.0</td>\n",
       "      <td>1.0</td>\n",
       "      <td>1.0</td>\n",
       "      <td>1.0</td>\n",
       "      <td>SEAFO</td>\n",
       "      <td>274.151053</td>\n",
       "      <td>1505.45815</td>\n",
       "      <td>None</td>\n",
       "      <td>47.5</td>\n",
       "      <td>76.89</td>\n",
       "      <td>57.14</td>\n",
       "      <td>POLYGON ((-939257.306 -496340.270, -938782.389...</td>\n",
       "      <td>365893.185</td>\n",
       "      <td>1.568218e+07</td>\n",
       "    </tr>\n",
       "  </tbody>\n",
       "</table>\n",
       "</div>"
      ],
      "text/plain": [
       "   OBJECTID  AREATYPE  DEFRULE  DISPORDER  FILL  STROKE    RFB  SHAPE_LENG  \\\n",
       "0      26.0       1.0      4.0        1.0   1.0     1.0  SEAFO  274.151053   \n",
       "\n",
       "   SHAPE_AREA ANCFEATURE  Perform  Collapse  Collapse2  \\\n",
       "0  1505.45815       None     47.5     76.89      57.14   \n",
       "\n",
       "                                            geometry  FishingEffort_2019  \\\n",
       "0  POLYGON ((-939257.306 -496340.270, -938782.389...          365893.185   \n",
       "\n",
       "           area  \n",
       "0  1.568218e+07  "
      ]
     },
     "execution_count": 217,
     "metadata": {},
     "output_type": "execute_result"
    }
   ],
   "source": [
    "SEAFO[\"area\"] = SEAFO['geometry'].area/ 10**6\n",
    "SEAFO.head(2)"
   ]
  },
  {
   "cell_type": "code",
   "execution_count": 218,
   "id": "a11e8cf4-8925-434b-a1e0-0b1df14fb6f7",
   "metadata": {},
   "outputs": [
    {
     "name": "stderr",
     "output_type": "stream",
     "text": [
      "/tmp/ipykernel_462/2711700028.py:1: UserWarning: Column names longer than 10 characters will be truncated when saved to ESRI Shapefile.\n",
      "  SEAFO.to_file('RFB_SEAFO_New.shp')\n"
     ]
    }
   ],
   "source": [
    "SEAFO.to_file('RFB_SEAFO_New.shp')"
   ]
  },
  {
   "cell_type": "markdown",
   "id": "f4da4210-d01c-4cd1-99f0-4f4e0f52c812",
   "metadata": {
    "tags": []
   },
   "source": [
    "### SIOFA"
   ]
  },
  {
   "cell_type": "code",
   "execution_count": 219,
   "id": "364bb989-2a8d-4b83-956e-12d16b3332c5",
   "metadata": {
    "tags": []
   },
   "outputs": [],
   "source": [
    "SIOFA = SIOFA.to_crs('EPSG:4326')"
   ]
  },
  {
   "cell_type": "code",
   "execution_count": 220,
   "id": "6a706cc8-f1ec-44ef-9477-41df5cacc154",
   "metadata": {},
   "outputs": [
    {
     "data": {
      "text/html": [
       "<div>\n",
       "<style scoped>\n",
       "    .dataframe tbody tr th:only-of-type {\n",
       "        vertical-align: middle;\n",
       "    }\n",
       "\n",
       "    .dataframe tbody tr th {\n",
       "        vertical-align: top;\n",
       "    }\n",
       "\n",
       "    .dataframe thead th {\n",
       "        text-align: right;\n",
       "    }\n",
       "</style>\n",
       "<table border=\"1\" class=\"dataframe\">\n",
       "  <thead>\n",
       "    <tr style=\"text-align: right;\">\n",
       "      <th></th>\n",
       "      <th>OBJECTID</th>\n",
       "      <th>AREATYPE</th>\n",
       "      <th>DEFRULE</th>\n",
       "      <th>DISPORDER</th>\n",
       "      <th>FILL</th>\n",
       "      <th>STROKE</th>\n",
       "      <th>RFB</th>\n",
       "      <th>SHAPE_LENG</th>\n",
       "      <th>SHAPE_AREA</th>\n",
       "      <th>ANCFEATURE</th>\n",
       "      <th>Perform</th>\n",
       "      <th>Collapse</th>\n",
       "      <th>Collapse2</th>\n",
       "      <th>geometry</th>\n",
       "    </tr>\n",
       "  </thead>\n",
       "  <tbody>\n",
       "    <tr>\n",
       "      <th>0</th>\n",
       "      <td>5.0</td>\n",
       "      <td>1.0</td>\n",
       "      <td>4.0</td>\n",
       "      <td>1.0</td>\n",
       "      <td>1.0</td>\n",
       "      <td>3.0</td>\n",
       "      <td>SIOFA</td>\n",
       "      <td>404.652431</td>\n",
       "      <td>2629.902136</td>\n",
       "      <td>None</td>\n",
       "      <td>45.0</td>\n",
       "      <td>76.89</td>\n",
       "      <td>57.14</td>\n",
       "      <td>POLYGON ((65.00000 10.00000, 65.00000 0.00000,...</td>\n",
       "    </tr>\n",
       "  </tbody>\n",
       "</table>\n",
       "</div>"
      ],
      "text/plain": [
       "   OBJECTID  AREATYPE  DEFRULE  DISPORDER  FILL  STROKE    RFB  SHAPE_LENG  \\\n",
       "0       5.0       1.0      4.0        1.0   1.0     3.0  SIOFA  404.652431   \n",
       "\n",
       "    SHAPE_AREA ANCFEATURE  Perform  Collapse  Collapse2  \\\n",
       "0  2629.902136       None     45.0     76.89      57.14   \n",
       "\n",
       "                                            geometry  \n",
       "0  POLYGON ((65.00000 10.00000, 65.00000 0.00000,...  "
      ]
     },
     "execution_count": 220,
     "metadata": {},
     "output_type": "execute_result"
    }
   ],
   "source": [
    "SIOFA.head(10)"
   ]
  },
  {
   "cell_type": "code",
   "execution_count": 221,
   "id": "63202c8b-72ab-4879-a648-000b6a5bfc3e",
   "metadata": {},
   "outputs": [],
   "source": [
    "SIOFAEffort = GFW2019Points.clip(SIOFA)"
   ]
  },
  {
   "cell_type": "code",
   "execution_count": 222,
   "id": "7c444396-ab45-4752-9848-fe3cc37e2576",
   "metadata": {},
   "outputs": [
    {
     "data": {
      "text/plain": [
       "1166487"
      ]
     },
     "execution_count": 222,
     "metadata": {},
     "output_type": "execute_result"
    }
   ],
   "source": [
    "len(SIOFAEffort)"
   ]
  },
  {
   "cell_type": "code",
   "execution_count": 223,
   "id": "148d4f21-7448-46ed-aa9e-aea1e9a9e6a3",
   "metadata": {},
   "outputs": [
    {
     "data": {
      "text/html": [
       "<div>\n",
       "<style scoped>\n",
       "    .dataframe tbody tr th:only-of-type {\n",
       "        vertical-align: middle;\n",
       "    }\n",
       "\n",
       "    .dataframe tbody tr th {\n",
       "        vertical-align: top;\n",
       "    }\n",
       "\n",
       "    .dataframe thead th {\n",
       "        text-align: right;\n",
       "    }\n",
       "</style>\n",
       "<table border=\"1\" class=\"dataframe\">\n",
       "  <thead>\n",
       "    <tr style=\"text-align: right;\">\n",
       "      <th></th>\n",
       "      <th>date</th>\n",
       "      <th>mmsi</th>\n",
       "      <th>hours</th>\n",
       "      <th>fishing_hours</th>\n",
       "      <th>geometry</th>\n",
       "    </tr>\n",
       "  </thead>\n",
       "  <tbody>\n",
       "    <tr>\n",
       "      <th>31534424</th>\n",
       "      <td>2019-08-20</td>\n",
       "      <td>503595000</td>\n",
       "      <td>1.183</td>\n",
       "      <td>0.0</td>\n",
       "      <td>POINT (80.00000 -50.80000)</td>\n",
       "    </tr>\n",
       "    <tr>\n",
       "      <th>31564042</th>\n",
       "      <td>2019-08-20</td>\n",
       "      <td>503595000</td>\n",
       "      <td>0.783</td>\n",
       "      <td>0.0</td>\n",
       "      <td>POINT (80.30000 -50.70000)</td>\n",
       "    </tr>\n",
       "  </tbody>\n",
       "</table>\n",
       "</div>"
      ],
      "text/plain": [
       "                date       mmsi  hours  fishing_hours  \\\n",
       "31534424  2019-08-20  503595000  1.183            0.0   \n",
       "31564042  2019-08-20  503595000  0.783            0.0   \n",
       "\n",
       "                            geometry  \n",
       "31534424  POINT (80.00000 -50.80000)  \n",
       "31564042  POINT (80.30000 -50.70000)  "
      ]
     },
     "execution_count": 223,
     "metadata": {},
     "output_type": "execute_result"
    }
   ],
   "source": [
    "SIOFAEffort.head(2)"
   ]
  },
  {
   "cell_type": "code",
   "execution_count": 224,
   "id": "62d1840d-3f50-40a7-aab2-043d188f7565",
   "metadata": {},
   "outputs": [],
   "source": [
    "SIOFAEffort = pd.merge(SIOFAEffort, flag_gear_df[['mmsi','flag_gfw','vessel_class_gfw']], on='mmsi', how='left')"
   ]
  },
  {
   "cell_type": "code",
   "execution_count": 225,
   "id": "b371bd2a-5298-4254-9c0d-46046d26534e",
   "metadata": {},
   "outputs": [
    {
     "name": "stdout",
     "output_type": "stream",
     "text": [
      "1313326.8765999998\n"
     ]
    }
   ],
   "source": [
    "SIOFAFishSUM = SIOFAEffort['fishing_hours'].sum()\n",
    "print(SIOFAFishSUM)"
   ]
  },
  {
   "cell_type": "markdown",
   "id": "f7fc50cd-c099-4e01-a37e-72969c12ed6e",
   "metadata": {},
   "source": [
    "#### add the sum value to the RFMO polygon"
   ]
  },
  {
   "cell_type": "code",
   "execution_count": 226,
   "id": "2cfcd6f8-bb3f-45ce-893f-6b82571b1f67",
   "metadata": {},
   "outputs": [],
   "source": [
    "SIOFA['FishingEffort_2019'] = SIOFAFishSUM"
   ]
  },
  {
   "cell_type": "code",
   "execution_count": 227,
   "id": "e5cf5c0b-9b71-4759-8b8c-9e6e2d7a785b",
   "metadata": {},
   "outputs": [
    {
     "data": {
      "text/html": [
       "<div>\n",
       "<style scoped>\n",
       "    .dataframe tbody tr th:only-of-type {\n",
       "        vertical-align: middle;\n",
       "    }\n",
       "\n",
       "    .dataframe tbody tr th {\n",
       "        vertical-align: top;\n",
       "    }\n",
       "\n",
       "    .dataframe thead th {\n",
       "        text-align: right;\n",
       "    }\n",
       "</style>\n",
       "<table border=\"1\" class=\"dataframe\">\n",
       "  <thead>\n",
       "    <tr style=\"text-align: right;\">\n",
       "      <th></th>\n",
       "      <th>OBJECTID</th>\n",
       "      <th>AREATYPE</th>\n",
       "      <th>DEFRULE</th>\n",
       "      <th>DISPORDER</th>\n",
       "      <th>FILL</th>\n",
       "      <th>STROKE</th>\n",
       "      <th>RFB</th>\n",
       "      <th>SHAPE_LENG</th>\n",
       "      <th>SHAPE_AREA</th>\n",
       "      <th>ANCFEATURE</th>\n",
       "      <th>Perform</th>\n",
       "      <th>Collapse</th>\n",
       "      <th>Collapse2</th>\n",
       "      <th>geometry</th>\n",
       "      <th>FishingEffort_2019</th>\n",
       "    </tr>\n",
       "  </thead>\n",
       "  <tbody>\n",
       "    <tr>\n",
       "      <th>0</th>\n",
       "      <td>5.0</td>\n",
       "      <td>1.0</td>\n",
       "      <td>4.0</td>\n",
       "      <td>1.0</td>\n",
       "      <td>1.0</td>\n",
       "      <td>3.0</td>\n",
       "      <td>SIOFA</td>\n",
       "      <td>404.652431</td>\n",
       "      <td>2629.902136</td>\n",
       "      <td>None</td>\n",
       "      <td>45.0</td>\n",
       "      <td>76.89</td>\n",
       "      <td>57.14</td>\n",
       "      <td>POLYGON ((65.00000 10.00000, 65.00000 0.00000,...</td>\n",
       "      <td>1.313327e+06</td>\n",
       "    </tr>\n",
       "  </tbody>\n",
       "</table>\n",
       "</div>"
      ],
      "text/plain": [
       "   OBJECTID  AREATYPE  DEFRULE  DISPORDER  FILL  STROKE    RFB  SHAPE_LENG  \\\n",
       "0       5.0       1.0      4.0        1.0   1.0     3.0  SIOFA  404.652431   \n",
       "\n",
       "    SHAPE_AREA ANCFEATURE  Perform  Collapse  Collapse2  \\\n",
       "0  2629.902136       None     45.0     76.89      57.14   \n",
       "\n",
       "                                            geometry  FishingEffort_2019  \n",
       "0  POLYGON ((65.00000 10.00000, 65.00000 0.00000,...        1.313327e+06  "
      ]
     },
     "execution_count": 227,
     "metadata": {},
     "output_type": "execute_result"
    }
   ],
   "source": [
    "SIOFA.head(2)"
   ]
  },
  {
   "cell_type": "markdown",
   "id": "d5c0f9b9-6544-4165-87c6-362c9c885ec2",
   "metadata": {},
   "source": [
    "#### group by flag state"
   ]
  },
  {
   "cell_type": "code",
   "execution_count": 228,
   "id": "255664a7-8a65-44f3-8eaf-88273f448577",
   "metadata": {},
   "outputs": [],
   "source": [
    "SIOFA_flagSUM = SIOFAEffort.groupby(['flag_gfw'])['fishing_hours'].sum().reset_index()"
   ]
  },
  {
   "cell_type": "code",
   "execution_count": 229,
   "id": "e5f46e1d-da9b-4df7-aba1-42c3e437ba1a",
   "metadata": {},
   "outputs": [
    {
     "data": {
      "text/html": [
       "<div>\n",
       "<style scoped>\n",
       "    .dataframe tbody tr th:only-of-type {\n",
       "        vertical-align: middle;\n",
       "    }\n",
       "\n",
       "    .dataframe tbody tr th {\n",
       "        vertical-align: top;\n",
       "    }\n",
       "\n",
       "    .dataframe thead th {\n",
       "        text-align: right;\n",
       "    }\n",
       "</style>\n",
       "<table border=\"1\" class=\"dataframe\">\n",
       "  <thead>\n",
       "    <tr style=\"text-align: right;\">\n",
       "      <th></th>\n",
       "      <th>flag_gfw</th>\n",
       "      <th>fishing_hours</th>\n",
       "    </tr>\n",
       "  </thead>\n",
       "  <tbody>\n",
       "    <tr>\n",
       "      <th>0</th>\n",
       "      <td>AUS</td>\n",
       "      <td>362.0039</td>\n",
       "    </tr>\n",
       "    <tr>\n",
       "      <th>1</th>\n",
       "      <td>CHN</td>\n",
       "      <td>121943.0573</td>\n",
       "    </tr>\n",
       "    <tr>\n",
       "      <th>2</th>\n",
       "      <td>CIV</td>\n",
       "      <td>18.6770</td>\n",
       "    </tr>\n",
       "    <tr>\n",
       "      <th>3</th>\n",
       "      <td>COK</td>\n",
       "      <td>1072.2918</td>\n",
       "    </tr>\n",
       "    <tr>\n",
       "      <th>4</th>\n",
       "      <td>ESP</td>\n",
       "      <td>41307.1149</td>\n",
       "    </tr>\n",
       "    <tr>\n",
       "      <th>5</th>\n",
       "      <td>FRA</td>\n",
       "      <td>1707.5698</td>\n",
       "    </tr>\n",
       "    <tr>\n",
       "      <th>6</th>\n",
       "      <td>GBR</td>\n",
       "      <td>7287.2003</td>\n",
       "    </tr>\n",
       "    <tr>\n",
       "      <th>7</th>\n",
       "      <td>IRN</td>\n",
       "      <td>434.8698</td>\n",
       "    </tr>\n",
       "    <tr>\n",
       "      <th>8</th>\n",
       "      <td>ITA</td>\n",
       "      <td>22.5979</td>\n",
       "    </tr>\n",
       "    <tr>\n",
       "      <th>9</th>\n",
       "      <td>JPN</td>\n",
       "      <td>52722.3695</td>\n",
       "    </tr>\n",
       "    <tr>\n",
       "      <th>10</th>\n",
       "      <td>KEN</td>\n",
       "      <td>1220.6144</td>\n",
       "    </tr>\n",
       "    <tr>\n",
       "      <th>11</th>\n",
       "      <td>KOR</td>\n",
       "      <td>3236.9869</td>\n",
       "    </tr>\n",
       "    <tr>\n",
       "      <th>12</th>\n",
       "      <td>LBR</td>\n",
       "      <td>0.0000</td>\n",
       "    </tr>\n",
       "    <tr>\n",
       "      <th>13</th>\n",
       "      <td>LKA</td>\n",
       "      <td>118117.1064</td>\n",
       "    </tr>\n",
       "    <tr>\n",
       "      <th>14</th>\n",
       "      <td>LVA</td>\n",
       "      <td>0.0000</td>\n",
       "    </tr>\n",
       "  </tbody>\n",
       "</table>\n",
       "</div>"
      ],
      "text/plain": [
       "   flag_gfw  fishing_hours\n",
       "0       AUS       362.0039\n",
       "1       CHN    121943.0573\n",
       "2       CIV        18.6770\n",
       "3       COK      1072.2918\n",
       "4       ESP     41307.1149\n",
       "5       FRA      1707.5698\n",
       "6       GBR      7287.2003\n",
       "7       IRN       434.8698\n",
       "8       ITA        22.5979\n",
       "9       JPN     52722.3695\n",
       "10      KEN      1220.6144\n",
       "11      KOR      3236.9869\n",
       "12      LBR         0.0000\n",
       "13      LKA    118117.1064\n",
       "14      LVA         0.0000"
      ]
     },
     "execution_count": 229,
     "metadata": {},
     "output_type": "execute_result"
    }
   ],
   "source": [
    "SIOFA_flagSUM.head(15)"
   ]
  },
  {
   "cell_type": "code",
   "execution_count": 230,
   "id": "aeb07caa-e21b-422a-9847-48ee6c1b80be",
   "metadata": {},
   "outputs": [],
   "source": [
    "del SIOFAEffort"
   ]
  },
  {
   "cell_type": "markdown",
   "id": "a8275251-e80b-44f2-b6d1-098822c19adf",
   "metadata": {},
   "source": [
    "##### calculate area of SIOFA change to appropriate polar equal area projection"
   ]
  },
  {
   "cell_type": "code",
   "execution_count": 231,
   "id": "85cf9665-6ad2-4ae4-a6c8-9fe5d0ff526b",
   "metadata": {},
   "outputs": [
    {
     "data": {
      "text/plain": [
       "<Derived Projected CRS: ESRI:54012>\n",
       "Name: World_Eckert_IV\n",
       "Axis Info [cartesian]:\n",
       "- E[east]: Easting (metre)\n",
       "- N[north]: Northing (metre)\n",
       "Area of Use:\n",
       "- name: World.\n",
       "- bounds: (-180.0, -90.0, 180.0, 90.0)\n",
       "Coordinate Operation:\n",
       "- name: World_Eckert_IV\n",
       "- method: Eckert IV\n",
       "Datum: World Geodetic System 1984\n",
       "- Ellipsoid: WGS 84\n",
       "- Prime Meridian: Greenwich"
      ]
     },
     "execution_count": 231,
     "metadata": {},
     "output_type": "execute_result"
    }
   ],
   "source": [
    "SIOFA = SIOFA.to_crs(\"ESRI:54012\")\n",
    "SIOFA.crs"
   ]
  },
  {
   "cell_type": "code",
   "execution_count": 232,
   "id": "9d24ffd8-f672-42e6-a70e-c102541d2240",
   "metadata": {},
   "outputs": [
    {
     "data": {
      "text/html": [
       "<div>\n",
       "<style scoped>\n",
       "    .dataframe tbody tr th:only-of-type {\n",
       "        vertical-align: middle;\n",
       "    }\n",
       "\n",
       "    .dataframe tbody tr th {\n",
       "        vertical-align: top;\n",
       "    }\n",
       "\n",
       "    .dataframe thead th {\n",
       "        text-align: right;\n",
       "    }\n",
       "</style>\n",
       "<table border=\"1\" class=\"dataframe\">\n",
       "  <thead>\n",
       "    <tr style=\"text-align: right;\">\n",
       "      <th></th>\n",
       "      <th>OBJECTID</th>\n",
       "      <th>AREATYPE</th>\n",
       "      <th>DEFRULE</th>\n",
       "      <th>DISPORDER</th>\n",
       "      <th>FILL</th>\n",
       "      <th>STROKE</th>\n",
       "      <th>RFB</th>\n",
       "      <th>SHAPE_LENG</th>\n",
       "      <th>SHAPE_AREA</th>\n",
       "      <th>ANCFEATURE</th>\n",
       "      <th>Perform</th>\n",
       "      <th>Collapse</th>\n",
       "      <th>Collapse2</th>\n",
       "      <th>geometry</th>\n",
       "      <th>FishingEffort_2019</th>\n",
       "      <th>area</th>\n",
       "    </tr>\n",
       "  </thead>\n",
       "  <tbody>\n",
       "    <tr>\n",
       "      <th>0</th>\n",
       "      <td>5.0</td>\n",
       "      <td>1.0</td>\n",
       "      <td>4.0</td>\n",
       "      <td>1.0</td>\n",
       "      <td>1.0</td>\n",
       "      <td>3.0</td>\n",
       "      <td>SIOFA</td>\n",
       "      <td>404.652431</td>\n",
       "      <td>2629.902136</td>\n",
       "      <td>None</td>\n",
       "      <td>45.0</td>\n",
       "      <td>76.89</td>\n",
       "      <td>57.14</td>\n",
       "      <td>POLYGON ((6073352.586 1314176.867, 6110434.389...</td>\n",
       "      <td>1.313327e+06</td>\n",
       "      <td>2.693323e+07</td>\n",
       "    </tr>\n",
       "  </tbody>\n",
       "</table>\n",
       "</div>"
      ],
      "text/plain": [
       "   OBJECTID  AREATYPE  DEFRULE  DISPORDER  FILL  STROKE    RFB  SHAPE_LENG  \\\n",
       "0       5.0       1.0      4.0        1.0   1.0     3.0  SIOFA  404.652431   \n",
       "\n",
       "    SHAPE_AREA ANCFEATURE  Perform  Collapse  Collapse2  \\\n",
       "0  2629.902136       None     45.0     76.89      57.14   \n",
       "\n",
       "                                            geometry  FishingEffort_2019  \\\n",
       "0  POLYGON ((6073352.586 1314176.867, 6110434.389...        1.313327e+06   \n",
       "\n",
       "           area  \n",
       "0  2.693323e+07  "
      ]
     },
     "execution_count": 232,
     "metadata": {},
     "output_type": "execute_result"
    }
   ],
   "source": [
    "SIOFA[\"area\"] = SIOFA['geometry'].area/ 10**6\n",
    "SIOFA.head(2)"
   ]
  },
  {
   "cell_type": "code",
   "execution_count": 233,
   "id": "b623ec83-2bba-4f56-9179-8c1131ad7059",
   "metadata": {},
   "outputs": [
    {
     "name": "stderr",
     "output_type": "stream",
     "text": [
      "/tmp/ipykernel_462/1297631072.py:1: UserWarning: Column names longer than 10 characters will be truncated when saved to ESRI Shapefile.\n",
      "  SIOFA.to_file('RFB_SIOFA_New.shp')\n"
     ]
    }
   ],
   "source": [
    "SIOFA.to_file('RFB_SIOFA_New.shp')"
   ]
  },
  {
   "cell_type": "markdown",
   "id": "c1f199b5-6582-47d0-ac6d-284b9c6a15b5",
   "metadata": {
    "tags": []
   },
   "source": [
    "### SPRFMO"
   ]
  },
  {
   "cell_type": "code",
   "execution_count": 234,
   "id": "0fb002b4-3884-4604-a18f-f2b8322e6ab8",
   "metadata": {
    "tags": []
   },
   "outputs": [],
   "source": [
    "SPRFMO = SPRFMO.to_crs('EPSG:4326')"
   ]
  },
  {
   "cell_type": "code",
   "execution_count": 235,
   "id": "cbc978c8-c640-40cb-bdf6-e5d6c91055d8",
   "metadata": {},
   "outputs": [
    {
     "data": {
      "text/html": [
       "<div>\n",
       "<style scoped>\n",
       "    .dataframe tbody tr th:only-of-type {\n",
       "        vertical-align: middle;\n",
       "    }\n",
       "\n",
       "    .dataframe tbody tr th {\n",
       "        vertical-align: top;\n",
       "    }\n",
       "\n",
       "    .dataframe thead th {\n",
       "        text-align: right;\n",
       "    }\n",
       "</style>\n",
       "<table border=\"1\" class=\"dataframe\">\n",
       "  <thead>\n",
       "    <tr style=\"text-align: right;\">\n",
       "      <th></th>\n",
       "      <th>OBJECTID</th>\n",
       "      <th>AREATYPE</th>\n",
       "      <th>DEFRULE</th>\n",
       "      <th>DISPORDER</th>\n",
       "      <th>FILL</th>\n",
       "      <th>STROKE</th>\n",
       "      <th>RFB</th>\n",
       "      <th>SHAPE_LENG</th>\n",
       "      <th>SHAPE_AREA</th>\n",
       "      <th>ANCFEATURE</th>\n",
       "      <th>Perform</th>\n",
       "      <th>Collapse</th>\n",
       "      <th>Collapse2</th>\n",
       "      <th>geometry</th>\n",
       "    </tr>\n",
       "  </thead>\n",
       "  <tbody>\n",
       "    <tr>\n",
       "      <th>0</th>\n",
       "      <td>38.0</td>\n",
       "      <td>1.0</td>\n",
       "      <td>4.0</td>\n",
       "      <td>1.0</td>\n",
       "      <td>1.0</td>\n",
       "      <td>3.0</td>\n",
       "      <td>SPRFMO</td>\n",
       "      <td>15.756448</td>\n",
       "      <td>8.581263</td>\n",
       "      <td>None</td>\n",
       "      <td>53.5</td>\n",
       "      <td>89.8</td>\n",
       "      <td>59.19</td>\n",
       "      <td>POLYGON ((-155.15020 -12.03050, -155.02460 -12...</td>\n",
       "    </tr>\n",
       "    <tr>\n",
       "      <th>1</th>\n",
       "      <td>39.0</td>\n",
       "      <td>1.0</td>\n",
       "      <td>4.0</td>\n",
       "      <td>1.0</td>\n",
       "      <td>1.0</td>\n",
       "      <td>3.0</td>\n",
       "      <td>SPRFMO</td>\n",
       "      <td>685.789005</td>\n",
       "      <td>5003.278920</td>\n",
       "      <td>None</td>\n",
       "      <td>53.5</td>\n",
       "      <td>89.8</td>\n",
       "      <td>59.19</td>\n",
       "      <td>POLYGON ((-180.00000 -3.74280, -180.00000 -3.7...</td>\n",
       "    </tr>\n",
       "    <tr>\n",
       "      <th>2</th>\n",
       "      <td>40.0</td>\n",
       "      <td>1.0</td>\n",
       "      <td>4.0</td>\n",
       "      <td>1.0</td>\n",
       "      <td>1.0</td>\n",
       "      <td>3.0</td>\n",
       "      <td>SPRFMO</td>\n",
       "      <td>36.245883</td>\n",
       "      <td>30.758788</td>\n",
       "      <td>None</td>\n",
       "      <td>53.5</td>\n",
       "      <td>89.8</td>\n",
       "      <td>59.19</td>\n",
       "      <td>POLYGON ((139.31210 4.97640, 139.87710 4.83290...</td>\n",
       "    </tr>\n",
       "    <tr>\n",
       "      <th>3</th>\n",
       "      <td>41.0</td>\n",
       "      <td>1.0</td>\n",
       "      <td>4.0</td>\n",
       "      <td>1.0</td>\n",
       "      <td>1.0</td>\n",
       "      <td>3.0</td>\n",
       "      <td>SPRFMO</td>\n",
       "      <td>60.657485</td>\n",
       "      <td>64.664540</td>\n",
       "      <td>None</td>\n",
       "      <td>53.5</td>\n",
       "      <td>89.8</td>\n",
       "      <td>59.19</td>\n",
       "      <td>POLYGON ((165.93300 2.71170, 165.95420 2.67830...</td>\n",
       "    </tr>\n",
       "    <tr>\n",
       "      <th>4</th>\n",
       "      <td>42.0</td>\n",
       "      <td>1.0</td>\n",
       "      <td>4.0</td>\n",
       "      <td>1.0</td>\n",
       "      <td>1.0</td>\n",
       "      <td>3.0</td>\n",
       "      <td>SPRFMO</td>\n",
       "      <td>13.498944</td>\n",
       "      <td>6.441295</td>\n",
       "      <td>None</td>\n",
       "      <td>53.5</td>\n",
       "      <td>89.8</td>\n",
       "      <td>59.19</td>\n",
       "      <td>POLYGON ((173.49530 -18.03390, 173.58190 -18.3...</td>\n",
       "    </tr>\n",
       "    <tr>\n",
       "      <th>5</th>\n",
       "      <td>43.0</td>\n",
       "      <td>1.0</td>\n",
       "      <td>4.0</td>\n",
       "      <td>1.0</td>\n",
       "      <td>1.0</td>\n",
       "      <td>3.0</td>\n",
       "      <td>SPRFMO</td>\n",
       "      <td>246.676771</td>\n",
       "      <td>804.933681</td>\n",
       "      <td>None</td>\n",
       "      <td>53.5</td>\n",
       "      <td>89.8</td>\n",
       "      <td>59.19</td>\n",
       "      <td>POLYGON ((158.54740 -24.99840, 163.72520 -26.4...</td>\n",
       "    </tr>\n",
       "    <tr>\n",
       "      <th>6</th>\n",
       "      <td>44.0</td>\n",
       "      <td>1.0</td>\n",
       "      <td>4.0</td>\n",
       "      <td>1.0</td>\n",
       "      <td>1.0</td>\n",
       "      <td>3.0</td>\n",
       "      <td>SPRFMO</td>\n",
       "      <td>39.602243</td>\n",
       "      <td>50.406639</td>\n",
       "      <td>None</td>\n",
       "      <td>53.5</td>\n",
       "      <td>89.8</td>\n",
       "      <td>59.19</td>\n",
       "      <td>POLYGON ((180.00000 -24.19230, 180.00000 -25.4...</td>\n",
       "    </tr>\n",
       "    <tr>\n",
       "      <th>7</th>\n",
       "      <td>45.0</td>\n",
       "      <td>1.0</td>\n",
       "      <td>4.0</td>\n",
       "      <td>1.0</td>\n",
       "      <td>1.0</td>\n",
       "      <td>3.0</td>\n",
       "      <td>SPRFMO</td>\n",
       "      <td>30.989151</td>\n",
       "      <td>38.200937</td>\n",
       "      <td>None</td>\n",
       "      <td>53.5</td>\n",
       "      <td>89.8</td>\n",
       "      <td>59.19</td>\n",
       "      <td>POLYGON ((180.00000 -1.60830, 179.99950 -1.606...</td>\n",
       "    </tr>\n",
       "  </tbody>\n",
       "</table>\n",
       "</div>"
      ],
      "text/plain": [
       "   OBJECTID  AREATYPE  DEFRULE  DISPORDER  FILL  STROKE     RFB  SHAPE_LENG  \\\n",
       "0      38.0       1.0      4.0        1.0   1.0     3.0  SPRFMO   15.756448   \n",
       "1      39.0       1.0      4.0        1.0   1.0     3.0  SPRFMO  685.789005   \n",
       "2      40.0       1.0      4.0        1.0   1.0     3.0  SPRFMO   36.245883   \n",
       "3      41.0       1.0      4.0        1.0   1.0     3.0  SPRFMO   60.657485   \n",
       "4      42.0       1.0      4.0        1.0   1.0     3.0  SPRFMO   13.498944   \n",
       "5      43.0       1.0      4.0        1.0   1.0     3.0  SPRFMO  246.676771   \n",
       "6      44.0       1.0      4.0        1.0   1.0     3.0  SPRFMO   39.602243   \n",
       "7      45.0       1.0      4.0        1.0   1.0     3.0  SPRFMO   30.989151   \n",
       "\n",
       "    SHAPE_AREA ANCFEATURE  Perform  Collapse  Collapse2  \\\n",
       "0     8.581263       None     53.5      89.8      59.19   \n",
       "1  5003.278920       None     53.5      89.8      59.19   \n",
       "2    30.758788       None     53.5      89.8      59.19   \n",
       "3    64.664540       None     53.5      89.8      59.19   \n",
       "4     6.441295       None     53.5      89.8      59.19   \n",
       "5   804.933681       None     53.5      89.8      59.19   \n",
       "6    50.406639       None     53.5      89.8      59.19   \n",
       "7    38.200937       None     53.5      89.8      59.19   \n",
       "\n",
       "                                            geometry  \n",
       "0  POLYGON ((-155.15020 -12.03050, -155.02460 -12...  \n",
       "1  POLYGON ((-180.00000 -3.74280, -180.00000 -3.7...  \n",
       "2  POLYGON ((139.31210 4.97640, 139.87710 4.83290...  \n",
       "3  POLYGON ((165.93300 2.71170, 165.95420 2.67830...  \n",
       "4  POLYGON ((173.49530 -18.03390, 173.58190 -18.3...  \n",
       "5  POLYGON ((158.54740 -24.99840, 163.72520 -26.4...  \n",
       "6  POLYGON ((180.00000 -24.19230, 180.00000 -25.4...  \n",
       "7  POLYGON ((180.00000 -1.60830, 179.99950 -1.606...  "
      ]
     },
     "execution_count": 235,
     "metadata": {},
     "output_type": "execute_result"
    }
   ],
   "source": [
    "SPRFMO.head(10)"
   ]
  },
  {
   "cell_type": "code",
   "execution_count": 236,
   "id": "52f5abb2-a23b-4d60-bed1-aafcb7dfb012",
   "metadata": {},
   "outputs": [],
   "source": [
    "SPRFMOEffort = GFW2019Points.clip(SPRFMO)"
   ]
  },
  {
   "cell_type": "code",
   "execution_count": 237,
   "id": "c48610b4-9a6a-4b27-8df2-24f1fe5c7f7f",
   "metadata": {},
   "outputs": [
    {
     "data": {
      "text/plain": [
       "3426424"
      ]
     },
     "execution_count": 237,
     "metadata": {},
     "output_type": "execute_result"
    }
   ],
   "source": [
    "len(SPRFMOEffort)"
   ]
  },
  {
   "cell_type": "code",
   "execution_count": 238,
   "id": "4478cfdc-15aa-480d-bbe9-f445925fe566",
   "metadata": {},
   "outputs": [
    {
     "data": {
      "text/html": [
       "<div>\n",
       "<style scoped>\n",
       "    .dataframe tbody tr th:only-of-type {\n",
       "        vertical-align: middle;\n",
       "    }\n",
       "\n",
       "    .dataframe tbody tr th {\n",
       "        vertical-align: top;\n",
       "    }\n",
       "\n",
       "    .dataframe thead th {\n",
       "        text-align: right;\n",
       "    }\n",
       "</style>\n",
       "<table border=\"1\" class=\"dataframe\">\n",
       "  <thead>\n",
       "    <tr style=\"text-align: right;\">\n",
       "      <th></th>\n",
       "      <th>date</th>\n",
       "      <th>mmsi</th>\n",
       "      <th>hours</th>\n",
       "      <th>fishing_hours</th>\n",
       "      <th>geometry</th>\n",
       "    </tr>\n",
       "  </thead>\n",
       "  <tbody>\n",
       "    <tr>\n",
       "      <th>3642221</th>\n",
       "      <td>2019-01-28</td>\n",
       "      <td>512008000</td>\n",
       "      <td>0.6166</td>\n",
       "      <td>0.0</td>\n",
       "      <td>POINT (170.90000 -56.70000)</td>\n",
       "    </tr>\n",
       "    <tr>\n",
       "      <th>3607653</th>\n",
       "      <td>2019-01-28</td>\n",
       "      <td>512008000</td>\n",
       "      <td>0.6983</td>\n",
       "      <td>0.0</td>\n",
       "      <td>POINT (170.90000 -56.30000)</td>\n",
       "    </tr>\n",
       "  </tbody>\n",
       "</table>\n",
       "</div>"
      ],
      "text/plain": [
       "               date       mmsi   hours  fishing_hours  \\\n",
       "3642221  2019-01-28  512008000  0.6166            0.0   \n",
       "3607653  2019-01-28  512008000  0.6983            0.0   \n",
       "\n",
       "                            geometry  \n",
       "3642221  POINT (170.90000 -56.70000)  \n",
       "3607653  POINT (170.90000 -56.30000)  "
      ]
     },
     "execution_count": 238,
     "metadata": {},
     "output_type": "execute_result"
    }
   ],
   "source": [
    "SPRFMOEffort.head(2)"
   ]
  },
  {
   "cell_type": "code",
   "execution_count": 239,
   "id": "77f54c8b-9cfa-43d6-858f-58388c38bc7d",
   "metadata": {},
   "outputs": [],
   "source": [
    "SPRFMOEffort = pd.merge(SPRFMOEffort, flag_gear_df[['mmsi','flag_gfw','vessel_class_gfw']], on='mmsi', how='left')"
   ]
  },
  {
   "cell_type": "code",
   "execution_count": 240,
   "id": "76fc9248-a493-41bd-beb0-f19dada5626c",
   "metadata": {},
   "outputs": [
    {
     "name": "stdout",
     "output_type": "stream",
     "text": [
      "3044041.2768000006\n"
     ]
    }
   ],
   "source": [
    "SPRFMOFishSUM = SPRFMOEffort['fishing_hours'].sum()\n",
    "print(SPRFMOFishSUM)"
   ]
  },
  {
   "cell_type": "markdown",
   "id": "ac8217e2-17a7-48b9-9904-671df8e51517",
   "metadata": {},
   "source": [
    "#### add the sum value to the RFMO polygon"
   ]
  },
  {
   "cell_type": "code",
   "execution_count": 241,
   "id": "b7da559e-ff15-4f6a-b0ba-469eb584ed53",
   "metadata": {},
   "outputs": [],
   "source": [
    "SPRFMO['FishingEffort_2019'] = SPRFMOFishSUM"
   ]
  },
  {
   "cell_type": "code",
   "execution_count": 242,
   "id": "56bce575-8671-4620-9e05-456e7d535bb9",
   "metadata": {},
   "outputs": [
    {
     "data": {
      "text/html": [
       "<div>\n",
       "<style scoped>\n",
       "    .dataframe tbody tr th:only-of-type {\n",
       "        vertical-align: middle;\n",
       "    }\n",
       "\n",
       "    .dataframe tbody tr th {\n",
       "        vertical-align: top;\n",
       "    }\n",
       "\n",
       "    .dataframe thead th {\n",
       "        text-align: right;\n",
       "    }\n",
       "</style>\n",
       "<table border=\"1\" class=\"dataframe\">\n",
       "  <thead>\n",
       "    <tr style=\"text-align: right;\">\n",
       "      <th></th>\n",
       "      <th>OBJECTID</th>\n",
       "      <th>AREATYPE</th>\n",
       "      <th>DEFRULE</th>\n",
       "      <th>DISPORDER</th>\n",
       "      <th>FILL</th>\n",
       "      <th>STROKE</th>\n",
       "      <th>RFB</th>\n",
       "      <th>SHAPE_LENG</th>\n",
       "      <th>SHAPE_AREA</th>\n",
       "      <th>ANCFEATURE</th>\n",
       "      <th>Perform</th>\n",
       "      <th>Collapse</th>\n",
       "      <th>Collapse2</th>\n",
       "      <th>geometry</th>\n",
       "      <th>FishingEffort_2019</th>\n",
       "    </tr>\n",
       "  </thead>\n",
       "  <tbody>\n",
       "    <tr>\n",
       "      <th>0</th>\n",
       "      <td>38.0</td>\n",
       "      <td>1.0</td>\n",
       "      <td>4.0</td>\n",
       "      <td>1.0</td>\n",
       "      <td>1.0</td>\n",
       "      <td>3.0</td>\n",
       "      <td>SPRFMO</td>\n",
       "      <td>15.756448</td>\n",
       "      <td>8.581263</td>\n",
       "      <td>None</td>\n",
       "      <td>53.5</td>\n",
       "      <td>89.8</td>\n",
       "      <td>59.19</td>\n",
       "      <td>POLYGON ((-155.15020 -12.03050, -155.02460 -12...</td>\n",
       "      <td>3.044041e+06</td>\n",
       "    </tr>\n",
       "    <tr>\n",
       "      <th>1</th>\n",
       "      <td>39.0</td>\n",
       "      <td>1.0</td>\n",
       "      <td>4.0</td>\n",
       "      <td>1.0</td>\n",
       "      <td>1.0</td>\n",
       "      <td>3.0</td>\n",
       "      <td>SPRFMO</td>\n",
       "      <td>685.789005</td>\n",
       "      <td>5003.278920</td>\n",
       "      <td>None</td>\n",
       "      <td>53.5</td>\n",
       "      <td>89.8</td>\n",
       "      <td>59.19</td>\n",
       "      <td>POLYGON ((-180.00000 -3.74280, -180.00000 -3.7...</td>\n",
       "      <td>3.044041e+06</td>\n",
       "    </tr>\n",
       "  </tbody>\n",
       "</table>\n",
       "</div>"
      ],
      "text/plain": [
       "   OBJECTID  AREATYPE  DEFRULE  DISPORDER  FILL  STROKE     RFB  SHAPE_LENG  \\\n",
       "0      38.0       1.0      4.0        1.0   1.0     3.0  SPRFMO   15.756448   \n",
       "1      39.0       1.0      4.0        1.0   1.0     3.0  SPRFMO  685.789005   \n",
       "\n",
       "    SHAPE_AREA ANCFEATURE  Perform  Collapse  Collapse2  \\\n",
       "0     8.581263       None     53.5      89.8      59.19   \n",
       "1  5003.278920       None     53.5      89.8      59.19   \n",
       "\n",
       "                                            geometry  FishingEffort_2019  \n",
       "0  POLYGON ((-155.15020 -12.03050, -155.02460 -12...        3.044041e+06  \n",
       "1  POLYGON ((-180.00000 -3.74280, -180.00000 -3.7...        3.044041e+06  "
      ]
     },
     "execution_count": 242,
     "metadata": {},
     "output_type": "execute_result"
    }
   ],
   "source": [
    "SPRFMO.head(2)"
   ]
  },
  {
   "cell_type": "markdown",
   "id": "351e4476-cc5b-4aa9-8f03-4f2f343e08b4",
   "metadata": {},
   "source": [
    "#### group by flag state"
   ]
  },
  {
   "cell_type": "code",
   "execution_count": 243,
   "id": "0ee48e55-52b8-46a0-8d8f-62ff6b018194",
   "metadata": {},
   "outputs": [],
   "source": [
    "SPRFMO_flagSUM = SPRFMOEffort.groupby(['flag_gfw'])['fishing_hours'].sum().reset_index()"
   ]
  },
  {
   "cell_type": "code",
   "execution_count": 244,
   "id": "445c3b9c-8cb1-4fc8-b8e9-959eb8fa91ba",
   "metadata": {},
   "outputs": [
    {
     "data": {
      "text/html": [
       "<div>\n",
       "<style scoped>\n",
       "    .dataframe tbody tr th:only-of-type {\n",
       "        vertical-align: middle;\n",
       "    }\n",
       "\n",
       "    .dataframe tbody tr th {\n",
       "        vertical-align: top;\n",
       "    }\n",
       "\n",
       "    .dataframe thead th {\n",
       "        text-align: right;\n",
       "    }\n",
       "</style>\n",
       "<table border=\"1\" class=\"dataframe\">\n",
       "  <thead>\n",
       "    <tr style=\"text-align: right;\">\n",
       "      <th></th>\n",
       "      <th>flag_gfw</th>\n",
       "      <th>fishing_hours</th>\n",
       "    </tr>\n",
       "  </thead>\n",
       "  <tbody>\n",
       "    <tr>\n",
       "      <th>0</th>\n",
       "      <td>ALB</td>\n",
       "      <td>2.686617e+03</td>\n",
       "    </tr>\n",
       "    <tr>\n",
       "      <th>1</th>\n",
       "      <td>ATF</td>\n",
       "      <td>2.220676e+02</td>\n",
       "    </tr>\n",
       "    <tr>\n",
       "      <th>2</th>\n",
       "      <td>AUS</td>\n",
       "      <td>1.698340e+03</td>\n",
       "    </tr>\n",
       "    <tr>\n",
       "      <th>3</th>\n",
       "      <td>CAN</td>\n",
       "      <td>0.000000e+00</td>\n",
       "    </tr>\n",
       "    <tr>\n",
       "      <th>4</th>\n",
       "      <td>CHL</td>\n",
       "      <td>2.170920e+01</td>\n",
       "    </tr>\n",
       "    <tr>\n",
       "      <th>5</th>\n",
       "      <td>CHN</td>\n",
       "      <td>1.385807e+06</td>\n",
       "    </tr>\n",
       "    <tr>\n",
       "      <th>6</th>\n",
       "      <td>COK</td>\n",
       "      <td>6.140800e+03</td>\n",
       "    </tr>\n",
       "    <tr>\n",
       "      <th>7</th>\n",
       "      <td>COL</td>\n",
       "      <td>8.092015e+03</td>\n",
       "    </tr>\n",
       "    <tr>\n",
       "      <th>8</th>\n",
       "      <td>ECU</td>\n",
       "      <td>1.375150e+04</td>\n",
       "    </tr>\n",
       "    <tr>\n",
       "      <th>9</th>\n",
       "      <td>ESP</td>\n",
       "      <td>7.366483e+04</td>\n",
       "    </tr>\n",
       "    <tr>\n",
       "      <th>10</th>\n",
       "      <td>FJI</td>\n",
       "      <td>2.910949e+04</td>\n",
       "    </tr>\n",
       "    <tr>\n",
       "      <th>11</th>\n",
       "      <td>FSM</td>\n",
       "      <td>7.229524e+03</td>\n",
       "    </tr>\n",
       "    <tr>\n",
       "      <th>12</th>\n",
       "      <td>GBR</td>\n",
       "      <td>1.466000e+00</td>\n",
       "    </tr>\n",
       "    <tr>\n",
       "      <th>13</th>\n",
       "      <td>IRQ</td>\n",
       "      <td>1.012990e+03</td>\n",
       "    </tr>\n",
       "    <tr>\n",
       "      <th>14</th>\n",
       "      <td>JPN</td>\n",
       "      <td>1.630558e+05</td>\n",
       "    </tr>\n",
       "  </tbody>\n",
       "</table>\n",
       "</div>"
      ],
      "text/plain": [
       "   flag_gfw  fishing_hours\n",
       "0       ALB   2.686617e+03\n",
       "1       ATF   2.220676e+02\n",
       "2       AUS   1.698340e+03\n",
       "3       CAN   0.000000e+00\n",
       "4       CHL   2.170920e+01\n",
       "5       CHN   1.385807e+06\n",
       "6       COK   6.140800e+03\n",
       "7       COL   8.092015e+03\n",
       "8       ECU   1.375150e+04\n",
       "9       ESP   7.366483e+04\n",
       "10      FJI   2.910949e+04\n",
       "11      FSM   7.229524e+03\n",
       "12      GBR   1.466000e+00\n",
       "13      IRQ   1.012990e+03\n",
       "14      JPN   1.630558e+05"
      ]
     },
     "execution_count": 244,
     "metadata": {},
     "output_type": "execute_result"
    }
   ],
   "source": [
    "SPRFMO_flagSUM.head(15)"
   ]
  },
  {
   "cell_type": "code",
   "execution_count": 245,
   "id": "1a97788b-82d5-4235-9b6f-213de0fc2d3e",
   "metadata": {},
   "outputs": [],
   "source": [
    "del SPRFMOEffort"
   ]
  },
  {
   "cell_type": "markdown",
   "id": "e4b95a6a-5027-4fe0-8ba5-e012a72d86df",
   "metadata": {},
   "source": [
    "##### calculate area of SPRFMO change to appropriate polar equal area projection"
   ]
  },
  {
   "cell_type": "code",
   "execution_count": 246,
   "id": "fe97630d-43b5-4cb0-80bb-893df1218462",
   "metadata": {},
   "outputs": [
    {
     "data": {
      "text/plain": [
       "<Derived Projected CRS: ESRI:54012>\n",
       "Name: World_Eckert_IV\n",
       "Axis Info [cartesian]:\n",
       "- E[east]: Easting (metre)\n",
       "- N[north]: Northing (metre)\n",
       "Area of Use:\n",
       "- name: World.\n",
       "- bounds: (-180.0, -90.0, 180.0, 90.0)\n",
       "Coordinate Operation:\n",
       "- name: World_Eckert_IV\n",
       "- method: Eckert IV\n",
       "Datum: World Geodetic System 1984\n",
       "- Ellipsoid: WGS 84\n",
       "- Prime Meridian: Greenwich"
      ]
     },
     "execution_count": 246,
     "metadata": {},
     "output_type": "execute_result"
    }
   ],
   "source": [
    "SPRFMO = SPRFMO.to_crs(\"ESRI:54012\")\n",
    "SPRFMO.crs"
   ]
  },
  {
   "cell_type": "code",
   "execution_count": 247,
   "id": "760ac9fb-5099-4f58-be33-eb6e4f1bdd0e",
   "metadata": {},
   "outputs": [
    {
     "data": {
      "text/html": [
       "<div>\n",
       "<style scoped>\n",
       "    .dataframe tbody tr th:only-of-type {\n",
       "        vertical-align: middle;\n",
       "    }\n",
       "\n",
       "    .dataframe tbody tr th {\n",
       "        vertical-align: top;\n",
       "    }\n",
       "\n",
       "    .dataframe thead th {\n",
       "        text-align: right;\n",
       "    }\n",
       "</style>\n",
       "<table border=\"1\" class=\"dataframe\">\n",
       "  <thead>\n",
       "    <tr style=\"text-align: right;\">\n",
       "      <th></th>\n",
       "      <th>OBJECTID</th>\n",
       "      <th>AREATYPE</th>\n",
       "      <th>DEFRULE</th>\n",
       "      <th>DISPORDER</th>\n",
       "      <th>FILL</th>\n",
       "      <th>STROKE</th>\n",
       "      <th>RFB</th>\n",
       "      <th>SHAPE_LENG</th>\n",
       "      <th>SHAPE_AREA</th>\n",
       "      <th>ANCFEATURE</th>\n",
       "      <th>Perform</th>\n",
       "      <th>Collapse</th>\n",
       "      <th>Collapse2</th>\n",
       "      <th>geometry</th>\n",
       "      <th>FishingEffort_2019</th>\n",
       "      <th>area</th>\n",
       "    </tr>\n",
       "  </thead>\n",
       "  <tbody>\n",
       "    <tr>\n",
       "      <th>0</th>\n",
       "      <td>38.0</td>\n",
       "      <td>1.0</td>\n",
       "      <td>4.0</td>\n",
       "      <td>1.0</td>\n",
       "      <td>1.0</td>\n",
       "      <td>3.0</td>\n",
       "      <td>SPRFMO</td>\n",
       "      <td>15.756448</td>\n",
       "      <td>8.581263</td>\n",
       "      <td>None</td>\n",
       "      <td>53.5</td>\n",
       "      <td>89.8</td>\n",
       "      <td>59.19</td>\n",
       "      <td>POLYGON ((-14457052.296 -1578847.920, -1443499...</td>\n",
       "      <td>3.044041e+06</td>\n",
       "      <td>1.032801e+05</td>\n",
       "    </tr>\n",
       "    <tr>\n",
       "      <th>1</th>\n",
       "      <td>39.0</td>\n",
       "      <td>1.0</td>\n",
       "      <td>4.0</td>\n",
       "      <td>1.0</td>\n",
       "      <td>1.0</td>\n",
       "      <td>3.0</td>\n",
       "      <td>SPRFMO</td>\n",
       "      <td>685.789005</td>\n",
       "      <td>5003.278920</td>\n",
       "      <td>None</td>\n",
       "      <td>53.5</td>\n",
       "      <td>89.8</td>\n",
       "      <td>59.19</td>\n",
       "      <td>POLYGON ((-16906817.355 -493167.495, -16906831...</td>\n",
       "      <td>3.044041e+06</td>\n",
       "      <td>5.007167e+07</td>\n",
       "    </tr>\n",
       "  </tbody>\n",
       "</table>\n",
       "</div>"
      ],
      "text/plain": [
       "   OBJECTID  AREATYPE  DEFRULE  DISPORDER  FILL  STROKE     RFB  SHAPE_LENG  \\\n",
       "0      38.0       1.0      4.0        1.0   1.0     3.0  SPRFMO   15.756448   \n",
       "1      39.0       1.0      4.0        1.0   1.0     3.0  SPRFMO  685.789005   \n",
       "\n",
       "    SHAPE_AREA ANCFEATURE  Perform  Collapse  Collapse2  \\\n",
       "0     8.581263       None     53.5      89.8      59.19   \n",
       "1  5003.278920       None     53.5      89.8      59.19   \n",
       "\n",
       "                                            geometry  FishingEffort_2019  \\\n",
       "0  POLYGON ((-14457052.296 -1578847.920, -1443499...        3.044041e+06   \n",
       "1  POLYGON ((-16906817.355 -493167.495, -16906831...        3.044041e+06   \n",
       "\n",
       "           area  \n",
       "0  1.032801e+05  \n",
       "1  5.007167e+07  "
      ]
     },
     "execution_count": 247,
     "metadata": {},
     "output_type": "execute_result"
    }
   ],
   "source": [
    "SPRFMO[\"area\"] = SPRFMO['geometry'].area/ 10**6\n",
    "SPRFMO.head(2)"
   ]
  },
  {
   "cell_type": "code",
   "execution_count": 248,
   "id": "d71c2b8b-fa38-4707-b7b4-10febc6525a5",
   "metadata": {},
   "outputs": [
    {
     "name": "stderr",
     "output_type": "stream",
     "text": [
      "/tmp/ipykernel_462/2419284906.py:1: UserWarning: Column names longer than 10 characters will be truncated when saved to ESRI Shapefile.\n",
      "  SPRFMO.to_file('RFB_SPRFMO_New.shp')\n"
     ]
    }
   ],
   "source": [
    "SPRFMO.to_file('RFB_SPRFMO_New.shp')"
   ]
  },
  {
   "cell_type": "markdown",
   "id": "07f3b790-a5da-4bc4-9821-2c581b880a14",
   "metadata": {
    "tags": []
   },
   "source": [
    "### WCPFC"
   ]
  },
  {
   "cell_type": "code",
   "execution_count": 249,
   "id": "645d1df3-ca37-4ad4-9efb-279c7aeed002",
   "metadata": {
    "tags": []
   },
   "outputs": [],
   "source": [
    "WCPFC = WCPFC.to_crs('EPSG:4326')"
   ]
  },
  {
   "cell_type": "code",
   "execution_count": 250,
   "id": "a6c2aaed-1f0e-4bbd-b18d-1b2d58a64cf1",
   "metadata": {},
   "outputs": [
    {
     "data": {
      "text/html": [
       "<div>\n",
       "<style scoped>\n",
       "    .dataframe tbody tr th:only-of-type {\n",
       "        vertical-align: middle;\n",
       "    }\n",
       "\n",
       "    .dataframe tbody tr th {\n",
       "        vertical-align: top;\n",
       "    }\n",
       "\n",
       "    .dataframe thead th {\n",
       "        text-align: right;\n",
       "    }\n",
       "</style>\n",
       "<table border=\"1\" class=\"dataframe\">\n",
       "  <thead>\n",
       "    <tr style=\"text-align: right;\">\n",
       "      <th></th>\n",
       "      <th>OBJECTID</th>\n",
       "      <th>AREATYPE</th>\n",
       "      <th>DEFRULE</th>\n",
       "      <th>DISPORDER</th>\n",
       "      <th>FILL</th>\n",
       "      <th>STROKE</th>\n",
       "      <th>RFB</th>\n",
       "      <th>SHAPE_LENG</th>\n",
       "      <th>SHAPE_AREA</th>\n",
       "      <th>ANCFEATURE</th>\n",
       "      <th>Perform</th>\n",
       "      <th>Collapse</th>\n",
       "      <th>Collapse2</th>\n",
       "      <th>geometry</th>\n",
       "    </tr>\n",
       "  </thead>\n",
       "  <tbody>\n",
       "    <tr>\n",
       "      <th>0</th>\n",
       "      <td>28.0</td>\n",
       "      <td>1.0</td>\n",
       "      <td>1.0</td>\n",
       "      <td>1.0</td>\n",
       "      <td>1.0</td>\n",
       "      <td>3.0</td>\n",
       "      <td>WCPFC</td>\n",
       "      <td>1530.094465</td>\n",
       "      <td>5494.419315</td>\n",
       "      <td>None</td>\n",
       "      <td>61.5</td>\n",
       "      <td>84.27</td>\n",
       "      <td>44.8</td>\n",
       "      <td>POLYGON ((179.91550 -16.17920, 179.87110 -16.2...</td>\n",
       "    </tr>\n",
       "    <tr>\n",
       "      <th>1</th>\n",
       "      <td>29.0</td>\n",
       "      <td>1.0</td>\n",
       "      <td>1.0</td>\n",
       "      <td>1.0</td>\n",
       "      <td>1.0</td>\n",
       "      <td>3.0</td>\n",
       "      <td>WCPFC</td>\n",
       "      <td>389.602717</td>\n",
       "      <td>4545.934381</td>\n",
       "      <td>None</td>\n",
       "      <td>61.5</td>\n",
       "      <td>84.27</td>\n",
       "      <td>44.8</td>\n",
       "      <td>POLYGON ((-180.00000 -16.96570, -180.00000 -16...</td>\n",
       "    </tr>\n",
       "  </tbody>\n",
       "</table>\n",
       "</div>"
      ],
      "text/plain": [
       "   OBJECTID  AREATYPE  DEFRULE  DISPORDER  FILL  STROKE    RFB   SHAPE_LENG  \\\n",
       "0      28.0       1.0      1.0        1.0   1.0     3.0  WCPFC  1530.094465   \n",
       "1      29.0       1.0      1.0        1.0   1.0     3.0  WCPFC   389.602717   \n",
       "\n",
       "    SHAPE_AREA ANCFEATURE  Perform  Collapse  Collapse2  \\\n",
       "0  5494.419315       None     61.5     84.27       44.8   \n",
       "1  4545.934381       None     61.5     84.27       44.8   \n",
       "\n",
       "                                            geometry  \n",
       "0  POLYGON ((179.91550 -16.17920, 179.87110 -16.2...  \n",
       "1  POLYGON ((-180.00000 -16.96570, -180.00000 -16...  "
      ]
     },
     "execution_count": 250,
     "metadata": {},
     "output_type": "execute_result"
    }
   ],
   "source": [
    "WCPFC.head(10)"
   ]
  },
  {
   "cell_type": "code",
   "execution_count": 251,
   "id": "2cabc469-5012-475f-8728-97a766fbc8a3",
   "metadata": {},
   "outputs": [],
   "source": [
    "WCPFCEffort = GFW2019Points.clip(WCPFC)"
   ]
  },
  {
   "cell_type": "code",
   "execution_count": 252,
   "id": "a3b97b44-529e-40a4-85e8-b31f84b2e32b",
   "metadata": {},
   "outputs": [
    {
     "data": {
      "text/plain": [
       "23129905"
      ]
     },
     "execution_count": 252,
     "metadata": {},
     "output_type": "execute_result"
    }
   ],
   "source": [
    "len(WCPFCEffort)"
   ]
  },
  {
   "cell_type": "code",
   "execution_count": 253,
   "id": "b7ed0bf5-1705-4dc5-80cd-10c48cdcdf9b",
   "metadata": {},
   "outputs": [
    {
     "data": {
      "text/html": [
       "<div>\n",
       "<style scoped>\n",
       "    .dataframe tbody tr th:only-of-type {\n",
       "        vertical-align: middle;\n",
       "    }\n",
       "\n",
       "    .dataframe tbody tr th {\n",
       "        vertical-align: top;\n",
       "    }\n",
       "\n",
       "    .dataframe thead th {\n",
       "        text-align: right;\n",
       "    }\n",
       "</style>\n",
       "<table border=\"1\" class=\"dataframe\">\n",
       "  <thead>\n",
       "    <tr style=\"text-align: right;\">\n",
       "      <th></th>\n",
       "      <th>date</th>\n",
       "      <th>mmsi</th>\n",
       "      <th>hours</th>\n",
       "      <th>fishing_hours</th>\n",
       "      <th>geometry</th>\n",
       "    </tr>\n",
       "  </thead>\n",
       "  <tbody>\n",
       "    <tr>\n",
       "      <th>3642221</th>\n",
       "      <td>2019-01-28</td>\n",
       "      <td>512008000</td>\n",
       "      <td>0.6166</td>\n",
       "      <td>0.0</td>\n",
       "      <td>POINT (170.90000 -56.70000)</td>\n",
       "    </tr>\n",
       "    <tr>\n",
       "      <th>3607653</th>\n",
       "      <td>2019-01-28</td>\n",
       "      <td>512008000</td>\n",
       "      <td>0.6983</td>\n",
       "      <td>0.0</td>\n",
       "      <td>POINT (170.90000 -56.30000)</td>\n",
       "    </tr>\n",
       "  </tbody>\n",
       "</table>\n",
       "</div>"
      ],
      "text/plain": [
       "               date       mmsi   hours  fishing_hours  \\\n",
       "3642221  2019-01-28  512008000  0.6166            0.0   \n",
       "3607653  2019-01-28  512008000  0.6983            0.0   \n",
       "\n",
       "                            geometry  \n",
       "3642221  POINT (170.90000 -56.70000)  \n",
       "3607653  POINT (170.90000 -56.30000)  "
      ]
     },
     "execution_count": 253,
     "metadata": {},
     "output_type": "execute_result"
    }
   ],
   "source": [
    "WCPFCEffort.head(2)"
   ]
  },
  {
   "cell_type": "code",
   "execution_count": 254,
   "id": "1ab6ce32-d49e-4f98-80e8-0e0c8546862d",
   "metadata": {},
   "outputs": [],
   "source": [
    "WCPFCEffort = pd.merge(WCPFCEffort, flag_gear_df[['mmsi','flag_gfw','vessel_class_gfw']], on='mmsi', how='left')"
   ]
  },
  {
   "cell_type": "code",
   "execution_count": 255,
   "id": "5c508486-b72e-47eb-874f-05c6c18c505c",
   "metadata": {},
   "outputs": [
    {
     "name": "stdout",
     "output_type": "stream",
     "text": [
      "26415096.34659995\n"
     ]
    }
   ],
   "source": [
    "WCPFCFishSUM = WCPFCEffort['fishing_hours'].sum()\n",
    "print(WCPFCFishSUM)"
   ]
  },
  {
   "cell_type": "markdown",
   "id": "982dd0a1-aa59-4042-bad1-ecf5c899c18b",
   "metadata": {},
   "source": [
    "#### add the sum value to the RFMO polygon"
   ]
  },
  {
   "cell_type": "code",
   "execution_count": 256,
   "id": "ccbb46c8-20ef-44e1-a463-f7d02a315710",
   "metadata": {},
   "outputs": [],
   "source": [
    "WCPFC['FishingEffort_2019'] = WCPFCFishSUM"
   ]
  },
  {
   "cell_type": "code",
   "execution_count": 257,
   "id": "cc0f3d15-ee19-4afa-87d7-e45dcce0817b",
   "metadata": {},
   "outputs": [
    {
     "data": {
      "text/html": [
       "<div>\n",
       "<style scoped>\n",
       "    .dataframe tbody tr th:only-of-type {\n",
       "        vertical-align: middle;\n",
       "    }\n",
       "\n",
       "    .dataframe tbody tr th {\n",
       "        vertical-align: top;\n",
       "    }\n",
       "\n",
       "    .dataframe thead th {\n",
       "        text-align: right;\n",
       "    }\n",
       "</style>\n",
       "<table border=\"1\" class=\"dataframe\">\n",
       "  <thead>\n",
       "    <tr style=\"text-align: right;\">\n",
       "      <th></th>\n",
       "      <th>OBJECTID</th>\n",
       "      <th>AREATYPE</th>\n",
       "      <th>DEFRULE</th>\n",
       "      <th>DISPORDER</th>\n",
       "      <th>FILL</th>\n",
       "      <th>STROKE</th>\n",
       "      <th>RFB</th>\n",
       "      <th>SHAPE_LENG</th>\n",
       "      <th>SHAPE_AREA</th>\n",
       "      <th>ANCFEATURE</th>\n",
       "      <th>Perform</th>\n",
       "      <th>Collapse</th>\n",
       "      <th>Collapse2</th>\n",
       "      <th>geometry</th>\n",
       "      <th>FishingEffort_2019</th>\n",
       "    </tr>\n",
       "  </thead>\n",
       "  <tbody>\n",
       "    <tr>\n",
       "      <th>0</th>\n",
       "      <td>28.0</td>\n",
       "      <td>1.0</td>\n",
       "      <td>1.0</td>\n",
       "      <td>1.0</td>\n",
       "      <td>1.0</td>\n",
       "      <td>3.0</td>\n",
       "      <td>WCPFC</td>\n",
       "      <td>1530.094465</td>\n",
       "      <td>5494.419315</td>\n",
       "      <td>None</td>\n",
       "      <td>61.5</td>\n",
       "      <td>84.27</td>\n",
       "      <td>44.8</td>\n",
       "      <td>POLYGON ((179.91550 -16.17920, 179.87110 -16.2...</td>\n",
       "      <td>2.641510e+07</td>\n",
       "    </tr>\n",
       "    <tr>\n",
       "      <th>1</th>\n",
       "      <td>29.0</td>\n",
       "      <td>1.0</td>\n",
       "      <td>1.0</td>\n",
       "      <td>1.0</td>\n",
       "      <td>1.0</td>\n",
       "      <td>3.0</td>\n",
       "      <td>WCPFC</td>\n",
       "      <td>389.602717</td>\n",
       "      <td>4545.934381</td>\n",
       "      <td>None</td>\n",
       "      <td>61.5</td>\n",
       "      <td>84.27</td>\n",
       "      <td>44.8</td>\n",
       "      <td>POLYGON ((-180.00000 -16.96570, -180.00000 -16...</td>\n",
       "      <td>2.641510e+07</td>\n",
       "    </tr>\n",
       "  </tbody>\n",
       "</table>\n",
       "</div>"
      ],
      "text/plain": [
       "   OBJECTID  AREATYPE  DEFRULE  DISPORDER  FILL  STROKE    RFB   SHAPE_LENG  \\\n",
       "0      28.0       1.0      1.0        1.0   1.0     3.0  WCPFC  1530.094465   \n",
       "1      29.0       1.0      1.0        1.0   1.0     3.0  WCPFC   389.602717   \n",
       "\n",
       "    SHAPE_AREA ANCFEATURE  Perform  Collapse  Collapse2  \\\n",
       "0  5494.419315       None     61.5     84.27       44.8   \n",
       "1  4545.934381       None     61.5     84.27       44.8   \n",
       "\n",
       "                                            geometry  FishingEffort_2019  \n",
       "0  POLYGON ((179.91550 -16.17920, 179.87110 -16.2...        2.641510e+07  \n",
       "1  POLYGON ((-180.00000 -16.96570, -180.00000 -16...        2.641510e+07  "
      ]
     },
     "execution_count": 257,
     "metadata": {},
     "output_type": "execute_result"
    }
   ],
   "source": [
    "WCPFC.head(2)"
   ]
  },
  {
   "cell_type": "markdown",
   "id": "09e602d6-9f9f-40b7-84f4-a35cac9ead00",
   "metadata": {},
   "source": [
    "#### group by flag state"
   ]
  },
  {
   "cell_type": "code",
   "execution_count": 258,
   "id": "075fca16-7a96-42f1-81eb-f99807d2f716",
   "metadata": {},
   "outputs": [],
   "source": [
    "WCPFC_flagSUM = WCPFCEffort.groupby(['flag_gfw'])['fishing_hours'].sum().reset_index()"
   ]
  },
  {
   "cell_type": "code",
   "execution_count": 259,
   "id": "e86fc01e-1975-47e9-9e8c-73954a071b48",
   "metadata": {},
   "outputs": [
    {
     "data": {
      "text/html": [
       "<div>\n",
       "<style scoped>\n",
       "    .dataframe tbody tr th:only-of-type {\n",
       "        vertical-align: middle;\n",
       "    }\n",
       "\n",
       "    .dataframe tbody tr th {\n",
       "        vertical-align: top;\n",
       "    }\n",
       "\n",
       "    .dataframe thead th {\n",
       "        text-align: right;\n",
       "    }\n",
       "</style>\n",
       "<table border=\"1\" class=\"dataframe\">\n",
       "  <thead>\n",
       "    <tr style=\"text-align: right;\">\n",
       "      <th></th>\n",
       "      <th>flag_gfw</th>\n",
       "      <th>fishing_hours</th>\n",
       "    </tr>\n",
       "  </thead>\n",
       "  <tbody>\n",
       "    <tr>\n",
       "      <th>0</th>\n",
       "      <td>ALB</td>\n",
       "      <td>4.286880e+03</td>\n",
       "    </tr>\n",
       "    <tr>\n",
       "      <th>1</th>\n",
       "      <td>AUS</td>\n",
       "      <td>1.638394e+05</td>\n",
       "    </tr>\n",
       "    <tr>\n",
       "      <th>2</th>\n",
       "      <td>BRN</td>\n",
       "      <td>8.742420e+01</td>\n",
       "    </tr>\n",
       "    <tr>\n",
       "      <th>3</th>\n",
       "      <td>CAN</td>\n",
       "      <td>1.100854e+02</td>\n",
       "    </tr>\n",
       "    <tr>\n",
       "      <th>4</th>\n",
       "      <td>CHL</td>\n",
       "      <td>4.878800e+00</td>\n",
       "    </tr>\n",
       "    <tr>\n",
       "      <th>5</th>\n",
       "      <td>CHN</td>\n",
       "      <td>1.779549e+07</td>\n",
       "    </tr>\n",
       "    <tr>\n",
       "      <th>6</th>\n",
       "      <td>CIV</td>\n",
       "      <td>0.000000e+00</td>\n",
       "    </tr>\n",
       "    <tr>\n",
       "      <th>7</th>\n",
       "      <td>COK</td>\n",
       "      <td>4.619339e+04</td>\n",
       "    </tr>\n",
       "    <tr>\n",
       "      <th>8</th>\n",
       "      <td>COL</td>\n",
       "      <td>4.273200e+00</td>\n",
       "    </tr>\n",
       "    <tr>\n",
       "      <th>9</th>\n",
       "      <td>CRI</td>\n",
       "      <td>1.640674e+03</td>\n",
       "    </tr>\n",
       "    <tr>\n",
       "      <th>10</th>\n",
       "      <td>CYP</td>\n",
       "      <td>6.129481e+03</td>\n",
       "    </tr>\n",
       "    <tr>\n",
       "      <th>11</th>\n",
       "      <td>DNK</td>\n",
       "      <td>2.661140e+01</td>\n",
       "    </tr>\n",
       "    <tr>\n",
       "      <th>12</th>\n",
       "      <td>ECU</td>\n",
       "      <td>2.072666e+03</td>\n",
       "    </tr>\n",
       "    <tr>\n",
       "      <th>13</th>\n",
       "      <td>ESP</td>\n",
       "      <td>1.401190e+04</td>\n",
       "    </tr>\n",
       "    <tr>\n",
       "      <th>14</th>\n",
       "      <td>FJI</td>\n",
       "      <td>1.777034e+05</td>\n",
       "    </tr>\n",
       "  </tbody>\n",
       "</table>\n",
       "</div>"
      ],
      "text/plain": [
       "   flag_gfw  fishing_hours\n",
       "0       ALB   4.286880e+03\n",
       "1       AUS   1.638394e+05\n",
       "2       BRN   8.742420e+01\n",
       "3       CAN   1.100854e+02\n",
       "4       CHL   4.878800e+00\n",
       "5       CHN   1.779549e+07\n",
       "6       CIV   0.000000e+00\n",
       "7       COK   4.619339e+04\n",
       "8       COL   4.273200e+00\n",
       "9       CRI   1.640674e+03\n",
       "10      CYP   6.129481e+03\n",
       "11      DNK   2.661140e+01\n",
       "12      ECU   2.072666e+03\n",
       "13      ESP   1.401190e+04\n",
       "14      FJI   1.777034e+05"
      ]
     },
     "execution_count": 259,
     "metadata": {},
     "output_type": "execute_result"
    }
   ],
   "source": [
    "WCPFC_flagSUM.head(15)"
   ]
  },
  {
   "cell_type": "code",
   "execution_count": 260,
   "id": "5052780f-4c6d-4202-90c7-29a02aa42317",
   "metadata": {},
   "outputs": [],
   "source": [
    "del WCPFCEffort"
   ]
  },
  {
   "cell_type": "markdown",
   "id": "20ef31e3-0649-4f10-9b6f-ffe5b342683a",
   "metadata": {},
   "source": [
    "##### calculate area of WCPFC change to appropriate polar equal area projection"
   ]
  },
  {
   "cell_type": "code",
   "execution_count": 261,
   "id": "bd5ca51e-b488-4a0a-aa77-5cc42063bf6d",
   "metadata": {},
   "outputs": [
    {
     "data": {
      "text/plain": [
       "<Derived Projected CRS: ESRI:54012>\n",
       "Name: World_Eckert_IV\n",
       "Axis Info [cartesian]:\n",
       "- E[east]: Easting (metre)\n",
       "- N[north]: Northing (metre)\n",
       "Area of Use:\n",
       "- name: World.\n",
       "- bounds: (-180.0, -90.0, 180.0, 90.0)\n",
       "Coordinate Operation:\n",
       "- name: World_Eckert_IV\n",
       "- method: Eckert IV\n",
       "Datum: World Geodetic System 1984\n",
       "- Ellipsoid: WGS 84\n",
       "- Prime Meridian: Greenwich"
      ]
     },
     "execution_count": 261,
     "metadata": {},
     "output_type": "execute_result"
    }
   ],
   "source": [
    "WCPFC = WCPFC.to_crs(\"ESRI:54012\")\n",
    "WCPFC.crs"
   ]
  },
  {
   "cell_type": "code",
   "execution_count": 262,
   "id": "1f7a7232-7f8f-4e60-a4f4-03d3d7386686",
   "metadata": {},
   "outputs": [
    {
     "data": {
      "text/html": [
       "<div>\n",
       "<style scoped>\n",
       "    .dataframe tbody tr th:only-of-type {\n",
       "        vertical-align: middle;\n",
       "    }\n",
       "\n",
       "    .dataframe tbody tr th {\n",
       "        vertical-align: top;\n",
       "    }\n",
       "\n",
       "    .dataframe thead th {\n",
       "        text-align: right;\n",
       "    }\n",
       "</style>\n",
       "<table border=\"1\" class=\"dataframe\">\n",
       "  <thead>\n",
       "    <tr style=\"text-align: right;\">\n",
       "      <th></th>\n",
       "      <th>OBJECTID</th>\n",
       "      <th>AREATYPE</th>\n",
       "      <th>DEFRULE</th>\n",
       "      <th>DISPORDER</th>\n",
       "      <th>FILL</th>\n",
       "      <th>STROKE</th>\n",
       "      <th>RFB</th>\n",
       "      <th>SHAPE_LENG</th>\n",
       "      <th>SHAPE_AREA</th>\n",
       "      <th>ANCFEATURE</th>\n",
       "      <th>Perform</th>\n",
       "      <th>Collapse</th>\n",
       "      <th>Collapse2</th>\n",
       "      <th>geometry</th>\n",
       "      <th>FishingEffort_2019</th>\n",
       "      <th>area</th>\n",
       "    </tr>\n",
       "  </thead>\n",
       "  <tbody>\n",
       "    <tr>\n",
       "      <th>0</th>\n",
       "      <td>28.0</td>\n",
       "      <td>1.0</td>\n",
       "      <td>1.0</td>\n",
       "      <td>1.0</td>\n",
       "      <td>1.0</td>\n",
       "      <td>3.0</td>\n",
       "      <td>WCPFC</td>\n",
       "      <td>1530.094465</td>\n",
       "      <td>5494.419315</td>\n",
       "      <td>None</td>\n",
       "      <td>61.5</td>\n",
       "      <td>84.27</td>\n",
       "      <td>44.8</td>\n",
       "      <td>POLYGON ((16644596.452 -2115652.883, 16639605....</td>\n",
       "      <td>2.641510e+07</td>\n",
       "      <td>5.898862e+07</td>\n",
       "    </tr>\n",
       "    <tr>\n",
       "      <th>1</th>\n",
       "      <td>29.0</td>\n",
       "      <td>1.0</td>\n",
       "      <td>1.0</td>\n",
       "      <td>1.0</td>\n",
       "      <td>1.0</td>\n",
       "      <td>3.0</td>\n",
       "      <td>WCPFC</td>\n",
       "      <td>389.602717</td>\n",
       "      <td>4545.934381</td>\n",
       "      <td>None</td>\n",
       "      <td>61.5</td>\n",
       "      <td>84.27</td>\n",
       "      <td>44.8</td>\n",
       "      <td>POLYGON ((-16625648.184 -2216706.817, -1663183...</td>\n",
       "      <td>2.641510e+07</td>\n",
       "      <td>4.691421e+07</td>\n",
       "    </tr>\n",
       "  </tbody>\n",
       "</table>\n",
       "</div>"
      ],
      "text/plain": [
       "   OBJECTID  AREATYPE  DEFRULE  DISPORDER  FILL  STROKE    RFB   SHAPE_LENG  \\\n",
       "0      28.0       1.0      1.0        1.0   1.0     3.0  WCPFC  1530.094465   \n",
       "1      29.0       1.0      1.0        1.0   1.0     3.0  WCPFC   389.602717   \n",
       "\n",
       "    SHAPE_AREA ANCFEATURE  Perform  Collapse  Collapse2  \\\n",
       "0  5494.419315       None     61.5     84.27       44.8   \n",
       "1  4545.934381       None     61.5     84.27       44.8   \n",
       "\n",
       "                                            geometry  FishingEffort_2019  \\\n",
       "0  POLYGON ((16644596.452 -2115652.883, 16639605....        2.641510e+07   \n",
       "1  POLYGON ((-16625648.184 -2216706.817, -1663183...        2.641510e+07   \n",
       "\n",
       "           area  \n",
       "0  5.898862e+07  \n",
       "1  4.691421e+07  "
      ]
     },
     "execution_count": 262,
     "metadata": {},
     "output_type": "execute_result"
    }
   ],
   "source": [
    "WCPFC[\"area\"] = WCPFC['geometry'].area/ 10**6\n",
    "WCPFC.head(2)"
   ]
  },
  {
   "cell_type": "code",
   "execution_count": 263,
   "id": "2b9fb7a3-fbc2-46df-8093-7f7045eb5cae",
   "metadata": {},
   "outputs": [
    {
     "name": "stderr",
     "output_type": "stream",
     "text": [
      "/tmp/ipykernel_462/3201286659.py:1: UserWarning: Column names longer than 10 characters will be truncated when saved to ESRI Shapefile.\n",
      "  WCPFC.to_file('RFB_WCPFC_New.shp')\n"
     ]
    }
   ],
   "source": [
    "WCPFC.to_file('RFB_WCPFC_New.shp')"
   ]
  },
  {
   "cell_type": "markdown",
   "id": "91060308-ab96-436b-b2de-e3bf4d9061dd",
   "metadata": {},
   "source": [
    "## Re-download shapefiles and merge them"
   ]
  },
  {
   "cell_type": "code",
   "execution_count": 115,
   "id": "432a6161-0325-45af-a065-b94c0a90ac71",
   "metadata": {},
   "outputs": [],
   "source": [
    "import pandas as pd\n",
    "import geopandas\n",
    "import os\n",
    "import shapely\n",
    "import numpy as np"
   ]
  },
  {
   "cell_type": "code",
   "execution_count": 116,
   "id": "108697f9-e8b5-45f2-826b-80c121c8457e",
   "metadata": {},
   "outputs": [],
   "source": [
    "CCAMLR = geopandas.read_file(\"RFB_CCAMLR_New.shp\")\n",
    "CCSBT = geopandas.read_file(\"RFB_CCSBT_New.shp\")\n",
    "GFCM = geopandas.read_file(\"RFB_GFCM_New.shp\")\n",
    "IATTC = geopandas.read_file(\"RFB_IATTC_New.shp\")\n",
    "ICCAT = geopandas.read_file(\"RFB_ICCAT_New.shp\")\n",
    "IOTC = geopandas.read_file(\"RFB_IOTC_New.shp\")\n",
    "IPHC = geopandas.read_file(\"RFB_IPHC_New.shp\")\n",
    "NAFO = geopandas.read_file(\"RFB_NAFO_New.shp\")\n",
    "NASCO = geopandas.read_file(\"RFB_NASCO_New.shp\")\n",
    "NEAFC = geopandas.read_file(\"RFB_NEAFC_New.shp\")\n",
    "NPAFC = geopandas.read_file(\"RFB_NPAFC_New.shp\")\n",
    "PSC = geopandas.read_file(\"RFB_PSC_New.shp\")\n",
    "SEAFO = geopandas.read_file(\"RFB_SEAFO_New.shp\")\n",
    "SIOFA = geopandas.read_file(\"RFB_SIOFA_New.shp\")\n",
    "SPRFMO = geopandas.read_file(\"RFB_SPRFMO_New.shp\")\n",
    "WCPFC = geopandas.read_file(\"RFB_WCPFC_New.shp\")"
   ]
  },
  {
   "cell_type": "code",
   "execution_count": 117,
   "id": "38c9a6db-3dfe-471c-ad99-e1d4d0f105c1",
   "metadata": {},
   "outputs": [],
   "source": [
    "CCAMLR = CCAMLR.to_crs('EPSG:4326')\n",
    "CCSBT = CCSBT.to_crs('EPSG:4326')\n",
    "GFCM = GFCM.to_crs('EPSG:4326')\n",
    "IATTC = IATTC.to_crs('EPSG:4326')\n",
    "ICCAT = ICCAT.to_crs('EPSG:4326')\n",
    "IOTC = IOTC.to_crs('EPSG:4326')\n",
    "IPHC = IPHC.to_crs('EPSG:4326')\n",
    "NAFO = NAFO.to_crs('EPSG:4326')\n",
    "NASCO = NASCO.to_crs('EPSG:4326')\n",
    "NEAFC = NEAFC.to_crs('EPSG:4326')\n",
    "NPAFC = NPAFC.to_crs('EPSG:4326')\n",
    "PSC = PSC.to_crs('EPSG:4326')\n",
    "SEAFO = SEAFO.to_crs('EPSG:4326')\n",
    "SIOFA = SIOFA.to_crs('EPSG:4326')\n",
    "SPRFMO = SPRFMO.to_crs('EPSG:4326')\n",
    "WCPFC = WCPFC.to_crs('EPSG:4326')"
   ]
  },
  {
   "cell_type": "code",
   "execution_count": 118,
   "id": "b3aed7d5-239f-41a2-905e-e25f62798192",
   "metadata": {},
   "outputs": [],
   "source": [
    "RFMOConvention = pd.concat([CCAMLR, CCSBT, GFCM, IATTC, ICCAT, IOTC, IPHC, NAFO, NASCO, NEAFC, NPAFC,PSC,SEAFO,SIOFA,SPRFMO,WCPFC])"
   ]
  },
  {
   "cell_type": "code",
   "execution_count": 119,
   "id": "9ca34bcd-987d-4398-95f8-23bedf3abefa",
   "metadata": {},
   "outputs": [
    {
     "data": {
      "text/plain": [
       "<AxesSubplot: >"
      ]
     },
     "execution_count": 119,
     "metadata": {},
     "output_type": "execute_result"
    },
    {
     "data": {
      "image/png": "[encoded data removed]",
      "text/plain": [
       "<Figure size 640x480 with 1 Axes>"
      ]
     },
     "metadata": {},
     "output_type": "display_data"
    }
   ],
   "source": [
    "RFMOConvention.plot()"
   ]
  },
  {
   "cell_type": "code",
   "execution_count": 120,
   "id": "1ad1fb5d-7467-4b30-9c6e-50c049f41760",
   "metadata": {},
   "outputs": [
    {
     "data": {
      "text/html": [
       "<div>\n",
       "<style scoped>\n",
       "    .dataframe tbody tr th:only-of-type {\n",
       "        vertical-align: middle;\n",
       "    }\n",
       "\n",
       "    .dataframe tbody tr th {\n",
       "        vertical-align: top;\n",
       "    }\n",
       "\n",
       "    .dataframe thead th {\n",
       "        text-align: right;\n",
       "    }\n",
       "</style>\n",
       "<table border=\"1\" class=\"dataframe\">\n",
       "  <thead>\n",
       "    <tr style=\"text-align: right;\">\n",
       "      <th></th>\n",
       "      <th>OBJECTID</th>\n",
       "      <th>AREATYPE</th>\n",
       "      <th>DEFRULE</th>\n",
       "      <th>DISPORDER</th>\n",
       "      <th>FILL</th>\n",
       "      <th>STROKE</th>\n",
       "      <th>RFB</th>\n",
       "      <th>SHAPE_LENG</th>\n",
       "      <th>SHAPE_AREA</th>\n",
       "      <th>ANCFEATURE</th>\n",
       "      <th>Perform</th>\n",
       "      <th>Collapse</th>\n",
       "      <th>Collapse2</th>\n",
       "      <th>FishingEff</th>\n",
       "      <th>area</th>\n",
       "      <th>geometry</th>\n",
       "    </tr>\n",
       "  </thead>\n",
       "  <tbody>\n",
       "    <tr>\n",
       "      <th>0</th>\n",
       "      <td>12.0</td>\n",
       "      <td>1.0</td>\n",
       "      <td>1.0</td>\n",
       "      <td>1.0</td>\n",
       "      <td>1.0</td>\n",
       "      <td>1.0</td>\n",
       "      <td>CCAMLR</td>\n",
       "      <td>1662.664134</td>\n",
       "      <td>6665.400395</td>\n",
       "      <td>None</td>\n",
       "      <td>60.0</td>\n",
       "      <td>82.35</td>\n",
       "      <td>64.70</td>\n",
       "      <td>5.912111e+04</td>\n",
       "      <td>3.567803e+07</td>\n",
       "      <td>POLYGON ((180.00000 -84.30220, 179.90840 -84.2...</td>\n",
       "    </tr>\n",
       "    <tr>\n",
       "      <th>0</th>\n",
       "      <td>79.0</td>\n",
       "      <td>1.0</td>\n",
       "      <td>5.0</td>\n",
       "      <td>1.0</td>\n",
       "      <td>3.0</td>\n",
       "      <td>3.0</td>\n",
       "      <td>CCSBT</td>\n",
       "      <td>703.702240</td>\n",
       "      <td>5243.076304</td>\n",
       "      <td>None</td>\n",
       "      <td>46.5</td>\n",
       "      <td>90.06</td>\n",
       "      <td>67.20</td>\n",
       "      <td>1.681760e+06</td>\n",
       "      <td>5.006586e+07</td>\n",
       "      <td>POLYGON ((120.09870 -10.38000, 120.12050 -10.3...</td>\n",
       "    </tr>\n",
       "    <tr>\n",
       "      <th>1</th>\n",
       "      <td>80.0</td>\n",
       "      <td>1.0</td>\n",
       "      <td>5.0</td>\n",
       "      <td>1.0</td>\n",
       "      <td>3.0</td>\n",
       "      <td>3.0</td>\n",
       "      <td>CCSBT</td>\n",
       "      <td>253.419862</td>\n",
       "      <td>1752.423860</td>\n",
       "      <td>None</td>\n",
       "      <td>46.5</td>\n",
       "      <td>90.06</td>\n",
       "      <td>67.20</td>\n",
       "      <td>1.681760e+06</td>\n",
       "      <td>1.628845e+07</td>\n",
       "      <td>POLYGON ((-174.60280 -31.04080, -169.75280 -31...</td>\n",
       "    </tr>\n",
       "    <tr>\n",
       "      <th>0</th>\n",
       "      <td>15.0</td>\n",
       "      <td>1.0</td>\n",
       "      <td>5.0</td>\n",
       "      <td>1.0</td>\n",
       "      <td>1.0</td>\n",
       "      <td>3.0</td>\n",
       "      <td>GFCM</td>\n",
       "      <td>362.454860</td>\n",
       "      <td>308.539628</td>\n",
       "      <td>None</td>\n",
       "      <td>40.5</td>\n",
       "      <td>81.49</td>\n",
       "      <td>50.65</td>\n",
       "      <td>3.819809e+06</td>\n",
       "      <td>3.000341e+06</td>\n",
       "      <td>POLYGON ((39.27760 47.23120, 39.30000 47.07690...</td>\n",
       "    </tr>\n",
       "  </tbody>\n",
       "</table>\n",
       "</div>"
      ],
      "text/plain": [
       "   OBJECTID  AREATYPE  DEFRULE  DISPORDER  FILL  STROKE     RFB   SHAPE_LENG  \\\n",
       "0      12.0       1.0      1.0        1.0   1.0     1.0  CCAMLR  1662.664134   \n",
       "0      79.0       1.0      5.0        1.0   3.0     3.0   CCSBT   703.702240   \n",
       "1      80.0       1.0      5.0        1.0   3.0     3.0   CCSBT   253.419862   \n",
       "0      15.0       1.0      5.0        1.0   1.0     3.0    GFCM   362.454860   \n",
       "\n",
       "    SHAPE_AREA ANCFEATURE  Perform  Collapse  Collapse2    FishingEff  \\\n",
       "0  6665.400395       None     60.0     82.35      64.70  5.912111e+04   \n",
       "0  5243.076304       None     46.5     90.06      67.20  1.681760e+06   \n",
       "1  1752.423860       None     46.5     90.06      67.20  1.681760e+06   \n",
       "0   308.539628       None     40.5     81.49      50.65  3.819809e+06   \n",
       "\n",
       "           area                                           geometry  \n",
       "0  3.567803e+07  POLYGON ((180.00000 -84.30220, 179.90840 -84.2...  \n",
       "0  5.006586e+07  POLYGON ((120.09870 -10.38000, 120.12050 -10.3...  \n",
       "1  1.628845e+07  POLYGON ((-174.60280 -31.04080, -169.75280 -31...  \n",
       "0  3.000341e+06  POLYGON ((39.27760 47.23120, 39.30000 47.07690...  "
      ]
     },
     "execution_count": 120,
     "metadata": {},
     "output_type": "execute_result"
    }
   ],
   "source": [
    "RFMOConvention.head(4)"
   ]
  },
  {
   "cell_type": "code",
   "execution_count": 121,
   "id": "b49e9174-435c-4088-9841-b3bdc6aa90c6",
   "metadata": {},
   "outputs": [
    {
     "data": {
      "text/plain": [
       "30"
      ]
     },
     "execution_count": 121,
     "metadata": {},
     "output_type": "execute_result"
    }
   ],
   "source": [
    "len(RFMOConvention)"
   ]
  },
  {
   "cell_type": "code",
   "execution_count": 141,
   "id": "8096a484-eb69-41ac-b983-f0a064a6d2c3",
   "metadata": {},
   "outputs": [],
   "source": [
    "RFMOConSUM = RFMOConvention.dissolve(by=\"RFB\",aggfunc={\"FishingEff\": \"first\",\n",
    "         \"area\": \"sum\", \"Perform\":\"first\",\"Collapse2\":\"first\"})"
   ]
  },
  {
   "cell_type": "code",
   "execution_count": 142,
   "id": "09330b9d-447f-4dc0-bb91-bcca51fa1cfc",
   "metadata": {},
   "outputs": [
    {
     "data": {
      "text/plain": [
       "16"
      ]
     },
     "execution_count": 142,
     "metadata": {},
     "output_type": "execute_result"
    }
   ],
   "source": [
    "len(RFMOConSUM)"
   ]
  },
  {
   "cell_type": "code",
   "execution_count": 143,
   "id": "f20da50e-53cf-4866-9ace-a32a27f27f47",
   "metadata": {},
   "outputs": [
    {
     "data": {
      "text/html": [
       "<div>\n",
       "<style scoped>\n",
       "    .dataframe tbody tr th:only-of-type {\n",
       "        vertical-align: middle;\n",
       "    }\n",
       "\n",
       "    .dataframe tbody tr th {\n",
       "        vertical-align: top;\n",
       "    }\n",
       "\n",
       "    .dataframe thead th {\n",
       "        text-align: right;\n",
       "    }\n",
       "</style>\n",
       "<table border=\"1\" class=\"dataframe\">\n",
       "  <thead>\n",
       "    <tr style=\"text-align: right;\">\n",
       "      <th></th>\n",
       "      <th>geometry</th>\n",
       "      <th>FishingEff</th>\n",
       "      <th>area</th>\n",
       "      <th>Perform</th>\n",
       "      <th>Collapse2</th>\n",
       "    </tr>\n",
       "    <tr>\n",
       "      <th>RFB</th>\n",
       "      <th></th>\n",
       "      <th></th>\n",
       "      <th></th>\n",
       "      <th></th>\n",
       "      <th></th>\n",
       "    </tr>\n",
       "  </thead>\n",
       "  <tbody>\n",
       "    <tr>\n",
       "      <th>CCAMLR</th>\n",
       "      <td>POLYGON ((180.00000 -84.30220, 179.90840 -84.2...</td>\n",
       "      <td>5.912111e+04</td>\n",
       "      <td>3.567803e+07</td>\n",
       "      <td>60.0</td>\n",
       "      <td>64.70</td>\n",
       "    </tr>\n",
       "    <tr>\n",
       "      <th>CCSBT</th>\n",
       "      <td>MULTIPOLYGON (((-169.75280 -31.97620, -150.000...</td>\n",
       "      <td>1.681760e+06</td>\n",
       "      <td>6.635430e+07</td>\n",
       "      <td>46.5</td>\n",
       "      <td>67.20</td>\n",
       "    </tr>\n",
       "    <tr>\n",
       "      <th>GFCM</th>\n",
       "      <td>POLYGON ((39.27760 47.23120, 39.30000 47.07690...</td>\n",
       "      <td>3.819809e+06</td>\n",
       "      <td>3.000341e+06</td>\n",
       "      <td>40.5</td>\n",
       "      <td>50.65</td>\n",
       "    </tr>\n",
       "    <tr>\n",
       "      <th>IATTC</th>\n",
       "      <td>MULTIPOLYGON (((-123.92000 49.79250, -123.9230...</td>\n",
       "      <td>2.432814e+06</td>\n",
       "      <td>6.635639e+07</td>\n",
       "      <td>52.0</td>\n",
       "      <td>57.76</td>\n",
       "    </tr>\n",
       "    <tr>\n",
       "      <th>ICCAT</th>\n",
       "      <td>MULTIPOLYGON (((10.83190 54.33040, 10.79500 54...</td>\n",
       "      <td>1.801238e+07</td>\n",
       "      <td>8.895806e+07</td>\n",
       "      <td>52.0</td>\n",
       "      <td>49.05</td>\n",
       "    </tr>\n",
       "    <tr>\n",
       "      <th>IOTC</th>\n",
       "      <td>POLYGON ((49.26350 30.42910, 49.22250 30.37330...</td>\n",
       "      <td>3.137981e+06</td>\n",
       "      <td>6.468506e+07</td>\n",
       "      <td>47.0</td>\n",
       "      <td>40.91</td>\n",
       "    </tr>\n",
       "    <tr>\n",
       "      <th>IPHC</th>\n",
       "      <td>MULTIPOLYGON (((179.11520 55.34210, 179.16890 ...</td>\n",
       "      <td>6.451088e+05</td>\n",
       "      <td>3.942942e+06</td>\n",
       "      <td>38.5</td>\n",
       "      <td>65.19</td>\n",
       "    </tr>\n",
       "    <tr>\n",
       "      <th>NAFO</th>\n",
       "      <td>MULTIPOLYGON (((-73.01330 78.15030, -72.94530 ...</td>\n",
       "      <td>1.032462e+06</td>\n",
       "      <td>6.295071e+06</td>\n",
       "      <td>44.5</td>\n",
       "      <td>67.03</td>\n",
       "    </tr>\n",
       "    <tr>\n",
       "      <th>NASCO</th>\n",
       "      <td>MULTIPOLYGON (((-75.87000 36.49860, -75.86390 ...</td>\n",
       "      <td>1.027287e+07</td>\n",
       "      <td>2.032979e+07</td>\n",
       "      <td>30.0</td>\n",
       "      <td>55.88</td>\n",
       "    </tr>\n",
       "    <tr>\n",
       "      <th>NEAFC</th>\n",
       "      <td>MULTIPOLYGON (((-44.00000 60.31260, -43.99390 ...</td>\n",
       "      <td>8.856218e+06</td>\n",
       "      <td>1.349665e+07</td>\n",
       "      <td>42.5</td>\n",
       "      <td>55.84</td>\n",
       "    </tr>\n",
       "    <tr>\n",
       "      <th>NPAFC</th>\n",
       "      <td>MULTIPOLYGON (((167.44880 51.18950, 167.44980 ...</td>\n",
       "      <td>6.327378e+05</td>\n",
       "      <td>1.340415e+07</td>\n",
       "      <td>30.5</td>\n",
       "      <td>43.91</td>\n",
       "    </tr>\n",
       "    <tr>\n",
       "      <th>PSC</th>\n",
       "      <td>MULTIPOLYGON (((-136.40170 57.82870, -136.4013...</td>\n",
       "      <td>2.470104e+05</td>\n",
       "      <td>1.562286e+06</td>\n",
       "      <td>31.5</td>\n",
       "      <td>55.88</td>\n",
       "    </tr>\n",
       "    <tr>\n",
       "      <th>SEAFO</th>\n",
       "      <td>POLYGON ((-10.00000 -3.76690, -10.00000 -4.744...</td>\n",
       "      <td>3.658932e+05</td>\n",
       "      <td>1.568218e+07</td>\n",
       "      <td>47.5</td>\n",
       "      <td>57.14</td>\n",
       "    </tr>\n",
       "    <tr>\n",
       "      <th>SIOFA</th>\n",
       "      <td>POLYGON ((65.00000 10.00000, 65.00000 0.00000,...</td>\n",
       "      <td>1.313327e+06</td>\n",
       "      <td>2.693323e+07</td>\n",
       "      <td>45.0</td>\n",
       "      <td>57.14</td>\n",
       "    </tr>\n",
       "    <tr>\n",
       "      <th>SPRFMO</th>\n",
       "      <td>MULTIPOLYGON (((165.85700 -26.20290, 165.84250...</td>\n",
       "      <td>3.044041e+06</td>\n",
       "      <td>5.918658e+07</td>\n",
       "      <td>53.5</td>\n",
       "      <td>59.19</td>\n",
       "    </tr>\n",
       "    <tr>\n",
       "      <th>WCPFC</th>\n",
       "      <td>MULTIPOLYGON (((-180.00000 -16.78730, -180.000...</td>\n",
       "      <td>2.641510e+07</td>\n",
       "      <td>1.059028e+08</td>\n",
       "      <td>61.5</td>\n",
       "      <td>44.80</td>\n",
       "    </tr>\n",
       "  </tbody>\n",
       "</table>\n",
       "</div>"
      ],
      "text/plain": [
       "                                                 geometry    FishingEff  \\\n",
       "RFB                                                                       \n",
       "CCAMLR  POLYGON ((180.00000 -84.30220, 179.90840 -84.2...  5.912111e+04   \n",
       "CCSBT   MULTIPOLYGON (((-169.75280 -31.97620, -150.000...  1.681760e+06   \n",
       "GFCM    POLYGON ((39.27760 47.23120, 39.30000 47.07690...  3.819809e+06   \n",
       "IATTC   MULTIPOLYGON (((-123.92000 49.79250, -123.9230...  2.432814e+06   \n",
       "ICCAT   MULTIPOLYGON (((10.83190 54.33040, 10.79500 54...  1.801238e+07   \n",
       "IOTC    POLYGON ((49.26350 30.42910, 49.22250 30.37330...  3.137981e+06   \n",
       "IPHC    MULTIPOLYGON (((179.11520 55.34210, 179.16890 ...  6.451088e+05   \n",
       "NAFO    MULTIPOLYGON (((-73.01330 78.15030, -72.94530 ...  1.032462e+06   \n",
       "NASCO   MULTIPOLYGON (((-75.87000 36.49860, -75.86390 ...  1.027287e+07   \n",
       "NEAFC   MULTIPOLYGON (((-44.00000 60.31260, -43.99390 ...  8.856218e+06   \n",
       "NPAFC   MULTIPOLYGON (((167.44880 51.18950, 167.44980 ...  6.327378e+05   \n",
       "PSC     MULTIPOLYGON (((-136.40170 57.82870, -136.4013...  2.470104e+05   \n",
       "SEAFO   POLYGON ((-10.00000 -3.76690, -10.00000 -4.744...  3.658932e+05   \n",
       "SIOFA   POLYGON ((65.00000 10.00000, 65.00000 0.00000,...  1.313327e+06   \n",
       "SPRFMO  MULTIPOLYGON (((165.85700 -26.20290, 165.84250...  3.044041e+06   \n",
       "WCPFC   MULTIPOLYGON (((-180.00000 -16.78730, -180.000...  2.641510e+07   \n",
       "\n",
       "                area  Perform  Collapse2  \n",
       "RFB                                       \n",
       "CCAMLR  3.567803e+07     60.0      64.70  \n",
       "CCSBT   6.635430e+07     46.5      67.20  \n",
       "GFCM    3.000341e+06     40.5      50.65  \n",
       "IATTC   6.635639e+07     52.0      57.76  \n",
       "ICCAT   8.895806e+07     52.0      49.05  \n",
       "IOTC    6.468506e+07     47.0      40.91  \n",
       "IPHC    3.942942e+06     38.5      65.19  \n",
       "NAFO    6.295071e+06     44.5      67.03  \n",
       "NASCO   2.032979e+07     30.0      55.88  \n",
       "NEAFC   1.349665e+07     42.5      55.84  \n",
       "NPAFC   1.340415e+07     30.5      43.91  \n",
       "PSC     1.562286e+06     31.5      55.88  \n",
       "SEAFO   1.568218e+07     47.5      57.14  \n",
       "SIOFA   2.693323e+07     45.0      57.14  \n",
       "SPRFMO  5.918658e+07     53.5      59.19  \n",
       "WCPFC   1.059028e+08     61.5      44.80  "
      ]
     },
     "execution_count": 143,
     "metadata": {},
     "output_type": "execute_result"
    }
   ],
   "source": [
    "RFMOConSUM[:16]"
   ]
  },
  {
   "cell_type": "code",
   "execution_count": 130,
   "id": "1ff5f52d-4412-460b-a1f0-802ef2a1b162",
   "metadata": {},
   "outputs": [],
   "source": [
    "#RFMOConSUM = RFMOConSUM.to_crs(\"ESRI:54012\")\n",
    "#RFMOConSUM.crs"
   ]
  },
  {
   "cell_type": "code",
   "execution_count": 147,
   "id": "25821016-6626-4119-98db-cdd1c75f0432",
   "metadata": {},
   "outputs": [],
   "source": [
    "RFMOConSUM['effort_density'] = RFMOConSUM['FishingEff']/RFMOConSUM['area']"
   ]
  },
  {
   "cell_type": "code",
   "execution_count": 144,
   "id": "4f8f1a67-0657-412b-b94b-fbd0f1f78566",
   "metadata": {},
   "outputs": [],
   "source": [
    "RFMOConSUM = RFMOConSUM.reset_index()"
   ]
  },
  {
   "cell_type": "code",
   "execution_count": 148,
   "id": "759d86c3-6a5a-40be-ac82-c7b6d4e64641",
   "metadata": {},
   "outputs": [
    {
     "data": {
      "text/html": [
       "<div>\n",
       "<style scoped>\n",
       "    .dataframe tbody tr th:only-of-type {\n",
       "        vertical-align: middle;\n",
       "    }\n",
       "\n",
       "    .dataframe tbody tr th {\n",
       "        vertical-align: top;\n",
       "    }\n",
       "\n",
       "    .dataframe thead th {\n",
       "        text-align: right;\n",
       "    }\n",
       "</style>\n",
       "<table border=\"1\" class=\"dataframe\">\n",
       "  <thead>\n",
       "    <tr style=\"text-align: right;\">\n",
       "      <th></th>\n",
       "      <th>RFB</th>\n",
       "      <th>geometry</th>\n",
       "      <th>FishingEff</th>\n",
       "      <th>area</th>\n",
       "      <th>Perform</th>\n",
       "      <th>Collapse2</th>\n",
       "      <th>effort_density</th>\n",
       "    </tr>\n",
       "  </thead>\n",
       "  <tbody>\n",
       "    <tr>\n",
       "      <th>15</th>\n",
       "      <td>WCPFC</td>\n",
       "      <td>MULTIPOLYGON (((-180.00000 -16.78730, -180.000...</td>\n",
       "      <td>2.641510e+07</td>\n",
       "      <td>1.059028e+08</td>\n",
       "      <td>61.5</td>\n",
       "      <td>44.80</td>\n",
       "      <td>0.249428</td>\n",
       "    </tr>\n",
       "    <tr>\n",
       "      <th>4</th>\n",
       "      <td>ICCAT</td>\n",
       "      <td>MULTIPOLYGON (((10.83190 54.33040, 10.79500 54...</td>\n",
       "      <td>1.801238e+07</td>\n",
       "      <td>8.895806e+07</td>\n",
       "      <td>52.0</td>\n",
       "      <td>49.05</td>\n",
       "      <td>0.202482</td>\n",
       "    </tr>\n",
       "    <tr>\n",
       "      <th>8</th>\n",
       "      <td>NASCO</td>\n",
       "      <td>MULTIPOLYGON (((-75.87000 36.49860, -75.86390 ...</td>\n",
       "      <td>1.027287e+07</td>\n",
       "      <td>2.032979e+07</td>\n",
       "      <td>30.0</td>\n",
       "      <td>55.88</td>\n",
       "      <td>0.505311</td>\n",
       "    </tr>\n",
       "    <tr>\n",
       "      <th>9</th>\n",
       "      <td>NEAFC</td>\n",
       "      <td>MULTIPOLYGON (((-44.00000 60.31260, -43.99390 ...</td>\n",
       "      <td>8.856218e+06</td>\n",
       "      <td>1.349665e+07</td>\n",
       "      <td>42.5</td>\n",
       "      <td>55.84</td>\n",
       "      <td>0.656179</td>\n",
       "    </tr>\n",
       "    <tr>\n",
       "      <th>2</th>\n",
       "      <td>GFCM</td>\n",
       "      <td>POLYGON ((39.27760 47.23120, 39.30000 47.07690...</td>\n",
       "      <td>3.819809e+06</td>\n",
       "      <td>3.000341e+06</td>\n",
       "      <td>40.5</td>\n",
       "      <td>50.65</td>\n",
       "      <td>1.273125</td>\n",
       "    </tr>\n",
       "    <tr>\n",
       "      <th>5</th>\n",
       "      <td>IOTC</td>\n",
       "      <td>POLYGON ((49.26350 30.42910, 49.22250 30.37330...</td>\n",
       "      <td>3.137981e+06</td>\n",
       "      <td>6.468506e+07</td>\n",
       "      <td>47.0</td>\n",
       "      <td>40.91</td>\n",
       "      <td>0.048512</td>\n",
       "    </tr>\n",
       "    <tr>\n",
       "      <th>14</th>\n",
       "      <td>SPRFMO</td>\n",
       "      <td>MULTIPOLYGON (((165.85700 -26.20290, 165.84250...</td>\n",
       "      <td>3.044041e+06</td>\n",
       "      <td>5.918658e+07</td>\n",
       "      <td>53.5</td>\n",
       "      <td>59.19</td>\n",
       "      <td>0.051431</td>\n",
       "    </tr>\n",
       "    <tr>\n",
       "      <th>3</th>\n",
       "      <td>IATTC</td>\n",
       "      <td>MULTIPOLYGON (((-123.92000 49.79250, -123.9230...</td>\n",
       "      <td>2.432814e+06</td>\n",
       "      <td>6.635639e+07</td>\n",
       "      <td>52.0</td>\n",
       "      <td>57.76</td>\n",
       "      <td>0.036663</td>\n",
       "    </tr>\n",
       "    <tr>\n",
       "      <th>1</th>\n",
       "      <td>CCSBT</td>\n",
       "      <td>MULTIPOLYGON (((-169.75280 -31.97620, -150.000...</td>\n",
       "      <td>1.681760e+06</td>\n",
       "      <td>6.635430e+07</td>\n",
       "      <td>46.5</td>\n",
       "      <td>67.20</td>\n",
       "      <td>0.025345</td>\n",
       "    </tr>\n",
       "    <tr>\n",
       "      <th>13</th>\n",
       "      <td>SIOFA</td>\n",
       "      <td>POLYGON ((65.00000 10.00000, 65.00000 0.00000,...</td>\n",
       "      <td>1.313327e+06</td>\n",
       "      <td>2.693323e+07</td>\n",
       "      <td>45.0</td>\n",
       "      <td>57.14</td>\n",
       "      <td>0.048762</td>\n",
       "    </tr>\n",
       "    <tr>\n",
       "      <th>7</th>\n",
       "      <td>NAFO</td>\n",
       "      <td>MULTIPOLYGON (((-73.01330 78.15030, -72.94530 ...</td>\n",
       "      <td>1.032462e+06</td>\n",
       "      <td>6.295071e+06</td>\n",
       "      <td>44.5</td>\n",
       "      <td>67.03</td>\n",
       "      <td>0.164011</td>\n",
       "    </tr>\n",
       "    <tr>\n",
       "      <th>6</th>\n",
       "      <td>IPHC</td>\n",
       "      <td>MULTIPOLYGON (((179.11520 55.34210, 179.16890 ...</td>\n",
       "      <td>6.451088e+05</td>\n",
       "      <td>3.942942e+06</td>\n",
       "      <td>38.5</td>\n",
       "      <td>65.19</td>\n",
       "      <td>0.163611</td>\n",
       "    </tr>\n",
       "    <tr>\n",
       "      <th>10</th>\n",
       "      <td>NPAFC</td>\n",
       "      <td>MULTIPOLYGON (((167.44880 51.18950, 167.44980 ...</td>\n",
       "      <td>6.327378e+05</td>\n",
       "      <td>1.340415e+07</td>\n",
       "      <td>30.5</td>\n",
       "      <td>43.91</td>\n",
       "      <td>0.047205</td>\n",
       "    </tr>\n",
       "    <tr>\n",
       "      <th>12</th>\n",
       "      <td>SEAFO</td>\n",
       "      <td>POLYGON ((-10.00000 -3.76690, -10.00000 -4.744...</td>\n",
       "      <td>3.658932e+05</td>\n",
       "      <td>1.568218e+07</td>\n",
       "      <td>47.5</td>\n",
       "      <td>57.14</td>\n",
       "      <td>0.023332</td>\n",
       "    </tr>\n",
       "    <tr>\n",
       "      <th>11</th>\n",
       "      <td>PSC</td>\n",
       "      <td>MULTIPOLYGON (((-136.40170 57.82870, -136.4013...</td>\n",
       "      <td>2.470104e+05</td>\n",
       "      <td>1.562286e+06</td>\n",
       "      <td>31.5</td>\n",
       "      <td>55.88</td>\n",
       "      <td>0.158108</td>\n",
       "    </tr>\n",
       "    <tr>\n",
       "      <th>0</th>\n",
       "      <td>CCAMLR</td>\n",
       "      <td>POLYGON ((180.00000 -84.30220, 179.90840 -84.2...</td>\n",
       "      <td>5.912111e+04</td>\n",
       "      <td>3.567803e+07</td>\n",
       "      <td>60.0</td>\n",
       "      <td>64.70</td>\n",
       "      <td>0.001657</td>\n",
       "    </tr>\n",
       "  </tbody>\n",
       "</table>\n",
       "</div>"
      ],
      "text/plain": [
       "       RFB                                           geometry    FishingEff  \\\n",
       "15   WCPFC  MULTIPOLYGON (((-180.00000 -16.78730, -180.000...  2.641510e+07   \n",
       "4    ICCAT  MULTIPOLYGON (((10.83190 54.33040, 10.79500 54...  1.801238e+07   \n",
       "8    NASCO  MULTIPOLYGON (((-75.87000 36.49860, -75.86390 ...  1.027287e+07   \n",
       "9    NEAFC  MULTIPOLYGON (((-44.00000 60.31260, -43.99390 ...  8.856218e+06   \n",
       "2     GFCM  POLYGON ((39.27760 47.23120, 39.30000 47.07690...  3.819809e+06   \n",
       "5     IOTC  POLYGON ((49.26350 30.42910, 49.22250 30.37330...  3.137981e+06   \n",
       "14  SPRFMO  MULTIPOLYGON (((165.85700 -26.20290, 165.84250...  3.044041e+06   \n",
       "3    IATTC  MULTIPOLYGON (((-123.92000 49.79250, -123.9230...  2.432814e+06   \n",
       "1    CCSBT  MULTIPOLYGON (((-169.75280 -31.97620, -150.000...  1.681760e+06   \n",
       "13   SIOFA  POLYGON ((65.00000 10.00000, 65.00000 0.00000,...  1.313327e+06   \n",
       "7     NAFO  MULTIPOLYGON (((-73.01330 78.15030, -72.94530 ...  1.032462e+06   \n",
       "6     IPHC  MULTIPOLYGON (((179.11520 55.34210, 179.16890 ...  6.451088e+05   \n",
       "10   NPAFC  MULTIPOLYGON (((167.44880 51.18950, 167.44980 ...  6.327378e+05   \n",
       "12   SEAFO  POLYGON ((-10.00000 -3.76690, -10.00000 -4.744...  3.658932e+05   \n",
       "11     PSC  MULTIPOLYGON (((-136.40170 57.82870, -136.4013...  2.470104e+05   \n",
       "0   CCAMLR  POLYGON ((180.00000 -84.30220, 179.90840 -84.2...  5.912111e+04   \n",
       "\n",
       "            area  Perform  Collapse2  effort_density  \n",
       "15  1.059028e+08     61.5      44.80        0.249428  \n",
       "4   8.895806e+07     52.0      49.05        0.202482  \n",
       "8   2.032979e+07     30.0      55.88        0.505311  \n",
       "9   1.349665e+07     42.5      55.84        0.656179  \n",
       "2   3.000341e+06     40.5      50.65        1.273125  \n",
       "5   6.468506e+07     47.0      40.91        0.048512  \n",
       "14  5.918658e+07     53.5      59.19        0.051431  \n",
       "3   6.635639e+07     52.0      57.76        0.036663  \n",
       "1   6.635430e+07     46.5      67.20        0.025345  \n",
       "13  2.693323e+07     45.0      57.14        0.048762  \n",
       "7   6.295071e+06     44.5      67.03        0.164011  \n",
       "6   3.942942e+06     38.5      65.19        0.163611  \n",
       "10  1.340415e+07     30.5      43.91        0.047205  \n",
       "12  1.568218e+07     47.5      57.14        0.023332  \n",
       "11  1.562286e+06     31.5      55.88        0.158108  \n",
       "0   3.567803e+07     60.0      64.70        0.001657  "
      ]
     },
     "execution_count": 148,
     "metadata": {},
     "output_type": "execute_result"
    }
   ],
   "source": [
    "RFMOConSUM.sort_values('FishingEff', ascending=False)"
   ]
  },
  {
   "cell_type": "code",
   "execution_count": 149,
   "id": "78a053ca-f97d-4da5-9e3b-3bc5d975fa32",
   "metadata": {},
   "outputs": [
    {
     "data": {
      "text/html": [
       "<div>\n",
       "<style scoped>\n",
       "    .dataframe tbody tr th:only-of-type {\n",
       "        vertical-align: middle;\n",
       "    }\n",
       "\n",
       "    .dataframe tbody tr th {\n",
       "        vertical-align: top;\n",
       "    }\n",
       "\n",
       "    .dataframe thead th {\n",
       "        text-align: right;\n",
       "    }\n",
       "</style>\n",
       "<table border=\"1\" class=\"dataframe\">\n",
       "  <thead>\n",
       "    <tr style=\"text-align: right;\">\n",
       "      <th></th>\n",
       "      <th>RFB</th>\n",
       "      <th>geometry</th>\n",
       "      <th>FishingEff</th>\n",
       "      <th>area</th>\n",
       "      <th>Perform</th>\n",
       "      <th>Collapse2</th>\n",
       "      <th>effort_density</th>\n",
       "    </tr>\n",
       "  </thead>\n",
       "  <tbody>\n",
       "    <tr>\n",
       "      <th>2</th>\n",
       "      <td>GFCM</td>\n",
       "      <td>POLYGON ((39.27760 47.23120, 39.30000 47.07690...</td>\n",
       "      <td>3.819809e+06</td>\n",
       "      <td>3.000341e+06</td>\n",
       "      <td>40.5</td>\n",
       "      <td>50.65</td>\n",
       "      <td>1.273125</td>\n",
       "    </tr>\n",
       "    <tr>\n",
       "      <th>9</th>\n",
       "      <td>NEAFC</td>\n",
       "      <td>MULTIPOLYGON (((-44.00000 60.31260, -43.99390 ...</td>\n",
       "      <td>8.856218e+06</td>\n",
       "      <td>1.349665e+07</td>\n",
       "      <td>42.5</td>\n",
       "      <td>55.84</td>\n",
       "      <td>0.656179</td>\n",
       "    </tr>\n",
       "    <tr>\n",
       "      <th>8</th>\n",
       "      <td>NASCO</td>\n",
       "      <td>MULTIPOLYGON (((-75.87000 36.49860, -75.86390 ...</td>\n",
       "      <td>1.027287e+07</td>\n",
       "      <td>2.032979e+07</td>\n",
       "      <td>30.0</td>\n",
       "      <td>55.88</td>\n",
       "      <td>0.505311</td>\n",
       "    </tr>\n",
       "    <tr>\n",
       "      <th>15</th>\n",
       "      <td>WCPFC</td>\n",
       "      <td>MULTIPOLYGON (((-180.00000 -16.78730, -180.000...</td>\n",
       "      <td>2.641510e+07</td>\n",
       "      <td>1.059028e+08</td>\n",
       "      <td>61.5</td>\n",
       "      <td>44.80</td>\n",
       "      <td>0.249428</td>\n",
       "    </tr>\n",
       "    <tr>\n",
       "      <th>4</th>\n",
       "      <td>ICCAT</td>\n",
       "      <td>MULTIPOLYGON (((10.83190 54.33040, 10.79500 54...</td>\n",
       "      <td>1.801238e+07</td>\n",
       "      <td>8.895806e+07</td>\n",
       "      <td>52.0</td>\n",
       "      <td>49.05</td>\n",
       "      <td>0.202482</td>\n",
       "    </tr>\n",
       "    <tr>\n",
       "      <th>7</th>\n",
       "      <td>NAFO</td>\n",
       "      <td>MULTIPOLYGON (((-73.01330 78.15030, -72.94530 ...</td>\n",
       "      <td>1.032462e+06</td>\n",
       "      <td>6.295071e+06</td>\n",
       "      <td>44.5</td>\n",
       "      <td>67.03</td>\n",
       "      <td>0.164011</td>\n",
       "    </tr>\n",
       "    <tr>\n",
       "      <th>6</th>\n",
       "      <td>IPHC</td>\n",
       "      <td>MULTIPOLYGON (((179.11520 55.34210, 179.16890 ...</td>\n",
       "      <td>6.451088e+05</td>\n",
       "      <td>3.942942e+06</td>\n",
       "      <td>38.5</td>\n",
       "      <td>65.19</td>\n",
       "      <td>0.163611</td>\n",
       "    </tr>\n",
       "    <tr>\n",
       "      <th>11</th>\n",
       "      <td>PSC</td>\n",
       "      <td>MULTIPOLYGON (((-136.40170 57.82870, -136.4013...</td>\n",
       "      <td>2.470104e+05</td>\n",
       "      <td>1.562286e+06</td>\n",
       "      <td>31.5</td>\n",
       "      <td>55.88</td>\n",
       "      <td>0.158108</td>\n",
       "    </tr>\n",
       "    <tr>\n",
       "      <th>14</th>\n",
       "      <td>SPRFMO</td>\n",
       "      <td>MULTIPOLYGON (((165.85700 -26.20290, 165.84250...</td>\n",
       "      <td>3.044041e+06</td>\n",
       "      <td>5.918658e+07</td>\n",
       "      <td>53.5</td>\n",
       "      <td>59.19</td>\n",
       "      <td>0.051431</td>\n",
       "    </tr>\n",
       "    <tr>\n",
       "      <th>13</th>\n",
       "      <td>SIOFA</td>\n",
       "      <td>POLYGON ((65.00000 10.00000, 65.00000 0.00000,...</td>\n",
       "      <td>1.313327e+06</td>\n",
       "      <td>2.693323e+07</td>\n",
       "      <td>45.0</td>\n",
       "      <td>57.14</td>\n",
       "      <td>0.048762</td>\n",
       "    </tr>\n",
       "    <tr>\n",
       "      <th>5</th>\n",
       "      <td>IOTC</td>\n",
       "      <td>POLYGON ((49.26350 30.42910, 49.22250 30.37330...</td>\n",
       "      <td>3.137981e+06</td>\n",
       "      <td>6.468506e+07</td>\n",
       "      <td>47.0</td>\n",
       "      <td>40.91</td>\n",
       "      <td>0.048512</td>\n",
       "    </tr>\n",
       "    <tr>\n",
       "      <th>10</th>\n",
       "      <td>NPAFC</td>\n",
       "      <td>MULTIPOLYGON (((167.44880 51.18950, 167.44980 ...</td>\n",
       "      <td>6.327378e+05</td>\n",
       "      <td>1.340415e+07</td>\n",
       "      <td>30.5</td>\n",
       "      <td>43.91</td>\n",
       "      <td>0.047205</td>\n",
       "    </tr>\n",
       "    <tr>\n",
       "      <th>3</th>\n",
       "      <td>IATTC</td>\n",
       "      <td>MULTIPOLYGON (((-123.92000 49.79250, -123.9230...</td>\n",
       "      <td>2.432814e+06</td>\n",
       "      <td>6.635639e+07</td>\n",
       "      <td>52.0</td>\n",
       "      <td>57.76</td>\n",
       "      <td>0.036663</td>\n",
       "    </tr>\n",
       "    <tr>\n",
       "      <th>1</th>\n",
       "      <td>CCSBT</td>\n",
       "      <td>MULTIPOLYGON (((-169.75280 -31.97620, -150.000...</td>\n",
       "      <td>1.681760e+06</td>\n",
       "      <td>6.635430e+07</td>\n",
       "      <td>46.5</td>\n",
       "      <td>67.20</td>\n",
       "      <td>0.025345</td>\n",
       "    </tr>\n",
       "    <tr>\n",
       "      <th>12</th>\n",
       "      <td>SEAFO</td>\n",
       "      <td>POLYGON ((-10.00000 -3.76690, -10.00000 -4.744...</td>\n",
       "      <td>3.658932e+05</td>\n",
       "      <td>1.568218e+07</td>\n",
       "      <td>47.5</td>\n",
       "      <td>57.14</td>\n",
       "      <td>0.023332</td>\n",
       "    </tr>\n",
       "    <tr>\n",
       "      <th>0</th>\n",
       "      <td>CCAMLR</td>\n",
       "      <td>POLYGON ((180.00000 -84.30220, 179.90840 -84.2...</td>\n",
       "      <td>5.912111e+04</td>\n",
       "      <td>3.567803e+07</td>\n",
       "      <td>60.0</td>\n",
       "      <td>64.70</td>\n",
       "      <td>0.001657</td>\n",
       "    </tr>\n",
       "  </tbody>\n",
       "</table>\n",
       "</div>"
      ],
      "text/plain": [
       "       RFB                                           geometry    FishingEff  \\\n",
       "2     GFCM  POLYGON ((39.27760 47.23120, 39.30000 47.07690...  3.819809e+06   \n",
       "9    NEAFC  MULTIPOLYGON (((-44.00000 60.31260, -43.99390 ...  8.856218e+06   \n",
       "8    NASCO  MULTIPOLYGON (((-75.87000 36.49860, -75.86390 ...  1.027287e+07   \n",
       "15   WCPFC  MULTIPOLYGON (((-180.00000 -16.78730, -180.000...  2.641510e+07   \n",
       "4    ICCAT  MULTIPOLYGON (((10.83190 54.33040, 10.79500 54...  1.801238e+07   \n",
       "7     NAFO  MULTIPOLYGON (((-73.01330 78.15030, -72.94530 ...  1.032462e+06   \n",
       "6     IPHC  MULTIPOLYGON (((179.11520 55.34210, 179.16890 ...  6.451088e+05   \n",
       "11     PSC  MULTIPOLYGON (((-136.40170 57.82870, -136.4013...  2.470104e+05   \n",
       "14  SPRFMO  MULTIPOLYGON (((165.85700 -26.20290, 165.84250...  3.044041e+06   \n",
       "13   SIOFA  POLYGON ((65.00000 10.00000, 65.00000 0.00000,...  1.313327e+06   \n",
       "5     IOTC  POLYGON ((49.26350 30.42910, 49.22250 30.37330...  3.137981e+06   \n",
       "10   NPAFC  MULTIPOLYGON (((167.44880 51.18950, 167.44980 ...  6.327378e+05   \n",
       "3    IATTC  MULTIPOLYGON (((-123.92000 49.79250, -123.9230...  2.432814e+06   \n",
       "1    CCSBT  MULTIPOLYGON (((-169.75280 -31.97620, -150.000...  1.681760e+06   \n",
       "12   SEAFO  POLYGON ((-10.00000 -3.76690, -10.00000 -4.744...  3.658932e+05   \n",
       "0   CCAMLR  POLYGON ((180.00000 -84.30220, 179.90840 -84.2...  5.912111e+04   \n",
       "\n",
       "            area  Perform  Collapse2  effort_density  \n",
       "2   3.000341e+06     40.5      50.65        1.273125  \n",
       "9   1.349665e+07     42.5      55.84        0.656179  \n",
       "8   2.032979e+07     30.0      55.88        0.505311  \n",
       "15  1.059028e+08     61.5      44.80        0.249428  \n",
       "4   8.895806e+07     52.0      49.05        0.202482  \n",
       "7   6.295071e+06     44.5      67.03        0.164011  \n",
       "6   3.942942e+06     38.5      65.19        0.163611  \n",
       "11  1.562286e+06     31.5      55.88        0.158108  \n",
       "14  5.918658e+07     53.5      59.19        0.051431  \n",
       "13  2.693323e+07     45.0      57.14        0.048762  \n",
       "5   6.468506e+07     47.0      40.91        0.048512  \n",
       "10  1.340415e+07     30.5      43.91        0.047205  \n",
       "3   6.635639e+07     52.0      57.76        0.036663  \n",
       "1   6.635430e+07     46.5      67.20        0.025345  \n",
       "12  1.568218e+07     47.5      57.14        0.023332  \n",
       "0   3.567803e+07     60.0      64.70        0.001657  "
      ]
     },
     "execution_count": 149,
     "metadata": {},
     "output_type": "execute_result"
    }
   ],
   "source": [
    "RFMOConSUM.sort_values('effort_density', ascending=False)"
   ]
  },
  {
   "cell_type": "code",
   "execution_count": 112,
   "id": "bfc328e5-2a6a-4a59-9b64-eb6baa1ac517",
   "metadata": {},
   "outputs": [
    {
     "data": {
      "text/plain": [
       "<AxesSubplot: >"
      ]
     },
     "execution_count": 112,
     "metadata": {},
     "output_type": "execute_result"
    },
    {
     "data": {
      "image/png": "[encoded data removed]",
      "text/plain": [
       "<Figure size 640x480 with 1 Axes>"
      ]
     },
     "metadata": {},
     "output_type": "display_data"
    }
   ],
   "source": [
    "RFMOConSUM.plot()"
   ]
  },
  {
   "cell_type": "code",
   "execution_count": 113,
   "id": "78bddd2d-93de-4cae-a673-cfaf372e9230",
   "metadata": {},
   "outputs": [
    {
     "data": {
      "text/plain": [
       "16"
      ]
     },
     "execution_count": 113,
     "metadata": {},
     "output_type": "execute_result"
    }
   ],
   "source": [
    "len(RFMOConSUM)"
   ]
  },
  {
   "cell_type": "code",
   "execution_count": 150,
   "id": "a4f98429-11ba-440c-8348-a68695658175",
   "metadata": {},
   "outputs": [
    {
     "name": "stderr",
     "output_type": "stream",
     "text": [
      "/tmp/ipykernel_671/3449534256.py:1: UserWarning: Column names longer than 10 characters will be truncated when saved to ESRI Shapefile.\n",
      "  RFMOConSUM[['RFB','geometry','FishingEff','area','Perform','Collapse2','effort_density']].to_file('RFMOConvention.shp')\n"
     ]
    }
   ],
   "source": [
    "RFMOConSUM[['RFB','geometry','FishingEff','area','Perform','Collapse2','effort_density']].to_file('RFMOConvention.shp')"
   ]
  },
  {
   "cell_type": "code",
   "execution_count": 20,
   "id": "9faeb2d4-508a-4d41-a56f-b477751d3db2",
   "metadata": {},
   "outputs": [],
   "source": [
    "RFMOFishingTable = RFMOConSUM.drop('geometry', axis=1)"
   ]
  },
  {
   "cell_type": "code",
   "execution_count": 21,
   "id": "f8b8fef6-49c2-4072-8a30-ed8c21111f7c",
   "metadata": {},
   "outputs": [],
   "source": [
    "RFMOFishingTable.to_csv('RFMOFishingTable.csv')"
   ]
  }
 ],
 "metadata": {
  "kernelspec": {
   "display_name": "Python 3 (ipykernel)",
   "language": "python",
   "name": "python3"
  },
  "language_info": {
   "codemirror_mode": {
    "name": "ipython",
    "version": 3
   },
   "file_extension": ".py",
   "mimetype": "text/x-python",
   "name": "python",
   "nbconvert_exporter": "python",
   "pygments_lexer": "ipython3",
   "version": "3.10.8"
  }
 },
 "nbformat": 4,
 "nbformat_minor": 5
}
